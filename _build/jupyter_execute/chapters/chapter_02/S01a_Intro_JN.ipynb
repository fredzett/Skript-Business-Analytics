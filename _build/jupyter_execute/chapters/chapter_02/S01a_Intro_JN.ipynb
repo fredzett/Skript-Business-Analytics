{
 "cells": [
  {
   "cell_type": "markdown",
   "metadata": {
    "toc-hr-collapsed": true,
    "toc-nb-collapsed": true
   },
   "source": [
    "#### Execute before running"
   ]
  },
  {
   "cell_type": "code",
   "execution_count": 1,
   "metadata": {},
   "outputs": [],
   "source": [
    "# Execute before using this notebook if using google colab\n",
    "\n",
    "kernel = str(get_ipython())\n",
    "\n",
    "if 'google.colab' in kernel:    \n",
    "    !wget https://raw.githubusercontent.com/fredzett/rmqa/master/utils.py -P local_modules -nc \n",
    "    !npx degit fredzett/rmqa/data data\n",
    "    import sys\n",
    "    sys.path.append('local_modules')"
   ]
  },
  {
   "cell_type": "markdown",
   "metadata": {},
   "source": [
    "# Introduction to Jupyter Notebooks"
   ]
  },
  {
   "cell_type": "markdown",
   "metadata": {},
   "source": [
    "What you are currently seeing (or using) is a **Jupyter Notebook**. This specific notebook is connected to a `python kernel` which can run and interpret python programming code."
   ]
  },
  {
   "cell_type": "markdown",
   "metadata": {},
   "source": [
    "## What are Jupyter Notebooks and do we use them?"
   ]
  },
  {
   "cell_type": "markdown",
   "metadata": {},
   "source": [
    "Jupyter Notebooks ([see here](https://jupyter.org/)) are an interactive programming environment within you can:\n",
    "\n",
    "- run programming code \n",
    "- visualize results and data\n",
    "- compose text (using markdown, html or latex)"
   ]
  },
  {
   "cell_type": "markdown",
   "metadata": {},
   "source": [
    "Jupyter Notebooks are extraordinary useful to combine \n",
    "\n",
    "1. analysis of data\n",
    "\n",
    "2. description of conducted analyses\n",
    "\n",
    "Project Jupyter started in 2014 and origins from the idea to make research papers reproducable and have significantly gained in popularity in the last years, particular in the **research community** ([see here](https://www.nature.com/articles/d41586-018-07196-1)) but also in **business** ([see here](https://netflixtechblog.com/notebook-innovation-591ee3221233)).\n",
    "\n",
    "Jupyter Notebooks are especially useful for complex data analysis tasks as they enable exploratory analysis."
   ]
  },
  {
   "cell_type": "markdown",
   "metadata": {},
   "source": [
    "## How do Jupyter Notebooks work?"
   ]
  },
  {
   "cell_type": "markdown",
   "metadata": {},
   "source": [
    "Jupyter notebooks consist of `cells`. All content - including this text - exists within a cell. \n",
    "\n",
    "`Cells` can be distinguised in:\n",
    "\n",
    "- text cells (i.e. Markdown)\n",
    "- code cells (in our case: Python)"
   ]
  },
  {
   "cell_type": "markdown",
   "metadata": {},
   "source": [
    "### Text cells"
   ]
  },
  {
   "cell_type": "markdown",
   "metadata": {},
   "source": [
    "All previous cells consist of text written in `Markdown` (see [here](https://en.wikipedia.org/wiki/Markdown) and [here](https://github.com/adam-p/markdown-here/wiki/Markdown-Cheatsheet)). \n",
    "\n",
    "Markdown enables to compose easy to read text without hugh efforts of formatting or conversions. Markdown is used especially for webblogs. \n",
    "\n",
    "Using `Markdown` it is easy to include **pictures**\n",
    "\n",
    "![FH Bielefeld](https://www.dropbox.com/s/a4j2gj0bt47m3hv/FH_Bielefeld.png?dl=1)\n",
    "\n",
    "Or **mathematical formulas** (using [latex](https://en.wikipedia.org/wiki/LaTeX))\n",
    "\n",
    "$$f(x) = \\sum_{t=1}^{T} \\frac{CF_t}{(1+i)^t} + \\sqrt{a^2 + b^2}$$\n",
    "\n"
   ]
  },
  {
   "cell_type": "markdown",
   "metadata": {},
   "source": [
    "### Code cells"
   ]
  },
  {
   "cell_type": "markdown",
   "metadata": {},
   "source": [
    "In code cells you can write (python) programming code which is then executed just as any regular program.\n",
    "\n",
    "The below cell is a python code cell. \n",
    "\n",
    "**Input** (a python expression): `3 + 3` (just a regular math operation in this case)\n",
    "\n",
    "**Output**: result of the python expression\n"
   ]
  },
  {
   "cell_type": "code",
   "execution_count": 2,
   "metadata": {},
   "outputs": [
    {
     "data": {
      "text/plain": [
       "6"
      ]
     },
     "execution_count": 2,
     "metadata": {},
     "output_type": "execute_result"
    }
   ],
   "source": [
    "3 + 3 # This is a program!"
   ]
  },
  {
   "cell_type": "markdown",
   "metadata": {},
   "source": [
    "Some more examples:"
   ]
  },
  {
   "cell_type": "code",
   "execution_count": 3,
   "metadata": {},
   "outputs": [
    {
     "data": {
      "text/plain": [
       "25"
      ]
     },
     "execution_count": 3,
     "metadata": {},
     "output_type": "execute_result"
    }
   ],
   "source": [
    "5 * 5"
   ]
  },
  {
   "cell_type": "code",
   "execution_count": null,
   "metadata": {},
   "outputs": [],
   "source": [
    "variable1 = 3\n",
    "variable2 = 5\n",
    "\n",
    "variable1 + variable2"
   ]
  },
  {
   "cell_type": "markdown",
   "metadata": {},
   "source": [
    "### Creating of and switching between cell types"
   ]
  },
  {
   "cell_type": "markdown",
   "metadata": {},
   "source": [
    "Creating a new cell is done by pressing \n",
    "\n",
    "- `ESC` + `a` (create new cell above)\n",
    "- `ESC` + `b` (create new cell below)\n",
    "\n",
    "Deleting a cell is done by pressing `ESC` + 2x `d` \n",
    "\n",
    "Turn cell into:\n",
    "\n",
    "- markdown: `ESC` + `m`\n",
    "- code: `ESC` + `y`\n",
    "\n"
   ]
  },
  {
   "cell_type": "markdown",
   "metadata": {},
   "source": [
    "Alternatively one can use the `menu bar`:\n",
    "\n",
    "\n",
    "**Menü: Jupyter Notebooks**\n",
    "\n",
    "\n",
    "![Menü_Jupyter](https://www.dropbox.com/s/968g9u2j0n7rnuh/Men%C3%BC.png?dl=1)\n",
    "\n",
    "\n",
    "\n",
    "\n",
    "\n",
    "**Menü: Google Colab**\n",
    "\n",
    "![Menü Colab](https://www.dropbox.com/s/yclc5iggr6u5xq3/Men%C3%BC_Colab.png?dl=1)"
   ]
  },
  {
   "cell_type": "markdown",
   "metadata": {},
   "source": [
    "**Note**: shortcuts as well as menu bar in google colab may differ slightly. However, using google colab is fairly intuitive and self explanatory. Also, the shortcuts can be changed matching personal preferences using the menu bar."
   ]
  },
  {
   "cell_type": "markdown",
   "metadata": {
    "toc-hr-collapsed": true,
    "toc-nb-collapsed": true
   },
   "source": [
    "### Executing cells"
   ]
  },
  {
   "cell_type": "markdown",
   "metadata": {},
   "source": [
    "All cells are executed pressing `shift` + `enter` or using the menu bar. \n",
    "\n",
    "When executing a code cell an **out** cell showing (i.e. printing) the result of the last line of the executed cell) is generated automatically. "
   ]
  },
  {
   "cell_type": "code",
   "execution_count": null,
   "metadata": {},
   "outputs": [],
   "source": [
    "3 + 3"
   ]
  }
 ],
 "metadata": {
  "kernelspec": {
   "display_name": "Python 3",
   "language": "python",
   "name": "python3"
  },
  "language_info": {
   "codemirror_mode": {
    "name": "ipython",
    "version": 3
   },
   "file_extension": ".py",
   "mimetype": "text/x-python",
   "name": "python",
   "nbconvert_exporter": "python",
   "pygments_lexer": "ipython3",
   "version": "3.8.3"
  }
 },
 "nbformat": 4,
 "nbformat_minor": 4
}