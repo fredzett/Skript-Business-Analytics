{
 "cells": [
  {
   "cell_type": "markdown",
   "metadata": {
    "slideshow": {
     "slide_type": "slide"
    }
   },
   "source": [
    "# Nutzung dieses Skripts\n",
    "\n",
    "Programmieren lernt man nicht, indem man Büchern darüber liest oder Youtube-Tutorials passiv konsumiert. Um Programmieren ernsthaft zu lernen, muss man es üben und zusätzlich zur Theorie einfach ausprobieren. In diesem Sinne ist das Erlernen einer Programmiersprache nicht so unterschiedlich vom Lernen einer gesprochenen Sprache - auch wenn Sie feststellen werden, dass die \"Grammatik\" und das \"Vokabular\" einer Programmiersprache sehr viel simpler ist, als die einer gesprochen Sprache.\n",
    "\n",
    "Um Lösungen und Ansätze zu verstehen, muss man diese ausprobieren, adaptieren und alternative Ansätze implementieren. Wir haben dieses Skript deshalb bewusst so aufgesetzt, dass Sie interaktiv mitmachen können. So können Sie per Knopfdruck alle Programmierbeispiele selber ausführen, ausprobieren und adaptieren. \n",
    "\n",
    "```{admonition} Navigationsleiste\n",
    ":class: tip, dropdown\n",
    "\n",
    "![Rocket Button](../assets/Navbar.gif)\n",
    "\n",
    "```"
   ]
  },
  {
   "cell_type": "markdown",
   "metadata": {},
   "source": [
    "## Cloud Coding (🚀)"
   ]
  },
  {
   "cell_type": "markdown",
   "metadata": {},
   "source": [
    "\n",
    "\n",
    "Alle Programmierbeispiele erkennen Sie an der speziellen Formatierung. Hier sind zwei Beispiele:\n",
    "\n",
    "**Programmierbeispiel 1**"
   ]
  },
  {
   "cell_type": "code",
   "execution_count": 1,
   "metadata": {},
   "outputs": [
    {
     "data": {
      "text/plain": [
       "6"
      ]
     },
     "execution_count": 1,
     "metadata": {},
     "output_type": "execute_result"
    }
   ],
   "source": [
    "zahlen = [1, 2, 3]\n",
    "ergebnis = sum(zahlen)\n",
    "ergebnis"
   ]
  },
  {
   "cell_type": "markdown",
   "metadata": {},
   "source": [
    "**Programmierbeispiel 2**"
   ]
  },
  {
   "cell_type": "code",
   "execution_count": 2,
   "metadata": {},
   "outputs": [
    {
     "data": {
      "text/html": [
       "<div>\n",
       "<style scoped>\n",
       "    .dataframe tbody tr th:only-of-type {\n",
       "        vertical-align: middle;\n",
       "    }\n",
       "\n",
       "    .dataframe tbody tr th {\n",
       "        vertical-align: top;\n",
       "    }\n",
       "\n",
       "    .dataframe thead th {\n",
       "        text-align: right;\n",
       "    }\n",
       "</style>\n",
       "<table border=\"1\" class=\"dataframe\">\n",
       "  <thead>\n",
       "    <tr style=\"text-align: right;\">\n",
       "      <th></th>\n",
       "      <th>Preise</th>\n",
       "      <th>Produkte</th>\n",
       "    </tr>\n",
       "  </thead>\n",
       "  <tbody>\n",
       "    <tr>\n",
       "      <th>0</th>\n",
       "      <td>100</td>\n",
       "      <td>Produkt 1</td>\n",
       "    </tr>\n",
       "    <tr>\n",
       "      <th>1</th>\n",
       "      <td>200</td>\n",
       "      <td>Produkt 2</td>\n",
       "    </tr>\n",
       "    <tr>\n",
       "      <th>2</th>\n",
       "      <td>300</td>\n",
       "      <td>Produkt 3</td>\n",
       "    </tr>\n",
       "  </tbody>\n",
       "</table>\n",
       "</div>"
      ],
      "text/plain": [
       "   Preise   Produkte\n",
       "0     100  Produkt 1\n",
       "1     200  Produkt 2\n",
       "2     300  Produkt 3"
      ]
     },
     "execution_count": 2,
     "metadata": {},
     "output_type": "execute_result"
    }
   ],
   "source": [
    "import pandas as pd\n",
    "data = {\"Preise\": [100, 200, 300], \n",
    "        \"Produkte\": [\"Produkt 1\", \"Produkt 2\", \"Produkt 3\"]}\n",
    "df = pd.DataFrame(data)\n",
    "df"
   ]
  },
  {
   "cell_type": "markdown",
   "metadata": {},
   "source": [
    "Nahezu jede Seite, die ein solches Beispiel beinhaltet, kann dann per Knopfdruck in einer Cloudumgebung geöffnet werden. In dieser Cloudumgebung (siehe hier: [google colab](https://colab.research.google.com/)) kann der Programmcode dann ausgeführt und beliebig verändert werden. Sie verändern dabei eine in ihrer Cloud gespeicherte lokale Variante dieser Seite, nicht jedoch das originale Kapitel dieses Buchs. \n",
    "\n",
    "Dazu klicken Sie einfach auf das Raketensymbol 🚀 oben rechts auf der Seite. Dieses Symbol ist auf allen Seiten enthalten, auf denen Programmierbeispiele enthalten sind (mit einigen wenigen Ausnahmen)."
   ]
  },
  {
   "cell_type": "markdown",
   "metadata": {},
   "source": [
    "## Download von Kapitel\n",
    "\n",
    "Darüber hinaus können Sie sich jedes Kapitel auch lokal herunterladen. So können alle Seiten als `pdf` heruntergeladen und gespeichert werden. Darüber hinaus können Seiten mit Programmierbeispielen auch als sogenannte `ipynb`-Files heruntergeladen werden.  Dies ist dann sinnvoll, wenn Sie sich entscheiden Python lokal auf ihrem Computer zu installieren und die Beispiele lokal ausprobieren wollen. Sie können die Dateien dann via `Jupyter Notebook` öffnen und bearbeiten."
   ]
  },
  {
   "cell_type": "markdown",
   "metadata": {},
   "source": []
  }
 ],
 "metadata": {
  "hide_input": false,
  "interpreter": {
   "hash": "9c8a4babebe8c1d9e0d056b38c59c6c9a5545619301994faaf0a84ae1d73c3ab"
  },
  "kernelspec": {
   "display_name": "Python [conda env:anaconda3]",
   "language": "python",
   "name": "python3"
  },
  "language_info": {
   "codemirror_mode": {
    "name": "ipython",
    "version": 3
   },
   "file_extension": ".py",
   "mimetype": "text/x-python",
   "name": "python",
   "nbconvert_exporter": "python",
   "pygments_lexer": "ipython3",
   "version": "3.9.7"
  },
  "toc": {
   "base_numbering": 1,
   "nav_menu": {},
   "number_sections": true,
   "sideBar": true,
   "skip_h1_title": false,
   "title_cell": "Table of Contents",
   "title_sidebar": "Contents",
   "toc_cell": false,
   "toc_position": {},
   "toc_section_display": true,
   "toc_window_display": false
  }
 },
 "nbformat": 4,
 "nbformat_minor": 2
}