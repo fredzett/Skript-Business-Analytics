{
 "cells": [
  {
   "cell_type": "code",
   "execution_count": 1,
   "metadata": {},
   "outputs": [],
   "source": [
    "%load_ext autoreload\n",
    "%autoreload 2"
   ]
  },
  {
   "cell_type": "markdown",
   "metadata": {},
   "source": [
    "# Fallstudie: Investieren via Aktiensparplan"
   ]
  },
  {
   "cell_type": "markdown",
   "metadata": {},
   "source": [
    "Enden wollen wir das einleitende Kapitel mit einer Fallstudie. In dieser Fallstudie werden Dinge vorgegriffen, die Sie an dieser Stelle noch nicht zu 100% nachvollziehen können. Ziel der Fallstudie ist nicht, dass Sie jede Code-Zeile nachvollziehen können. Vielmehr sollen Sie einen Eindruck davon vermittelt bekommen, was Sie "
   ]
  },
  {
   "cell_type": "markdown",
   "metadata": {},
   "source": [
    "- Daten\n",
    "- Aufbereitung\n",
    "- Berechnungen\n",
    "- Analyse\n",
    "- Visualisierung / Kommunikation"
   ]
  },
  {
   "cell_type": "code",
   "execution_count": 2,
   "metadata": {},
   "outputs": [],
   "source": [
    "import sys \n",
    "sys.path.insert(0, \"S/\")"
   ]
  },
  {
   "cell_type": "code",
   "execution_count": 3,
   "metadata": {},
   "outputs": [],
   "source": [
    "from utility import plot, load_stockdata\n",
    "from datetime import datetime\n",
    "import time\n",
    "import pandas as pd\n",
    "pd.options.plotting.backend = 'matplotlib'"
   ]
  },
  {
   "cell_type": "code",
   "execution_count": 4,
   "metadata": {},
   "outputs": [
    {
     "data": {
      "text/plain": [
       "<AxesSubplot:xlabel='Date'>"
      ]
     },
     "execution_count": 4,
     "metadata": {},
     "output_type": "execute_result"
    },
    {
     "data": {
      "image/png": "[encoded data removed]",
      "text/plain": [
       "<Figure size 432x288 with 1 Axes>"
      ]
     },
     "metadata": {
      "filenames": {
       "image/png": "/Users/felix/Dropbox/02_FH/01 Lehre/BA/Skript-Business-Analytics/_build/jupyter_execute/chapters/chapter_01/Einleitung_CaseStudy_6_1.png"
      },
      "needs_background": "light"
     },
     "output_type": "display_data"
    }
   ],
   "source": [
    "df = (load_stockdata(ticker=\"^GDAXI\", frequency=\"1d\", start=\"1-1-1990\", end=\"7-18-2022\")\n",
    "      .filter(items=[\"Date\",\"Adj Close\"])\n",
    "      .plot(x=\"Date\", y=\"Adj Close\")\n",
    "      #.pipe(plot, \n",
    "      #      x=\"Date\", \n",
    "      #      y=\"Adj Close\", \n",
    "      #      title=\"DAX-Kurs\\n(1990 bis heute)\",\n",
    "      #      xlabel=\"Datum\")\n",
    "     )\n",
    "df"
   ]
  },
  {
   "cell_type": "code",
   "execution_count": 5,
   "metadata": {},
   "outputs": [
    {
     "data": {
      "text/plain": [
       "<AxesSubplot:xlabel='Date'>"
      ]
     },
     "execution_count": 5,
     "metadata": {},
     "output_type": "execute_result"
    }
   ],
   "source": [
    "df"
   ]
  },
  {
   "cell_type": "code",
   "execution_count": 6,
   "metadata": {},
   "outputs": [
    {
     "ename": "AttributeError",
     "evalue": "'AxesSubplot' object has no attribute 'filter'",
     "output_type": "error",
     "traceback": [
      "\u001b[0;31m---------------------------------------------------------------------------\u001b[0m",
      "\u001b[0;31mAttributeError\u001b[0m                            Traceback (most recent call last)",
      "\u001b[0;32m<ipython-input-6-b2675600e558>\u001b[0m in \u001b[0;36m<module>\u001b[0;34m\u001b[0m\n\u001b[0;32m----> 1\u001b[0;31m \u001b[0mdf\u001b[0m\u001b[0;34m.\u001b[0m\u001b[0mfilter\u001b[0m\u001b[0;34m(\u001b[0m\u001b[0mitems\u001b[0m\u001b[0;34m=\u001b[0m\u001b[0;34m[\u001b[0m\u001b[0;34m\"Date\"\u001b[0m\u001b[0;34m,\u001b[0m \u001b[0;34m\"Adj Close\"\u001b[0m\u001b[0;34m]\u001b[0m\u001b[0;34m)\u001b[0m\u001b[0;34m\u001b[0m\u001b[0;34m\u001b[0m\u001b[0m\n\u001b[0m",
      "\u001b[0;31mAttributeError\u001b[0m: 'AxesSubplot' object has no attribute 'filter'"
     ]
    }
   ],
   "source": [
    "df.filter(items=[\"Date\", \"Adj Close\"])"
   ]
  },
  {
   "cell_type": "code",
   "execution_count": 103,
   "metadata": {},
   "outputs": [
    {
     "name": "stdout",
     "output_type": "stream",
     "text": [
      "https://query1.finance.yahoo.com/v7/finance/download/GOOG?period1=1626615019&period2=1658151019&interval=1d&events=history&includeAdjustedClose=true\n"
     ]
    }
   ],
   "source": [
    "print(\"https://query1.finance.yahoo.com/v7/finance/download/GOOG?period1=1657670400&period2=1658102400&interval=1d&events=history&includeAdjustedClose=true\")"
   ]
  },
  {
   "cell_type": "code",
   "execution_count": 102,
   "metadata": {},
   "outputs": [
    {
     "data": {
      "text/plain": [
       "'abc1626614640&bcd'"
      ]
     },
     "execution_count": 102,
     "metadata": {},
     "output_type": "execute_result"
    }
   ],
   "source": [
    "a = int(datetime.strptime(\"2021-7-18 15:24:00\", \"%Y-%m-%d %H:%M:%S\").timestamp())\n",
    "f\"abc{a}&bcd\""
   ]
  },
  {
   "cell_type": "code",
   "execution_count": 72,
   "metadata": {},
   "outputs": [
    {
     "data": {
      "text/plain": [
       "'1286056800'"
      ]
     },
     "execution_count": 72,
     "metadata": {},
     "output_type": "execute_result"
    }
   ],
   "source": [
    "https://query1.finance.yahoo.com/v7/finance/download/GOOG?period1=1657670400&period2=1658102400&interval=1d&events=history&includeAdjustedClose=true"
   ]
  },
  {
   "cell_type": "code",
   "execution_count": 74,
   "metadata": {},
   "outputs": [
    {
     "ename": "TypeError",
     "evalue": "descriptor 'strftime' for 'datetime.date' objects doesn't apply to a 'int' object",
     "output_type": "error",
     "traceback": [
      "\u001b[0;31m---------------------------------------------------------------------------\u001b[0m",
      "\u001b[0;31mTypeError\u001b[0m                                 Traceback (most recent call last)",
      "\u001b[0;32m<ipython-input-74-a9afd05c4900>\u001b[0m in \u001b[0;36m<module>\u001b[0;34m\u001b[0m\n\u001b[0;32m----> 1\u001b[0;31m \u001b[0mdatetime\u001b[0m\u001b[0;34m.\u001b[0m\u001b[0mstrftime\u001b[0m\u001b[0;34m(\u001b[0m\u001b[0;36m1626615019\u001b[0m\u001b[0;34m)\u001b[0m\u001b[0;34m\u001b[0m\u001b[0;34m\u001b[0m\u001b[0m\n\u001b[0m",
      "\u001b[0;31mTypeError\u001b[0m: descriptor 'strftime' for 'datetime.date' objects doesn't apply to a 'int' object"
     ]
    }
   ],
   "source": [
    "datetime"
   ]
  },
  {
   "cell_type": "code",
   "execution_count": 67,
   "metadata": {},
   "outputs": [
    {
     "ename": "HTTPError",
     "evalue": "HTTP Error 400: Bad Request",
     "output_type": "error",
     "traceback": [
      "\u001b[0;31m---------------------------------------------------------------------------\u001b[0m",
      "\u001b[0;31mHTTPError\u001b[0m                                 Traceback (most recent call last)",
      "\u001b[0;32m<ipython-input-67-7e3ce7e6e77c>\u001b[0m in \u001b[0;36m<module>\u001b[0;34m\u001b[0m\n\u001b[0;32m----> 1\u001b[0;31m \u001b[0mpd\u001b[0m\u001b[0;34m.\u001b[0m\u001b[0mread_csv\u001b[0m\u001b[0;34m(\u001b[0m\u001b[0murl\u001b[0m\u001b[0;34m)\u001b[0m\u001b[0;34m\u001b[0m\u001b[0;34m\u001b[0m\u001b[0m\n\u001b[0m",
      "\u001b[0;32m~/opt/anaconda3/lib/python3.8/site-packages/pandas/io/parsers.py\u001b[0m in \u001b[0;36mparser_f\u001b[0;34m(filepath_or_buffer, sep, delimiter, header, names, index_col, usecols, squeeze, prefix, mangle_dupe_cols, dtype, engine, converters, true_values, false_values, skipinitialspace, skiprows, skipfooter, nrows, na_values, keep_default_na, na_filter, verbose, skip_blank_lines, parse_dates, infer_datetime_format, keep_date_col, date_parser, dayfirst, cache_dates, iterator, chunksize, compression, thousands, decimal, lineterminator, quotechar, quoting, doublequote, escapechar, comment, encoding, dialect, error_bad_lines, warn_bad_lines, delim_whitespace, low_memory, memory_map, float_precision)\u001b[0m\n\u001b[1;32m    674\u001b[0m         )\n\u001b[1;32m    675\u001b[0m \u001b[0;34m\u001b[0m\u001b[0m\n\u001b[0;32m--> 676\u001b[0;31m         \u001b[0;32mreturn\u001b[0m \u001b[0m_read\u001b[0m\u001b[0;34m(\u001b[0m\u001b[0mfilepath_or_buffer\u001b[0m\u001b[0;34m,\u001b[0m \u001b[0mkwds\u001b[0m\u001b[0;34m)\u001b[0m\u001b[0;34m\u001b[0m\u001b[0;34m\u001b[0m\u001b[0m\n\u001b[0m\u001b[1;32m    677\u001b[0m \u001b[0;34m\u001b[0m\u001b[0m\n\u001b[1;32m    678\u001b[0m     \u001b[0mparser_f\u001b[0m\u001b[0;34m.\u001b[0m\u001b[0m__name__\u001b[0m \u001b[0;34m=\u001b[0m \u001b[0mname\u001b[0m\u001b[0;34m\u001b[0m\u001b[0;34m\u001b[0m\u001b[0m\n",
      "\u001b[0;32m~/opt/anaconda3/lib/python3.8/site-packages/pandas/io/parsers.py\u001b[0m in \u001b[0;36m_read\u001b[0;34m(filepath_or_buffer, kwds)\u001b[0m\n\u001b[1;32m    428\u001b[0m     \u001b[0;31m# though mypy handling of conditional imports is difficult.\u001b[0m\u001b[0;34m\u001b[0m\u001b[0;34m\u001b[0m\u001b[0;34m\u001b[0m\u001b[0m\n\u001b[1;32m    429\u001b[0m     \u001b[0;31m# See https://github.com/python/mypy/issues/1297\u001b[0m\u001b[0;34m\u001b[0m\u001b[0;34m\u001b[0m\u001b[0;34m\u001b[0m\u001b[0m\n\u001b[0;32m--> 430\u001b[0;31m     fp_or_buf, _, compression, should_close = get_filepath_or_buffer(\n\u001b[0m\u001b[1;32m    431\u001b[0m         \u001b[0mfilepath_or_buffer\u001b[0m\u001b[0;34m,\u001b[0m \u001b[0mencoding\u001b[0m\u001b[0;34m,\u001b[0m \u001b[0mcompression\u001b[0m\u001b[0;34m\u001b[0m\u001b[0;34m\u001b[0m\u001b[0m\n\u001b[1;32m    432\u001b[0m     )\n",
      "\u001b[0;32m~/opt/anaconda3/lib/python3.8/site-packages/pandas/io/common.py\u001b[0m in \u001b[0;36mget_filepath_or_buffer\u001b[0;34m(filepath_or_buffer, encoding, compression, mode)\u001b[0m\n\u001b[1;32m    170\u001b[0m \u001b[0;34m\u001b[0m\u001b[0m\n\u001b[1;32m    171\u001b[0m     \u001b[0;32mif\u001b[0m \u001b[0misinstance\u001b[0m\u001b[0;34m(\u001b[0m\u001b[0mfilepath_or_buffer\u001b[0m\u001b[0;34m,\u001b[0m \u001b[0mstr\u001b[0m\u001b[0;34m)\u001b[0m \u001b[0;32mand\u001b[0m \u001b[0mis_url\u001b[0m\u001b[0;34m(\u001b[0m\u001b[0mfilepath_or_buffer\u001b[0m\u001b[0;34m)\u001b[0m\u001b[0;34m:\u001b[0m\u001b[0;34m\u001b[0m\u001b[0;34m\u001b[0m\u001b[0m\n\u001b[0;32m--> 172\u001b[0;31m         \u001b[0mreq\u001b[0m \u001b[0;34m=\u001b[0m \u001b[0murlopen\u001b[0m\u001b[0;34m(\u001b[0m\u001b[0mfilepath_or_buffer\u001b[0m\u001b[0;34m)\u001b[0m\u001b[0;34m\u001b[0m\u001b[0;34m\u001b[0m\u001b[0m\n\u001b[0m\u001b[1;32m    173\u001b[0m         \u001b[0mcontent_encoding\u001b[0m \u001b[0;34m=\u001b[0m \u001b[0mreq\u001b[0m\u001b[0;34m.\u001b[0m\u001b[0mheaders\u001b[0m\u001b[0;34m.\u001b[0m\u001b[0mget\u001b[0m\u001b[0;34m(\u001b[0m\u001b[0;34m\"Content-Encoding\"\u001b[0m\u001b[0;34m,\u001b[0m \u001b[0;32mNone\u001b[0m\u001b[0;34m)\u001b[0m\u001b[0;34m\u001b[0m\u001b[0;34m\u001b[0m\u001b[0m\n\u001b[1;32m    174\u001b[0m         \u001b[0;32mif\u001b[0m \u001b[0mcontent_encoding\u001b[0m \u001b[0;34m==\u001b[0m \u001b[0;34m\"gzip\"\u001b[0m\u001b[0;34m:\u001b[0m\u001b[0;34m\u001b[0m\u001b[0;34m\u001b[0m\u001b[0m\n",
      "\u001b[0;32m~/opt/anaconda3/lib/python3.8/site-packages/pandas/io/common.py\u001b[0m in \u001b[0;36murlopen\u001b[0;34m(*args, **kwargs)\u001b[0m\n\u001b[1;32m    139\u001b[0m     \u001b[0;32mimport\u001b[0m \u001b[0murllib\u001b[0m\u001b[0;34m.\u001b[0m\u001b[0mrequest\u001b[0m\u001b[0;34m\u001b[0m\u001b[0;34m\u001b[0m\u001b[0m\n\u001b[1;32m    140\u001b[0m \u001b[0;34m\u001b[0m\u001b[0m\n\u001b[0;32m--> 141\u001b[0;31m     \u001b[0;32mreturn\u001b[0m \u001b[0murllib\u001b[0m\u001b[0;34m.\u001b[0m\u001b[0mrequest\u001b[0m\u001b[0;34m.\u001b[0m\u001b[0murlopen\u001b[0m\u001b[0;34m(\u001b[0m\u001b[0;34m*\u001b[0m\u001b[0margs\u001b[0m\u001b[0;34m,\u001b[0m \u001b[0;34m**\u001b[0m\u001b[0mkwargs\u001b[0m\u001b[0;34m)\u001b[0m\u001b[0;34m\u001b[0m\u001b[0;34m\u001b[0m\u001b[0m\n\u001b[0m\u001b[1;32m    142\u001b[0m \u001b[0;34m\u001b[0m\u001b[0m\n\u001b[1;32m    143\u001b[0m \u001b[0;34m\u001b[0m\u001b[0m\n",
      "\u001b[0;32m~/opt/anaconda3/lib/python3.8/urllib/request.py\u001b[0m in \u001b[0;36murlopen\u001b[0;34m(url, data, timeout, cafile, capath, cadefault, context)\u001b[0m\n\u001b[1;32m    220\u001b[0m     \u001b[0;32melse\u001b[0m\u001b[0;34m:\u001b[0m\u001b[0;34m\u001b[0m\u001b[0;34m\u001b[0m\u001b[0m\n\u001b[1;32m    221\u001b[0m         \u001b[0mopener\u001b[0m \u001b[0;34m=\u001b[0m \u001b[0m_opener\u001b[0m\u001b[0;34m\u001b[0m\u001b[0;34m\u001b[0m\u001b[0m\n\u001b[0;32m--> 222\u001b[0;31m     \u001b[0;32mreturn\u001b[0m \u001b[0mopener\u001b[0m\u001b[0;34m.\u001b[0m\u001b[0mopen\u001b[0m\u001b[0;34m(\u001b[0m\u001b[0murl\u001b[0m\u001b[0;34m,\u001b[0m \u001b[0mdata\u001b[0m\u001b[0;34m,\u001b[0m \u001b[0mtimeout\u001b[0m\u001b[0;34m)\u001b[0m\u001b[0;34m\u001b[0m\u001b[0;34m\u001b[0m\u001b[0m\n\u001b[0m\u001b[1;32m    223\u001b[0m \u001b[0;34m\u001b[0m\u001b[0m\n\u001b[1;32m    224\u001b[0m \u001b[0;32mdef\u001b[0m \u001b[0minstall_opener\u001b[0m\u001b[0;34m(\u001b[0m\u001b[0mopener\u001b[0m\u001b[0;34m)\u001b[0m\u001b[0;34m:\u001b[0m\u001b[0;34m\u001b[0m\u001b[0;34m\u001b[0m\u001b[0m\n",
      "\u001b[0;32m~/opt/anaconda3/lib/python3.8/urllib/request.py\u001b[0m in \u001b[0;36mopen\u001b[0;34m(self, fullurl, data, timeout)\u001b[0m\n\u001b[1;32m    529\u001b[0m         \u001b[0;32mfor\u001b[0m \u001b[0mprocessor\u001b[0m \u001b[0;32min\u001b[0m \u001b[0mself\u001b[0m\u001b[0;34m.\u001b[0m\u001b[0mprocess_response\u001b[0m\u001b[0;34m.\u001b[0m\u001b[0mget\u001b[0m\u001b[0;34m(\u001b[0m\u001b[0mprotocol\u001b[0m\u001b[0;34m,\u001b[0m \u001b[0;34m[\u001b[0m\u001b[0;34m]\u001b[0m\u001b[0;34m)\u001b[0m\u001b[0;34m:\u001b[0m\u001b[0;34m\u001b[0m\u001b[0;34m\u001b[0m\u001b[0m\n\u001b[1;32m    530\u001b[0m             \u001b[0mmeth\u001b[0m \u001b[0;34m=\u001b[0m \u001b[0mgetattr\u001b[0m\u001b[0;34m(\u001b[0m\u001b[0mprocessor\u001b[0m\u001b[0;34m,\u001b[0m \u001b[0mmeth_name\u001b[0m\u001b[0;34m)\u001b[0m\u001b[0;34m\u001b[0m\u001b[0;34m\u001b[0m\u001b[0m\n\u001b[0;32m--> 531\u001b[0;31m             \u001b[0mresponse\u001b[0m \u001b[0;34m=\u001b[0m \u001b[0mmeth\u001b[0m\u001b[0;34m(\u001b[0m\u001b[0mreq\u001b[0m\u001b[0;34m,\u001b[0m \u001b[0mresponse\u001b[0m\u001b[0;34m)\u001b[0m\u001b[0;34m\u001b[0m\u001b[0;34m\u001b[0m\u001b[0m\n\u001b[0m\u001b[1;32m    532\u001b[0m \u001b[0;34m\u001b[0m\u001b[0m\n\u001b[1;32m    533\u001b[0m         \u001b[0;32mreturn\u001b[0m \u001b[0mresponse\u001b[0m\u001b[0;34m\u001b[0m\u001b[0;34m\u001b[0m\u001b[0m\n",
      "\u001b[0;32m~/opt/anaconda3/lib/python3.8/urllib/request.py\u001b[0m in \u001b[0;36mhttp_response\u001b[0;34m(self, request, response)\u001b[0m\n\u001b[1;32m    638\u001b[0m         \u001b[0;31m# request was successfully received, understood, and accepted.\u001b[0m\u001b[0;34m\u001b[0m\u001b[0;34m\u001b[0m\u001b[0;34m\u001b[0m\u001b[0m\n\u001b[1;32m    639\u001b[0m         \u001b[0;32mif\u001b[0m \u001b[0;32mnot\u001b[0m \u001b[0;34m(\u001b[0m\u001b[0;36m200\u001b[0m \u001b[0;34m<=\u001b[0m \u001b[0mcode\u001b[0m \u001b[0;34m<\u001b[0m \u001b[0;36m300\u001b[0m\u001b[0;34m)\u001b[0m\u001b[0;34m:\u001b[0m\u001b[0;34m\u001b[0m\u001b[0;34m\u001b[0m\u001b[0m\n\u001b[0;32m--> 640\u001b[0;31m             response = self.parent.error(\n\u001b[0m\u001b[1;32m    641\u001b[0m                 'http', request, response, code, msg, hdrs)\n\u001b[1;32m    642\u001b[0m \u001b[0;34m\u001b[0m\u001b[0m\n",
      "\u001b[0;32m~/opt/anaconda3/lib/python3.8/urllib/request.py\u001b[0m in \u001b[0;36merror\u001b[0;34m(self, proto, *args)\u001b[0m\n\u001b[1;32m    567\u001b[0m         \u001b[0;32mif\u001b[0m \u001b[0mhttp_err\u001b[0m\u001b[0;34m:\u001b[0m\u001b[0;34m\u001b[0m\u001b[0;34m\u001b[0m\u001b[0m\n\u001b[1;32m    568\u001b[0m             \u001b[0margs\u001b[0m \u001b[0;34m=\u001b[0m \u001b[0;34m(\u001b[0m\u001b[0mdict\u001b[0m\u001b[0;34m,\u001b[0m \u001b[0;34m'default'\u001b[0m\u001b[0;34m,\u001b[0m \u001b[0;34m'http_error_default'\u001b[0m\u001b[0;34m)\u001b[0m \u001b[0;34m+\u001b[0m \u001b[0morig_args\u001b[0m\u001b[0;34m\u001b[0m\u001b[0;34m\u001b[0m\u001b[0m\n\u001b[0;32m--> 569\u001b[0;31m             \u001b[0;32mreturn\u001b[0m \u001b[0mself\u001b[0m\u001b[0;34m.\u001b[0m\u001b[0m_call_chain\u001b[0m\u001b[0;34m(\u001b[0m\u001b[0;34m*\u001b[0m\u001b[0margs\u001b[0m\u001b[0;34m)\u001b[0m\u001b[0;34m\u001b[0m\u001b[0;34m\u001b[0m\u001b[0m\n\u001b[0m\u001b[1;32m    570\u001b[0m \u001b[0;34m\u001b[0m\u001b[0m\n\u001b[1;32m    571\u001b[0m \u001b[0;31m# XXX probably also want an abstract factory that knows when it makes\u001b[0m\u001b[0;34m\u001b[0m\u001b[0;34m\u001b[0m\u001b[0;34m\u001b[0m\u001b[0m\n",
      "\u001b[0;32m~/opt/anaconda3/lib/python3.8/urllib/request.py\u001b[0m in \u001b[0;36m_call_chain\u001b[0;34m(self, chain, kind, meth_name, *args)\u001b[0m\n\u001b[1;32m    500\u001b[0m         \u001b[0;32mfor\u001b[0m \u001b[0mhandler\u001b[0m \u001b[0;32min\u001b[0m \u001b[0mhandlers\u001b[0m\u001b[0;34m:\u001b[0m\u001b[0;34m\u001b[0m\u001b[0;34m\u001b[0m\u001b[0m\n\u001b[1;32m    501\u001b[0m             \u001b[0mfunc\u001b[0m \u001b[0;34m=\u001b[0m \u001b[0mgetattr\u001b[0m\u001b[0;34m(\u001b[0m\u001b[0mhandler\u001b[0m\u001b[0;34m,\u001b[0m \u001b[0mmeth_name\u001b[0m\u001b[0;34m)\u001b[0m\u001b[0;34m\u001b[0m\u001b[0;34m\u001b[0m\u001b[0m\n\u001b[0;32m--> 502\u001b[0;31m             \u001b[0mresult\u001b[0m \u001b[0;34m=\u001b[0m \u001b[0mfunc\u001b[0m\u001b[0;34m(\u001b[0m\u001b[0;34m*\u001b[0m\u001b[0margs\u001b[0m\u001b[0;34m)\u001b[0m\u001b[0;34m\u001b[0m\u001b[0;34m\u001b[0m\u001b[0m\n\u001b[0m\u001b[1;32m    503\u001b[0m             \u001b[0;32mif\u001b[0m \u001b[0mresult\u001b[0m \u001b[0;32mis\u001b[0m \u001b[0;32mnot\u001b[0m \u001b[0;32mNone\u001b[0m\u001b[0;34m:\u001b[0m\u001b[0;34m\u001b[0m\u001b[0;34m\u001b[0m\u001b[0m\n\u001b[1;32m    504\u001b[0m                 \u001b[0;32mreturn\u001b[0m \u001b[0mresult\u001b[0m\u001b[0;34m\u001b[0m\u001b[0;34m\u001b[0m\u001b[0m\n",
      "\u001b[0;32m~/opt/anaconda3/lib/python3.8/urllib/request.py\u001b[0m in \u001b[0;36mhttp_error_default\u001b[0;34m(self, req, fp, code, msg, hdrs)\u001b[0m\n\u001b[1;32m    647\u001b[0m \u001b[0;32mclass\u001b[0m \u001b[0mHTTPDefaultErrorHandler\u001b[0m\u001b[0;34m(\u001b[0m\u001b[0mBaseHandler\u001b[0m\u001b[0;34m)\u001b[0m\u001b[0;34m:\u001b[0m\u001b[0;34m\u001b[0m\u001b[0;34m\u001b[0m\u001b[0m\n\u001b[1;32m    648\u001b[0m     \u001b[0;32mdef\u001b[0m \u001b[0mhttp_error_default\u001b[0m\u001b[0;34m(\u001b[0m\u001b[0mself\u001b[0m\u001b[0;34m,\u001b[0m \u001b[0mreq\u001b[0m\u001b[0;34m,\u001b[0m \u001b[0mfp\u001b[0m\u001b[0;34m,\u001b[0m \u001b[0mcode\u001b[0m\u001b[0;34m,\u001b[0m \u001b[0mmsg\u001b[0m\u001b[0;34m,\u001b[0m \u001b[0mhdrs\u001b[0m\u001b[0;34m)\u001b[0m\u001b[0;34m:\u001b[0m\u001b[0;34m\u001b[0m\u001b[0;34m\u001b[0m\u001b[0m\n\u001b[0;32m--> 649\u001b[0;31m         \u001b[0;32mraise\u001b[0m \u001b[0mHTTPError\u001b[0m\u001b[0;34m(\u001b[0m\u001b[0mreq\u001b[0m\u001b[0;34m.\u001b[0m\u001b[0mfull_url\u001b[0m\u001b[0;34m,\u001b[0m \u001b[0mcode\u001b[0m\u001b[0;34m,\u001b[0m \u001b[0mmsg\u001b[0m\u001b[0;34m,\u001b[0m \u001b[0mhdrs\u001b[0m\u001b[0;34m,\u001b[0m \u001b[0mfp\u001b[0m\u001b[0;34m)\u001b[0m\u001b[0;34m\u001b[0m\u001b[0;34m\u001b[0m\u001b[0m\n\u001b[0m\u001b[1;32m    650\u001b[0m \u001b[0;34m\u001b[0m\u001b[0m\n\u001b[1;32m    651\u001b[0m \u001b[0;32mclass\u001b[0m \u001b[0mHTTPRedirectHandler\u001b[0m\u001b[0;34m(\u001b[0m\u001b[0mBaseHandler\u001b[0m\u001b[0;34m)\u001b[0m\u001b[0;34m:\u001b[0m\u001b[0;34m\u001b[0m\u001b[0;34m\u001b[0m\u001b[0m\n",
      "\u001b[0;31mHTTPError\u001b[0m: HTTP Error 400: Bad Request"
     ]
    }
   ],
   "source": [
    "pd.read_csv(url)"
   ]
  },
  {
   "cell_type": "code",
   "execution_count": 7,
   "metadata": {},
   "outputs": [],
   "source": [
    "import matplotlib.pyplot as plt\n",
    "import seaborn as sns"
   ]
  },
  {
   "cell_type": "code",
   "execution_count": 8,
   "metadata": {},
   "outputs": [],
   "source": [
    "import pandas as pd"
   ]
  },
  {
   "cell_type": "code",
   "execution_count": 28,
   "metadata": {},
   "outputs": [],
   "source": [
    "url = \"https://query1.finance.yahoo.com/v7/finance/download/EXS1.DE?period1=1199232000&period2=1657497600&interval=1d&events=history&includeAdjustedClose=true\"\n",
    "\n",
    "data = pd.read_csv(url, parse_dates=[\"Date\"])"
   ]
  },
  {
   "cell_type": "code",
   "execution_count": 29,
   "metadata": {},
   "outputs": [
    {
     "data": {
      "image/png": "[encoded data removed]",
      "text/plain": [
       "<Figure size 648x432 with 1 Axes>"
      ]
     },
     "metadata": {
      "filenames": {
       "image/png": "/Users/felix/Dropbox/02_FH/01 Lehre/BA/Skript-Business-Analytics/_build/jupyter_execute/chapters/chapter_01/Einleitung_CaseStudy_17_0.png"
      },
      "needs_background": "light"
     },
     "output_type": "display_data"
    }
   ],
   "source": [
    "plot(x=\"Date\", y=\"Adj Close\", data=data, title=\"Dies ist ein Test\", kind=∫)"
   ]
  },
  {
   "cell_type": "code",
   "execution_count": 20,
   "metadata": {},
   "outputs": [
    {
     "data": {
      "text/plain": [
       "str"
      ]
     },
     "execution_count": 20,
     "metadata": {},
     "output_type": "execute_result"
    }
   ],
   "source": [
    "type(data[\"Date\"][0])"
   ]
  },
  {
   "cell_type": "code",
   "execution_count": 17,
   "metadata": {},
   "outputs": [
    {
     "data": {
      "text/plain": [
       "[<matplotlib.lines.Line2D at 0x7f93a2b40ca0>]"
      ]
     },
     "execution_count": 17,
     "metadata": {},
     "output_type": "execute_result"
    },
    {
     "data": {
      "image/png": "[encoded data removed]",
      "text/plain": [
       "<Figure size 432x288 with 1 Axes>"
      ]
     },
     "metadata": {
      "filenames": {
       "image/png": "/Users/felix/Dropbox/02_FH/01 Lehre/BA/Skript-Business-Analytics/_build/jupyter_execute/chapters/chapter_01/Einleitung_CaseStudy_19_1.png"
      },
      "needs_background": "light"
     },
     "output_type": "display_data"
    }
   ],
   "source": [
    "plt.plot(data[\"Date\"], data[\"Adj Close\"])"
   ]
  },
  {
   "cell_type": "code",
   "execution_count": 68,
   "metadata": {},
   "outputs": [],
   "source": [
    "data1 = {\"A\": [1,2,3],\n",
    "        \"B\": list(\"abc\")}\n",
    "\n",
    "data2 = {\"A\": [3,2,1],\n",
    "        \"B\": list(\"cba\")}\n",
    "\n",
    "data = [data1, data2]\n",
    "df = pd.concat((pd.DataFrame(d) for d in data))"
   ]
  },
  {
   "cell_type": "code",
   "execution_count": 72,
   "metadata": {},
   "outputs": [
    {
     "data": {
      "image/png": "[encoded data removed]",
      "text/plain": [
       "<Figure size 216x144 with 1 Axes>"
      ]
     },
     "metadata": {
      "filenames": {
       "image/png": "/Users/felix/Dropbox/02_FH/01 Lehre/BA/Skript-Business-Analytics/_build/jupyter_execute/chapters/chapter_01/Einleitung_CaseStudy_21_0.png"
      },
      "needs_background": "light"
     },
     "output_type": "display_data"
    }
   ],
   "source": [
    "plot(x=\"B\", y=\"A\", data=df, \n",
    "     plot_type=\"scatter\", \n",
    "     size=(3,2),\n",
    "     title=\"Dies ist ein Test\",\n",
    "     ylabel=\"Important label\",\n",
    "     xlabel=\"X-Achse\")"
   ]
  },
  {
   "cell_type": "code",
   "execution_count": 49,
   "metadata": {},
   "outputs": [
    {
     "data": {
      "text/plain": [
       "<matplotlib.axes._subplots.AxesSubplot at 0x7ff773058640>"
      ]
     },
     "execution_count": 49,
     "metadata": {},
     "output_type": "execute_result"
    },
    {
     "data": {
      "image/png": "[encoded data removed]",
      "text/plain": [
       "<Figure size 432x288 with 1 Axes>"
      ]
     },
     "metadata": {
      "filenames": {
       "image/png": "/Users/felix/Dropbox/02_FH/01 Lehre/BA/Skript-Business-Analytics/_build/jupyter_execute/chapters/chapter_01/Einleitung_CaseStudy_22_1.png"
      },
      "needs_background": "light"
     },
     "output_type": "display_data"
    }
   ],
   "source": [
    "data[\"Adj Close\"].plot()"
   ]
  },
  {
   "cell_type": "code",
   "execution_count": 76,
   "metadata": {},
   "outputs": [],
   "source": [
    "from glob import glob\n",
    "from pathlib import Path"
   ]
  },
  {
   "cell_type": "code",
   "execution_count": 99,
   "metadata": {},
   "outputs": [
    {
     "data": {
      "text/plain": [
       "[]"
      ]
     },
     "execution_count": 99,
     "metadata": {},
     "output_type": "execute_result"
    }
   ],
   "source": [
    "path = Path(\"../Data\")\n",
    "list(path.glob(\"*\"))"
   ]
  },
  {
   "cell_type": "code",
   "execution_count": 87,
   "metadata": {},
   "outputs": [
    {
     "data": {
      "text/plain": [
       "[PosixPath('Data/untitled.txt')]"
      ]
     },
     "execution_count": 87,
     "metadata": {},
     "output_type": "execute_result"
    }
   ],
   "source": [
    "list(path.glob(\"*\"))"
   ]
  },
  {
   "cell_type": "code",
   "execution_count": 88,
   "metadata": {},
   "outputs": [
    {
     "ename": "NameError",
     "evalue": "name '__file__' is not defined",
     "output_type": "error",
     "traceback": [
      "\u001b[0;31m---------------------------------------------------------------------------\u001b[0m",
      "\u001b[0;31mNameError\u001b[0m                                 Traceback (most recent call last)",
      "\u001b[0;32m<ipython-input-88-99a39500946b>\u001b[0m in \u001b[0;36m<module>\u001b[0;34m\u001b[0m\n\u001b[1;32m      1\u001b[0m \u001b[0;32mfrom\u001b[0m \u001b[0mpathlib\u001b[0m \u001b[0;32mimport\u001b[0m \u001b[0mPath\u001b[0m\u001b[0;34m\u001b[0m\u001b[0;34m\u001b[0m\u001b[0m\n\u001b[1;32m      2\u001b[0m \u001b[0;34m\u001b[0m\u001b[0m\n\u001b[0;32m----> 3\u001b[0;31m \u001b[0mBASE_DIR\u001b[0m \u001b[0;34m=\u001b[0m \u001b[0mPath\u001b[0m\u001b[0;34m(\u001b[0m\u001b[0m__file__\u001b[0m\u001b[0;34m)\u001b[0m\u001b[0;34m.\u001b[0m\u001b[0mresolve\u001b[0m\u001b[0;34m(\u001b[0m\u001b[0;34m)\u001b[0m\u001b[0;34m.\u001b[0m\u001b[0mparent\u001b[0m\u001b[0;34m.\u001b[0m\u001b[0mparent\u001b[0m\u001b[0;34m\u001b[0m\u001b[0;34m\u001b[0m\u001b[0m\n\u001b[0m\u001b[1;32m      4\u001b[0m \u001b[0mBASE_DIR\u001b[0m\u001b[0;34m\u001b[0m\u001b[0;34m\u001b[0m\u001b[0m\n",
      "\u001b[0;31mNameError\u001b[0m: name '__file__' is not defined"
     ]
    }
   ],
   "source": [
    "from pathlib import Path\n",
    "\n",
    "BASE_DIR = Path(__file__).resolve().parent.parent\n",
    "BASE_DIR\n"
   ]
  },
  {
   "cell_type": "code",
   "execution_count": 60,
   "metadata": {},
   "outputs": [],
   "source": [
    "import numpy as np\n",
    "\n",
    "class TestMe():\n",
    "    def __init__(self, x):\n",
    "        self.x = x\n",
    "        self.context = locals()\n",
    "        \n",
    "    def __enter__(self, *args):\n",
    "        print(\"Enter\") \n",
    "        #self.context = globals()\n",
    "        return self\n",
    "    \n",
    "    def __exit__(self, *args):\n",
    "        self.context = locals()\n",
    "        self.test = args\n"
   ]
  },
  {
   "cell_type": "code",
   "execution_count": 61,
   "metadata": {},
   "outputs": [],
   "source": [
    "import pprint"
   ]
  },
  {
   "cell_type": "code",
   "execution_count": 62,
   "metadata": {},
   "outputs": [
    {
     "name": "stdout",
     "output_type": "stream",
     "text": [
      "Enter\n"
     ]
    },
    {
     "data": {
      "text/plain": [
       "{'self': <__main__.TestMe at 0x7f9649630640>, 'args': (None, None, None)}"
      ]
     },
     "execution_count": 62,
     "metadata": {},
     "output_type": "execute_result"
    }
   ],
   "source": [
    "t = TestMe(3)\n",
    "with t as model2:\n",
    "    data = np.array([1,2,3,4,5])\n",
    "    strategy = lambda x: x * 2\n",
    "    \n",
    "t.context"
   ]
  },
  {
   "cell_type": "code",
   "execution_count": 63,
   "metadata": {},
   "outputs": [
    {
     "data": {
      "text/plain": [
       "array([1, 2, 3, 4, 5])"
      ]
     },
     "execution_count": 63,
     "metadata": {},
     "output_type": "execute_result"
    }
   ],
   "source": [
    "data"
   ]
  },
  {
   "cell_type": "code",
   "execution_count": 89,
   "metadata": {},
   "outputs": [],
   "source": [
    "import threading"
   ]
  },
  {
   "cell_type": "code",
   "execution_count": 95,
   "metadata": {},
   "outputs": [
    {
     "data": {
      "text/plain": [
       "{'__name__': '__main__',\n",
       " '__doc__': 'Automatically created module for IPython interactive environment',\n",
       " '__package__': None,\n",
       " '__loader__': None,\n",
       " '__spec__': None,\n",
       " '__builtin__': <module 'builtins' (built-in)>,\n",
       " '__builtins__': <module 'builtins' (built-in)>,\n",
       " '_ih': ['',\n",
       "  \"get_ipython().run_line_magic('load_ext', 'autoreload')\\nget_ipython().run_line_magic('autoreload', '2')\",\n",
       "  'from UtilityCode.utility import plot, load_stockdata\\nfrom datetime import datetime\\nimport time',\n",
       "  'df = (load_stockdata(ticker=\"^GDAXI\", frequency=\"1d\", start=\"1-1-1990\", end=\"7-18-2022\")\\n      .filter(items=[\"Date\",\"Adj Close\"])\\n      .plot(x=\"Date\", y=\"Adj Close\")\\n      #.pipe(plot, \\n      #      x=\"Date\", \\n      #      y=\"Adj Close\", \\n      #      title=\"DAX-Kurs\\\\n(1990 bis heute)\",\\n      #      xlabel=\"Datum\")\\n     )',\n",
       "  'from UtilityCode.utility import plot, load_stockdata\\nfrom datetime import datetime\\nimport time\\nimport hvplot.pandas',\n",
       "  'df = (load_stockdata(ticker=\"^GDAXI\", frequency=\"1d\", start=\"1-1-1990\", end=\"7-18-2022\")\\n      .filter(items=[\"Date\",\"Adj Close\"])\\n      .plot(x=\"Date\", y=\"Adj Close\")\\n      #.pipe(plot, \\n      #      x=\"Date\", \\n      #      y=\"Adj Close\", \\n      #      title=\"DAX-Kurs\\\\n(1990 bis heute)\",\\n      #      xlabel=\"Datum\")\\n     )',\n",
       "  'df = (load_stockdata(ticker=\"^GDAXI\", frequency=\"1d\", start=\"1-1-1990\", end=\"7-18-2022\")\\n      .filter(items=[\"Date\",\"Adj Close\"])\\n      .hvplot(x=\"Date\", y=\"Adj Close\")\\n      #.pipe(plot, \\n      #      x=\"Date\", \\n      #      y=\"Adj Close\", \\n      #      title=\"DAX-Kurs\\\\n(1990 bis heute)\",\\n      #      xlabel=\"Datum\")\\n     )',\n",
       "  'df',\n",
       "  'df = (load_stockdata(ticker=\"^GDAXI\", frequency=\"1d\", start=\"1-1-1990\", end=\"7-18-2022\")\\n      .filter(items=[\"Date\",\"Adj Close\"])\\n      #.hvplot(x=\"Date\", y=\"Adj Close\")\\n      #.pipe(plot, \\n      #      x=\"Date\", \\n      #      y=\"Adj Close\", \\n      #      title=\"DAX-Kurs\\\\n(1990 bis heute)\",\\n      #      xlabel=\"Datum\")\\n     )',\n",
       "  \"from UtilityCode.utility import plot, load_stockdata\\nfrom datetime import datetime\\nimport time\\npd.options.plotting.backend = 'holoviews'\",\n",
       "  \"from UtilityCode.utility import plot, load_stockdata\\nfrom datetime import datetime\\nimport time\\nimport pandas as pd\\npd.options.plotting.backend = 'holoviews'\",\n",
       "  'df = (load_stockdata(ticker=\"^GDAXI\", frequency=\"1d\", start=\"1-1-1990\", end=\"7-18-2022\")\\n      .filter(items=[\"Date\",\"Adj Close\"])\\n      plot(x=\"Date\", y=\"Adj Close\")\\n      #.pipe(plot, \\n      #      x=\"Date\", \\n      #      y=\"Adj Close\", \\n      #      title=\"DAX-Kurs\\\\n(1990 bis heute)\",\\n      #      xlabel=\"Datum\")\\n     )',\n",
       "  'df = (load_stockdata(ticker=\"^GDAXI\", frequency=\"1d\", start=\"1-1-1990\", end=\"7-18-2022\")\\n      .filter(items=[\"Date\",\"Adj Close\"])\\n      .plot(x=\"Date\", y=\"Adj Close\")\\n      #.pipe(plot, \\n      #      x=\"Date\", \\n      #      y=\"Adj Close\", \\n      #      title=\"DAX-Kurs\\\\n(1990 bis heute)\",\\n      #      xlabel=\"Datum\")\\n     )',\n",
       "  'df = (load_stockdata(ticker=\"^GDAXI\", frequency=\"1d\", start=\"1-1-1990\", end=\"7-18-2022\")\\n      .filter(items=[\"Date\",\"Adj Close\"])\\n      .plot(x=\"Date\", y=\"Adj Close\")\\n      #.pipe(plot, \\n      #      x=\"Date\", \\n      #      y=\"Adj Close\", \\n      #      title=\"DAX-Kurs\\\\n(1990 bis heute)\",\\n      #      xlabel=\"Datum\")\\n     )\\ndf',\n",
       "  \"from UtilityCode.utility import plot, load_stockdata\\nfrom datetime import datetime\\nimport time\\nimport pandas as pd\\npd.options.plotting.backend = 'seaborn'\",\n",
       "  \"from UtilityCode.utility import plot, load_stockdata\\nfrom datetime import datetime\\nimport time\\nimport pandas as pd\\npd.options.plotting.backend = 'matplotlib'\",\n",
       "  'df = (load_stockdata(ticker=\"^GDAXI\", frequency=\"1d\", start=\"1-1-1990\", end=\"7-18-2022\")\\n      .filter(items=[\"Date\",\"Adj Close\"])\\n      .plot(x=\"Date\", y=\"Adj Close\")\\n      #.pipe(plot, \\n      #      x=\"Date\", \\n      #      y=\"Adj Close\", \\n      #      title=\"DAX-Kurs\\\\n(1990 bis heute)\",\\n      #      xlabel=\"Datum\")\\n     )\\ndf',\n",
       "  'class TestMe():\\n    def __init__(self, x):\\n        self.x = x\\n        \\n    def __enter__(self):\\n        print(\"Enter\")\\n        \\n    def __exit__(self):\\n        print(\"Exit\")',\n",
       "  'with TestMe(\"3\") as fin:\\n    print(\"Hallo\")\\n    ',\n",
       "  'class TestMe():\\n    def __init__(self, x):\\n        self.x = x\\n        \\n    def __enter__(self):\\n        print(\"Enter\")\\n        \\n    def __exit__(self, a, b, c):\\n        print(\"Exit\")',\n",
       "  'with TestMe(\"3\") as fin:\\n    print(\"Hallo\")\\n    ',\n",
       "  'class TestMe():\\n    def __init__(self, x):\\n        self.x = x\\n        \\n    def __enter__(self):\\n        print(\"Enter\")\\n        \\n    def __exit__(self, *args):\\n        print(\"Exit\")',\n",
       "  'with TestMe(\"3\") as fin:\\n    print(\"Hallo\")\\n    ',\n",
       "  'class TestMe():\\n    def __init__(self, x):\\n        self.x = x\\n        \\n    def __enter__(self):\\n        print(\"Enter\")\\n        \\n    def __exit__(self, *args):\\n        self.test = args\\n        print(\"Exit\")',\n",
       "  'with TestMe(\"3\") as fin:\\n    print(\"Hallo\")\\n    ',\n",
       "  't = TestMe(3)\\nwith t as fin:\\n    print(\"Hallo\")\\n    ',\n",
       "  't',\n",
       "  't = TestMe(3)\\nwith t as fin:\\n    print(\"Hallo\")\\n\\nt.test',\n",
       "  't = TestMe(3)\\nwith t as fin:\\n    fin = 3\\n\\nt.test',\n",
       "  't = TestMe(3)\\nwith t as fin:\\n    t.x = 5\\n\\nt.test',\n",
       "  't',\n",
       "  't.x',\n",
       "  't = TestMe(3)\\nwith t as fin:\\n    a = 4\\n    \\n\\nt.test',\n",
       "  'class TestMe():\\n    def __init__(self, x):\\n        self.x = x\\n        \\n    def __enter__(self):\\n        \\n        print(\"Enter\")\\n        \\n    def __exit__(self, *args):\\n        self.x\\n        self.test = args\\n        print(\"Exit\")',\n",
       "  't = TestMe(3)\\nwith t as fin:\\n    a = 4\\n    \\n\\nt.test',\n",
       "  'class TestMe():\\n    def __init__(self, x):\\n        self.x = x\\n        \\n    def __enter__(self):\\n        \\n        print(\"Enter\")\\n        \\n    def __exit__(self, *args):\\n        print(self.x)\\n        self.test = args\\n        print(\"Exit\")',\n",
       "  't = TestMe(3)\\nwith t as fin:\\n    a = 4\\n    \\n\\nt.test',\n",
       "  't = TestMe(3)\\nwith t:\\n    a = 4\\n    t\\n    \\n\\nt.test',\n",
       "  't = TestMe(3)\\nwith t as model:\\n    model.x = 14\\n    t\\n    \\n\\nt.test',\n",
       "  't = TestMe(3)\\nwith t as model:\\n    model.x = 14\\n    print(model)\\n    t\\n    \\n\\nt.test',\n",
       "  't = TestMe(3)\\nwith t as model:\\n    type(model)\\n    model.x = 14\\n    print(model)\\n    \\n    \\n\\nt.test',\n",
       "  'class TestMe():\\n    def __init__(self, x):\\n        self.x = x\\n        \\n    def __enter__(self):\\n        print(\"Enter\")\\n        return self\\n    \\n    def __exit__(self, *args):\\n        print(self.x)\\n        self.test = args\\n        print(\"Exit\")',\n",
       "  't = TestMe(3)\\nwith t as model:\\n    type(model)\\n    model.x = 14\\n    print(model)\\n    \\n    \\n\\nt.test',\n",
       "  'model',\n",
       "  'model == t',\n",
       "  'model is t',\n",
       "  't = TestMe(3)\\nwith t as pm:\\n    pm.data = 14\\n    pm.strategy = lambda x: x * 2\\n    \\n    \\n    \\n\\nt.test',\n",
       "  'model is t',\n",
       "  't = TestMe(3)\\nwith t as pm:\\n    data = np.array([1,2,3,4,5])\\n    strategy = lambda x: x * 2\\n    pm.x = [data, strategy]\\n    \\n    \\n    \\n\\nt.test',\n",
       "  'import numpy as np\\nclass TestMe():\\n    def __init__(self, x):\\n        self.x = x\\n        \\n    def __enter__(self):\\n        print(\"Enter\")\\n        return self\\n    \\n    def __exit__(self, *args):\\n        print(self.x)\\n        self.test = args\\n        print(\"Exit\")',\n",
       "  'import numpy as np\\n\\nclass TestMe():\\n    def __init__(self, x):\\n        self.x = x\\n        \\n    def __enter__(self):\\n        print(\"Enter\")\\n        return self\\n    \\n    def __exit__(self, *args):\\n        print(self.x)\\n        self.test = args\\n        print(\"Exit\")',\n",
       "  't = TestMe(3)\\nwith t as pm:\\n    data = np.array([1,2,3,4,5])\\n    strategy = lambda x: x * 2\\n    pm.x = [data, strategy]\\n    \\n    \\n    \\n\\nt.test',\n",
       "  'pm',\n",
       "  't',\n",
       "  't.test',\n",
       "  't.x',\n",
       "  'import numpy as np\\n\\nclass TestMe():\\n    def __init__(self, x):\\n        self.x = x\\n        \\n    def __enter__(self):\\n        print(\"Enter\")\\n        return self\\n    \\n    def __exit__(self, *args):\\n        self.__enter__\\n        print(self.x)\\n        self.test = args\\n        print(\"Exit\")',\n",
       "  't = TestMe(3)\\nwith t as model:\\n    data = np.array([1,2,3,4,5])\\n    strategy = lambda x: x * 2\\n    \\nt.test',\n",
       "  't.x',\n",
       "  't',\n",
       "  't.test',\n",
       "  'import numpy as np\\n\\nclass TestMe():\\n    def __init__(self, x):\\n        self.x = x\\n        \\n    def __enter__(self):\\n        print(\"Enter\")\\n        return self\\n    \\n    def __exit__(self, *args):\\n        self.__enter__()\\n        print(self.x)\\n        self.test = args\\n        print(\"Exit\")',\n",
       "  't = TestMe(3)\\nwith t as model:\\n    data = np.array([1,2,3,4,5])\\n    strategy = lambda x: x * 2\\n    \\nt.test',\n",
       "  'import numpy as np\\n\\nclass TestMe():\\n    def __init__(self, x):\\n        self.x = x\\n        \\n    def __enter__(self, *args):\\n        print(\"Enter\")\\n        return self\\n    \\n    def __exit__(self, *args):\\n        print(self.x)\\n        self.test = args\\n        print(\"Exit\")',\n",
       "  't = TestMe(3)\\nwith t as model:\\n    data = np.array([1,2,3,4,5])\\n    strategy = lambda x: x * 2\\n    \\nt.test',\n",
       "  'import numpy as np\\n\\nclass TestMe():\\n    def __init__(self, x):\\n        self.x = x\\n        \\n    def __enter__(self, *args):\\n        print(\"Enter\")\\n        print(args)\\n        return self\\n    \\n    def __exit__(self, *args):\\n        print(self.x)\\n        self.test = args\\n        print(\"Exit\")',\n",
       "  't = TestMe(3)\\nwith t as model:\\n    data = np.array([1,2,3,4,5])\\n    strategy = lambda x: x * 2\\n    \\nt.test',\n",
       "  'import numpy as np\\n\\nclass TestMe():\\n    def __init__(self, x):\\n        self.x = x\\n        \\n    def __enter__(self, *args):\\n        print(\"Enter\")\\n        self.args = args    \\n        return self\\n    \\n    def __exit__(self, *args):\\n        print(self.x)\\n        self.test = args\\n        print(\"Exit\")',\n",
       "  't = TestMe(3)\\nwith t as model:\\n    data = np.array([1,2,3,4,5])\\n    strategy = lambda x: x * 2\\n    \\nt.test',\n",
       "  't.test',\n",
       "  't = TestMe(3)\\nwith t(1,2,3) as model:\\n    data = np.array([1,2,3,4,5])\\n    strategy = lambda x: x * 2\\n    \\nt.test',\n",
       "  'import numpy as np\\n\\nclass TestMe():\\n    def __init__(self, x):\\n        self.x = x\\n        \\n    def __enter__(self, *args):\\n        print(\"Enter\")\\n        self.__class__   \\n        return self\\n    \\n    def __exit__(self, *args):\\n        print(self.x)\\n        self.test = args\\n        print(\"Exit\")',\n",
       "  't = TestMe(3)\\nwith  as model:\\n    data = np.array([1,2,3,4,5])\\n    strategy = lambda x: x * 2\\n    \\nt.test',\n",
       "  't = TestMe(3)\\nwith t as model:\\n    data = np.array([1,2,3,4,5])\\n    strategy = lambda x: x * 2\\n    \\nt.test',\n",
       "  'import numpy as np\\n\\nclass TestMe():\\n    def __init__(self, x):\\n        self.x = x\\n        \\n    def __enter__(self, *args):\\n        print(\"Enter\")\\n        self.__class__   \\n        return self\\n    \\n    def __exit__(self, *args):\\n        print(self.x)\\n        self.test = args\\n        print(\"Exit\")',\n",
       "  't = TestMe(3)\\nwith t as model:\\n    data = np.array([1,2,3,4,5])\\n    strategy = lambda x: x * 2\\n    \\nt.test',\n",
       "  'import numpy as np\\n\\nclass TestMe():\\n    def __init__(self, x):\\n        self.x = x\\n        \\n    def __enter__(self, *args):\\n        print(\"Enter\")\\n        self.__class__.get_contexts() \\n        return self\\n    \\n    def __exit__(self, *args):\\n        print(self.x)\\n        self.test = args\\n        print(\"Exit\")',\n",
       "  't = TestMe(3)\\nwith t as model:\\n    data = np.array([1,2,3,4,5])\\n    strategy = lambda x: x * 2\\n    \\nt.test',\n",
       "  'import threading',\n",
       "  'threading.local()',\n",
       "  't = threading.local()',\n",
       "  't',\n",
       "  'import numpy as np\\n\\nclass TestMe():\\n    def __init__(self, x):\\n        self.x = x\\n        \\n    def __enter__(self, *args):\\n        print(\"Enter\")\\n        cls.get_attributes()\\n        return self\\n    \\n    def __exit__(self, *args):\\n        print(self.x)\\n        self.test = args\\n        print(\"Exit\")',\n",
       "  't = TestMe(3)\\nwith t as model:\\n    data = np.array([1,2,3,4,5])\\n    strategy = lambda x: x * 2\\n    \\nt.test',\n",
       "  'import numpy as np\\n\\nclass TestMe():\\n    def __init__(self, x):\\n        self.x = x\\n        \\n    def __enter__(cls, *args):\\n        print(\"Enter\")\\n        cls.get_attributes()\\n        return self\\n    \\n    def __exit__(self, *args):\\n        print(self.x)\\n        self.test = args\\n        print(\"Exit\")',\n",
       "  't = TestMe(3)\\nwith t as model:\\n    data = np.array([1,2,3,4,5])\\n    strategy = lambda x: x * 2\\n    \\nt.test',\n",
       "  'import numpy as np\\n\\nclass TestMe():\\n    def __init__(self, x):\\n        self.x = x\\n        \\n    def __enter__(self, *args):\\n        print(\"Enter\")   \\n        return self\\n    \\n    def __exit__(self, *args):\\n        print(self.x)\\n        self.test = args\\n        print(\"Exit\")',\n",
       "  't = TestMe(3)\\nwith t as model:\\n    data = np.array([1,2,3,4,5])\\n    strategy = lambda x: x * 2\\n    \\nt.test',\n",
       "  't.test',\n",
       "  'import threading',\n",
       "  't = threading.local()',\n",
       "  't',\n",
       "  \"get_ipython().run_line_magic('pinfo', 't')\",\n",
       "  \"get_ipython().run_line_magic('pinfo', 'threading.local')\",\n",
       "  'locals',\n",
       "  'locals()'],\n",
       " '_oh': {7: :Curve   [Date]   (Adj Close),\n",
       "  13: :Curve   [Date]   (Adj Close),\n",
       "  16: <AxesSubplot:xlabel='Date'>,\n",
       "  26: <__main__.TestMe at 0x7fc0699b4820>,\n",
       "  27: (None, None, None),\n",
       "  28: (None, None, None),\n",
       "  29: (None, None, None),\n",
       "  30: <__main__.TestMe at 0x7fc0788d1370>,\n",
       "  31: 5,\n",
       "  32: (None, None, None),\n",
       "  34: (None, None, None),\n",
       "  36: (None, None, None),\n",
       "  37: (None, None, None),\n",
       "  42: (None, None, None),\n",
       "  43: <__main__.TestMe at 0x7fc0699ca4c0>,\n",
       "  44: True,\n",
       "  45: True,\n",
       "  46: (None, None, None),\n",
       "  47: False,\n",
       "  51: (None, None, None),\n",
       "  52: <__main__.TestMe at 0x7fc0699ca310>,\n",
       "  53: <__main__.TestMe at 0x7fc0699ca310>,\n",
       "  54: (None, None, None),\n",
       "  55: [array([1, 2, 3, 4, 5]), <function __main__.<lambda>(x)>],\n",
       "  57: (None, None, None),\n",
       "  58: 3,\n",
       "  59: <__main__.TestMe at 0x7fc04c6cbfa0>,\n",
       "  60: (None, None, None),\n",
       "  62: (None, None, None),\n",
       "  64: (None, None, None),\n",
       "  66: (None, None, None),\n",
       "  68: (None, None, None),\n",
       "  69: (None, None, None),\n",
       "  73: (None, None, None),\n",
       "  75: (None, None, None),\n",
       "  79: <_thread._local at 0x7fc0584e0c70>,\n",
       "  81: <_thread._local at 0x7fc0699d6ef0>,\n",
       "  87: (None, None, None),\n",
       "  88: (None, None, None),\n",
       "  91: <_thread._local at 0x7fc0584e9400>,\n",
       "  94: <function locals()>},\n",
       " '_dh': ['/Users/felix/Dropbox/02_FH/01 Lehre/BA/Skript'],\n",
       " 'In': ['',\n",
       "  \"get_ipython().run_line_magic('load_ext', 'autoreload')\\nget_ipython().run_line_magic('autoreload', '2')\",\n",
       "  'from UtilityCode.utility import plot, load_stockdata\\nfrom datetime import datetime\\nimport time',\n",
       "  'df = (load_stockdata(ticker=\"^GDAXI\", frequency=\"1d\", start=\"1-1-1990\", end=\"7-18-2022\")\\n      .filter(items=[\"Date\",\"Adj Close\"])\\n      .plot(x=\"Date\", y=\"Adj Close\")\\n      #.pipe(plot, \\n      #      x=\"Date\", \\n      #      y=\"Adj Close\", \\n      #      title=\"DAX-Kurs\\\\n(1990 bis heute)\",\\n      #      xlabel=\"Datum\")\\n     )',\n",
       "  'from UtilityCode.utility import plot, load_stockdata\\nfrom datetime import datetime\\nimport time\\nimport hvplot.pandas',\n",
       "  'df = (load_stockdata(ticker=\"^GDAXI\", frequency=\"1d\", start=\"1-1-1990\", end=\"7-18-2022\")\\n      .filter(items=[\"Date\",\"Adj Close\"])\\n      .plot(x=\"Date\", y=\"Adj Close\")\\n      #.pipe(plot, \\n      #      x=\"Date\", \\n      #      y=\"Adj Close\", \\n      #      title=\"DAX-Kurs\\\\n(1990 bis heute)\",\\n      #      xlabel=\"Datum\")\\n     )',\n",
       "  'df = (load_stockdata(ticker=\"^GDAXI\", frequency=\"1d\", start=\"1-1-1990\", end=\"7-18-2022\")\\n      .filter(items=[\"Date\",\"Adj Close\"])\\n      .hvplot(x=\"Date\", y=\"Adj Close\")\\n      #.pipe(plot, \\n      #      x=\"Date\", \\n      #      y=\"Adj Close\", \\n      #      title=\"DAX-Kurs\\\\n(1990 bis heute)\",\\n      #      xlabel=\"Datum\")\\n     )',\n",
       "  'df',\n",
       "  'df = (load_stockdata(ticker=\"^GDAXI\", frequency=\"1d\", start=\"1-1-1990\", end=\"7-18-2022\")\\n      .filter(items=[\"Date\",\"Adj Close\"])\\n      #.hvplot(x=\"Date\", y=\"Adj Close\")\\n      #.pipe(plot, \\n      #      x=\"Date\", \\n      #      y=\"Adj Close\", \\n      #      title=\"DAX-Kurs\\\\n(1990 bis heute)\",\\n      #      xlabel=\"Datum\")\\n     )',\n",
       "  \"from UtilityCode.utility import plot, load_stockdata\\nfrom datetime import datetime\\nimport time\\npd.options.plotting.backend = 'holoviews'\",\n",
       "  \"from UtilityCode.utility import plot, load_stockdata\\nfrom datetime import datetime\\nimport time\\nimport pandas as pd\\npd.options.plotting.backend = 'holoviews'\",\n",
       "  'df = (load_stockdata(ticker=\"^GDAXI\", frequency=\"1d\", start=\"1-1-1990\", end=\"7-18-2022\")\\n      .filter(items=[\"Date\",\"Adj Close\"])\\n      plot(x=\"Date\", y=\"Adj Close\")\\n      #.pipe(plot, \\n      #      x=\"Date\", \\n      #      y=\"Adj Close\", \\n      #      title=\"DAX-Kurs\\\\n(1990 bis heute)\",\\n      #      xlabel=\"Datum\")\\n     )',\n",
       "  'df = (load_stockdata(ticker=\"^GDAXI\", frequency=\"1d\", start=\"1-1-1990\", end=\"7-18-2022\")\\n      .filter(items=[\"Date\",\"Adj Close\"])\\n      .plot(x=\"Date\", y=\"Adj Close\")\\n      #.pipe(plot, \\n      #      x=\"Date\", \\n      #      y=\"Adj Close\", \\n      #      title=\"DAX-Kurs\\\\n(1990 bis heute)\",\\n      #      xlabel=\"Datum\")\\n     )',\n",
       "  'df = (load_stockdata(ticker=\"^GDAXI\", frequency=\"1d\", start=\"1-1-1990\", end=\"7-18-2022\")\\n      .filter(items=[\"Date\",\"Adj Close\"])\\n      .plot(x=\"Date\", y=\"Adj Close\")\\n      #.pipe(plot, \\n      #      x=\"Date\", \\n      #      y=\"Adj Close\", \\n      #      title=\"DAX-Kurs\\\\n(1990 bis heute)\",\\n      #      xlabel=\"Datum\")\\n     )\\ndf',\n",
       "  \"from UtilityCode.utility import plot, load_stockdata\\nfrom datetime import datetime\\nimport time\\nimport pandas as pd\\npd.options.plotting.backend = 'seaborn'\",\n",
       "  \"from UtilityCode.utility import plot, load_stockdata\\nfrom datetime import datetime\\nimport time\\nimport pandas as pd\\npd.options.plotting.backend = 'matplotlib'\",\n",
       "  'df = (load_stockdata(ticker=\"^GDAXI\", frequency=\"1d\", start=\"1-1-1990\", end=\"7-18-2022\")\\n      .filter(items=[\"Date\",\"Adj Close\"])\\n      .plot(x=\"Date\", y=\"Adj Close\")\\n      #.pipe(plot, \\n      #      x=\"Date\", \\n      #      y=\"Adj Close\", \\n      #      title=\"DAX-Kurs\\\\n(1990 bis heute)\",\\n      #      xlabel=\"Datum\")\\n     )\\ndf',\n",
       "  'class TestMe():\\n    def __init__(self, x):\\n        self.x = x\\n        \\n    def __enter__(self):\\n        print(\"Enter\")\\n        \\n    def __exit__(self):\\n        print(\"Exit\")',\n",
       "  'with TestMe(\"3\") as fin:\\n    print(\"Hallo\")\\n    ',\n",
       "  'class TestMe():\\n    def __init__(self, x):\\n        self.x = x\\n        \\n    def __enter__(self):\\n        print(\"Enter\")\\n        \\n    def __exit__(self, a, b, c):\\n        print(\"Exit\")',\n",
       "  'with TestMe(\"3\") as fin:\\n    print(\"Hallo\")\\n    ',\n",
       "  'class TestMe():\\n    def __init__(self, x):\\n        self.x = x\\n        \\n    def __enter__(self):\\n        print(\"Enter\")\\n        \\n    def __exit__(self, *args):\\n        print(\"Exit\")',\n",
       "  'with TestMe(\"3\") as fin:\\n    print(\"Hallo\")\\n    ',\n",
       "  'class TestMe():\\n    def __init__(self, x):\\n        self.x = x\\n        \\n    def __enter__(self):\\n        print(\"Enter\")\\n        \\n    def __exit__(self, *args):\\n        self.test = args\\n        print(\"Exit\")',\n",
       "  'with TestMe(\"3\") as fin:\\n    print(\"Hallo\")\\n    ',\n",
       "  't = TestMe(3)\\nwith t as fin:\\n    print(\"Hallo\")\\n    ',\n",
       "  't',\n",
       "  't = TestMe(3)\\nwith t as fin:\\n    print(\"Hallo\")\\n\\nt.test',\n",
       "  't = TestMe(3)\\nwith t as fin:\\n    fin = 3\\n\\nt.test',\n",
       "  't = TestMe(3)\\nwith t as fin:\\n    t.x = 5\\n\\nt.test',\n",
       "  't',\n",
       "  't.x',\n",
       "  't = TestMe(3)\\nwith t as fin:\\n    a = 4\\n    \\n\\nt.test',\n",
       "  'class TestMe():\\n    def __init__(self, x):\\n        self.x = x\\n        \\n    def __enter__(self):\\n        \\n        print(\"Enter\")\\n        \\n    def __exit__(self, *args):\\n        self.x\\n        self.test = args\\n        print(\"Exit\")',\n",
       "  't = TestMe(3)\\nwith t as fin:\\n    a = 4\\n    \\n\\nt.test',\n",
       "  'class TestMe():\\n    def __init__(self, x):\\n        self.x = x\\n        \\n    def __enter__(self):\\n        \\n        print(\"Enter\")\\n        \\n    def __exit__(self, *args):\\n        print(self.x)\\n        self.test = args\\n        print(\"Exit\")',\n",
       "  't = TestMe(3)\\nwith t as fin:\\n    a = 4\\n    \\n\\nt.test',\n",
       "  't = TestMe(3)\\nwith t:\\n    a = 4\\n    t\\n    \\n\\nt.test',\n",
       "  't = TestMe(3)\\nwith t as model:\\n    model.x = 14\\n    t\\n    \\n\\nt.test',\n",
       "  't = TestMe(3)\\nwith t as model:\\n    model.x = 14\\n    print(model)\\n    t\\n    \\n\\nt.test',\n",
       "  't = TestMe(3)\\nwith t as model:\\n    type(model)\\n    model.x = 14\\n    print(model)\\n    \\n    \\n\\nt.test',\n",
       "  'class TestMe():\\n    def __init__(self, x):\\n        self.x = x\\n        \\n    def __enter__(self):\\n        print(\"Enter\")\\n        return self\\n    \\n    def __exit__(self, *args):\\n        print(self.x)\\n        self.test = args\\n        print(\"Exit\")',\n",
       "  't = TestMe(3)\\nwith t as model:\\n    type(model)\\n    model.x = 14\\n    print(model)\\n    \\n    \\n\\nt.test',\n",
       "  'model',\n",
       "  'model == t',\n",
       "  'model is t',\n",
       "  't = TestMe(3)\\nwith t as pm:\\n    pm.data = 14\\n    pm.strategy = lambda x: x * 2\\n    \\n    \\n    \\n\\nt.test',\n",
       "  'model is t',\n",
       "  't = TestMe(3)\\nwith t as pm:\\n    data = np.array([1,2,3,4,5])\\n    strategy = lambda x: x * 2\\n    pm.x = [data, strategy]\\n    \\n    \\n    \\n\\nt.test',\n",
       "  'import numpy as np\\nclass TestMe():\\n    def __init__(self, x):\\n        self.x = x\\n        \\n    def __enter__(self):\\n        print(\"Enter\")\\n        return self\\n    \\n    def __exit__(self, *args):\\n        print(self.x)\\n        self.test = args\\n        print(\"Exit\")',\n",
       "  'import numpy as np\\n\\nclass TestMe():\\n    def __init__(self, x):\\n        self.x = x\\n        \\n    def __enter__(self):\\n        print(\"Enter\")\\n        return self\\n    \\n    def __exit__(self, *args):\\n        print(self.x)\\n        self.test = args\\n        print(\"Exit\")',\n",
       "  't = TestMe(3)\\nwith t as pm:\\n    data = np.array([1,2,3,4,5])\\n    strategy = lambda x: x * 2\\n    pm.x = [data, strategy]\\n    \\n    \\n    \\n\\nt.test',\n",
       "  'pm',\n",
       "  't',\n",
       "  't.test',\n",
       "  't.x',\n",
       "  'import numpy as np\\n\\nclass TestMe():\\n    def __init__(self, x):\\n        self.x = x\\n        \\n    def __enter__(self):\\n        print(\"Enter\")\\n        return self\\n    \\n    def __exit__(self, *args):\\n        self.__enter__\\n        print(self.x)\\n        self.test = args\\n        print(\"Exit\")',\n",
       "  't = TestMe(3)\\nwith t as model:\\n    data = np.array([1,2,3,4,5])\\n    strategy = lambda x: x * 2\\n    \\nt.test',\n",
       "  't.x',\n",
       "  't',\n",
       "  't.test',\n",
       "  'import numpy as np\\n\\nclass TestMe():\\n    def __init__(self, x):\\n        self.x = x\\n        \\n    def __enter__(self):\\n        print(\"Enter\")\\n        return self\\n    \\n    def __exit__(self, *args):\\n        self.__enter__()\\n        print(self.x)\\n        self.test = args\\n        print(\"Exit\")',\n",
       "  't = TestMe(3)\\nwith t as model:\\n    data = np.array([1,2,3,4,5])\\n    strategy = lambda x: x * 2\\n    \\nt.test',\n",
       "  'import numpy as np\\n\\nclass TestMe():\\n    def __init__(self, x):\\n        self.x = x\\n        \\n    def __enter__(self, *args):\\n        print(\"Enter\")\\n        return self\\n    \\n    def __exit__(self, *args):\\n        print(self.x)\\n        self.test = args\\n        print(\"Exit\")',\n",
       "  't = TestMe(3)\\nwith t as model:\\n    data = np.array([1,2,3,4,5])\\n    strategy = lambda x: x * 2\\n    \\nt.test',\n",
       "  'import numpy as np\\n\\nclass TestMe():\\n    def __init__(self, x):\\n        self.x = x\\n        \\n    def __enter__(self, *args):\\n        print(\"Enter\")\\n        print(args)\\n        return self\\n    \\n    def __exit__(self, *args):\\n        print(self.x)\\n        self.test = args\\n        print(\"Exit\")',\n",
       "  't = TestMe(3)\\nwith t as model:\\n    data = np.array([1,2,3,4,5])\\n    strategy = lambda x: x * 2\\n    \\nt.test',\n",
       "  'import numpy as np\\n\\nclass TestMe():\\n    def __init__(self, x):\\n        self.x = x\\n        \\n    def __enter__(self, *args):\\n        print(\"Enter\")\\n        self.args = args    \\n        return self\\n    \\n    def __exit__(self, *args):\\n        print(self.x)\\n        self.test = args\\n        print(\"Exit\")',\n",
       "  't = TestMe(3)\\nwith t as model:\\n    data = np.array([1,2,3,4,5])\\n    strategy = lambda x: x * 2\\n    \\nt.test',\n",
       "  't.test',\n",
       "  't = TestMe(3)\\nwith t(1,2,3) as model:\\n    data = np.array([1,2,3,4,5])\\n    strategy = lambda x: x * 2\\n    \\nt.test',\n",
       "  'import numpy as np\\n\\nclass TestMe():\\n    def __init__(self, x):\\n        self.x = x\\n        \\n    def __enter__(self, *args):\\n        print(\"Enter\")\\n        self.__class__   \\n        return self\\n    \\n    def __exit__(self, *args):\\n        print(self.x)\\n        self.test = args\\n        print(\"Exit\")',\n",
       "  't = TestMe(3)\\nwith  as model:\\n    data = np.array([1,2,3,4,5])\\n    strategy = lambda x: x * 2\\n    \\nt.test',\n",
       "  't = TestMe(3)\\nwith t as model:\\n    data = np.array([1,2,3,4,5])\\n    strategy = lambda x: x * 2\\n    \\nt.test',\n",
       "  'import numpy as np\\n\\nclass TestMe():\\n    def __init__(self, x):\\n        self.x = x\\n        \\n    def __enter__(self, *args):\\n        print(\"Enter\")\\n        self.__class__   \\n        return self\\n    \\n    def __exit__(self, *args):\\n        print(self.x)\\n        self.test = args\\n        print(\"Exit\")',\n",
       "  't = TestMe(3)\\nwith t as model:\\n    data = np.array([1,2,3,4,5])\\n    strategy = lambda x: x * 2\\n    \\nt.test',\n",
       "  'import numpy as np\\n\\nclass TestMe():\\n    def __init__(self, x):\\n        self.x = x\\n        \\n    def __enter__(self, *args):\\n        print(\"Enter\")\\n        self.__class__.get_contexts() \\n        return self\\n    \\n    def __exit__(self, *args):\\n        print(self.x)\\n        self.test = args\\n        print(\"Exit\")',\n",
       "  't = TestMe(3)\\nwith t as model:\\n    data = np.array([1,2,3,4,5])\\n    strategy = lambda x: x * 2\\n    \\nt.test',\n",
       "  'import threading',\n",
       "  'threading.local()',\n",
       "  't = threading.local()',\n",
       "  't',\n",
       "  'import numpy as np\\n\\nclass TestMe():\\n    def __init__(self, x):\\n        self.x = x\\n        \\n    def __enter__(self, *args):\\n        print(\"Enter\")\\n        cls.get_attributes()\\n        return self\\n    \\n    def __exit__(self, *args):\\n        print(self.x)\\n        self.test = args\\n        print(\"Exit\")',\n",
       "  't = TestMe(3)\\nwith t as model:\\n    data = np.array([1,2,3,4,5])\\n    strategy = lambda x: x * 2\\n    \\nt.test',\n",
       "  'import numpy as np\\n\\nclass TestMe():\\n    def __init__(self, x):\\n        self.x = x\\n        \\n    def __enter__(cls, *args):\\n        print(\"Enter\")\\n        cls.get_attributes()\\n        return self\\n    \\n    def __exit__(self, *args):\\n        print(self.x)\\n        self.test = args\\n        print(\"Exit\")',\n",
       "  't = TestMe(3)\\nwith t as model:\\n    data = np.array([1,2,3,4,5])\\n    strategy = lambda x: x * 2\\n    \\nt.test',\n",
       "  'import numpy as np\\n\\nclass TestMe():\\n    def __init__(self, x):\\n        self.x = x\\n        \\n    def __enter__(self, *args):\\n        print(\"Enter\")   \\n        return self\\n    \\n    def __exit__(self, *args):\\n        print(self.x)\\n        self.test = args\\n        print(\"Exit\")',\n",
       "  't = TestMe(3)\\nwith t as model:\\n    data = np.array([1,2,3,4,5])\\n    strategy = lambda x: x * 2\\n    \\nt.test',\n",
       "  't.test',\n",
       "  'import threading',\n",
       "  't = threading.local()',\n",
       "  't',\n",
       "  \"get_ipython().run_line_magic('pinfo', 't')\",\n",
       "  \"get_ipython().run_line_magic('pinfo', 'threading.local')\",\n",
       "  'locals',\n",
       "  'locals()'],\n",
       " 'Out': {7: :Curve   [Date]   (Adj Close),\n",
       "  13: :Curve   [Date]   (Adj Close),\n",
       "  16: <AxesSubplot:xlabel='Date'>,\n",
       "  26: <__main__.TestMe at 0x7fc0699b4820>,\n",
       "  27: (None, None, None),\n",
       "  28: (None, None, None),\n",
       "  29: (None, None, None),\n",
       "  30: <__main__.TestMe at 0x7fc0788d1370>,\n",
       "  31: 5,\n",
       "  32: (None, None, None),\n",
       "  34: (None, None, None),\n",
       "  36: (None, None, None),\n",
       "  37: (None, None, None),\n",
       "  42: (None, None, None),\n",
       "  43: <__main__.TestMe at 0x7fc0699ca4c0>,\n",
       "  44: True,\n",
       "  45: True,\n",
       "  46: (None, None, None),\n",
       "  47: False,\n",
       "  51: (None, None, None),\n",
       "  52: <__main__.TestMe at 0x7fc0699ca310>,\n",
       "  53: <__main__.TestMe at 0x7fc0699ca310>,\n",
       "  54: (None, None, None),\n",
       "  55: [array([1, 2, 3, 4, 5]), <function __main__.<lambda>(x)>],\n",
       "  57: (None, None, None),\n",
       "  58: 3,\n",
       "  59: <__main__.TestMe at 0x7fc04c6cbfa0>,\n",
       "  60: (None, None, None),\n",
       "  62: (None, None, None),\n",
       "  64: (None, None, None),\n",
       "  66: (None, None, None),\n",
       "  68: (None, None, None),\n",
       "  69: (None, None, None),\n",
       "  73: (None, None, None),\n",
       "  75: (None, None, None),\n",
       "  79: <_thread._local at 0x7fc0584e0c70>,\n",
       "  81: <_thread._local at 0x7fc0699d6ef0>,\n",
       "  87: (None, None, None),\n",
       "  88: (None, None, None),\n",
       "  91: <_thread._local at 0x7fc0584e9400>,\n",
       "  94: <function locals()>},\n",
       " 'get_ipython': <bound method InteractiveShell.get_ipython of <ipykernel.zmqshell.ZMQInteractiveShell object at 0x7fc048bda610>>,\n",
       " 'exit': <IPython.core.autocall.ZMQExitAutocall at 0x7fc0783a42e0>,\n",
       " 'quit': <IPython.core.autocall.ZMQExitAutocall at 0x7fc0783a42e0>,\n",
       " '_': <function locals()>,\n",
       " '__': <_thread._local at 0x7fc0584e9400>,\n",
       " '___': (None, None, None),\n",
       " '_i': 'locals',\n",
       " '_ii': 'threading.local?',\n",
       " '_iii': 't?',\n",
       " '_i1': '%load_ext autoreload\\n%autoreload 2',\n",
       " '_i2': 'from UtilityCode.utility import plot, load_stockdata\\nfrom datetime import datetime\\nimport time',\n",
       " 'plot': <function UtilityCode.utility.plot(data: pandas.core.frame.DataFrame, x: str, y: str, z: str = None, plot_type: str = 'line', size=(9, 6), title: str = None, xlabel: str = None, ylabel: str = None)>,\n",
       " 'load_stockdata': <function UtilityCode.utility.load_stockdata(ticker: str, frequency: str, start: str, end: str)>,\n",
       " 'datetime': datetime.datetime,\n",
       " 'time': <module 'time' (built-in)>,\n",
       " '_i3': 'df = (load_stockdata(ticker=\"^GDAXI\", frequency=\"1d\", start=\"1-1-1990\", end=\"7-18-2022\")\\n      .filter(items=[\"Date\",\"Adj Close\"])\\n      .plot(x=\"Date\", y=\"Adj Close\")\\n      #.pipe(plot, \\n      #      x=\"Date\", \\n      #      y=\"Adj Close\", \\n      #      title=\"DAX-Kurs\\\\n(1990 bis heute)\",\\n      #      xlabel=\"Datum\")\\n     )',\n",
       " 'df': <AxesSubplot:xlabel='Date'>,\n",
       " '_i4': 'from UtilityCode.utility import plot, load_stockdata\\nfrom datetime import datetime\\nimport time\\nimport hvplot.pandas',\n",
       " 'hvplot': <module 'hvplot' from '/Users/felix/opt/anaconda3/envs/bapa/lib/python3.8/site-packages/hvplot/__init__.py'>,\n",
       " '_i5': 'df = (load_stockdata(ticker=\"^GDAXI\", frequency=\"1d\", start=\"1-1-1990\", end=\"7-18-2022\")\\n      .filter(items=[\"Date\",\"Adj Close\"])\\n      .plot(x=\"Date\", y=\"Adj Close\")\\n      #.pipe(plot, \\n      #      x=\"Date\", \\n      #      y=\"Adj Close\", \\n      #      title=\"DAX-Kurs\\\\n(1990 bis heute)\",\\n      #      xlabel=\"Datum\")\\n     )',\n",
       " '_i6': 'df = (load_stockdata(ticker=\"^GDAXI\", frequency=\"1d\", start=\"1-1-1990\", end=\"7-18-2022\")\\n      .filter(items=[\"Date\",\"Adj Close\"])\\n      .hvplot(x=\"Date\", y=\"Adj Close\")\\n      #.pipe(plot, \\n      #      x=\"Date\", \\n      #      y=\"Adj Close\", \\n      #      title=\"DAX-Kurs\\\\n(1990 bis heute)\",\\n      #      xlabel=\"Datum\")\\n     )',\n",
       " '_i7': 'df',\n",
       " '_7': :Curve   [Date]   (Adj Close),\n",
       " '_i8': 'df = (load_stockdata(ticker=\"^GDAXI\", frequency=\"1d\", start=\"1-1-1990\", end=\"7-18-2022\")\\n      .filter(items=[\"Date\",\"Adj Close\"])\\n      #.hvplot(x=\"Date\", y=\"Adj Close\")\\n      #.pipe(plot, \\n      #      x=\"Date\", \\n      #      y=\"Adj Close\", \\n      #      title=\"DAX-Kurs\\\\n(1990 bis heute)\",\\n      #      xlabel=\"Datum\")\\n     )',\n",
       " '_i9': \"from UtilityCode.utility import plot, load_stockdata\\nfrom datetime import datetime\\nimport time\\npd.options.plotting.backend = 'holoviews'\",\n",
       " '_i10': \"from UtilityCode.utility import plot, load_stockdata\\nfrom datetime import datetime\\nimport time\\nimport pandas as pd\\npd.options.plotting.backend = 'holoviews'\",\n",
       " 'pd': <module 'pandas' from '/Users/felix/opt/anaconda3/envs/bapa/lib/python3.8/site-packages/pandas/__init__.py'>,\n",
       " '_i11': 'df = (load_stockdata(ticker=\"^GDAXI\", frequency=\"1d\", start=\"1-1-1990\", end=\"7-18-2022\")\\n      .filter(items=[\"Date\",\"Adj Close\"])\\n      plot(x=\"Date\", y=\"Adj Close\")\\n      #.pipe(plot, \\n      #      x=\"Date\", \\n      #      y=\"Adj Close\", \\n      #      title=\"DAX-Kurs\\\\n(1990 bis heute)\",\\n      #      xlabel=\"Datum\")\\n     )',\n",
       " '_i12': 'df = (load_stockdata(ticker=\"^GDAXI\", frequency=\"1d\", start=\"1-1-1990\", end=\"7-18-2022\")\\n      .filter(items=[\"Date\",\"Adj Close\"])\\n      .plot(x=\"Date\", y=\"Adj Close\")\\n      #.pipe(plot, \\n      #      x=\"Date\", \\n      #      y=\"Adj Close\", \\n      #      title=\"DAX-Kurs\\\\n(1990 bis heute)\",\\n      #      xlabel=\"Datum\")\\n     )',\n",
       " '_i13': 'df = (load_stockdata(ticker=\"^GDAXI\", frequency=\"1d\", start=\"1-1-1990\", end=\"7-18-2022\")\\n      .filter(items=[\"Date\",\"Adj Close\"])\\n      .plot(x=\"Date\", y=\"Adj Close\")\\n      #.pipe(plot, \\n      #      x=\"Date\", \\n      #      y=\"Adj Close\", \\n      #      title=\"DAX-Kurs\\\\n(1990 bis heute)\",\\n      #      xlabel=\"Datum\")\\n     )\\ndf',\n",
       " '_13': :Curve   [Date]   (Adj Close),\n",
       " '_i14': \"from UtilityCode.utility import plot, load_stockdata\\nfrom datetime import datetime\\nimport time\\nimport pandas as pd\\npd.options.plotting.backend = 'seaborn'\",\n",
       " '_i15': \"from UtilityCode.utility import plot, load_stockdata\\nfrom datetime import datetime\\nimport time\\nimport pandas as pd\\npd.options.plotting.backend = 'matplotlib'\",\n",
       " '_i16': 'df = (load_stockdata(ticker=\"^GDAXI\", frequency=\"1d\", start=\"1-1-1990\", end=\"7-18-2022\")\\n      .filter(items=[\"Date\",\"Adj Close\"])\\n      .plot(x=\"Date\", y=\"Adj Close\")\\n      #.pipe(plot, \\n      #      x=\"Date\", \\n      #      y=\"Adj Close\", \\n      #      title=\"DAX-Kurs\\\\n(1990 bis heute)\",\\n      #      xlabel=\"Datum\")\\n     )\\ndf',\n",
       " '_16': <AxesSubplot:xlabel='Date'>,\n",
       " '_i17': 'class TestMe():\\n    def __init__(self, x):\\n        self.x = x\\n        \\n    def __enter__(self):\\n        print(\"Enter\")\\n        \\n    def __exit__(self):\\n        print(\"Exit\")',\n",
       " 'TestMe': __main__.TestMe,\n",
       " '_i18': 'with TestMe(\"3\") as fin:\\n    print(\"Hallo\")\\n    ',\n",
       " 'fin': None,\n",
       " '_i19': 'class TestMe():\\n    def __init__(self, x):\\n        self.x = x\\n        \\n    def __enter__(self):\\n        print(\"Enter\")\\n        \\n    def __exit__(self, a, b, c):\\n        print(\"Exit\")',\n",
       " '_i20': 'with TestMe(\"3\") as fin:\\n    print(\"Hallo\")\\n    ',\n",
       " '_i21': 'class TestMe():\\n    def __init__(self, x):\\n        self.x = x\\n        \\n    def __enter__(self):\\n        print(\"Enter\")\\n        \\n    def __exit__(self, *args):\\n        print(\"Exit\")',\n",
       " '_i22': 'with TestMe(\"3\") as fin:\\n    print(\"Hallo\")\\n    ',\n",
       " '_i23': 'class TestMe():\\n    def __init__(self, x):\\n        self.x = x\\n        \\n    def __enter__(self):\\n        print(\"Enter\")\\n        \\n    def __exit__(self, *args):\\n        self.test = args\\n        print(\"Exit\")',\n",
       " '_i24': 'with TestMe(\"3\") as fin:\\n    print(\"Hallo\")\\n    ',\n",
       " '_i25': 't = TestMe(3)\\nwith t as fin:\\n    print(\"Hallo\")\\n    ',\n",
       " 't': <_thread._local at 0x7fc0584e9400>,\n",
       " '_i26': 't',\n",
       " '_26': <__main__.TestMe at 0x7fc0699b4820>,\n",
       " '_i27': 't = TestMe(3)\\nwith t as fin:\\n    print(\"Hallo\")\\n\\nt.test',\n",
       " '_27': (None, None, None),\n",
       " '_i28': 't = TestMe(3)\\nwith t as fin:\\n    fin = 3\\n\\nt.test',\n",
       " '_28': (None, None, None),\n",
       " '_i29': 't = TestMe(3)\\nwith t as fin:\\n    t.x = 5\\n\\nt.test',\n",
       " '_29': (None, None, None),\n",
       " '_i30': 't',\n",
       " '_30': <__main__.TestMe at 0x7fc0788d1370>,\n",
       " '_i31': 't.x',\n",
       " '_31': 5,\n",
       " '_i32': 't = TestMe(3)\\nwith t as fin:\\n    a = 4\\n    \\n\\nt.test',\n",
       " 'a': 4,\n",
       " '_32': (None, None, None),\n",
       " '_i33': 'class TestMe():\\n    def __init__(self, x):\\n        self.x = x\\n        \\n    def __enter__(self):\\n        \\n        print(\"Enter\")\\n        \\n    def __exit__(self, *args):\\n        self.x\\n        self.test = args\\n        print(\"Exit\")',\n",
       " '_i34': 't = TestMe(3)\\nwith t as fin:\\n    a = 4\\n    \\n\\nt.test',\n",
       " '_34': (None, None, None),\n",
       " '_i35': 'class TestMe():\\n    def __init__(self, x):\\n        self.x = x\\n        \\n    def __enter__(self):\\n        \\n        print(\"Enter\")\\n        \\n    def __exit__(self, *args):\\n        print(self.x)\\n        self.test = args\\n        print(\"Exit\")',\n",
       " '_i36': 't = TestMe(3)\\nwith t as fin:\\n    a = 4\\n    \\n\\nt.test',\n",
       " '_36': (None, None, None),\n",
       " '_i37': 't = TestMe(3)\\nwith t:\\n    a = 4\\n    t\\n    \\n\\nt.test',\n",
       " '_37': (None, None, None),\n",
       " '_i38': 't = TestMe(3)\\nwith t as model:\\n    model.x = 14\\n    t\\n    \\n\\nt.test',\n",
       " 'model': <__main__.TestMe at 0x7fc0699b4430>,\n",
       " '_i39': 't = TestMe(3)\\nwith t as model:\\n    model.x = 14\\n    print(model)\\n    t\\n    \\n\\nt.test',\n",
       " '_i40': 't = TestMe(3)\\nwith t as model:\\n    type(model)\\n    model.x = 14\\n    print(model)\\n    \\n    \\n\\nt.test',\n",
       " '_i41': 'class TestMe():\\n    def __init__(self, x):\\n        self.x = x\\n        \\n    def __enter__(self):\\n        print(\"Enter\")\\n        return self\\n    \\n    def __exit__(self, *args):\\n        print(self.x)\\n        self.test = args\\n        print(\"Exit\")',\n",
       " '_i42': 't = TestMe(3)\\nwith t as model:\\n    type(model)\\n    model.x = 14\\n    print(model)\\n    \\n    \\n\\nt.test',\n",
       " '_42': (None, None, None),\n",
       " '_i43': 'model',\n",
       " '_43': <__main__.TestMe at 0x7fc0699ca4c0>,\n",
       " '_i44': 'model == t',\n",
       " '_44': True,\n",
       " '_i45': 'model is t',\n",
       " '_45': True,\n",
       " '_i46': 't = TestMe(3)\\nwith t as pm:\\n    pm.data = 14\\n    pm.strategy = lambda x: x * 2\\n    \\n    \\n    \\n\\nt.test',\n",
       " 'pm': <__main__.TestMe at 0x7fc0699ca310>,\n",
       " '_46': (None, None, None),\n",
       " '_i47': 'model is t',\n",
       " '_47': False,\n",
       " '_i48': 't = TestMe(3)\\nwith t as pm:\\n    data = np.array([1,2,3,4,5])\\n    strategy = lambda x: x * 2\\n    pm.x = [data, strategy]\\n    \\n    \\n    \\n\\nt.test',\n",
       " '_i49': 'import numpy as np\\nclass TestMe():\\n    def __init__(self, x):\\n        self.x = x\\n        \\n    def __enter__(self):\\n        print(\"Enter\")\\n        return self\\n    \\n    def __exit__(self, *args):\\n        print(self.x)\\n        self.test = args\\n        print(\"Exit\")',\n",
       " 'np': <module 'numpy' from '/Users/felix/opt/anaconda3/envs/bapa/lib/python3.8/site-packages/numpy/__init__.py'>,\n",
       " '_i50': 'import numpy as np\\n\\nclass TestMe():\\n    def __init__(self, x):\\n        self.x = x\\n        \\n    def __enter__(self):\\n        print(\"Enter\")\\n        return self\\n    \\n    def __exit__(self, *args):\\n        print(self.x)\\n        self.test = args\\n        print(\"Exit\")',\n",
       " '_i51': 't = TestMe(3)\\nwith t as pm:\\n    data = np.array([1,2,3,4,5])\\n    strategy = lambda x: x * 2\\n    pm.x = [data, strategy]\\n    \\n    \\n    \\n\\nt.test',\n",
       " 'data': array([1, 2, 3, 4, 5]),\n",
       " 'strategy': <function __main__.<lambda>(x)>,\n",
       " '_51': (None, None, None),\n",
       " '_i52': 'pm',\n",
       " '_52': <__main__.TestMe at 0x7fc0699ca310>,\n",
       " '_i53': 't',\n",
       " '_53': <__main__.TestMe at 0x7fc0699ca310>,\n",
       " '_i54': 't.test',\n",
       " '_54': (None, None, None),\n",
       " '_i55': 't.x',\n",
       " '_55': [array([1, 2, 3, 4, 5]), <function __main__.<lambda>(x)>],\n",
       " '_i56': 'import numpy as np\\n\\nclass TestMe():\\n    def __init__(self, x):\\n        self.x = x\\n        \\n    def __enter__(self):\\n        print(\"Enter\")\\n        return self\\n    \\n    def __exit__(self, *args):\\n        self.__enter__\\n        print(self.x)\\n        self.test = args\\n        print(\"Exit\")',\n",
       " '_i57': 't = TestMe(3)\\nwith t as model:\\n    data = np.array([1,2,3,4,5])\\n    strategy = lambda x: x * 2\\n    \\nt.test',\n",
       " '_57': (None, None, None),\n",
       " '_i58': 't.x',\n",
       " '_58': 3,\n",
       " '_i59': 't',\n",
       " '_59': <__main__.TestMe at 0x7fc04c6cbfa0>,\n",
       " '_i60': 't.test',\n",
       " '_60': (None, None, None),\n",
       " '_i61': 'import numpy as np\\n\\nclass TestMe():\\n    def __init__(self, x):\\n        self.x = x\\n        \\n    def __enter__(self):\\n        print(\"Enter\")\\n        return self\\n    \\n    def __exit__(self, *args):\\n        self.__enter__()\\n        print(self.x)\\n        self.test = args\\n        print(\"Exit\")',\n",
       " '_i62': 't = TestMe(3)\\nwith t as model:\\n    data = np.array([1,2,3,4,5])\\n    strategy = lambda x: x * 2\\n    \\nt.test',\n",
       " '_62': (None, None, None),\n",
       " '_i63': 'import numpy as np\\n\\nclass TestMe():\\n    def __init__(self, x):\\n        self.x = x\\n        \\n    def __enter__(self, *args):\\n        print(\"Enter\")\\n        return self\\n    \\n    def __exit__(self, *args):\\n        print(self.x)\\n        self.test = args\\n        print(\"Exit\")',\n",
       " '_i64': 't = TestMe(3)\\nwith t as model:\\n    data = np.array([1,2,3,4,5])\\n    strategy = lambda x: x * 2\\n    \\nt.test',\n",
       " '_64': (None, None, None),\n",
       " '_i65': 'import numpy as np\\n\\nclass TestMe():\\n    def __init__(self, x):\\n        self.x = x\\n        \\n    def __enter__(self, *args):\\n        print(\"Enter\")\\n        print(args)\\n        return self\\n    \\n    def __exit__(self, *args):\\n        print(self.x)\\n        self.test = args\\n        print(\"Exit\")',\n",
       " '_i66': 't = TestMe(3)\\nwith t as model:\\n    data = np.array([1,2,3,4,5])\\n    strategy = lambda x: x * 2\\n    \\nt.test',\n",
       " '_66': (None, None, None),\n",
       " '_i67': 'import numpy as np\\n\\nclass TestMe():\\n    def __init__(self, x):\\n        self.x = x\\n        \\n    def __enter__(self, *args):\\n        print(\"Enter\")\\n        self.args = args    \\n        return self\\n    \\n    def __exit__(self, *args):\\n        print(self.x)\\n        self.test = args\\n        print(\"Exit\")',\n",
       " '_i68': 't = TestMe(3)\\nwith t as model:\\n    data = np.array([1,2,3,4,5])\\n    strategy = lambda x: x * 2\\n    \\nt.test',\n",
       " '_68': (None, None, None),\n",
       " '_i69': 't.test',\n",
       " '_69': (None, None, None),\n",
       " '_i70': 't = TestMe(3)\\nwith t(1,2,3) as model:\\n    data = np.array([1,2,3,4,5])\\n    strategy = lambda x: x * 2\\n    \\nt.test',\n",
       " '_i71': 'import numpy as np\\n\\nclass TestMe():\\n    def __init__(self, x):\\n        self.x = x\\n        \\n    def __enter__(self, *args):\\n        print(\"Enter\")\\n        self.__class__   \\n        return self\\n    \\n    def __exit__(self, *args):\\n        print(self.x)\\n        self.test = args\\n        print(\"Exit\")',\n",
       " '_i72': 't = TestMe(3)\\nwith  as model:\\n    data = np.array([1,2,3,4,5])\\n    strategy = lambda x: x * 2\\n    \\nt.test',\n",
       " '_i73': 't = TestMe(3)\\nwith t as model:\\n    data = np.array([1,2,3,4,5])\\n    strategy = lambda x: x * 2\\n    \\nt.test',\n",
       " '_73': (None, None, None),\n",
       " '_i74': 'import numpy as np\\n\\nclass TestMe():\\n    def __init__(self, x):\\n        self.x = x\\n        \\n    def __enter__(self, *args):\\n        print(\"Enter\")\\n        self.__class__   \\n        return self\\n    \\n    def __exit__(self, *args):\\n        print(self.x)\\n        self.test = args\\n        print(\"Exit\")',\n",
       " '_i75': 't = TestMe(3)\\nwith t as model:\\n    data = np.array([1,2,3,4,5])\\n    strategy = lambda x: x * 2\\n    \\nt.test',\n",
       " '_75': (None, None, None),\n",
       " '_i76': 'import numpy as np\\n\\nclass TestMe():\\n    def __init__(self, x):\\n        self.x = x\\n        \\n    def __enter__(self, *args):\\n        print(\"Enter\")\\n        self.__class__.get_contexts() \\n        return self\\n    \\n    def __exit__(self, *args):\\n        print(self.x)\\n        self.test = args\\n        print(\"Exit\")',\n",
       " '_i77': 't = TestMe(3)\\nwith t as model:\\n    data = np.array([1,2,3,4,5])\\n    strategy = lambda x: x * 2\\n    \\nt.test',\n",
       " '_i78': 'import threading',\n",
       " 'threading': <module 'threading' from '/Users/felix/opt/anaconda3/envs/bapa/lib/python3.8/threading.py'>,\n",
       " '_i79': 'threading.local()',\n",
       " '_79': <_thread._local at 0x7fc0584e0c70>,\n",
       " '_i80': 't = threading.local()',\n",
       " '_i81': 't',\n",
       " '_81': <_thread._local at 0x7fc0699d6ef0>,\n",
       " '_i82': 'import numpy as np\\n\\nclass TestMe():\\n    def __init__(self, x):\\n        self.x = x\\n        \\n    def __enter__(self, *args):\\n        print(\"Enter\")\\n        cls.get_attributes()\\n        return self\\n    \\n    def __exit__(self, *args):\\n        print(self.x)\\n        self.test = args\\n        print(\"Exit\")',\n",
       " '_i83': 't = TestMe(3)\\nwith t as model:\\n    data = np.array([1,2,3,4,5])\\n    strategy = lambda x: x * 2\\n    \\nt.test',\n",
       " '_i84': 'import numpy as np\\n\\nclass TestMe():\\n    def __init__(self, x):\\n        self.x = x\\n        \\n    def __enter__(cls, *args):\\n        print(\"Enter\")\\n        cls.get_attributes()\\n        return self\\n    \\n    def __exit__(self, *args):\\n        print(self.x)\\n        self.test = args\\n        print(\"Exit\")',\n",
       " '_i85': 't = TestMe(3)\\nwith t as model:\\n    data = np.array([1,2,3,4,5])\\n    strategy = lambda x: x * 2\\n    \\nt.test',\n",
       " '_i86': 'import numpy as np\\n\\nclass TestMe():\\n    def __init__(self, x):\\n        self.x = x\\n        \\n    def __enter__(self, *args):\\n        print(\"Enter\")   \\n        return self\\n    \\n    def __exit__(self, *args):\\n        print(self.x)\\n        self.test = args\\n        print(\"Exit\")',\n",
       " '_i87': 't = TestMe(3)\\nwith t as model:\\n    data = np.array([1,2,3,4,5])\\n    strategy = lambda x: x * 2\\n    \\nt.test',\n",
       " '_87': (None, None, None),\n",
       " '_i88': 't.test',\n",
       " '_88': (None, None, None),\n",
       " '_i89': 'import threading',\n",
       " '_i90': 't = threading.local()',\n",
       " '_i91': 't',\n",
       " '_91': <_thread._local at 0x7fc0584e9400>,\n",
       " '_i92': 't?',\n",
       " '_i93': 'threading.local?',\n",
       " '_i94': 'locals',\n",
       " '_94': <function locals()>,\n",
       " '_i95': 'locals()'}"
      ]
     },
     "execution_count": 95,
     "metadata": {},
     "output_type": "execute_result"
    }
   ],
   "source": [
    "locals()"
   ]
  },
  {
   "cell_type": "code",
   "execution_count": 7,
   "metadata": {},
   "outputs": [],
   "source": [
    "import threading"
   ]
  },
  {
   "cell_type": "code",
   "execution_count": 10,
   "metadata": {},
   "outputs": [
    {
     "name": "stdout",
     "output_type": "stream",
     "text": [
      "<_thread._local object at 0x7f96387dd9f0>\n"
     ]
    }
   ],
   "source": [
    "threading.local()"
   ]
  },
  {
   "cell_type": "code",
   "execution_count": 11,
   "metadata": {},
   "outputs": [
    {
     "data": {
      "text/plain": [
       "['In',\n",
       " 'Out',\n",
       " 'TestMe',\n",
       " '_',\n",
       " '_3',\n",
       " '_4',\n",
       " '_5',\n",
       " '_9',\n",
       " '__',\n",
       " '___',\n",
       " '__builtin__',\n",
       " '__builtins__',\n",
       " '__doc__',\n",
       " '__loader__',\n",
       " '__name__',\n",
       " '__package__',\n",
       " '__spec__',\n",
       " '_dh',\n",
       " '_i',\n",
       " '_i1',\n",
       " '_i10',\n",
       " '_i11',\n",
       " '_i2',\n",
       " '_i3',\n",
       " '_i4',\n",
       " '_i5',\n",
       " '_i6',\n",
       " '_i7',\n",
       " '_i8',\n",
       " '_i9',\n",
       " '_ih',\n",
       " '_ii',\n",
       " '_iii',\n",
       " '_oh',\n",
       " 'data',\n",
       " 'exit',\n",
       " 'get_ipython',\n",
       " 'model',\n",
       " 'np',\n",
       " 'quit',\n",
       " 'strategy',\n",
       " 't',\n",
       " 'threading']"
      ]
     },
     "execution_count": 11,
     "metadata": {},
     "output_type": "execute_result"
    }
   ],
   "source": [
    "dir()"
   ]
  },
  {
   "cell_type": "code",
   "execution_count": null,
   "metadata": {},
   "outputs": [],
   "source": []
  }
 ],
 "metadata": {
  "kernelspec": {
   "display_name": "bapa",
   "language": "python",
   "name": "bapa"
  },
  "language_info": {
   "codemirror_mode": {
    "name": "ipython",
    "version": 3
   },
   "file_extension": ".py",
   "mimetype": "text/x-python",
   "name": "python",
   "nbconvert_exporter": "python",
   "pygments_lexer": "ipython3",
   "version": "3.8.5"
  }
 },
 "nbformat": 4,
 "nbformat_minor": 4
}