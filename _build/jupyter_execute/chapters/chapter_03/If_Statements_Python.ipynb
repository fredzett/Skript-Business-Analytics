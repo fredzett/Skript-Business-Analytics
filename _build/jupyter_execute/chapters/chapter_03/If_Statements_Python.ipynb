{
 "cells": [
  {
   "cell_type": "markdown",
   "metadata": {},
   "source": [
    " # Entscheidungsstrukturen"
   ]
  },
  {
   "cell_type": "markdown",
   "metadata": {},
   "source": [
    "In unserem Ausgangsbeispiel wollten wir berechnen, ob sich ein Projekt lohnt. Auch wenn wir im vorherigen Kapitel bereits viele Verbesserungen ggü. dem ursprünglichen Programm gemacht haben, so haben wir die eigentliche Frage noch nicht beantwortet. Dies wollen wir nun nachholen.\n",
    "\n",
    "Die Frage, die wir untersuchen wollten und die unser Programm beantworten sollte, lautete: \n",
    "\n",
    "> \"Lohnt es sich, die Investition zu tätigen?\"\n",
    "\n",
    "Die Antwort auf diese Frage ist theoretisch - und dies haben Sie spätestens im 3. Semester im Rahmen der Investitionsrechnung gelernt - simple zu beantworten:\n",
    "\n",
    "Ist der Kapitalwert > 0, so lohnt sich eine Investition, da wir mit dieser \"Wert schaffen\", d.h. wir auf heute diskontiert mehr Cash-Rückflüsse generieren, als wir in Summe investieren. \n",
    "\n",
    "Es wäre also hilfreich, wenn unser Programm uns die Rückmeldung gäbe, ob der Kapitalwert größer 0 ist. Unser Programm müsste also in der Lage sein, folgende Analyse durchzuführen:\n",
    "\n",
    "- Wenn Kapitalwert größer 0, dann gib positive Rückmeldung (z.B. \"das Projekt ist super!\")\n",
    "- Wenn Kapitalwert kleiner oder gleich 0 dann gib negative Rückmeldung (z.B. \"das Projekt ist schlecht! Finger weg\")\n",
    "\n",
    "Für eine solche Analyse benötigen wir das Konstrukt eines sog. \"`if statement`\". Schauen wir uns zunächst an, wie dieses Konstrukt in Python funktioniert und implementiert wird und es so dann auf unser Beispiel anwenden.\n"
   ]
  },
  {
   "cell_type": "markdown",
   "metadata": {},
   "source": [
    "## Einfache if-Statements"
   ]
  },
  {
   "cell_type": "markdown",
   "metadata": {},
   "source": [
    "In Python können wir \"wenn-dann\"-Konstrukte relativ einfach implementieren. \n",
    "\n",
    "Die einfachste Form des Konstruktes funktioniert in Python wiefolgt:\n",
    "\n",
    "```\n",
    "if <bedingung>:\n",
    "    <mach etwas>\n",
    "```\n",
    "\n",
    "**Beispiel 1:**"
   ]
  },
  {
   "cell_type": "code",
   "execution_count": 35,
   "metadata": {},
   "outputs": [
    {
     "name": "stdout",
     "output_type": "stream",
     "text": [
      "Eine 10!\n"
     ]
    }
   ],
   "source": [
    "zahl = 10\n",
    "if zahl == 10:\n",
    "    print(\"Eine 10!\")"
   ]
  },
  {
   "cell_type": "markdown",
   "metadata": {},
   "source": [
    "**Beispiel 2:**"
   ]
  },
  {
   "cell_type": "code",
   "execution_count": 36,
   "metadata": {},
   "outputs": [],
   "source": [
    "zahl = 12\n",
    "if zahl == 10:\n",
    "    print(\"Eine 10!\")"
   ]
  },
  {
   "cell_type": "markdown",
   "metadata": {},
   "source": [
    "Wir sehen, dass der Code scheinbar nichts macht. Dies liegt daran, dass die Bedingung (`zahl == 10`) in diesem Fall nicht erfüllt ist (weil: `zahl == 12`). Wir sollten also noch angeben, was wir für den Fall machen wollen, dass die Bedingung nicht erfüllt ist. Eine sog. Default-Bedingung. Dies machen wir mit dem `else`-Statement. Wir schreiben dann:\n",
    "\n",
    "```\n",
    "if <bedingung>:\n",
    "    <mach etwas> \n",
    "else:\n",
    "    <mach etwas anderes>\n",
    "```\n",
    "\n",
    "**Beispiel:**"
   ]
  },
  {
   "cell_type": "code",
   "execution_count": 37,
   "metadata": {},
   "outputs": [
    {
     "name": "stdout",
     "output_type": "stream",
     "text": [
      "Keine 10!\n"
     ]
    }
   ],
   "source": [
    "zahl = 12\n",
    "if zahl == 10:\n",
    "    print(\"Eine 10!\")\n",
    "else:\n",
    "    print(\"Keine 10!\")"
   ]
  },
  {
   "cell_type": "markdown",
   "metadata": {},
   "source": [
    "Wir können `if-statements` natürlich auch in andere Konstrukte integrieren. Häufig verwenden wir ein solches Statement, um Entscheidungen für Listen (oder andere iterierbare Objekte) herbeizuführen. \n",
    "\n",
    "**Beispiel:**"
   ]
  },
  {
   "cell_type": "code",
   "execution_count": 38,
   "metadata": {},
   "outputs": [
    {
     "name": "stdout",
     "output_type": "stream",
     "text": [
      "Wir habe eine 0 gefunden\n"
     ]
    }
   ],
   "source": [
    "werte = [100, 0, 20, 300]\n",
    "for el in werte:\n",
    "\n",
    "    # einfache Wenn-Bedingung\n",
    "    if el == 0:\n",
    "        print(\"Wir habe eine 0 gefunden\")"
   ]
  },
  {
   "cell_type": "markdown",
   "metadata": {},
   "source": [
    "Das \"`if-statment`\" beginnt immer mit dem Keyword `if` und wird gefolgt von einer Bedingung. In Python kann ich folgende logische Bedingungen abfragen:\n",
    "\n",
    "- gleich: `a == b`; fragt ab, ob die Bedingung \"a hat den gleichen Wert wie b\" erfüllt ist\n",
    "- nicht gleich: `a != b`; fragt ab, ob die Bedingung \"a hat nicht den gleichen Wert wie b\" erfüllt ist\n",
    "- weniger als: `a < b`; fragt ab, ob die Bedingung \"a ist kleiner als b\" erfüllt ist\n",
    "- weniger oder gleich: `a <= b`; fragt ab, ob die Bedingung \"a ist kleiner oder gleich b\" erfüllt ist\n",
    "- größer als: `a > b`; fragt ab, ob die Bedingung \"a ist größer als b\" erfüllt ist\n",
    "- größer oder gleich: `a >= b`; fragt ab, ob die Bedingung \"a ist größer oder gleich b\" erfüllt ist\n",
    "\n",
    "\n",
    "````{margin} \n",
    "```{admonition} Wichtig\n",
    ":class: warning\n",
    "Die gleich-Bedingung wird mit \"`==`\" abgefragt und nicht mit dem einfache \"`=`\"-Zeichen, da dieses bereits für die Zuweisung von Variabeln belegt ist!\n",
    "```\n",
    "````"
   ]
  },
  {
   "cell_type": "markdown",
   "metadata": {},
   "source": [
    "Schauen wir uns an, was das Ergebnis einer solchen Bedingung ist. "
   ]
  },
  {
   "cell_type": "code",
   "execution_count": 39,
   "metadata": {},
   "outputs": [
    {
     "data": {
      "text/plain": [
       "False"
      ]
     },
     "execution_count": 39,
     "metadata": {},
     "output_type": "execute_result"
    }
   ],
   "source": [
    "a = 3\n",
    "b = 4\n",
    "a == b"
   ]
  },
  {
   "cell_type": "code",
   "execution_count": 40,
   "metadata": {},
   "outputs": [
    {
     "data": {
      "text/plain": [
       "True"
      ]
     },
     "execution_count": 40,
     "metadata": {},
     "output_type": "execute_result"
    }
   ],
   "source": [
    "a < b"
   ]
  },
  {
   "cell_type": "markdown",
   "metadata": {},
   "source": [
    "Das Ergebnis einer Bedingung ist immer `True` oder `False`. Wir haben es also mit einem neuen uns bisher noch nicht bekannten Datentyp zu tun. Das Ergebnis einer Bedingung liefert den Datentyp `bool` zurück; dieser kann nur die genannten Werte `true` und `false` annehmen. Der Datentyp ist sehr nützlich, weil wir - insbesondere auch in der Datenanalyse - oft Bedingungen prüfen müssen. "
   ]
  },
  {
   "cell_type": "code",
   "execution_count": 41,
   "metadata": {},
   "outputs": [
    {
     "data": {
      "text/plain": [
       "bool"
      ]
     },
     "execution_count": 41,
     "metadata": {},
     "output_type": "execute_result"
    }
   ],
   "source": [
    "condition_result = a > b \n",
    "type(condition_result)"
   ]
  },
  {
   "cell_type": "markdown",
   "metadata": {},
   "source": [
    "Wir können mit dem Datentyp `bool` auch ganz normale Rechenoperationen durchführen. Dies stellt sich oft als nützlich heraus, wie wir noch feststellen werden. Python behandelt `True` wie eine 1 und `False` wie eine 0. \n",
    "\n",
    "**Beispiel:**"
   ]
  },
  {
   "cell_type": "code",
   "execution_count": 42,
   "metadata": {},
   "outputs": [
    {
     "data": {
      "text/plain": [
       "2"
      ]
     },
     "execution_count": 42,
     "metadata": {},
     "output_type": "execute_result"
    }
   ],
   "source": [
    "bools = [True, False, True, False, False, False]\n",
    "sum(bools)"
   ]
  },
  {
   "cell_type": "markdown",
   "metadata": {},
   "source": [
    "Wir können über die logischen Operatoren `and` und `or` auch verbinden. Wir könnten also z.B. abfragen:\n",
    "\n",
    "> wenn bedingung1 erfüllt oder bedingung2 erfüllt, dann mache etwas\n",
    "\n",
    "**Beispiel**"
   ]
  },
  {
   "cell_type": "code",
   "execution_count": 43,
   "metadata": {},
   "outputs": [
    {
     "name": "stdout",
     "output_type": "stream",
     "text": [
      "Klasse! Der Wert beträgt 0 oder 20.\n",
      "Klasse! Der Wert beträgt 0 oder 20.\n"
     ]
    }
   ],
   "source": [
    "for el in werte:\n",
    "    if el == 0 or el == 20:\n",
    "        print(\"Klasse! Der Wert beträgt 0 oder 20.\")"
   ]
  },
  {
   "cell_type": "markdown",
   "metadata": {},
   "source": [
    "## Komplexere if-statements"
   ]
  },
  {
   "cell_type": "markdown",
   "metadata": {},
   "source": [
    "Oft werden wir Probleme und Fragestellungen haben, bei denen die Wenn-Dann-Abfrage komplexer ist. Im obigen Beispiel liefert unser Code z.B. keine Antwort auf die Frage, ob eine 0 oder eine 20 gefunden wurde, sondern nur, dass einer der beiden Werte gefunden wurde. \n",
    "\n",
    "Es ist deshalb oft hilfreich mehrere Wenn-Dann-Abfragen zu verbinden. Dies können wir mit `elif` tun. "
   ]
  },
  {
   "cell_type": "code",
   "execution_count": 44,
   "metadata": {},
   "outputs": [
    {
     "name": "stdout",
     "output_type": "stream",
     "text": [
      "Nix gefunden\n",
      "Wir haben eine 0 gefunden\n",
      "Wir haben eine 20 gefunden\n",
      "Nix gefunden\n"
     ]
    }
   ],
   "source": [
    "for el in werte:\n",
    "    if el == 0:\n",
    "        print(\"Wir haben eine 0 gefunden\")\n",
    "    elif el == 20:\n",
    "        print(\"Wir haben eine 20 gefunden\")\n",
    "    else:\n",
    "        print(\"Nix gefunden\")"
   ]
  },
  {
   "cell_type": "markdown",
   "metadata": {},
   "source": [
    "## List comprehsions und if statments\n",
    "\n",
    "Wir können das Konstrukt der Wenn-Dann-Bedingungen auch im Rahmen einer `list comprehension` nutzen. Dies ist in Python sehr üblich und liest sich oft wesentlich kompakter. Ein häufiger Anwendungsfall ist das Filtern von Listen. \n",
    "\n",
    "**Beispiel:** \n",
    "\n",
    "Wir haben eine Liste mit Zahlen, benötigen aber nur die positiven Zahlen. "
   ]
  },
  {
   "cell_type": "code",
   "execution_count": 45,
   "metadata": {},
   "outputs": [
    {
     "data": {
      "text/plain": [
       "[100, 200, 300, 200, 20, 40, 12]"
      ]
     },
     "execution_count": 45,
     "metadata": {},
     "output_type": "execute_result"
    }
   ],
   "source": [
    "werte = [100, 200, 300, -100, 200, 20, 40, -10, 0, 12]\n",
    "werte_positiv = [el for el in werte if el > 0]\n",
    "werte_positiv"
   ]
  },
  {
   "cell_type": "markdown",
   "metadata": {},
   "source": [
    "**Beispiel:**\n",
    "\n",
    "Wir haben eine Liste mit Wörtern und wollen Wörter, die ein bestimmtes Kriterium nicht erfüllen, aussortieren"
   ]
  },
  {
   "cell_type": "code",
   "execution_count": 46,
   "metadata": {},
   "outputs": [
    {
     "data": {
      "text/plain": [
       "['Umsatz', 'Absatz']"
      ]
     },
     "execution_count": 46,
     "metadata": {},
     "output_type": "execute_result"
    }
   ],
   "source": [
    "wörter = [\"Umsatz\", \"Gewinn\", \"Preis\", \"Absatz\"]\n",
    "wörter_filtered = [el for el in wörter if \"z\" in el]\n",
    "wörter_filtered"
   ]
  },
  {
   "cell_type": "markdown",
   "metadata": {},
   "source": [
    "Greifen wir nun unser Ausgangsbeispiel wieder auf und ergänzen dieses um eine Wenn-Dann-Abfrage. Hier zunächst die Code-Blöcke, die wir bereits implementiert hatten"
   ]
  },
  {
   "cell_type": "code",
   "execution_count": 47,
   "metadata": {},
   "outputs": [],
   "source": [
    "def berechne_kapitalwert(cashflows, zins):\n",
    "    KW = sum([cf/(1+zins)**t for t, cf in enumerate(cashflows)])\n",
    "    return KW"
   ]
  },
  {
   "cell_type": "code",
   "execution_count": 48,
   "metadata": {},
   "outputs": [
    {
     "data": {
      "text/plain": [
       "[1172.9062357760577, 3947.9972690031846, -2491.1811561219856]"
      ]
     },
     "execution_count": 48,
     "metadata": {},
     "output_type": "execute_result"
    }
   ],
   "source": [
    "# Annahmen im Base Case\n",
    "i = 0.04\n",
    "cf_szenario = {\"base\": [-10000, 5000, 4000, 3000], \n",
    "            \"high\": [-10000, 6000, 5000, 4000],\n",
    "            \"low\": [-10000, 4000, 3000, 1000],}\n",
    "\n",
    "szenarien = [\"base\", \"high\", \"low\"]\n",
    "ergebnisse = [berechne_kapitalwert(cf_szenario[szenario], i ) for szenario in szenarien]\n",
    "ergebnisse"
   ]
  },
  {
   "cell_type": "markdown",
   "metadata": {},
   "source": [
    "In unserem Beispiel haben wir drei Szenarien, die alle drei eintreten könnten. Wir könnten diese mit Wahrscheinlichkeiten gewichten und eine Art Erwartungswert berechnen. Wir werden dann mit einer Wenn-Dann-Abfrage, checken, ob der Erwartungswert > 0 ist und sich die Investition lohnt."
   ]
  },
  {
   "cell_type": "code",
   "execution_count": 49,
   "metadata": {},
   "outputs": [
    {
     "name": "stdout",
     "output_type": "stream",
     "text": [
      "Die Investition ist schlecht. Der EW beträgt -15.219617660446943\n"
     ]
    }
   ],
   "source": [
    "wahrscheinlichkeiten = [0.5, 0.1, 0.4] # Wahrscheinlichkeiten für Szenarien\n",
    "erwartungswert = sum([p*kw for p, kw in zip(wahrscheinlichkeiten, ergebnisse)])\n",
    "if erwartungswert > 0:\n",
    "    print(\"Investition ist gut! Der EW beträgt\", erwartungswert)\n",
    "else:\n",
    "    print(\"Die Investition ist schlecht. Der EW beträgt\", erwartungswert)"
   ]
  },
  {
   "cell_type": "markdown",
   "metadata": {},
   "source": [
    "Der Code beinhaltet nun alles, was wir zur Lösung unserer Fragestellung benötigen. Lassen Sie uns diesen nun noch einmal optimieren, so dass wir diesen schnell adaptieren könnten, falls sich Annahmen änderten (z.B. anderer Zinssatz oder andere Wahrscheinlichkeiten). Wir machen dies in drei Schritten:\n",
    "\n",
    "\n",
    "1. Wir lagern die Berechnung des Erwartungswertes in eine separate Funktion aus\n",
    "2. Wir lagern die Wenn-Dann-Abfrage in eine Funktion aus\n",
    "3. Wir schreiben eine Funktion für die gesamte Analyse, in der wir alle Einzelfunktionen nutzen"
   ]
  },
  {
   "cell_type": "code",
   "execution_count": 50,
   "metadata": {},
   "outputs": [],
   "source": [
    "def calc_erwartungswert(kapitalwerte, probs):\n",
    "    erwartungswert = sum([p*kw for p, kw in zip(probs, kapitalwerte)])\n",
    "    return erwartungswert\n",
    "\n",
    "def print_result(erwartungswert):\n",
    "    if erwartungswert > 0:\n",
    "        print(\"Investition ist gut! Der EW beträgt\", erwartungswert)\n",
    "    else:\n",
    "        print(\"Die Investition ist schlecht. Der EW beträgt\", erwartungswert)"
   ]
  },
  {
   "cell_type": "code",
   "execution_count": 51,
   "metadata": {},
   "outputs": [],
   "source": [
    "def check_investment(cash_szenarien, i, probs):\n",
    "    \n",
    "    # 1. Schritt: Kapitalwerte der Szenarien berechnen\n",
    "    kapitalwerte = [berechne_kapitalwert(cashflows, i ) for cashflows in cash_szenarien.values()]\n",
    "\n",
    "    # 2. Schritt: Erwartungswert der Kapitalwerte berechnen (d.h. mit Wahrscheinlichkeiten gewichten)\n",
    "    erwartungswert = calc_erwartungswert(kapitalwerte, probs)\n",
    "\n",
    "    # 3. Schritt: Wenn-Dann-Abfrage, ob Erwartungswert (EW) > 0\n",
    "    print_result(erwartungswert)"
   ]
  },
  {
   "cell_type": "markdown",
   "metadata": {},
   "source": [
    "Unsere gesamte Analyse erstreckt sich jetzt auf folgenden Code:"
   ]
  },
  {
   "cell_type": "code",
   "execution_count": 52,
   "metadata": {},
   "outputs": [
    {
     "name": "stdout",
     "output_type": "stream",
     "text": [
      "Die Investition ist schlecht. Der EW beträgt -15.219617660446943\n"
     ]
    }
   ],
   "source": [
    "i = 0.04\n",
    "cf_szenario = {\"base\": [-10000, 5000, 4000, 3000], \n",
    "            \"high\": [-10000, 6000, 5000, 4000],\n",
    "            \"low\": [-10000, 4000, 3000, 1000],}\n",
    "probs = [0.5, 0.1, 0.4]\n",
    "check_investment(cf_szenario, i, probs)"
   ]
  },
  {
   "cell_type": "markdown",
   "metadata": {},
   "source": [
    "Der gesamte Code ist jetzt hierarchisch aufgebaut. Die eigentliche Analyse erfolgt in einer Zeile (`check_investment(...)`). Um zu sehen, was diese Funktion tut, können wir uns diese anschauen und sehen, dass diese drei Funktionen aufruft. Diese können wir uns dann wieder im Detail anschauen etc. Dieses Vorgehen erleichtert es unseren Code les- und handhabbar zu machen. Wir können auch in 3 Monaten noch nachvollziehen, was unser Code macht und könnten Fehler schnell finden. "
   ]
  },
  {
   "cell_type": "markdown",
   "metadata": {},
   "source": [
    "## Fazit"
   ]
  },
  {
   "cell_type": "markdown",
   "metadata": {},
   "source": [
    "Wir sind einen großen Schritt gegangen und haben bereits wesentliche Konstrukte in Python kennengelernt, um komplexe Programme zu schreiben. \n",
    "\n",
    "- Mit der Einführung von Wenn-Dann-Abfragen, können Sie nun den Computer vordefinierte Entscheidungen durchlaufen lassen. \n",
    "\n",
    "- wir haben bei der Optimierung gesehen, dass wir Code - wenn sinnvoll - in Funktionen auslagern sollten, um diesen lesbarer zu machen. \n",
    "\n",
    "In den nächsten Kapiteln werden wir uns nun mit dem Importieren von externen Modulen beschäftigen, die uns viele wichtige Funktionen für eine ernsthafte Datenanalyse geben werden. Es ist jedoch wichtig, dass sie das bisher vorgestellte üben und nachvollziehen, um die weiteren Kapitel gut verfolgen zu können. "
   ]
  }
 ],
 "metadata": {
  "hide_input": false,
  "interpreter": {
   "hash": "9c8a4babebe8c1d9e0d056b38c59c6c9a5545619301994faaf0a84ae1d73c3ab"
  },
  "kernelspec": {
   "display_name": "Python [conda env:anaconda3]",
   "language": "python",
   "name": "python3"
  },
  "language_info": {
   "codemirror_mode": {
    "name": "ipython",
    "version": 3
   },
   "file_extension": ".py",
   "mimetype": "text/x-python",
   "name": "python",
   "nbconvert_exporter": "python",
   "pygments_lexer": "ipython3",
   "version": "3.9.7"
  },
  "toc": {
   "base_numbering": 1,
   "nav_menu": {},
   "number_sections": true,
   "sideBar": true,
   "skip_h1_title": false,
   "title_cell": "Table of Contents",
   "title_sidebar": "Contents",
   "toc_cell": false,
   "toc_position": {},
   "toc_section_display": true,
   "toc_window_display": false
  }
 },
 "nbformat": 4,
 "nbformat_minor": 2
}