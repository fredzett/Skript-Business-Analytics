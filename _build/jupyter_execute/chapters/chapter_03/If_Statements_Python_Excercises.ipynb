{
 "cells": [
  {
   "cell_type": "markdown",
   "metadata": {},
   "source": [
    " # Übungen 3"
   ]
  },
  {
   "cell_type": "markdown",
   "metadata": {},
   "source": [
    "## Aufgabe 1\n",
    "\n",
    "Sie haben eine Liste mit Wörtern. Erstellen Sie eine neue Liste, die nur diejenigen Wörter beinhaltet, die nicht mit \"vor\" oder \"Vor\" beginnen. \n",
    "\n",
    "(Hinweis: Wörter sind vom Typ `str`. Schauen Sie sich die Methoden `lower` und `startswith` an)"
   ]
  },
  {
   "cell_type": "code",
   "execution_count": 5,
   "metadata": {},
   "outputs": [],
   "source": [
    "wörter = [\"vorstellen\", \"Vorbereitung\", \"essen\", \"vorgeben\", \"Haferflocken\", \"Kunstgalerie\"]"
   ]
  },
  {
   "cell_type": "markdown",
   "metadata": {},
   "source": [
    "## Aufgabe 2"
   ]
  },
  {
   "cell_type": "markdown",
   "metadata": {},
   "source": [
    "Schreiben Sie eine Funktion `check_zahl`, welche als Input eine beliebige Zahl zwischen 0 und 30 erhält und als Ergebnis ausgibt, ob die Zahl \n",
    "\n",
    "- größer als 10, aber kleiner als 20 (Output: \"A\")\n",
    "- größer oder gleich 20 (Output: \"B\")\n",
    "- gleich 5, 14 oder 27 (Output: \"C\")\n",
    "- kleiner oder gleich 10 (Output: \"ERROR\")\n",
    "\n",
    "Beispiel: \n",
    "```{code} Python\n",
    "zahl = 14\n",
    "check_zahl(zahl)\n",
    ">>> \"C\"\n",
    "\n",
    "zahl = 12\n",
    "check_zahl(zahl)\n",
    ">>> \"A\"\n",
    "```"
   ]
  },
  {
   "cell_type": "markdown",
   "metadata": {},
   "source": []
  }
 ],
 "metadata": {
  "hide_input": false,
  "interpreter": {
   "hash": "9c8a4babebe8c1d9e0d056b38c59c6c9a5545619301994faaf0a84ae1d73c3ab"
  },
  "kernelspec": {
   "display_name": "Python [conda env:anaconda3]",
   "language": "python",
   "name": "python3"
  },
  "language_info": {
   "codemirror_mode": {
    "name": "ipython",
    "version": 3
   },
   "file_extension": ".py",
   "mimetype": "text/x-python",
   "name": "python",
   "nbconvert_exporter": "python",
   "pygments_lexer": "ipython3",
   "version": "3.9.7"
  },
  "toc": {
   "base_numbering": 1,
   "nav_menu": {},
   "number_sections": true,
   "sideBar": true,
   "skip_h1_title": false,
   "title_cell": "Table of Contents",
   "title_sidebar": "Contents",
   "toc_cell": false,
   "toc_position": {},
   "toc_section_display": true,
   "toc_window_display": false
  }
 },
 "nbformat": 4,
 "nbformat_minor": 2
}