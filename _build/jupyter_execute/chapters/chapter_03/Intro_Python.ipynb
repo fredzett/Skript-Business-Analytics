{
 "cells": [
  {
   "cell_type": "markdown",
   "metadata": {
    "slideshow": {
     "slide_type": "slide"
    }
   },
   "source": [
    "# Einführung in Python"
   ]
  },
  {
   "cell_type": "markdown",
   "metadata": {},
   "source": [
    "```{admonition} Online-Resourcen\n",
    ":class: tip, dropdown\n",
    "\n",
    "Es gibt im Internet eine Vielzahl an guten Einführungen zum Thema Programmieren in Python. \n",
    "\n",
    "Hier zwei Beispiele:\n",
    "\n",
    "- Detaillierte Python-Kurs:  [hier](https://www.python-kurs.eu/python3_variablen.php)\n",
    "\n",
    "- Links mit weiteren Ressourcen: [hier](https://wiki.python.org/moin/BeginnersGuide/NonProgrammers)\n",
    "\n",
    "Insbesondere zu als Anfänger ist die Menge an Tutorials überwältigend und es fällt schwer zu beurteilen, was davon geeignet und für unsere Zwecke sinnvoll ist. Je mehr Erfahrung und Übung Sie jedoch bekommen, desto einfacher fällt es zielgerichtet im Internet nach Hilfe zu suchen. \n",
    "\n",
    "Natürlich gibt es auch eine Vielzahl an guten Büchern zum Thema Programmieren und Python. Eine ganz besonders gelungene Einführung in das Thema Programmieren mit Python bietet {cite:ts}`zelle_python_2016`. (siehe [hier](https://fhb-bielefeld.digibib.net/search/eds/record/edshbz:edshbz.DE.605.HBZ01.022046291/availability?be-eds-expander=fulltext%2Crelatedsubjects&be-eds-q-al=Python+Programming&be-eds-sort=relevance&parent_request_id=009t3eg3tsr7uit4fa9g&parent_request_id_hmac=c5a79bf0a06e4f3acfab103b8795e305620574be&q-au=Zelle&q-tf=Python+Programming&start=1&count=20&hitcount=6&pos=1&parent_request_id=009t3eg3tsr7uit4fa9g&parent_request_id_hmac=c5a79bf0a06e4f3acfab103b8795e305620574be)). Das Buch empfiehlt sich insbesondere für diejenigen von Ihnen, die die Grundlagen des Programmierens nicht nur aus Datenanalyse-Perspektive betrachten wollen. \n",
    "\n",
    "```\n",
    "\n"
   ]
  },
  {
   "cell_type": "code",
   "execution_count": null,
   "metadata": {},
   "outputs": [],
   "source": []
  },
  {
   "cell_type": "markdown",
   "metadata": {},
   "source": [
    "## Einfache Arithmetik"
   ]
  },
  {
   "cell_type": "markdown",
   "metadata": {},
   "source": [
    "Beginnen wir mit einfachen mathematischen Operationen. Das Beispiel zeigt einen Ausdruck bzw. Statement (im Folgenden verwenden wir den Begriff `Statement`) mit Berechnungen. Dieser Ausdruck ist in Python geschrieben:"
   ]
  },
  {
   "cell_type": "code",
   "execution_count": 3,
   "metadata": {
    "scrolled": true
   },
   "outputs": [
    {
     "data": {
      "text/plain": [
       "69.44444444444444"
      ]
     },
     "execution_count": 3,
     "metadata": {},
     "output_type": "execute_result"
    }
   ],
   "source": [
    "1 + (5 * 12) / 3 - 12"
   ]
  },
  {
   "cell_type": "markdown",
   "metadata": {},
   "source": [
    "Wie man sieht, kann man - analog zu einem Taschenrechner (oder Excel) - die bekannten arithmetischen Operatoren verwenden.\n",
    "\n",
    "`+` = Addition \n",
    "\n",
    "`-` = Subtraktion\n",
    "\n",
    "`*` = Multiplikation\n",
    "\n",
    "`/` = Division\n",
    "\n",
    "`**` =  Potenzieren (❗ die Schreibweise für $3^4$ in Python lautet $3{**}4$)"
   ]
  },
  {
   "cell_type": "markdown",
   "metadata": {},
   "source": [
    "Dieses Vorgehen ist jedoch meist nicht sinnvoll und wenig vorteilhaft gegenüber z.B. einem Taschenrechner. Auch in einem typischen Tabellenkalkulationsprogramm wie Excel würden wir anders vorgehen, da wird dort typischerweise nicht eine komplette Formel mit fest codierten Werten in eine Zelle schreiben, da dies umständlich, wenig flexibel und fehleranfällig wäre. Gleiches gilt für Python.\n",
    "\n",
    "![Excel schlecht](../assets/Excel_bad.png)\n",
    "\n",
    "In Excel würden wir stattdessen die Werte auf verschiedene Zellen aufteilen und in einer Ergebniszelle verknüpfen. Dieses Vorgehen hat den Vorteil, dass die Annahmen für das Ergebnis viel transparenter und Änderungen in Annahmen auf einen Blick ersichtlich sind. So wird z.B. deutlich, dass es sich bei der $12$, die in der Berechnung zwei Mal vorkommt (Zellen C5 und C7) um tatsächlich zwei verschiedene Annahmen handelt - sonst würden wir nicht zwei Inputparameter benötigen -, die nur zufällig den selben Wert haben.  \n",
    "\n",
    "![Excel gut](../assets/Excel_good.png)"
   ]
  },
  {
   "cell_type": "markdown",
   "metadata": {},
   "source": [
    "## Zuweisen von Variablen"
   ]
  },
  {
   "cell_type": "markdown",
   "metadata": {},
   "source": [
    "Das Äquivalen in Python ist die Nutzung von Variablen. Wir können Werte als Variablen abspeichern[^1], in dem wir das \"`=`\"-Symbol benutzen. \n",
    "\n",
    "\n",
    "[^1]: diese Formulierung ist nicht ganz korrekt, jedoch für unsere Zwecke ausreichend.\n",
    "\n",
    "Wir schreiben also \n",
    "\n",
    "```\n",
    "<variable> = <wert>\n",
    "```\n",
    "\n",
    "`variable` kann hier jeden Namen annehmen[^2]. Für `wert` können wir Ganzahlen, Dezimalzahlen, Wörter oder auch ganz andere sog. Datentypen - z.B. Listen, Graphen oder Dataframes die wir jeweils noch kennenlernen werden - einsetzen. \n",
    "\n",
    "[^2]: Ausnahmen sind in Python bereits belegte Wörter, sog. Keywords, diese sind hier aufgeführt [keywords](https://www.w3schools.com/python/python_ref_keywords.asp).\n",
    "\n",
    "Hier ein paar Beispiele:"
   ]
  },
  {
   "cell_type": "code",
   "execution_count": 5,
   "metadata": {
    "scrolled": true
   },
   "outputs": [],
   "source": [
    "zahl = 42\n",
    "wort = \"Spaghetti\"\n",
    "satz = \"Deutscher Meister wird nur der BVB\""
   ]
  },
  {
   "cell_type": "markdown",
   "metadata": {},
   "source": [
    "Namen für Variablen sollten sinnvoll und prägnant (d.h. nicht zu lang) sein. In Python gibt es darüber hinaus die Konvention (siehe [PEP 8](https://peps.python.org/pep-0008/#function-and-variable-names)), dass Variablen klein geschrieben werden und mehrere Wörter mit \"`_`\" getrennt werden. \n",
    "\n",
    "Beispiel:"
   ]
  },
  {
   "cell_type": "code",
   "execution_count": 7,
   "metadata": {},
   "outputs": [],
   "source": [
    "sehr_wichtige_variabel = 321"
   ]
  },
  {
   "cell_type": "markdown",
   "metadata": {},
   "source": [
    "Diese Konvention ist für die Funktion eines Programms nicht entscheiden, jedoch erleichtert diese die Lesbarkeit des Codes."
   ]
  },
  {
   "cell_type": "markdown",
   "metadata": {},
   "source": [
    "Wir können unser obiges Formelbeispiel also verbessern, in dem wir die Annahmen in verschiedene Variablen speichern und dann miteinander zu einem Ergebnis kombinieren. "
   ]
  },
  {
   "cell_type": "code",
   "execution_count": 11,
   "metadata": {},
   "outputs": [
    {
     "data": {
      "text/plain": [
       "9.0"
      ]
     },
     "execution_count": 11,
     "metadata": {},
     "output_type": "execute_result"
    }
   ],
   "source": [
    "input1 = 1\n",
    "input2 = 5\n",
    "input3 = 12\n",
    "input4 = 3\n",
    "input5 = 12\n",
    "ergebnis = input1 + (input2 * input3) / input4 - input5\n",
    "ergebnis"
   ]
  },
  {
   "cell_type": "markdown",
   "metadata": {},
   "source": [
    "**Beispiel: Berechnung Kapitalbarwert**\n",
    "\n",
    "Lassen Sie uns unser neugewonnenes Wissen direkt mithilfe eines konkreten Anwendungsfalles ausprobieren. Wir wollen berechnen, ob sich eine Investition lohnt. Hierfür haben wir untenstehende Annahmen gegeben:\n",
    "\n",
    "- Investition ($I_0$): -10.000\n",
    "- Cashflows ($CF_t$) in den Jahren 1 bis 3: 5.000, 4.000 und 3.000\n",
    "- Zinssatz ($i$): 4%\n",
    "\n",
    "````{margin} \n",
    "```{admonition} Hinweis\n",
    ":class: note\n",
    "Der Kapitalbarwert ([hier](https://de.wikipedia.org/wiki/Kapitalwert)) lässt sich berechnen als die Summe der Barwerte der einzelnen Ein- und Auszahlungen. \n",
    "\n",
    "$$KW_0 = \\sum_{t=0}^{T} \\frac{CF_t}{(1+i)^t}$$\n",
    "```\n",
    "````\n",
    "\n",
    "Wir suchen den Kapitalbarwert ($KW_0$) der Investition und können diesen mit dem untenstehendem Code berechnen\n",
    "\n"
   ]
  },
  {
   "cell_type": "code",
   "execution_count": 13,
   "metadata": {},
   "outputs": [
    {
     "data": {
      "text/plain": [
       "1172.9062357760577"
      ]
     },
     "execution_count": 13,
     "metadata": {},
     "output_type": "execute_result"
    }
   ],
   "source": [
    "I_0 = -10000\n",
    "CF_1 = 5000\n",
    "CF_2 = 4000\n",
    "CF_3 = 3000\n",
    "i = 0.04\n",
    "KW = I_0 + CF_1/(1+i)**1 + CF_2/(1+i)**2 + CF_3/(1+i)**3\n",
    "KW"
   ]
  },
  {
   "cell_type": "markdown",
   "metadata": {},
   "source": [
    "Die Umsetzung war einfach und hat viele Vorteile gegenüber einer Variante, in der wir keine Variablen nutzen. Jedoch hat der bis hierhin vorgestellte Ansatz immer noch relativ viele Nachteile. \n",
    "\n",
    "Zum einen ist der Code sehr repetitive, d.h. wir müssen bspw. für jeden Cashflow eine eigene Variable definieren und addieren auch jeden Cashflow separat auf. Dies ist nicht nur ein relativ großer manueller Aufwand, sondern auch fehleranfällig. \n",
    "\n",
    "Zum anderen muss die Formel für den Kapitalbarwert für jede unterschiedliche Anzahl an Cashflows angepasst werden. Hat ein Projekt bspw. zwei oder sechs verschiedene Cashflows, dann müsste die Formel angepasst werden. \n",
    "\n",
    "```{admonition} Repetitiver Code\n",
    ":class: tip\n",
    "Als generelle Daumenregel können wir bereits an dieser Stelle darauf hinweisen, dass wir repetitiven Code generell vermeiden und wir diesen optimieren sollten. \n",
    "```\n",
    "\n",
    "Im Folgenden wollen wir versuchen unseren Code  zu verbessern bzw. zu optimieren. Wir werden Schritt für Schritt neue Konstrukte einführen. Der Code wird so weniger repetitv und flexibler einsetzbar. Die hier eingeführten Konstrukte sind unabhängig vom gewählten Beispiel und generisch einsetzbar. "
   ]
  },
  {
   "cell_type": "markdown",
   "metadata": {},
   "source": [
    "## Wichtige Regeln in Python"
   ]
  },
  {
   "cell_type": "markdown",
   "metadata": {},
   "source": [
    "An dieser Stelle macht es Sinn einige grundsätzliche Regeln von Python zu erläutern. \n",
    "\n",
    "**Kommentare**: Statements, denen ein \"`#`\" vorangestellt wird, werden von Python nicht als Code erkannt. Wir können so Kommentare im Code einfügen."
   ]
  },
  {
   "cell_type": "code",
   "execution_count": 70,
   "metadata": {},
   "outputs": [],
   "source": [
    "# Dies ist ein Statement, um einer Variable einen Wert zuzuweisen\n",
    "var = 3"
   ]
  },
  {
   "cell_type": "markdown",
   "metadata": {},
   "source": [
    " \n",
    "**Einrücken zu Beginn eines Statments:** im Gegensatz nahezu allen anderen Programmiersprachen hat das Einrücken von Text eine Bedeutung. Ein Statement muss also zu Anfang einer Zeile beginnen. Es sei denn, es handelt sich um bestimmte Art von Statements, die wir noch kennenlernen werden (z.B. eine Wenn-Bedingung)"
   ]
  },
  {
   "cell_type": "code",
   "execution_count": 71,
   "metadata": {},
   "outputs": [],
   "source": [
    "# Code beginnt am Anfang einer Zeile\n",
    "var = 13"
   ]
  },
  {
   "cell_type": "code",
   "execution_count": 72,
   "metadata": {},
   "outputs": [
    {
     "ename": "IndentationError",
     "evalue": "unexpected indent (1894495079.py, line 2)",
     "output_type": "error",
     "traceback": [
      "\u001b[0;36m  File \u001b[0;32m\"/var/folders/cj/9s881x057_12d_qyp3jcmb380000gn/T/ipykernel_10605/1894495079.py\"\u001b[0;36m, line \u001b[0;32m2\u001b[0m\n\u001b[0;31m    var = 13\u001b[0m\n\u001b[0m    ^\u001b[0m\n\u001b[0;31mIndentationError\u001b[0m\u001b[0;31m:\u001b[0m unexpected indent\n"
     ]
    }
   ],
   "source": [
    "# FEHLER: Code beginnt nicht zu Anfang einer Zeile\n",
    "   var = 13"
   ]
  },
  {
   "cell_type": "markdown",
   "metadata": {},
   "source": [
    "Python gibt im obigen Beispiel eine Fehlermeldung aus. Diese signalisiert, dass der Python-Code nicht korrekt ist. Hierbei geht es nicht um inhaltliche Fehler, sondern um formale Fehler, d.h. Python kann das Statement nicht verstehen. Der Grund ist in diesem Falle ein `IndentationError`, d.h. ein Fehler wegen fehlerhaften Einrückens von Text. \n",
    "\n",
    "Hinweis: innerhalb eines Statements werden Leerzeichen hingegen ignoriert."
   ]
  },
  {
   "cell_type": "code",
   "execution_count": 76,
   "metadata": {},
   "outputs": [
    {
     "data": {
      "text/plain": [
       "7"
      ]
     },
     "execution_count": 76,
     "metadata": {},
     "output_type": "execute_result"
    }
   ],
   "source": [
    "var = 3         +               4\n",
    "var"
   ]
  },
  {
   "cell_type": "markdown",
   "metadata": {},
   "source": [
    "**Umgang mit langen Statments:** lange Statements können mit \"`()`\" über mehrere Zeilen verbunden werden. Dies bietet sich auch für die Lesbarkeit von Code an. "
   ]
  },
  {
   "cell_type": "code",
   "execution_count": 78,
   "metadata": {},
   "outputs": [
    {
     "data": {
      "text/plain": [
       "1064"
      ]
     },
     "execution_count": 78,
     "metadata": {},
     "output_type": "execute_result"
    }
   ],
   "source": [
    "komplexe_rechnung = (1234\n",
    "                     + 12\n",
    "                     - 13\n",
    "                     * 14\n",
    "                    )\n",
    "komplexe_rechnung"
   ]
  },
  {
   "cell_type": "code",
   "execution_count": 79,
   "metadata": {},
   "outputs": [
    {
     "data": {
      "text/plain": [
       "1064"
      ]
     },
     "execution_count": 79,
     "metadata": {},
     "output_type": "execute_result"
    }
   ],
   "source": [
    "komplexe_rechnung = 1234 + 12 - 13 * 14\n",
    "komplexe_rechnung"
   ]
  },
  {
   "cell_type": "markdown",
   "metadata": {},
   "source": [
    "## Datentypen"
   ]
  },
  {
   "cell_type": "markdown",
   "metadata": {},
   "source": [
    "Jede Variable kann unterschiedliche Datentypen annehmen. In unseren obigen Beispielen haben wir bereits einige kennengelernt. \n",
    "\n",
    "1. Die Variable `zahl` hat den Wert `42` angenommen. `42` ist vom Typ `integer`, d.h. eine Ganzzahl\n",
    "2. Die Variablen `wort` und `satz` sind vom Typ `str`, d.h. ein Text\n",
    "3. Die Variable `KW` ist vom Typ `float`, d.h. eine Dezimalzahl\n",
    "\n",
    "Wir können den Datentyp einer Variable feststellen, in dem wir `type` nutzen. \n",
    "\n",
    "Beispiel:"
   ]
  },
  {
   "cell_type": "code",
   "execution_count": 18,
   "metadata": {},
   "outputs": [
    {
     "data": {
      "text/plain": [
       "int"
      ]
     },
     "execution_count": 18,
     "metadata": {},
     "output_type": "execute_result"
    }
   ],
   "source": [
    "a = 42\n",
    "type(a)"
   ]
  },
  {
   "cell_type": "code",
   "execution_count": 19,
   "metadata": {},
   "outputs": [
    {
     "data": {
      "text/plain": [
       "float"
      ]
     },
     "execution_count": 19,
     "metadata": {},
     "output_type": "execute_result"
    }
   ],
   "source": [
    "a = 42.0 \n",
    "type(a)"
   ]
  },
  {
   "cell_type": "markdown",
   "metadata": {},
   "source": [
    "\n",
    "\n",
    "Für das Programm bzw. den Computer, aber auch für uns als Datenanalyst oder Programmierer, sind Datentypen aus unterschiedlichen Gründen wichtig: \n",
    "\n",
    "**1. Speicherplatz des Datentyps**  \n",
    "\n",
    "Jeder Datentyp benötigt unterschiedlich viel Speicher. So macht es für den Computer einen Unterschied, ob wir `42` oder `42.0` schreiben, da er für diese Variablen unterschiedlich viel Speicherplatz \"freimacht\". Im Rahmen unserer Beispiele ist der Unterschied nicht von Bedeutung. Jedoch kann die Nutzung von Datentypen, die weniger Speicherplatz benötigen sinnvoll sein, wenn wir mit großen Datenmengen umgehen wollen. Im Rahmen dieses Kurses ist das Speicherargument jedoch nicht von großer Bedeutung. \n",
    "\n",
    "**2. Fähigkeiten des Datentyps**  \n",
    "\n",
    "Jeder Datentyp hat unterschiedliche \"Fähigkeiten\".[^3] Wir haben z.B. nicht weiter hinterfragt (bzw. es ist für uns intuitiv und logisch), dass wir die Operation \"`+`\" mit den Datentypen `integer` und `float` nutzen können. Wir kennen das aus der Mathematik, von Excel oder unserem Taschenrechner. In einer Programmiersprache muss diese \"Fähigkeit\" jedoch \"hinterlegt\" sein, d.h. es muss festgelegt sein, dass dies möglich ist. Andersherum können für andere Datentypen jede Art von Fähigkeit hinterlegen - wir werden in den weiteren Kapiteln noch viele dieser Fähigkeiten kennenlernen. \n",
    "\n",
    "[^3]: Sie können die \"hinterlegten Fähigkeiten\" ausgeben lassen (via: `dir(variable)`). Die Ausgabe ist für Programmieranfänger jedoch zunächst eher verwirrend und wenig hilfreich, weshalb wir an dieser Stelle nicht weiter darauf eingehen werden. \n",
    "\n",
    "Beispiel: für uns macht die Operation `\"Text 1\"` + `\"Text 2\"` wenig Sinn. Die Addition von zwei Texten (hier: vom Datentyp `str`) ergibt mathematisch keinen Sinn. Dennoch ist diese Operation in Python ohne Probleme möglich, weil diese - aus verschiedenen Gründen - hinterlegt ist. \n"
   ]
  },
  {
   "cell_type": "code",
   "execution_count": 22,
   "metadata": {},
   "outputs": [
    {
     "data": {
      "text/plain": [
       "'Vorname Nachname'"
      ]
     },
     "execution_count": 22,
     "metadata": {},
     "output_type": "execute_result"
    }
   ],
   "source": [
    "text1 = \"Vorname \"\n",
    "text2 = \"Nachname\"\n",
    "text1 + text2"
   ]
  },
  {
   "cell_type": "markdown",
   "metadata": {},
   "source": [
    "Die Addition von zwei Texten verbindet die beiden Texte zu einem Text.\n",
    "\n",
    "**3. Eignung des Datentyps** \n",
    "\n",
    "Nicht jeder Datentyp ist für jede Fragestellung sinnvoll einsetzbar. So macht es keinen Sinn, dass wir Variablen, die für Berechnungen genutzt werden sollen z.B. als `str` definieren. Hierdurch können sich Fehler in das Programm einschleichen ohne dass wir vor einem Fehler gewarnt werden. \n",
    "\n",
    "Beispiel:"
   ]
  },
  {
   "cell_type": "markdown",
   "metadata": {},
   "source": []
  },
  {
   "cell_type": "code",
   "execution_count": 23,
   "metadata": {},
   "outputs": [
    {
     "data": {
      "text/plain": [
       "'12'"
      ]
     },
     "execution_count": 23,
     "metadata": {},
     "output_type": "execute_result"
    }
   ],
   "source": [
    "zahl1 = \"1\"\n",
    "zahl2 = \"2\"\n",
    "ergebnis = zahl1 + zahl2\n",
    "ergebnis"
   ]
  },
  {
   "cell_type": "markdown",
   "metadata": {},
   "source": [
    "Die Operation ist in Python erlaubt und liefert uns deshalb keinen Fehler. In unserem Fall macht das Ergebnis jedoch keinen Sinn..\n",
    "\n",
    "Wir müssen also darauf achten, dass wir Datentypen nutzen, die für unsere Fragestellung sinnvoll sind. Außerdem müssen wir uns immer fragen, ob die Nutzung von anderen Datentypen unser Programm verbessern.\n",
    "\n",
    "Lassen Sie uns deshalb unser Kapitalwert-Beispiel aufgreifen und andere (neue) Datentypen mit weiteren Fähigkeiten kennenlernen. \n",
    "\n"
   ]
  },
  {
   "cell_type": "markdown",
   "metadata": {},
   "source": [
    "### Listen\n",
    "\n",
    "Der Datentyp `list` (Liste) kann beliebig viele Variablen enhalten und wird mit \"`[ ]`\" erzeugt. Auch wenn eine Liste theoretisch unterschiedliche Datentypen beinhalten kann, wird diese meist eingesetzt, um zusammenhängende Elemente zusammenzufassen (z.B. unsere Cashflows)\n",
    "\n",
    "Beispiel:"
   ]
  },
  {
   "cell_type": "code",
   "execution_count": 67,
   "metadata": {},
   "outputs": [
    {
     "data": {
      "text/plain": [
       "[1, 2, 'a', 'd', 4.5]"
      ]
     },
     "execution_count": 67,
     "metadata": {},
     "output_type": "execute_result"
    }
   ],
   "source": [
    "diverses = [1, 2, \"a\", \"d\", 4.5]\n",
    "diverses"
   ]
  },
  {
   "cell_type": "code",
   "execution_count": 68,
   "metadata": {},
   "outputs": [
    {
     "data": {
      "text/plain": [
       "[1, 14, 3, 11]"
      ]
     },
     "execution_count": 68,
     "metadata": {},
     "output_type": "execute_result"
    }
   ],
   "source": [
    "zahlen = [1,14, 3, 11]\n",
    "zahlen"
   ]
  },
  {
   "cell_type": "markdown",
   "metadata": {},
   "source": [
    "Auf die einzelnen Elemente der Liste (hier: Variable `zahlen`) kann dann mittels eines Index zugegriffen werden:"
   ]
  },
  {
   "cell_type": "code",
   "execution_count": 41,
   "metadata": {},
   "outputs": [
    {
     "data": {
      "text/plain": [
       "1"
      ]
     },
     "execution_count": 41,
     "metadata": {},
     "output_type": "execute_result"
    }
   ],
   "source": [
    "zahl1 = zahlen[0]\n",
    "zahl1"
   ]
  },
  {
   "cell_type": "code",
   "execution_count": 42,
   "metadata": {},
   "outputs": [
    {
     "data": {
      "text/plain": [
       "14"
      ]
     },
     "execution_count": 42,
     "metadata": {},
     "output_type": "execute_result"
    }
   ],
   "source": [
    "zahl2 = zahlen[1] \n",
    "zahl2"
   ]
  },
  {
   "cell_type": "markdown",
   "metadata": {},
   "source": [
    "```{admonition} Index\n",
    ":class: warning\n",
    "Der Index beginnt in Python bei allen Datentypen, die mehrere Elemente beinhalten, immer mit `0`. D.h. das erste Element befindet sich immer an Position `0` und NICHT an Position `1`. \n",
    "```"
   ]
  },
  {
   "cell_type": "markdown",
   "metadata": {},
   "source": [
    "Listen haben verschiedene Fähigkeiten. Viele dieser Fähigkeiten (die Fähigkeiten der Datentypen werden auch (Klassen-)`Methoden` genannt) können sie aufrufen, in dem \"`.`\" drücken. \n",
    "\n",
    "Beispiel: sortieren einer Liste erfolgt via \"`.sort()`\""
   ]
  },
  {
   "cell_type": "code",
   "execution_count": 43,
   "metadata": {},
   "outputs": [
    {
     "data": {
      "text/plain": [
       "[1, 3, 11, 14]"
      ]
     },
     "execution_count": 43,
     "metadata": {},
     "output_type": "execute_result"
    }
   ],
   "source": [
    "zahlen.sort()\n",
    "zahlen"
   ]
  },
  {
   "cell_type": "markdown",
   "metadata": {},
   "source": [
    "In Jupyter Notebooks und in Google Colab können Sie via `tab completion`, d.h. \"`.`\" + `tab` alle dieser Methoden anzeigen lassen. Hinweis: teilweise müssen Sie runterscrollen, um weitere Methoden anzeigen zu lassen. \n",
    "\n",
    "![tab](../assets/liste_tab.png)"
   ]
  },
  {
   "cell_type": "markdown",
   "metadata": {},
   "source": [
    "Wir können unser Beispiel signifikant vereinfachen, in dem wir den Datentyp `list` nutzen, welcher alle unsere Cashflows umfasst. "
   ]
  },
  {
   "cell_type": "code",
   "execution_count": 44,
   "metadata": {},
   "outputs": [
    {
     "data": {
      "text/plain": [
       "1172.9062357760577"
      ]
     },
     "execution_count": 44,
     "metadata": {},
     "output_type": "execute_result"
    }
   ],
   "source": [
    "cash_flows = [-10000, 5000, 4000, 3000]\n",
    "i = 0.04\n",
    "KW = cash_flows[0] + cash_flows[1]/(1+i)**1 + cash_flows[2]/(1+i)**2 + cash_flows[3]/(1+i)**3\n",
    "KW"
   ]
  },
  {
   "cell_type": "markdown",
   "metadata": {},
   "source": [
    "(intro:dicts)=\n",
    "### Dictionary"
   ]
  },
  {
   "cell_type": "markdown",
   "metadata": {},
   "source": [
    "Ein weiterer sehr nützlicher Datentyp in Python ist das sog. Dictionary (`dict`). Dieses können wir uns vorstellen, wie ein tatsächliches Wörterbuch. Wir können hier zu jedem Element ein passendes anderes Element abspeichern. Ein Dictionary wird mit \"`{}`\" erzeugt. Die sogenannten `key:value`-Paare werden dann im Dictionary gespeichert und können von unterschiedlichen Datentypen sein und werden via `[key]` abgerufen. \n",
    "\n",
    "Beispiel:"
   ]
  },
  {
   "cell_type": "code",
   "execution_count": 50,
   "metadata": {},
   "outputs": [],
   "source": [
    "my_first_dict = {\"Begrüßung\": \"Hallo\", \"liste_zahlen\": [1,2,3,4], 2: 4.32}"
   ]
  },
  {
   "cell_type": "markdown",
   "metadata": {},
   "source": [
    "Hinweis: wir können - zur besseren Lesbarkeit - das obige Beispiel auch wiefolgt schreiben. "
   ]
  },
  {
   "cell_type": "code",
   "execution_count": 81,
   "metadata": {},
   "outputs": [
    {
     "data": {
      "text/plain": [
       "{'Begrüßung': 'Hallo', 'liste_zahlen': [1, 2, 3, 4], 2: 4.32}"
      ]
     },
     "execution_count": 81,
     "metadata": {},
     "output_type": "execute_result"
    }
   ],
   "source": [
    "my_first_dict = {\"Begrüßung\": \"Hallo\", \n",
    "                 \"liste_zahlen\": [1,2,3,4], \n",
    "                 2: 4.32}\n",
    "my_first_dict"
   ]
  },
  {
   "cell_type": "code",
   "execution_count": 82,
   "metadata": {},
   "outputs": [
    {
     "data": {
      "text/plain": [
       "'Hallo'"
      ]
     },
     "execution_count": 82,
     "metadata": {},
     "output_type": "execute_result"
    }
   ],
   "source": [
    "my_first_dict[\"Begrüßung\"]"
   ]
  },
  {
   "cell_type": "code",
   "execution_count": 52,
   "metadata": {},
   "outputs": [
    {
     "data": {
      "text/plain": [
       "[1, 2, 3, 4]"
      ]
     },
     "execution_count": 52,
     "metadata": {},
     "output_type": "execute_result"
    }
   ],
   "source": [
    "my_first_dict[\"liste_zahlen\"]"
   ]
  },
  {
   "cell_type": "code",
   "execution_count": 55,
   "metadata": {},
   "outputs": [
    {
     "data": {
      "text/plain": [
       "4.32"
      ]
     },
     "execution_count": 55,
     "metadata": {},
     "output_type": "execute_result"
    }
   ],
   "source": [
    "my_first_dict[2] # Hier ist `2` kein Index, sondern ein sogenannte Schlüssel (engl. `Key``)"
   ]
  },
  {
   "cell_type": "markdown",
   "metadata": {},
   "source": [
    "Auch hier können wir via `tab completion`, d.h. \"`.`\" + `tab` alle Methoden anzeigen lassen.\n",
    "\n",
    "![tab_dict](../assets/tab_dict.png)"
   ]
  },
  {
   "cell_type": "markdown",
   "metadata": {},
   "source": [
    "Dictionaries eignen sich hervorragend, um Parameter und Annahmen zu speichern. Wir können unser Beispiel also weiterfassen und z.B. zwei verschiedene Szenarien rechnen:\n",
    "\n",
    "(code:status:one)="
   ]
  },
  {
   "cell_type": "code",
   "execution_count": 61,
   "metadata": {},
   "outputs": [],
   "source": [
    "# Szenarien und Annahmen\n",
    "cf_szenario = {\"base\": [-10000, 5000, 4000, 3000], \n",
    "            \"high\": [-10000, 6000, 5000, 4000],\n",
    "            \"low\": [-10000, 4000, 3000, 1000],}\n",
    "i = 0.04"
   ]
  },
  {
   "cell_type": "code",
   "execution_count": 62,
   "metadata": {},
   "outputs": [
    {
     "data": {
      "text/plain": [
       "1172.9062357760577"
      ]
     },
     "execution_count": 62,
     "metadata": {},
     "output_type": "execute_result"
    }
   ],
   "source": [
    "cash_flows = cf_szenario[\"base\"]\n",
    "KW = cash_flows[0] + cash_flows[1]/(1+i)**1 + cash_flows[2]/(1+i)**2 + cash_flows[3]/(1+i)**3\n",
    "KW"
   ]
  },
  {
   "cell_type": "code",
   "execution_count": 65,
   "metadata": {},
   "outputs": [
    {
     "data": {
      "text/plain": [
       "3947.9972690031846"
      ]
     },
     "execution_count": 65,
     "metadata": {},
     "output_type": "execute_result"
    }
   ],
   "source": [
    "cash_flows = cf_szenario[\"high\"]\n",
    "KW = cash_flows[0] + cash_flows[1]/(1+i)**1 + cash_flows[2]/(1+i)**2 + cash_flows[3]/(1+i)**3\n",
    "KW"
   ]
  },
  {
   "cell_type": "markdown",
   "metadata": {},
   "source": [
    "## Zusammenfassung und Ausblick\n",
    "\n",
    "Wir haben unsere ersten Zeilen programmiert und dabei unsere Beispielaufgabe Schritt für Schritt verändert und optimiert. Dabei haben wir folgende Dinge gelernt:\n",
    "\n",
    "1. einfache mathematische Operationen können in Python genutzt werden\n",
    "\n",
    "2. es gibt einige wenige Regeln, die wir beachten müssen, um keine \"technischen\" Fehler zu produzieren; insbesonder müssen wir darauf achten, dass wir keine Leerzeichen an den falschen Stellen setzen\n",
    "\n",
    "3. es gibt unterschiedliche Datentypen, die wir für unsere Analysen nutzen können und sollten. Nicht jeder Datentyp ist für jede Art der Problem geignet. Wir haben bisher `int`, `float`, `str`, `list` und `dict` kennengelernt. Bei diesen Datentypen handelt es sich um solche, die bereits standardmäßig in Python integriert sind (sog. `build-in types`[^4]). Wir werden im weiteren Verlauf noch sehr viel mächtigere Datentypen kennenlernen, die wir explizit für die Zwecke der Datenanalyse entwickelt wurden und sehr hilfreiche \"Fähigkeiten\" haben. \n",
    "\n",
    "Im folgenden Kapitel werden wir unser Beispiel weiter optimieren. Denn - so ehrlich müssen wir sein - unsere bisherige Optimierung lässt noch keinen großen Vorteil gegenüber einem Taschenrechner und insbesondere nicht gegenüber Excel erkennen. Auch wenn wir die repetitive Definition von Cashflow-Variablen vermieden haben, ist unsere Berechnung selber noch (i) repetitiv (wir schreiben die Variable `cash_flows` insgesamt 4x auf) und (ii) unflexibel, da unsere gesamte Berechnung weiterhin für jede andere Anzahl an Cashflows neu beschrieben werden müsste. \n",
    "\n",
    "[^4]: siehe [hier](https://docs.python.org/3/library/stdtypes.html) für weitere Informationen zu den `build-in types`. "
   ]
  }
 ],
 "metadata": {
  "hide_input": false,
  "interpreter": {
   "hash": "9c8a4babebe8c1d9e0d056b38c59c6c9a5545619301994faaf0a84ae1d73c3ab"
  },
  "kernelspec": {
   "display_name": "Python [conda env:anaconda3]",
   "language": "python",
   "name": "python3"
  },
  "language_info": {
   "codemirror_mode": {
    "name": "ipython",
    "version": 3
   },
   "file_extension": ".py",
   "mimetype": "text/x-python",
   "name": "python",
   "nbconvert_exporter": "python",
   "pygments_lexer": "ipython3",
   "version": "3.9.7"
  },
  "toc": {
   "base_numbering": 1,
   "nav_menu": {},
   "number_sections": true,
   "sideBar": true,
   "skip_h1_title": false,
   "title_cell": "Table of Contents",
   "title_sidebar": "Contents",
   "toc_cell": false,
   "toc_position": {},
   "toc_section_display": true,
   "toc_window_display": false
  }
 },
 "nbformat": 4,
 "nbformat_minor": 2
}