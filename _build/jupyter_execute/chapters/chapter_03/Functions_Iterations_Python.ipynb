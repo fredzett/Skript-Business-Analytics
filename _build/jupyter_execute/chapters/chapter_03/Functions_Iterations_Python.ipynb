{
 "cells": [
  {
   "cell_type": "markdown",
   "metadata": {
    "slideshow": {
     "slide_type": "slide"
    }
   },
   "source": [
    "# Iterationen und Funktionen"
   ]
  },
  {
   "cell_type": "markdown",
   "metadata": {},
   "source": [
    "Wir haben im [vorherigen Kapitel](../chapter_03/Intro_Python.ipynb) festgestellt, dass der von uns teilweise verbesserte Code immer noch sehr repetitiv ist. Dafür gab es zwei Gründe\n",
    "\n",
    "1. Der Code ist repetitiv, d.h. Wiederholungen von sehr ähnlichen Dingen\n",
    "\n",
    "2. Der Code ist unflexibel, d.h. bei kleinen Veränderungen der Fragestellung bereits unbrauchbar\n",
    "\n",
    "Wir werden in diesem Kapitel zwei wichtige Coding-Konstrukte vorstellen, die uns helfen, den Code weiter zu verbessern und die angesprochenen Probleme des bisherigen Codes zu verbessern. \n",
    "\n",
    "Wir beginnen mit dem Konstrukt der `Funktionen`, bevor wir uns dem Konstrukt der `Iterationen` widmen.\n"
   ]
  },
  {
   "cell_type": "markdown",
   "metadata": {},
   "source": [
    "## Funktionen (build-in)"
   ]
  },
  {
   "cell_type": "markdown",
   "metadata": {},
   "source": [
    "Wir können Funktionen einsetzen, um Teile des Codes wiederverwendbar zu machen bzw. um bereits geschriebenen Code von anderen wiederzuverwenden. Das Konstrukt ist sehr mächtig und wir werden sowohl bereits implementierte Funktionen nutzen, als auch eigene Funktionen schreiben lernen. \n",
    "\n",
    "Lassen Sie uns wieder eine Analogie aus Excel nutzen. Stellen Sie sich vor, wir haben eine Spalte mit vielen Werten und wir wollen wissen, um wieviele Werte es sich handelt, d.h. wir wollen die `Anzahl` an Werten bestimmen. Wir könnten diese Information z.B. benötigen, um einen Durchschnitt zu berechnen. \n",
    "\n",
    "![Zahlen](../assets/RndNumbers.png)"
   ]
  },
  {
   "cell_type": "markdown",
   "metadata": {},
   "source": [
    "Natürlich könnten wir die Anzahl an Werten selber und manuell zählen (es sind 10 Werte). Diese Lösung ist aber wenig sinnvoll, da wir so einen manuellen Schritt in unser \"Programm\" einbauen. Besser wäre es, wenn wir die Anzahl an Werten automatisiert bestimmen. Wir könnten uns über diese eigentlich triviale Aufgabe nun Gedanken machen. Jedoch müssen wir dies nicht, da es für diese spezielle Frage bereits eine Lösung in Excel gibt. Wir können die Funktion `Anzahl()` nutzen, die Excel bzw. Microsoft bereits für den Anwender zur Verfügung gestellt hat. Die Funktion berechnet, wie viele Zellen in einem Bereich Zahlen enthalten. \n",
    "\n",
    "![Werte2](../assets/RndNumbers_Solution.png)\n"
   ]
  },
  {
   "cell_type": "markdown",
   "metadata": {},
   "source": [
    "Ein Großteil der Funktionalität von Excel geht auf die breite Palette an bereits verfügbaren Funktionen zurück. \n",
    "\n",
    "Schauen wir uns nun das Äquivalent in Python an. Wir können die Anzahl an Elementen in z.B. einer Liste über die Funktion `len` ermitteln. \n",
    "\n",
    "**Beispiel**"
   ]
  },
  {
   "cell_type": "code",
   "execution_count": 67,
   "metadata": {},
   "outputs": [
    {
     "data": {
      "text/plain": [
       "7"
      ]
     },
     "execution_count": 67,
     "metadata": {},
     "output_type": "execute_result"
    }
   ],
   "source": [
    "werte = [10, 12, 13, 12, 5, 4, 2] # Liste mit Werten\n",
    "len(werte) # Gibt die Anzahl an Elementen in der Liste \"werte\" zurück"
   ]
  },
  {
   "cell_type": "markdown",
   "metadata": {},
   "source": [
    "Zum Aufrufen einer Funktion benötigen wir in Python \n",
    "\n",
    "- den Namen der Funktion\n",
    "- die benötigten Parameter für die Funktion\n",
    "\n",
    "Der Name der Funktion lautet `len`. Die Funktion wird dann aber erst ausgeführt (bzw. aufgerufen), in dem der Funktion die benötigten Parameter übergeben werden. Bei der Funktion `len` ist dies z.B. eine Liste, deren Anzahl an Elementen bestimmt werden soll. \n",
    "\n",
    "Wenn wir eine bestehende Funktion nutzen wollen, schreiben wir also immer:\n",
    "\n",
    "```\n",
    "<funktionsname>(<parameter>, ...)\n",
    "```\n",
    "\n",
    "Die \"`...`\" stehen hier für weitere Parameter, die ggf. für eine Funktion benötigt werden. Das Vorgehen ist also prinzipiell sehr ähnlich zum Vorgehen bei Excel. "
   ]
  },
  {
   "cell_type": "markdown",
   "metadata": {},
   "source": [
    "```{admonition} Hilfe zu Funktionen\n",
    ":class: tip, dropdown\n",
    "Wir können zu nahezu allen Funktionen Hilfe nachschlagen. \n",
    "\n",
    "Dies machen wir entweder, in dem wir ein \"`?`\" hinter die Funktion schreiben. Wenn Sie z.B. wissen wollen, was die Funktion `len` tut, dann schreiben Sie in eine Code-Zelle `len?` und Ihnen werden Erläuterungen dazu angezeigt.\n",
    "\n",
    "In einem Jupyter Notebook können Sie alternativ auch den Funktionsnamen + \"`()`\" und dann einmal `shift` + `tab` drücken. \n",
    "\n",
    "Darüber hinaus können Sie sich noch die Dokumentation von Funktionen anschauen, die Sie meist online finden werden. \n",
    "```"
   ]
  },
  {
   "cell_type": "markdown",
   "metadata": {},
   "source": [
    "In Python gibt es viele Funktionen, die wir nutzen können, um uns eigenen Programmieraufwand zu sparen. Die vollständige Liste aller sog. build-in Funktionen kann [hier](https://www.w3schools.com/python/python_ref_functions.asp) nachgeschlagen werden. Hierbei handelt es sich jedoch nur um Funktionen, die bereits in Python enthalten sind. Darüber hinaus können wir andere Bibliotheken installieren, um das Spektrum signifikant zu erweitern; dies werden wir in den nächsten Kapiteln auch tun.   "
   ]
  },
  {
   "cell_type": "markdown",
   "metadata": {},
   "source": [
    "(kapitel:iterationen)=\n",
    "## Iterationen"
   ]
  },
  {
   "cell_type": "markdown",
   "metadata": {},
   "source": [
    "Das Wiederholen von identischen oder sehr ähnlichen Code-Ausschnitten ist aufwändig und fehleranfällig und sollte deshalb nicht vom Menschen, sondern vom Computer übernommen werden. \n",
    "\n",
    "Auch an dieser Stelle wollen wir uns wieder einer Analogie aus Excel bedienen. Die Stärke von Excel ist unter anderem dadurch begründet, dass wir Operationen vielfach durchführen können, ohne diese mehrfach sexplizit formuliert zu haben. Wir können stattdessen einmal formulierte Operationen \"nach unten\" oder \"zur Seite ziehen\". Dadurch kann eine Operation automatisch für eine andere Zelle angewandt werden. \n",
    "\n",
    "Hier ein Beispiel in Excel, die eine Formel für viele Zellen anwendet.\n",
    "\n",
    "![xls-for-loop](../assets/xls_for_loop.gif)\n",
    "\n",
    "Das Beispiel zeigt, dass wir dadurch viel manuellen Aufwand, aber auch viele potenzielle Fehlerquellen vermeiden. \n",
    "\n",
    "Auch viele Programmiersprachen haben deshalb Konstrukte, um diese Wiederholungen zu vermeiden. Wir werden uns nun zwei Konstrukten in Python widmen:\n",
    "\n",
    "1. For-Loops\n",
    "   \n",
    "2. List comprehensions\n"
   ]
  },
  {
   "cell_type": "markdown",
   "metadata": {},
   "source": [
    "### For-Loops"
   ]
  },
  {
   "cell_type": "markdown",
   "metadata": {},
   "source": [
    "Mit einer `For-Loop` können wir (iterierbare) Datentypen durchlaufen. Schauen wir uns ein Beispiel an, um zu verdeutlichen, was damit gemeint ist. \n",
    "\n",
    "**Beispiel**"
   ]
  },
  {
   "cell_type": "code",
   "execution_count": 68,
   "metadata": {},
   "outputs": [
    {
     "name": "stdout",
     "output_type": "stream",
     "text": [
      "Hallo Julia\n",
      "Hallo Aishe\n",
      "Hallo Fred\n",
      "Hallo John\n"
     ]
    }
   ],
   "source": [
    "liste_namen = [\"Julia\", \"Aishe\", \"Fred\", \"John\"]\n",
    "for name in liste_namen:\n",
    "    print(\"Hallo\", name)"
   ]
  },
  {
   "cell_type": "markdown",
   "metadata": {},
   "source": [
    "Das Äquivalent in Excel würde wie folgt aussehen:\n",
    "\n",
    "![xls-for-loop2](../assets/xls_for_loop2.gif)"
   ]
  },
  {
   "cell_type": "markdown",
   "metadata": {},
   "source": [
    "Im obigen Python-Beispiel definieren wir eine Variabel `liste_namen`. Diese ist vom Datentyp `list`. Listen sind in Python immer iterierbar, d.h. wir können diese mittels einer `for-loop` durchlaufen. Wir tun dies in dem wir schreiben \n",
    "\n",
    "`for <name> in <liste_name>:`\n",
    "\n",
    "Dies zeigt Python an, dass wir die Liste `liste_namen` durchlaufen wollen und für jedes Element - wir bezeichnen es hier als `name` - etwas tun möchten. Unter dieser Definition schreiben wir dann - eingerückt mit `4 Leerzeichen` bzw. `tab` - , was wir konkret tun möchten. In unserem Falle wollen wir nur etwas ausgeben lassen. Hierfür nutzen wir eine der build-in Funktionen (`print`). Wenn wir Zwischenergebnisse innerhalb einer `for-loop` nicht in Variabeln \"abspeichern\", sondern nur anzeigen lassen wollen, müssen wir immer die (build-in) Funktion `print` nutzen.  "
   ]
  },
  {
   "cell_type": "markdown",
   "metadata": {},
   "source": [
    "Jede For-Schleife in Python hat also immer die folgende grundsätzliche Strukur:\n",
    "\n",
    "    >>> for <element> in <objekt>:\n",
    "            mach irgendetwas\n",
    "        \n",
    "Hierbei muss `objekt` iterierbar sein. `element` können wir uns als eine Art Platzhalter für das jeweilige Element vorstellen. Wir können hier auch jeden anderen Namen wählen. Wir sollten uns jedoch angewöhnen sinnvolle und beschreibende Namen zu wählen. "
   ]
  },
  {
   "cell_type": "markdown",
   "metadata": {},
   "source": [
    "Lassen Sie uns unser neu gewonnenes Wissen kombinieren und folgende Aufgabe in Python lösen. \n",
    "\n",
    "**Aufgabe:**  \n",
    "Wir haben eine Liste mit Namen und wollen bestimmen, wieviel Buchstaben jeder Name hat. \n",
    "\n",
    "**Lösung**  \n",
    "Wir können dafür die Liste der Namen durchlaufen und für jedes Element der Liste, die Länge des Namen mit der Funktion `len` bestimmen. "
   ]
  },
  {
   "cell_type": "code",
   "execution_count": 69,
   "metadata": {},
   "outputs": [
    {
     "name": "stdout",
     "output_type": "stream",
     "text": [
      "Julia 5\n",
      "Aishe 5\n",
      "Fred 4\n",
      "Schwerthelm 11\n",
      "John 4\n",
      "Manuela 7\n"
     ]
    }
   ],
   "source": [
    "namen = [\"Julia\", \"Aishe\", \"Fred\", \"Schwerthelm\", \"John\", \"Manuela\"]\n",
    "\n",
    "for name in namen:\n",
    "    n_buchstaben = len(name) # Bestimme Anzahl an Element in Namen\n",
    "    print(name, n_buchstaben) # Gib Anzahl aus"
   ]
  },
  {
   "cell_type": "markdown",
   "metadata": {},
   "source": [
    "Alternativ könnten wir die Länge der Buchstaben auch in einer neuen Liste speichern - dies ist immer dann sinnvoll, wenn wir die Zwischenergebnisse später in unserem Code noch benötigen. \n",
    "\n",
    "**Beispiel**  \n",
    "Wir erstellen dafür eine leere Liste (\"`[]`\"), die wir dann mit jeder Iteration mit der Anzahl an Buchstaben befüllen. Dafür benutzen wir die \"Funktion\" `.append`, die der Datentyp `list` bereitstellt. "
   ]
  },
  {
   "cell_type": "code",
   "execution_count": 70,
   "metadata": {},
   "outputs": [
    {
     "data": {
      "text/plain": [
       "[5, 5, 4, 11, 4, 7]"
      ]
     },
     "execution_count": 70,
     "metadata": {},
     "output_type": "execute_result"
    }
   ],
   "source": [
    "namen = [\"Julia\", \"Aishe\", \"Fred\", \"Schwerthelm\", \"John\", \"Manuela\"]\n",
    "anzahl_buchstaben = [] # Leere Liste\n",
    "for name in namen:\n",
    "    n_buchstaben = len(name) # Bestimme Anzahl an Element in Namen\n",
    "    anzahl_buchstaben.append(n_buchstaben) # \n",
    "\n",
    "# Ausgabe der neuen Liste\n",
    "anzahl_buchstaben"
   ]
  },
  {
   "cell_type": "markdown",
   "metadata": {},
   "source": [
    "\n",
    "\n",
    "````{admonition} enumerate\n",
    ":class: tip\n",
    "Wir können mittels der (build-in) Funktion `enumerate` zusätzlich zum einzelnen Element der Liste auch die Position des Elements in der Liste ausgeben lassen. Wir generieren dadurch eine Art Zähler.\n",
    "\n",
    "```{code} Python\n",
    "zahlen = [12, 14, 230]\n",
    "for i, zahl in enumerate(zahlen):\n",
    "    print(i, zahl)\n",
    ">>> 0 12\n",
    ">>> 1 14\n",
    ">>> 2 230\n",
    "```\n",
    "\n",
    "````"
   ]
  },
  {
   "cell_type": "markdown",
   "metadata": {},
   "source": [
    "### List comprehension"
   ]
  },
  {
   "cell_type": "markdown",
   "metadata": {},
   "source": [
    "Eine Besonderheit in Python sind die sog. `list comprehensions`. Mit diesen können die Ergebnisse einer `for-loop` direkt in einer neuen Liste abgespeichert werden.[^1]\n",
    "\n",
    "Wir können das obige Beispiel mit dem Konstrukt der `list comprehension` einfacher und kompakter darstellen. \n",
    "\n",
    "[^1]: Hinweis: wir können innerhalb der `list comprehension` auch noch mehr machen. Dies werden wir in den nächsten Kapiteln noch sehen. "
   ]
  },
  {
   "cell_type": "code",
   "execution_count": 71,
   "metadata": {},
   "outputs": [
    {
     "data": {
      "text/plain": [
       "[5, 5, 4, 11, 4, 7]"
      ]
     },
     "execution_count": 71,
     "metadata": {},
     "output_type": "execute_result"
    }
   ],
   "source": [
    "namen = [\"Julia\", \"Aishe\", \"Fred\", \"Schwerthelm\", \"John\", \"Manuela\"]\n",
    "anzahl_buchstaben = [len(name) for name in namen]\n",
    "\n",
    "# Ausgabe der neuen Liste\n",
    "anzahl_buchstaben"
   ]
  },
  {
   "cell_type": "markdown",
   "metadata": {},
   "source": [
    "```\n",
    ">>> [mach irgendetwas for <element> in <objekt>]\n",
    "```"
   ]
  },
  {
   "cell_type": "markdown",
   "metadata": {},
   "source": [
    "In Python werden - wenn möglich - typischerweise `list comprehension` bevorzugt, da dies den Code insgesamt übersichtlicher und lesbarer macht. "
   ]
  },
  {
   "cell_type": "markdown",
   "metadata": {},
   "source": [
    "## Nützliche Funktionen"
   ]
  },
  {
   "cell_type": "markdown",
   "metadata": {},
   "source": [
    "An dieser Stelle wollen wir einige ausgewählte Funktionen vorstellen, von denen wir glauben, dass sie gerade zu Anfang besonders nützlich sind. Wir werden jeweils kurz darauf eingehen, weshalb diese nützlich sind."
   ]
  },
  {
   "cell_type": "markdown",
   "metadata": {},
   "source": [
    "**`print`**\n",
    "\n",
    "Die Funktion akzeptiert eine beliebige Anzahl an Parametern und gibt diese in Form von Text aus. Die Funktion ist sehr nützlich, da wir z.B. auch Zwischenergebnisse innerhalb einer Code-Zelle anzeigen lassen können. \n",
    "\n",
    "Beispiel:"
   ]
  },
  {
   "cell_type": "code",
   "execution_count": null,
   "metadata": {},
   "outputs": [
    {
     "name": "stdout",
     "output_type": "stream",
     "text": [
      "b = 7\n"
     ]
    },
    {
     "data": {
      "text/plain": [
       "10"
      ]
     },
     "metadata": {},
     "output_type": "display_data"
    }
   ],
   "source": [
    "a = 3\n",
    "b = 4 + a\n",
    "print(\"b =\", b)\n",
    "c = a + b\n",
    "c"
   ]
  },
  {
   "cell_type": "markdown",
   "metadata": {},
   "source": [
    "**`len`**\n",
    "\n",
    "Die Funktion gibt die Länge einer Liste (und vieler anderer Datentypen) an. Wir benötigen diese Funktion sehr häufig, da wir die Information, wie viele Elemente ein Objekt hat sehr häufig benötigen. \n",
    "\n",
    "Beispiel:"
   ]
  },
  {
   "cell_type": "code",
   "execution_count": null,
   "metadata": {},
   "outputs": [
    {
     "data": {
      "text/plain": [
       "(3, 25)"
      ]
     },
     "metadata": {},
     "output_type": "display_data"
    }
   ],
   "source": [
    "a = [1,2,3]\n",
    "b = \"Dies ist ein langer Satz!\"\n",
    "len(a), len(b)"
   ]
  },
  {
   "cell_type": "markdown",
   "metadata": {},
   "source": [
    "(beispiel:range)=\n",
    "\n",
    "**`range`**\n",
    "\n",
    "Die Funktion gibt eine Zahlensequenz zurück, die standardmäßig bei `0` beginnt, sich um jeweils `1` erhöht und bei einer angegebenen Zahl endet.\n",
    "\n",
    "Nun fragen Sie sich vielleicht, weshalb Sie eine solche Funktion benötigen. Diese Frage ist natürlich abhängig vom spezifischen Kontext bzw. Problem, welches Sie programmieren. Jedoch gibt es z.B. in Excel einen Anwendungsfall, auf denen viele von Ihnen schon mal gestoßen sind: Sie wollen z.B. einen Index erstellen. In Excel wird dies z.B. oft wie dargestellt gemacht.\n",
    "\n",
    "![rangeExcel](../assets/nparange_xls.gif)\n",
    "\n",
    "In Python können Sie dies mit der Funktion `range` erreichen. "
   ]
  },
  {
   "cell_type": "code",
   "execution_count": 22,
   "metadata": {},
   "outputs": [
    {
     "data": {
      "text/plain": [
       "(range(0, 12), [0, 1, 2, 3, 4, 5, 6, 7, 8, 9, 10, 11])"
      ]
     },
     "execution_count": 22,
     "metadata": {},
     "output_type": "execute_result"
    }
   ],
   "source": [
    "werte = [22,31, 2, 1, 1, 23, 1, 2, 234, 31, 3, 123]\n",
    "n = len(werte)\n",
    "index = range(n)\n",
    "index, list(index)"
   ]
  },
  {
   "cell_type": "markdown",
   "metadata": {},
   "source": [
    "Der Startpunkt, der Zählschritt sowie der Endpunkt können dabei jedoch auch explizit vorgegeben und so geändert werden. Im unteren Beispiel startet die Zahlensequenz bei 10, erhöht sich mit jedem Schritt um 2 und endet bei 19 (d.h. der gewählte Endpunkt ist nicht mit enthalten)."
   ]
  },
  {
   "cell_type": "code",
   "execution_count": 20,
   "metadata": {},
   "outputs": [
    {
     "data": {
      "text/plain": [
       "[10, 12, 14, 16, 18]"
      ]
     },
     "execution_count": 20,
     "metadata": {},
     "output_type": "execute_result"
    }
   ],
   "source": [
    "x = range(10, 20, 2)\n",
    "[el for el in x]"
   ]
  },
  {
   "cell_type": "markdown",
   "metadata": {},
   "source": [
    "**`enumerate`**\n",
    "\n",
    "Die Funktion fügt einem iterierbaren Objekt einen Zähler hinzu. Wir können diese Funktion immer dann nutzen, wenn wir einer For-Loop einen Zählern hinzufügen möchten. \n",
    "\n",
    "Beispiel:"
   ]
  },
  {
   "cell_type": "code",
   "execution_count": 14,
   "metadata": {},
   "outputs": [
    {
     "name": "stdout",
     "output_type": "stream",
     "text": [
      "0 Horst\n",
      "1 Igor\n",
      "2 Gerd\n",
      "3 Hannelore\n"
     ]
    }
   ],
   "source": [
    "namen = [\"Horst\", \"Igor\", \"Gerd\", \"Hannelore\"]\n",
    "for i, name in enumerate(namen):\n",
    "    print(i, name)"
   ]
  },
  {
   "cell_type": "markdown",
   "metadata": {},
   "source": [
    "**`zip`**\n",
    "\n",
    "Mit der Funktion kann ich zwei (oder mehr) iterierbare Datentypen (siehe [Sektion Iterationen](kapitel:iterationen)) parallel iterieren.  Dieses Konstrukt wird häufig in List-Comprehensions bzw. For-Loops genutzt. \n",
    "\n",
    "Beispiel:"
   ]
  },
  {
   "cell_type": "code",
   "execution_count": null,
   "metadata": {},
   "outputs": [
    {
     "data": {
      "text/plain": [
       "[4, 6, 8, 10, 12]"
      ]
     },
     "metadata": {},
     "output_type": "display_data"
    }
   ],
   "source": [
    "liste1 = [1,2,3,4,5]\n",
    "liste2 = [3,4,5,6,7]\n",
    "[a + b for a, b in zip(liste1, liste2)]"
   ]
  },
  {
   "cell_type": "markdown",
   "metadata": {},
   "source": [
    "## Optimierung des Beispiels"
   ]
  },
  {
   "cell_type": "markdown",
   "metadata": {},
   "source": [
    "Wir haben nun das nötige Wissen, um unser Ausgangsbeispiel signifikant zu optimieren. Schauen wir uns dafür nochmal einen Ausschnitt unseres Codes an. "
   ]
  },
  {
   "cell_type": "code",
   "execution_count": 72,
   "metadata": {},
   "outputs": [
    {
     "data": {
      "text/plain": [
       "1172.9062357760577"
      ]
     },
     "execution_count": 72,
     "metadata": {},
     "output_type": "execute_result"
    }
   ],
   "source": [
    "# Annahmen im Base Case\n",
    "i = 0.04\n",
    "cash_flows = [-10000, 5000, 4000, 3000] \n",
    "\n",
    "KW = cash_flows[0] + cash_flows[1]/(1+i)**1 + cash_flows[2]/(1+i)**2 + cash_flows[3]/(1+i)**3\n",
    "KW"
   ]
  },
  {
   "cell_type": "markdown",
   "metadata": {},
   "source": [
    "Wie können wir den Code nun optimieren? Schauen wir uns den Code genauer an, dann stellen wir fest, dass \n",
    "\n",
    "1. wir die Berechnung einzelnen Barwerte insgesamt 4 Mal wiederholen, d.h. wir schreiben zu jedem Zeitpunkt $\\frac{CF_t}{(1+i)^t}.\n",
    "\n",
    "2. wir summieren die berechneten Barwerte auf, in dem wir jeweils \"`+`\" schreiben. \n",
    "\n",
    "Wir können den Code nun verbessern, in dem wir für die Berechnung der einzelnen Barwerte eine `for-loop` bzw. eine `list comprehension` nutzen. Dadurch vermeiden wir repetitiven Code. Die Addition der einzelnen Barwerte können wir dann über die Funktion `sum` durchführen. Dadurch machen wir unseren Code flexibler z.B. für den Fall, wenn ein Projekt weniger oder mehr Cashflows beinhaltet. \n",
    "\n",
    "Hier der Code in zwei einzelnen Schritten\n",
    "\n",
    "1. Berechnung der Barwerte\n",
    "\n",
    "2. Summierung der Barwerte\n",
    "\n",
    "\n"
   ]
  },
  {
   "cell_type": "code",
   "execution_count": 73,
   "metadata": {},
   "outputs": [],
   "source": [
    "# Annahmen im Base Case\n",
    "i = 0.04\n",
    "cash_flows = [-10000, 5000, 4000, 3000] \n"
   ]
  },
  {
   "cell_type": "code",
   "execution_count": 74,
   "metadata": {},
   "outputs": [
    {
     "data": {
      "text/plain": [
       "1172.9062357760577"
      ]
     },
     "execution_count": 74,
     "metadata": {},
     "output_type": "execute_result"
    }
   ],
   "source": [
    "\n",
    "# Berechnung der Barwerte und speichern in neuer Liste\n",
    "barwerte = [cf/(1+i)**t for t, cf in enumerate(cash_flows)]\n",
    "\n",
    "# Berechnung der Summe der Barwerte\n",
    "KW = sum(barwerte)\n",
    "KW"
   ]
  },
  {
   "cell_type": "markdown",
   "metadata": {},
   "source": [
    "Wir können sogar noch einen Schritt weitergehen und beide Berechnung zusammenführen."
   ]
  },
  {
   "cell_type": "code",
   "execution_count": 75,
   "metadata": {},
   "outputs": [
    {
     "data": {
      "text/plain": [
       "1172.9062357760577"
      ]
     },
     "execution_count": 75,
     "metadata": {},
     "output_type": "execute_result"
    }
   ],
   "source": [
    "KW = sum([cf/(1+i)**t for t, cf in enumerate(cash_flows)])\n",
    "KW"
   ]
  },
  {
   "cell_type": "markdown",
   "metadata": {},
   "source": [
    "Die optimierte Lösung ist sehr viel kompakter und funktioniert auch für jede beliebige andere Anzahl an Cashflows, d.h. wir haben einen Lösungsansatz gefunden, der für eine beliebige Anzahl an Cash Flows und einen anzugebenden Zinssatz den Kapitalwert berechnet. "
   ]
  },
  {
   "cell_type": "markdown",
   "metadata": {},
   "source": [
    "## Definition von eigenen Funktionen"
   ]
  },
  {
   "cell_type": "markdown",
   "metadata": {},
   "source": [
    "Wir haben uns bereits einige Funktionen angeschaut, die von Python bereitgestellt werden. Lassen Sie uns nun damit beschäftigen, wie wir eigene Funktionen schreiben. Bevor wir dies tun wollen wir jedoch kurz darauf eingehen, weshalb dies sinnvoll ist. Aus unserer Sicht gibt es zwei gute Gründe, weshalb wir eigene Funktionen schreiben sollten. Zum einen macht dies den Code lesbarer und zum anderen führt dies zu weniger repetitivem und damit kompakteren Code. \n",
    "\n",
    "\n",
    "[HINWEIS: WARUM REITEN WIR AUF LESBARKEIT VON CODE RUM -> unser zukunftiges Ich wird Code oft nicht mehr verstehen und kann diesen deshalb nicht anpassen]\n",
    "\n",
    "\n",
    "Nehmen wir unser Beispiel der Bewertung eines Projektes. Stellen wir uns vor, dass wir nun für alle drei Szenarien den Kapitalwert ermitteln wollen.[^2]  \n",
    "\n",
    "[^2]: an dieser Stelle der Hinweis, dass sich hierfür Excel vermutlich besser eignet, wir dieses Beispiel aus didaktischen Gründen aber fortführen werden. \n",
    "\n",
    "Der Code dafür könnte wie folgt aussehen:\n"
   ]
  },
  {
   "cell_type": "code",
   "execution_count": 12,
   "metadata": {},
   "outputs": [],
   "source": [
    "# Annahmen \n",
    "i = 0.04\n",
    "cf_szenario = {\"base\": [-10000, 5000, 4000, 3000], \n",
    "            \"high\": [-10000, 6000, 5000, 4000],\n",
    "            \"low\": [-10000, 4000, 3000, 1000],}\n",
    "\n",
    "# Kapitalwert Szenario 1\n",
    "cash_flows = cf_szenario[\"base\"]\n",
    "KW_base = sum([cf/(1+i)**t for t, cf in enumerate(cash_flows)])\n",
    "\n",
    "# Kapitalwert Szenario 2\n",
    "cash_flows = cf_szenario[\"high\"]\n",
    "KW_high = sum([cf/(1+i)**t for t, cf in enumerate(cash_flows)])\n",
    "\n",
    "\n",
    "# Kapitalwert Szenario 3\n",
    "cash_flows = cf_szenario[\"low\"]\n",
    "KW_low = sum([cf/(1+i)**t for t, cf in enumerate(cash_flows)])"
   ]
  },
  {
   "cell_type": "markdown",
   "metadata": {},
   "source": [
    "Wir stellen fest, dass der Code wieder sehr repetitiv ist. Wir könnten die jeweiligen Berechnungen deshalb z.B. in eine `for-loop` verlagen. Das sähe dann so aus:\n",
    "\n",
    "(code:long)="
   ]
  },
  {
   "cell_type": "code",
   "execution_count": 77,
   "metadata": {},
   "outputs": [
    {
     "data": {
      "text/plain": [
       "[1172.9062357760577, 3947.9972690031846, -2491.1811561219856]"
      ]
     },
     "execution_count": 77,
     "metadata": {},
     "output_type": "execute_result"
    }
   ],
   "source": [
    "szenarien = [\"base\", \"high\", \"low\"]\n",
    "ergebnisse = []\n",
    "\n",
    "for szenario in szenarien:\n",
    "    cash_flows = cf_szenario[szenario]\n",
    "    KW = sum([cf/(1+i)**t for t, cf in enumerate(cash_flows)])\n",
    "    ergebnisse.append(KW)\n",
    "\n",
    "ergebnisse"
   ]
  },
  {
   "cell_type": "markdown",
   "metadata": {},
   "source": [
    "Der Code sieht schon kompakter aus. Was aber, wenn wir weitere Projekte bewerten wollen? Wir müssten diesen Code mehrmals nutzen, um die jeweiligen Projekte zu bewerten. Genau für ein solches Szenario bietet sich an, die Funktionalität des Codes in eine eigene Funktion auszulagern. Wir müssten dann immer nur die Funktion aufrufen und nicht die vielen Zeilen Code wiederholen. \n",
    "\n",
    "Schauen wir uns an, wie wir Funktionen in Python schreiben. In Python ist jede Funktion wie folgt aufgebaut:\n",
    "```\n",
    ">>> def funcname(parameter, ...):\n",
    "        mach irgendetwas\n",
    "        return ergebnis\n",
    "```\n",
    "\n",
    "Jede Funktion beginnt mit dem Wort \"`def`\" und einem Namen für die Funktion. Diesen können wir frei wählen. Der Name sollte beschreiben, was die Funktion tut. Darüber hinaus geben wir an, welche Informationen bzw. welche `parameter` die Funktion benötigt. Im inneren der Funktion definieren wir dann, was die Funktion tut. Das Ergebnis der Funktion wird dann via `return` ausgegeben. \n",
    "\n",
    "Sobald eine Funktion definiert ist, kann diese überall im Programm genutzt werden, indem diese über \"`()`\" aufgerufen wird. \n",
    "\n",
    "Schauen wir uns **zwei einfache Beispiele** an:"
   ]
  },
  {
   "cell_type": "code",
   "execution_count": 78,
   "metadata": {},
   "outputs": [
    {
     "data": {
      "text/plain": [
       "'Herzlich Willkommen!'"
      ]
     },
     "execution_count": 78,
     "metadata": {},
     "output_type": "execute_result"
    }
   ],
   "source": [
    "# Definition der Funktion \"begrüßung\", diese hat benötigt keinen Parameter\n",
    "def begrüßung():\n",
    "    return \"Herzlich Willkommen!\"\n",
    "\n",
    "begrüßung()"
   ]
  },
  {
   "cell_type": "code",
   "execution_count": 79,
   "metadata": {},
   "outputs": [
    {
     "data": {
      "text/plain": [
       "58"
      ]
     },
     "execution_count": 79,
     "metadata": {},
     "output_type": "execute_result"
    }
   ],
   "source": [
    "# Definition der Funktion \"addition\"; diese benötigt zwei Parameter\n",
    "def addition(zahl1, zahl2):\n",
    "    summe = zahl1 + zahl2\n",
    "    return summe\n",
    "\n",
    "# Ausführen der Funktion \"addition\"\n",
    "addition(3,55)"
   ]
  },
  {
   "cell_type": "markdown",
   "metadata": {},
   "source": [
    "Es ist sehr einfach, in Python eigene Funktionen zu definieren. Wir sollten deshalb auch - wenn es sinnvoll erscheint - davon gebrauch machen. Schauen wir uns an, wie wir die Kapitalwertberechnung in eine Funktion \"auslagern\" können. \n",
    "\n",
    "Wir müssen uns Gedanken machen zu verschiedenen Dingen:\n",
    "\n",
    "1. Wie soll die Funktion heißen (Funktionsname)\n",
    "2. Welche Informationen benötigt die Funktion (Funktionsparameter)\n",
    "3. Welche Berechnungen soll die Funktion im inneren Durchführen (Funktionsinhalt)\n",
    "4. Was soll die Funktion ausgeben (Funktionsoutput)\n",
    "\n",
    "Für 1.: sollten wir einen Namen wählen, der beschreibt, was die Funktion macht. Wir wählen also z.B. `berechne_kapitalwert`. An dieser Stelle der Hinweis, dass es sehr üblich ist in englischer Sprache zu coden, d.h. für Variabeln und Funktionen englische Begriffe zu wählen. \n",
    "\n",
    "Für 2.: wir benötigen Cash Flows und Zinssatz, um die Berechnungen durchzuführen. \n",
    "\n",
    "Für 3: den Code zur Berechnung des Kapitalwertes haben wir bereits geschrieben. Dies ist auch ein sehr übliches Vorgehen. Wir schreiben Code, probieren aus etc. Sobald wir merken, dass der Code funktioniert und ausgelagert werden könnte, beginnen wir diesen in Funktionen auszulagern. \n",
    "\n",
    "Für 4: die Funktion sollten den Kapitalwert als Ergebnis ausgeben.\n",
    "\n",
    "Der Code für unsere erste eigene Funktion könnnte also z.B. so aussehen:"
   ]
  },
  {
   "cell_type": "code",
   "execution_count": 80,
   "metadata": {},
   "outputs": [],
   "source": [
    "def berechne_kapitalwert(cashflows, zins):\n",
    "    KW = sum([cf/(1+zins)**t for t, cf in enumerate(cashflows)])\n",
    "    return KW"
   ]
  },
  {
   "cell_type": "markdown",
   "metadata": {},
   "source": [
    "Wir können unsere Funktion nun testen, in dem wir für `cashflows` und `zins` Werte einsetzen und die Funktion aufrufen. Wir können dies auf verschiedene Weise machen. Hier ein paar Beispiele, die funktionieren."
   ]
  },
  {
   "cell_type": "markdown",
   "metadata": {},
   "source": [
    "**Beispiel 1: ohne vorherige Definition der Input-Variablen**"
   ]
  },
  {
   "cell_type": "code",
   "execution_count": 81,
   "metadata": {},
   "outputs": [
    {
     "data": {
      "text/plain": [
       "-31.952662721893496"
      ]
     },
     "execution_count": 81,
     "metadata": {},
     "output_type": "execute_result"
    }
   ],
   "source": [
    "berechne_kapitalwert([-100, 50,50], 0.3)"
   ]
  },
  {
   "cell_type": "markdown",
   "metadata": {},
   "source": [
    "**Beispiel 2: mit vorherige Definition der Input-Variablen**\n",
    "\n",
    "Wichtig: die Namen der Variablen müssen nicht mit den Parameternamen übereinstimmen"
   ]
  },
  {
   "cell_type": "code",
   "execution_count": 82,
   "metadata": {},
   "outputs": [
    {
     "data": {
      "text/plain": [
       "-31.952662721893496"
      ]
     },
     "execution_count": 82,
     "metadata": {},
     "output_type": "execute_result"
    }
   ],
   "source": [
    "cash = [-100, 50, 50]\n",
    "r = 0.3\n",
    "berechne_kapitalwert(cash, r)"
   ]
  },
  {
   "cell_type": "markdown",
   "metadata": {},
   "source": [
    "**Beispiel 3: mit Nennung der Parameter**\n",
    "\n",
    "In den vorherigen Beispielen haben wir die Parameternamen nicht genannt, sondern unsere Daten nur in korrekter Reihenfolge eingegeben: 1. cashflows, 2. zins. \n",
    "\n",
    "Wir können jedoch alternativ auch die Parameternamen angeben (sog. Keyword Argument). "
   ]
  },
  {
   "cell_type": "code",
   "execution_count": 83,
   "metadata": {},
   "outputs": [
    {
     "data": {
      "text/plain": [
       "-31.952662721893496"
      ]
     },
     "execution_count": 83,
     "metadata": {},
     "output_type": "execute_result"
    }
   ],
   "source": [
    "cash = [-100, 50, 50]\n",
    "r = 0.3\n",
    "berechne_kapitalwert(cashflows=cash, zins=r)"
   ]
  },
  {
   "cell_type": "markdown",
   "metadata": {},
   "source": [
    "Bei diesem Vorgehen ist die Reihenfolger der Parameter dann unerheblich."
   ]
  },
  {
   "cell_type": "code",
   "execution_count": 85,
   "metadata": {},
   "outputs": [
    {
     "data": {
      "text/plain": [
       "-31.952662721893496"
      ]
     },
     "execution_count": 85,
     "metadata": {},
     "output_type": "execute_result"
    }
   ],
   "source": [
    "berechne_kapitalwert(zins=r, cashflows=cash)"
   ]
  },
  {
   "cell_type": "markdown",
   "metadata": {},
   "source": [
    "Schauen wir uns nun an, was der Vorteil der Auslagerung von Code-Teilen in Funktionen konkret ist. Wir werden dazu unsere drei Szenarien (siehe [hier](code:long)) "
   ]
  },
  {
   "cell_type": "code",
   "execution_count": 87,
   "metadata": {},
   "outputs": [
    {
     "data": {
      "text/plain": [
       "[1172.9062357760577, 3947.9972690031846, -2491.1811561219856]"
      ]
     },
     "execution_count": 87,
     "metadata": {},
     "output_type": "execute_result"
    }
   ],
   "source": [
    "szenarien = [\"base\", \"high\", \"low\"]\n",
    "ergebnisse = [berechne_kapitalwert(cf_szenario[szenario], i ) for szenario in szenarien]\n",
    "ergebnisse"
   ]
  },
  {
   "cell_type": "markdown",
   "metadata": {},
   "source": [
    "Der Code ist wesentlich kompakter, weil wir das Kernstück - die Berechnung des Kapitalwertes - ausgelagert haben in eine Funktion. Auch ist der Code viel einfacher zu lesen. Wir sehen auf den ersten Blick, dass wr für verschiedene Szenarien die Funktion `berechne_kapitalwert` aufrufen. Was diese tut ist durch den gewählten Namen der Funktion fast intuitiv klar. "
   ]
  },
  {
   "cell_type": "markdown",
   "metadata": {},
   "source": [
    "````{admonition} Iterieren von Dictionaries\n",
    ":class: tip, dropdown\n",
    "Alternativ könnten wir das `dictionary` mit den Cashflow-Szenarien auch direkt in der `list comprehension` ansprechen. Dies ist möglich, weil ein `dictionary` wie eine Liste auch iterierbar ist. So können wir die drei Schlüssel (`key`) via `dict.keys()` und die Werte via `dict.values()` abrufen. Ersteres würde die Schlüssel \"`base`\", \"`high`\" und \"`low`\" liefern. Letzteres die entsprechenden Cashflows zu den Szenarien, d.h. \"`[-10000, 5000, 4000, 3000]`\", \"`[-10000, 6000, 5000, 4000]`\" und \"`[-10000, 4000, 3000, 1000]`\".\n",
    "\n",
    "```{code} python\n",
    "ergebnisse = [berechne_kapitalwert(cash, i ) for cash in cf_szenario.values()]\n",
    "```\n",
    "\n",
    "````"
   ]
  },
  {
   "cell_type": "markdown",
   "metadata": {},
   "source": [
    "## Zusammenfassung und Ausblick"
   ]
  },
  {
   "cell_type": "markdown",
   "metadata": {},
   "source": [
    "Wir haben unser Eingangsbeispiel signifikant verbessert, in dem wir uns zwei wichtige Konstrukte der Programmierung bzw. in Python angeschaut haben. \n",
    "\n",
    "1. Funktionen: sind eine sinnvolle Möglichkeit um wiederkehrenden Code auszulagern und wiederverwendbar zu machen. Wir können sowohl bereits existierende Funktionen nutzen, die andere für uns zur Verfügung stellen, als auch eigene Funktionen definieren. \n",
    "\n",
    "2. Iterationen: wir haben das Konstrukt der `for-loops` und der `list comprehension` kennengelernt. Wir sollten dieses Konstrukt immer dann anwenden, wenn wir Code repetitiv anwenden. \n",
    "\n",
    "Mit dem bisher vorgestellten Konstrukten können Sie bereits sehr mächtige Programme schreiben. Natürlich bedarf es einem gewissen Maß an Übung, um die Syntax zu lernen, aber auch um die Anwendungsfälle zu identifizieren. Gehen Sie deshalb die Übungen dieses Kapitels sorgfältig durch. \n",
    "\n",
    "Im nächsten Kapitel werden wir uns mit weiteren wichtigen Konstrukten auseinandersetzen. "
   ]
  },
  {
   "cell_type": "markdown",
   "metadata": {},
   "source": []
  }
 ],
 "metadata": {
  "hide_input": false,
  "interpreter": {
   "hash": "9c8a4babebe8c1d9e0d056b38c59c6c9a5545619301994faaf0a84ae1d73c3ab"
  },
  "kernelspec": {
   "display_name": "Python [conda env:anaconda3]",
   "language": "python",
   "name": "python3"
  },
  "language_info": {
   "codemirror_mode": {
    "name": "ipython",
    "version": 3
   },
   "file_extension": ".py",
   "mimetype": "text/x-python",
   "name": "python",
   "nbconvert_exporter": "python",
   "pygments_lexer": "ipython3",
   "version": "3.9.7"
  },
  "toc": {
   "base_numbering": 1,
   "nav_menu": {},
   "number_sections": true,
   "sideBar": true,
   "skip_h1_title": false,
   "title_cell": "Table of Contents",
   "title_sidebar": "Contents",
   "toc_cell": false,
   "toc_position": {},
   "toc_section_display": true,
   "toc_window_display": false
  }
 },
 "nbformat": 4,
 "nbformat_minor": 2
}