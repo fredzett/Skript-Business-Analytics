{
 "cells": [
  {
   "cell_type": "markdown",
   "metadata": {},
   "source": [
    "# Wahrscheinlichkeitsverteilungen "
   ]
  },
  {
   "cell_type": "code",
   "execution_count": null,
   "metadata": {},
   "outputs": [],
   "source": [
    "import numpy as np\n",
    "import scipy.stats as stats\n",
    "import matplotlib.pyplot as plt\n",
    "import seaborn as sns\n",
    "import math\n",
    "from utils import plot_line, plot_bar, plot_step, plot_hist, plot_density"
   ]
  },
  {
   "cell_type": "markdown",
   "metadata": {},
   "source": [
    "In **probability** we assume a data generation process by which we \"create\" data. In short:\n",
    "\n",
    "- we know a model\n",
    "- we generate data using this model\n",
    "\n",
    "In **statistical inference** we do the opposite. \n",
    "\n",
    "- we have data\n",
    "- we want to learn about the data generation process, i.e. what is the model?\n",
    "\n",
    "Often **quantitiatve research** deals with data with the goal to infer the data generation process / the model underlying the data. "
   ]
  },
  {
   "cell_type": "markdown",
   "metadata": {},
   "source": [
    "**Easy example**: coin flip.\n",
    "\n",
    "- Probability: we assume a random process that creates us coin flip data. We could, for example, assume it is a fair coin and \n",
    "\n",
    "- Inference: we have coin flip data and want to infer whether or not the coin is fair\n",
    "\n",
    "**More realistic examples**:\n",
    "\n",
    "- what are factors affecting customers to cancel a energy contract and switch to a competitor?\n",
    "\n",
    "- are women with equal qualifications more likely to receive less salary "
   ]
  },
  {
   "cell_type": "markdown",
   "metadata": {},
   "source": [
    "It is, therefore, important that we have a good understanding of **probability** and **probability distributions** when conducting data analysis and infering from data. \n",
    "\n",
    "The following section will therefore briefly repeat$^*$ several basic and important concepts. Once we have done so we will be able to:\n",
    "\n",
    "1. deal with uncertainties in our analysis / data \n",
    "\n",
    "2. interpret our analyses and models\n",
    "\n",
    "3. simulate data to support our data analysis\n",
    "\n",
    "($^*$it is again assumed that you have covered basic concepts of probability in a bachelor course)"
   ]
  },
  {
   "cell_type": "markdown",
   "metadata": {},
   "source": [
    "# Probability distributions"
   ]
  },
  {
   "cell_type": "markdown",
   "metadata": {},
   "source": [
    "## Definition probability"
   ]
  },
  {
   "cell_type": "markdown",
   "metadata": {},
   "source": [
    "(Note: this section is largely taken from Imai (2017))"
   ]
  },
  {
   "cell_type": "markdown",
   "metadata": {},
   "source": [
    "**Probability** is a measure of uncertainty. There are two basic ways to interpret probability:\n",
    "\n",
    "1. **Frequentist view**: probability represents the limit of the relative frequency with which an event of interest occurs when the number of experiments repeatedly conducted under the same conditions aproaches infinity.\n",
    "\n",
    "2. **Bayesian view**: probability is one's subjective belief about the likelihood an event occurs.\n",
    "\n"
   ]
  },
  {
   "cell_type": "markdown",
   "metadata": {},
   "source": [
    "The definition of probability requires the following three concepts:\n",
    "\n",
    "1. **experiment**: an action or a set of actions that produce stochastic events\n",
    "\n",
    "2. **sample space**: a set of all possible outcomes of the experiment, typically denoted by $\\Omega$\n",
    "\n",
    "3. **event**: a subset of the sample space"
   ]
  },
  {
   "cell_type": "markdown",
   "metadata": {},
   "source": [
    "A **random variable** assigns a numeric value to each event of the experiment. These values represent mutually exclusive and exhausitve events, together forming the entire sample space. A **discrete random variable** takes a finite or at most countably infinite number of distinct values, whereas a **continuous random variable** assumes an uncountably infinite number of values. \n",
    "\n",
    "Once we define a random variable, we can formalize a **probability model** using the distribution of the random variable. \n",
    "\n",
    "Examples of **discrete** random variables:\n",
    "\n",
    "| Experiment                       | Random variable ($x$)           | Possible values for random variable |\n",
    "|----------------------------------|---------------------------------|-------------------------------------|\n",
    "| Contact five customers           | # of customers placing an order | $0, 1, 2, 3, 4, 5$                    |\n",
    "| Inspect a shipment of 10 iPhones | # of defective devices     | $0, 1, 2, \\cdots, 9, 10$                   |\n",
    "| Operate a theme park for one day | # of customers             | $0, 1, 2,\\ldots$                        |\n",
    "| Sell a laptop                    | Gender of customers             | $0$ if female, $1$ if male              |\n",
    "\n",
    "Examples of **continous** random variables:\n",
    "\n",
    "| Experiment                  | Random variable ($x$)                             | Possible values for random variable |\n",
    "|-----------------------------|---------------------------------------------------|-------------------------------------|\n",
    "| Operate a McDonald's        | Time between customer arrivals in minutes         | $x \\geq 0$                          |\n",
    "| Fill a coffee mug           | Number of ml                                      | $0 \\leq x \\leq 500ml$               |\n",
    "| Construct a new library     | Percentage of project complete after six months   | $0 \\leq x \\leq 100$                 |\n",
    "| Test a new chemical process | Temperature when the desired reaction takes place | $-3 C^{\\circ} \\leq 120 C^{\\circ}$   |\n",
    "\n",
    "\n",
    "Let's look at some (selected) important distributions."
   ]
  },
  {
   "cell_type": "markdown",
   "metadata": {},
   "source": [
    "## Characterization of probability distributions"
   ]
  },
  {
   "cell_type": "markdown",
   "metadata": {},
   "source": [
    "There are two important functions which are helpful in characterizing probability distributions:\n",
    "\n",
    "1. Probability mass / density function\n",
    "\n",
    "3. Cumulative distribution function"
   ]
  },
  {
   "cell_type": "markdown",
   "metadata": {},
   "source": [
    "### Probablity mass / density function"
   ]
  },
  {
   "cell_type": "markdown",
   "metadata": {},
   "source": [
    "Probablity mass funtion (**PMF**): a function that gives the probability that a discrete random variable is exactly equal to one value $x$. \n",
    "\n",
    "Example:\n",
    "\n",
    "![two dice](https://www.dropbox.com/s/cefh5nkkurvdj6o/Two_dice.png?dl=1)\n",
    "\n",
    "Note that the sum of all bars must equal to 1 given the probability of all events occuring must be equal to 1. "
   ]
  },
  {
   "cell_type": "markdown",
   "metadata": {},
   "source": [
    "Probability density function (**PDF**): a function that specifies the probability of a continous random variable falling within a particular range of values (given the probabiltiy of a continuous random variable is zero)\n",
    "\n",
    "Example:\n",
    "\n",
    "![normal_dist](https://www.dropbox.com/s/7dnwhb1m03w7spo/Normal_distribution.png?dl=1)"
   ]
  },
  {
   "cell_type": "markdown",
   "metadata": {},
   "source": [
    "In summary, probability mass / density functions are:\n",
    "\n",
    "- defined for any outcome of an experiment ($x$); (or range of $x$)\n",
    "\n",
    "- assign a probability to every possible $y$ \n",
    "\n",
    "- a function $f(x)$ such that:\n",
    "\n",
    "    - $f(x) \\geq 0$ for any $x$ \n",
    "    \n",
    "    - discrete: $x$: $\\sum_{\\text{all x}} f(x) = 1$;(sum of the heights is equal to 1)\n",
    "    \n",
    "    - continous: $\\int_{-\\infty}^{\\infty} f(x)dx = 1$; (area under the curve is equal to 1)"
   ]
  },
  {
   "cell_type": "markdown",
   "metadata": {},
   "source": [
    "### Cumulative distribution function"
   ]
  },
  {
   "cell_type": "markdown",
   "metadata": {},
   "source": [
    "Unlike the PMF the CDF gives you the probability that a random variable less than or equal $x$. \n",
    "\n",
    "For a **discrete** distribution the CDF can be written as:\n",
    "\n",
    "$$F(x) = \\sum_{i=0}^x f(i)$$\n",
    "\n",
    "for a discrete distribution the CDF is a step function where the function is flat and then jumpys ate each nonnegative integer value.\n",
    "\n",
    "Here is an example of the cumulative distribution function of the binomial distribution with $n=5$ and $p=0.5$\n",
    "\n",
    "\n",
    "![cdf_binomial](https://www.dropbox.com/s/0o2qdq9yax9vesw/Binomial_cdf.png?dl=1)\n",
    "\n",
    "The horizontal axis is the allowable domain for the given probability function. Given the vertical axis is a probability, it must fall between 0 and 1. It increases from zero to one as we go from left to right on the horizontal axis.\n",
    "\n",
    "\n",
    "For a **continous** distribution the CDF can be expressed as:\n",
    "\n",
    "$$F(x) = \\int_{-\\infty}^{x} f(t)dt$$\n",
    "\n",
    "Here is an example of the cumulative distribution function of the normal distribution with $\\mu=0$ and $\\sigma=1$:\n",
    "\n",
    "![cdf_normal](https://www.dropbox.com/s/4ccp1rpm4bf4cpe/Normal_cdf.png?dl=1)"
   ]
  },
  {
   "cell_type": "markdown",
   "metadata": {},
   "source": [
    "## Selected distributions"
   ]
  },
  {
   "cell_type": "markdown",
   "metadata": {},
   "source": [
    "### Binomial distribution"
   ]
  },
  {
   "cell_type": "markdown",
   "metadata": {},
   "source": [
    "Binomial outcomes are important to model, since they represent, inter alia, fundamental decisions such as stay or switch, buy or don't buy\n"
   ]
  },
  {
   "cell_type": "markdown",
   "metadata": {},
   "source": [
    "With a binomial distribution we mean a random variable $X$ where:\n",
    "\n",
    "$X$ = The number of outcomes $y$ in $n$ binomial experiment"
   ]
  },
  {
   "cell_type": "markdown",
   "metadata": {},
   "source": [
    "Recall that a **binominal experiment** exhibits the following properties:\n",
    "\n",
    "1. The experiment consists of a sequence of $n$ identical trials\n",
    "2. Two outcomes are possible on each trial (success, failure)\n",
    "3. The probablity of a success, denoted by $p$, does not change from trial to trial (also the probability of failure - $1-p$ - does not change)\n",
    "4. The trials are independent\n"
   ]
  },
  {
   "cell_type": "markdown",
   "metadata": {},
   "source": [
    "#### Probability mass function"
   ]
  },
  {
   "cell_type": "markdown",
   "metadata": {},
   "source": [
    "The *probabilty mass function* of a binomial random variable $x$ with probability $p$ and $n$ trials is given by:\n",
    "\n",
    "$$f(x) = P(X = x) = \\binom{n}{x}p^x(1-p)^{n-x}$$\n",
    "\n",
    "\n",
    "Recall that the binominal coefficient is defined as: $$\\binom{n}{x} = \\frac{n!}{x!(n-x)!}$$"
   ]
  },
  {
   "cell_type": "markdown",
   "metadata": {},
   "source": [
    "Example: assume we flip a coin 5 times. How many different combinations are there to get 2 heads out of 5 flips?\n",
    "\n",
    "- HHTTT\n",
    "- HTHTT\n",
    "- HTTHT\n",
    "- HTTTH\n",
    "- THHTT\n",
    "- THTHT\n",
    "- THTTH\n",
    "- TTHHT\n",
    "- TTHTH\n",
    "- TTTHH\n",
    "\n",
    "There are $10$ unique ways to receive 2 heads out of 5 flips. This can be calculated by:\n",
    "\n",
    "\\begin{equation}\n",
    "    \\binom{5}{2} = \\frac{5!}{2!(5-2)!} = 10\n",
    "\\end{equation}"
   ]
  },
  {
   "cell_type": "markdown",
   "metadata": {},
   "source": [
    "**Example**: Binomial distribution\n",
    "\n",
    "We are a producer of lawn mow roboters. In the next month we are required to produce $100$ robots. Over the last couple of years the defect rate was 5%.\n",
    "\n",
    "\n",
    "**Question:** What is the probability of producing \n",
    "\n",
    "1. **$0$** defective robots next month?\n",
    "\n",
    "2. **$100$** defective robots next month?\n",
    "\n",
    "3. **$5$** defective robots next month?"
   ]
  },
  {
   "cell_type": "markdown",
   "metadata": {},
   "source": [
    "**Probablity of $0$ or $100$ defects**"
   ]
  },
  {
   "cell_type": "markdown",
   "metadata": {},
   "source": [
    "For the edge cases $0$ and $100$ it is easy to come up with the solution as these are single events that either occur or do not occur. "
   ]
  },
  {
   "cell_type": "code",
   "execution_count": null,
   "metadata": {},
   "outputs": [],
   "source": [
    "p_0 = 0.05**0 * (1-0.05)**100\n",
    "p_0"
   ]
  },
  {
   "cell_type": "code",
   "execution_count": null,
   "metadata": {},
   "outputs": [],
   "source": [
    "p_100 = 0.05**100 * (1-0.05)**0\n",
    "p_100"
   ]
  },
  {
   "cell_type": "markdown",
   "metadata": {},
   "source": [
    "**Probablity of exactly $5$ defects**"
   ]
  },
  {
   "cell_type": "markdown",
   "metadata": {},
   "source": [
    "There are many combinations how 5 defects could occur. It could be the first 5 robots or the last 5 robots or many other any other combination of 5 robots out of 100. Therefore, we need the binomial coefficient $\\binom{n}{x}$. \n",
    "\n",
    "In Python this can be done as follows:"
   ]
  },
  {
   "cell_type": "code",
   "execution_count": null,
   "metadata": {},
   "outputs": [],
   "source": [
    "n = 100\n",
    "x = 5\n",
    "n_combs = math.comb(100,5)\n",
    "print(\"There are\", n_combs, \"combinations to encounter 5 defects in 100 robots.\")"
   ]
  },
  {
   "cell_type": "markdown",
   "metadata": {},
   "source": [
    "We can easily put the definition of the probability mass function into a python function:"
   ]
  },
  {
   "cell_type": "code",
   "execution_count": null,
   "metadata": {},
   "outputs": [],
   "source": [
    "def binom_pmf(n,x,p):\n",
    "    'Probablity mass function for binomial random variable'\n",
    "    return math.comb(n,x) * p**x * (1-p)**(n-x)"
   ]
  },
  {
   "cell_type": "code",
   "execution_count": null,
   "metadata": {},
   "outputs": [],
   "source": [
    "n = 100\n",
    "x = 5\n",
    "p = 0.05\n",
    "binom_pmf(n,x,p)"
   ]
  },
  {
   "cell_type": "markdown",
   "metadata": {},
   "source": [
    "The probability that 5 out of 100 robots produced are defective is $~18\\%$. "
   ]
  },
  {
   "cell_type": "markdown",
   "metadata": {},
   "source": [
    "---\n",
    "\n",
    "Let's see what the probability mass function for all possible outcomes looks like for our experiment. \n",
    "\n",
    "We can use this function to calculate the probabilities for all other possible events."
   ]
  },
  {
   "cell_type": "code",
   "execution_count": null,
   "metadata": {},
   "outputs": [],
   "source": [
    "outcomes = np.arange(0,101,1) # 0 to 100 defects are possible events\n",
    "probs = np.empty(n+1)\n",
    "for i, x in enumerate(outcomes):\n",
    "    probs[i] = binom_pmf(n,x,p)"
   ]
  },
  {
   "cell_type": "code",
   "execution_count": null,
   "metadata": {},
   "outputs": [],
   "source": [
    "probs[0], probs[5], probs[-1] # check if results match our previous results"
   ]
  },
  {
   "cell_type": "code",
   "execution_count": null,
   "metadata": {},
   "outputs": [],
   "source": [
    "plot_bar(outcomes, probs);"
   ]
  },
  {
   "cell_type": "markdown",
   "metadata": {},
   "source": [
    "#### Cumulative distribution function"
   ]
  },
  {
   "cell_type": "markdown",
   "metadata": {},
   "source": [
    "The cumulative distribution function of a binomial random variable $x$ with probability $p$ and $n$ trials can be written as:\n",
    "\n",
    "$$F(x) = P(X \\leq x) = \\sum_{k=0}^{x}\\binom{n}{k}p^k(1 - p)^{n-k}$$\n",
    "\n"
   ]
  },
  {
   "cell_type": "markdown",
   "metadata": {},
   "source": [
    "As you can see this is the sum of the PMFs. "
   ]
  },
  {
   "cell_type": "markdown",
   "metadata": {},
   "source": [
    "**Example**: \n",
    "\n",
    "We are a producer of lawn mow roboters. In the next month we are required to produce $100$ robots. Over the last couple of years the defect rate was 5%.\n",
    "\n",
    "\n",
    "**Question:** What is the probability of producing \n",
    "\n",
    "1. less than $5$ defective robots next month?\n"
   ]
  },
  {
   "cell_type": "code",
   "execution_count": null,
   "metadata": {},
   "outputs": [],
   "source": [
    "x = 5\n",
    "probs[:x]"
   ]
  },
  {
   "cell_type": "code",
   "execution_count": null,
   "metadata": {},
   "outputs": [],
   "source": [
    "# Probability of less than 5 defects\n",
    "sum(probs[:x]) "
   ]
  },
  {
   "cell_type": "markdown",
   "metadata": {},
   "source": [
    "----"
   ]
  },
  {
   "cell_type": "markdown",
   "metadata": {},
   "source": [
    "Let's plot the CDF for our problem:\n",
    "\n",
    "We can easily do this by taking the cumulative sum of the probabilities (use `np.cumsum`)"
   ]
  },
  {
   "cell_type": "code",
   "execution_count": null,
   "metadata": {},
   "outputs": [],
   "source": [
    "# Example of np.cumsum\n",
    "data = np.array([1,2,3,4,5])\n",
    "np.cumsum(data)"
   ]
  },
  {
   "cell_type": "code",
   "execution_count": null,
   "metadata": {},
   "outputs": [],
   "source": [
    "cum_probs = np.cumsum(probs)\n",
    "plot_step(outcomes,cum_probs, xlabel=\"x\", ylabel=\"Probability\");"
   ]
  },
  {
   "cell_type": "markdown",
   "metadata": {},
   "source": [
    "#### Mean and variance of binomial distribution"
   ]
  },
  {
   "cell_type": "markdown",
   "metadata": {},
   "source": [
    "How many defective parts do we expect when producing $100$ lawnn robots?\n",
    "\n",
    "For one production unit we do expect $5\\%$ defective part; in $n = 100$ production units we, therefore, expect $n\\times0.05=5$ defective parts. \n",
    "\n",
    "The **mean** of a binomial distribution is, therefore,  defined as:\n",
    "\n",
    "$$E(x) = n p$$\n",
    "\n",
    "The **variance** of a binomical distribution is defined as:\n",
    "\n",
    "$$np(1-p)$$\n",
    "\n",
    "Let's calculate the mean and variance for our example:"
   ]
  },
  {
   "cell_type": "code",
   "execution_count": null,
   "metadata": {},
   "outputs": [],
   "source": [
    "# mean\n",
    "mu = n*p\n",
    "mu"
   ]
  },
  {
   "cell_type": "code",
   "execution_count": null,
   "metadata": {},
   "outputs": [],
   "source": [
    "var = n*p*(1-p)\n",
    "var"
   ]
  },
  {
   "cell_type": "markdown",
   "metadata": {},
   "source": [
    "#### Using `scipy.stats` for probability distributions"
   ]
  },
  {
   "cell_type": "markdown",
   "metadata": {},
   "source": [
    "So far we have implemented both pmf and cdf from scratch to illustrate the key idea of \n",
    "\n",
    "- the binomial distribution and\n",
    "\n",
    "- the ways how to implement these ideas directly into python\n",
    "\n",
    "From now on we will use existing modules to help us with probablity distribution (and simulation)."
   ]
  },
  {
   "cell_type": "markdown",
   "metadata": {},
   "source": [
    "Using `scipy.stats` module it is even easier to calculate the key characteristics of probability distributions\n",
    "\n",
    "We only need to:\n",
    "\n",
    "1. indicate which probability distribution we need\n",
    "\n",
    "2. call the `pmf` or `cdf` function or\n",
    "\n",
    "3. call `mean` and `var`/`std` functions\n",
    "\n",
    "\n",
    "\n",
    "Let's recalculate our lawn robot example using `scipy.stats`"
   ]
  },
  {
   "cell_type": "code",
   "execution_count": null,
   "metadata": {},
   "outputs": [],
   "source": [
    "import scipy.stats as stats"
   ]
  },
  {
   "cell_type": "code",
   "execution_count": null,
   "metadata": {},
   "outputs": [],
   "source": [
    "n = 100\n",
    "p = 0.05\n",
    "bdist = stats.binom(n,p) # specify probability distribution with n=100 and p=0.05"
   ]
  },
  {
   "cell_type": "markdown",
   "metadata": {},
   "source": [
    "What is the probability of\n",
    "\n",
    "- exactly $5$ defects\n",
    "\n",
    "- less than $5$ defects"
   ]
  },
  {
   "cell_type": "code",
   "execution_count": null,
   "metadata": {},
   "outputs": [],
   "source": [
    "bdist.pmf(5)"
   ]
  },
  {
   "cell_type": "code",
   "execution_count": null,
   "metadata": {},
   "outputs": [],
   "source": [
    "bdist.cdf(5)"
   ]
  },
  {
   "cell_type": "markdown",
   "metadata": {},
   "source": [
    "We can apply `pmf` and `cdf` on multiple x if we want to"
   ]
  },
  {
   "cell_type": "code",
   "execution_count": null,
   "metadata": {},
   "outputs": [],
   "source": [
    "xs = np.arange(0,n+1)\n",
    "probs = bdist.pmf(xs)"
   ]
  },
  {
   "cell_type": "code",
   "execution_count": null,
   "metadata": {},
   "outputs": [],
   "source": [
    "plot_bar(xs,probs);"
   ]
  },
  {
   "cell_type": "code",
   "execution_count": null,
   "metadata": {},
   "outputs": [],
   "source": [
    "cum_probs = bdist.cdf(xs)\n",
    "plot_step(xs,cum_probs);"
   ]
  },
  {
   "cell_type": "markdown",
   "metadata": {},
   "source": [
    "Calculating mean and variance of our binomial distribution is easy:\n"
   ]
  },
  {
   "cell_type": "code",
   "execution_count": null,
   "metadata": {},
   "outputs": [],
   "source": [
    "bdist.mean(), bdist.var()"
   ]
  },
  {
   "cell_type": "markdown",
   "metadata": {},
   "source": [
    "### Poisson distribution"
   ]
  },
  {
   "cell_type": "markdown",
   "metadata": {},
   "source": [
    "Another example for a discrete probability distribution is the **poisson probability distribution**. \n",
    "\n",
    "It is very useful when describing or estimating number of occurences over a specified interval of time or space. \n",
    "\n",
    "Examples:\n",
    "\n",
    "- visitors viewing a website during one hour (over time)\n",
    "- cars arriving at a car wash in a day (over time)\n",
    "- the number of leaks in 250km of pipeline (over space)\n",
    "\n",
    "If the following two properties are satisfied \n",
    "\n",
    "1. the probability of occurence is the same for any two intervals of equal length\n",
    "\n",
    "2. the occurence or non-occurence in any interval is independent of the occurence or non-occurence in any other interval\n",
    "\n",
    "the number of occurences is a random variable which can be described by a **poisson probability distribution**."
   ]
  },
  {
   "cell_type": "markdown",
   "metadata": {},
   "source": [
    "#### Probability mass function"
   ]
  },
  {
   "cell_type": "markdown",
   "metadata": {},
   "source": [
    "The probability mass function (PMF) can be defined as follows:\n",
    "\n",
    "$$P(X = k) = \\frac{\\lambda^ke^{-\\lambda}}{k!}$$\n",
    "\n",
    "where:  \n",
    "$e = $ Euler's number (i.e. $2.71828\\ldots$ )  \n",
    "$k = $ the number of occurences  \n",
    "$\\lambda = $ the expected value (or mean) number of occurences in an interval\n",
    "\n"
   ]
  },
  {
   "cell_type": "markdown",
   "metadata": {},
   "source": [
    "**Example**: consider a coffee shop in the morning. In order to set up our staffing, we are interested in the number of customers arriving during an $5$ minutes period in the morning. Let's assume that the number of customers arriving at our coffee shop follows a poisson process, i.e. \n",
    "\n",
    "- we assume that the probability of a customer arriving is the same for any two time intervals of equal length (during that $5$ minutes)\n",
    "\n",
    "- we assume that the arrival of customers during the $5$ minute period is independent of each other. \n",
    "\n",
    "From previous experience we know that average number of customers arriving during that $5$ minute time period is $7$. \n",
    "\n",
    "We can now calculate the probability of $k$ customers arriving as follows:\n",
    "\n",
    "$$P(X=k) = \\frac{7^ke^{-7}}{k!}$$\n",
    "\n",
    "E.g. the probability of only $4$ customers arriving in $5$ minutes is $P(4) = \\frac{7^{4}e^{-7}}{4!} \\approx 9.12\\%$"
   ]
  },
  {
   "cell_type": "code",
   "execution_count": null,
   "metadata": {},
   "outputs": [],
   "source": [
    "mu = 7 # lambda (note that lambda is a special keyword in python and should not be used)\n",
    "poisson = stats.poisson(mu)\n",
    "poisson.pmf(4)"
   ]
  },
  {
   "cell_type": "markdown",
   "metadata": {},
   "source": [
    "Using `scipy.stats` we can now calculate the entire probability mass function, easily. "
   ]
  },
  {
   "cell_type": "code",
   "execution_count": null,
   "metadata": {},
   "outputs": [],
   "source": [
    "x = np.arange(0,20)\n",
    "probs = poisson.pmf(x)\n",
    "plot_bar(x, probs);"
   ]
  },
  {
   "cell_type": "markdown",
   "metadata": {},
   "source": [
    "#### Cumulative distribution function"
   ]
  },
  {
   "cell_type": "markdown",
   "metadata": {},
   "source": [
    "As with the binomial distribution there is no distinct expression for the cumulative poisson distribution. Instead is also given simply be the sum of the probability mass functions:\n",
    "\n",
    "$$P(X \\leq k) = \\sum_{x=0}^k \\frac{\\lambda^ke^{-\\lambda}}{k!}$$"
   ]
  },
  {
   "cell_type": "markdown",
   "metadata": {},
   "source": [
    "**Example**: the probability for 0 to 3 (inculding) customers arriving is $P(X=0) + P(X=1) + P(X=2) + P(X=3) \\approx 8.18\\%$"
   ]
  },
  {
   "cell_type": "code",
   "execution_count": null,
   "metadata": {},
   "outputs": [],
   "source": [
    "poisson.cdf(3)"
   ]
  },
  {
   "cell_type": "markdown",
   "metadata": {},
   "source": [
    "The CDF of a Poission distribution is then also a step function. "
   ]
  },
  {
   "cell_type": "code",
   "execution_count": null,
   "metadata": {},
   "outputs": [],
   "source": [
    "probs = poisson.cdf(x)\n",
    "plot_step(x,probs);"
   ]
  },
  {
   "cell_type": "markdown",
   "metadata": {},
   "source": [
    "#### Mean and variance of distribution"
   ]
  },
  {
   "cell_type": "markdown",
   "metadata": {},
   "source": [
    "The mean and the variance of the distribution are both given by\n",
    "\n",
    "$$E(X) = Var(X) = \\lambda$$"
   ]
  },
  {
   "cell_type": "code",
   "execution_count": null,
   "metadata": {},
   "outputs": [],
   "source": [
    "poisson.mean(), poisson.var()"
   ]
  },
  {
   "cell_type": "markdown",
   "metadata": {},
   "source": [
    "### Normal distribution"
   ]
  },
  {
   "cell_type": "markdown",
   "metadata": {},
   "source": [
    "Arguably one of the most important and known examples of a continous distribution is the *normal distribution* (often also called the *gaussian normal distribution*). It can be considered a *special* distribution because, as it's name implies, the sum of random variables from a given (non-normal) distribution tend to follow the normal distribtion.\n",
    "\n",
    "The normal distribution has many practical applications as many random variables are following normal distributions, e.g.:\n",
    "\n",
    "- heights, weights and IQ of people\n",
    "- students test scores\n",
    "- amounts of rainfall\n",
    "- stock returns (although with fat tails)\n",
    "\n",
    "It is also an important probability distribution for many aspects in statistical inference. \n",
    "\n",
    "A normal random variable can take any number on the real line $(-\\infty, \\infty)$. Note that the probability for any single value from a continuous distribution is zero. This is because the probability of getting a value of exactly 3.45 in on the real line $(-\\infty, \\infty)$ is zero. Therefore think of a value $x$ an infinitesimal small range around $x$. "
   ]
  },
  {
   "cell_type": "markdown",
   "metadata": {},
   "source": [
    "#### Probability density function"
   ]
  },
  {
   "cell_type": "markdown",
   "metadata": {},
   "source": [
    "The probability density function (pdf) is defined as follows:\n",
    "\n",
    "$$f(x) = \\frac{1}{\\sqrt{2\\pi\\sigma}}e^{-\\frac{(x-\\mu)^2}{2\\sigma^2}}$$\n",
    "\n",
    "where:\n",
    "\n",
    "$\\mu =$ is the mean of the distribution  \n",
    "$\\sigma =$ the standard deviation of the distribution"
   ]
  },
  {
   "cell_type": "markdown",
   "metadata": {},
   "source": [
    "We can model these distributions using `scipy.stats.norm`. Calculating the densities (not probabilities) of $x$ can then be calcualted using `pdf` (not pmf!).\n",
    "\n",
    "Here are three different normal distributions with different means and standard deviations"
   ]
  },
  {
   "cell_type": "code",
   "execution_count": null,
   "metadata": {},
   "outputs": [],
   "source": [
    "standard = stats.norm(0,1)\n",
    "flat = stats.norm(0,2)\n",
    "steep = stats.norm(1,0.5)\n",
    "densities = [c.pdf(x) for c in [standard, flat, steep]]\n",
    "\n",
    "x = np.linspace(-6,6,1000)\n",
    "plot_line(x,densities , xlabel=\"x\", ylabel=\"Density\", zero_origin=True);"
   ]
  },
  {
   "cell_type": "markdown",
   "metadata": {},
   "source": [
    "**Example**: let's say the height of humans can be described as a normal random variable (in cm).\n",
    "\n",
    "- height of males can be described as a random normal variable with $\\mu =  170$ and $\\sigma = 20$ \n",
    "\n",
    "- height of women can be described as  random normal variable with $\\mu =  160$ and $\\sigma = 18$ "
   ]
  },
  {
   "cell_type": "code",
   "execution_count": null,
   "metadata": {},
   "outputs": [],
   "source": [
    "men = stats.norm(170,25) \n",
    "women = stats.norm(160,18)"
   ]
  },
  {
   "cell_type": "code",
   "execution_count": null,
   "metadata": {},
   "outputs": [],
   "source": [
    "x = np.linspace(0,300, 1000)\n",
    "y_men = men.pdf(x)\n",
    "y_women = women.pdf(x)\n",
    "_, ax = plot_line(x,[y_men, y_women], xlabel=\"Height in cm\", ylabel=\"Density\");\n",
    "ax.legend([\"men\", \"women\"], loc=\"right\" );"
   ]
  },
  {
   "cell_type": "markdown",
   "metadata": {},
   "source": [
    "#### Cumulative distribution function"
   ]
  },
  {
   "cell_type": "markdown",
   "metadata": {},
   "source": [
    "The cumulative probability distribution (CDF) has no analytically tractable form is given by:\n",
    "\n",
    "$$F(x) = P(X \\leq x) = \\int_{-\\infty}^x \\frac{1}{\\sqrt{2\\pi\\sigma}}e^{-\\frac{(x-\\mu)^2}{2\\sigma^2}} dt$$\n",
    "\n",
    "It represents the area under the PDF from $-\\infty$ up to $x$."
   ]
  },
  {
   "cell_type": "markdown",
   "metadata": {},
   "source": [
    "**Let's continue our example:**\n",
    "\n",
    "- what is the probability of women being smaller or equal  to 1,40m?\n",
    "\n",
    "- what is the probability of men being larger than 2m?"
   ]
  },
  {
   "cell_type": "code",
   "execution_count": null,
   "metadata": {},
   "outputs": [],
   "source": [
    "women.cdf(140)"
   ]
  },
  {
   "cell_type": "code",
   "execution_count": null,
   "metadata": {},
   "outputs": [],
   "source": [
    "1 - men.cdf(200)"
   ]
  },
  {
   "cell_type": "markdown",
   "metadata": {},
   "source": [
    "We can plot the cumulative probability distribution by"
   ]
  },
  {
   "cell_type": "code",
   "execution_count": null,
   "metadata": {},
   "outputs": [],
   "source": [
    "cdf_men = men.cdf(x)\n",
    "cdf_women = women.cdf(x)\n",
    "\n",
    "_, ax = plot_line(x,[cdf_men, cdf_women]);\n",
    "ax.legend([\"men\", \"women\"], loc=\"right\" );"
   ]
  },
  {
   "cell_type": "markdown",
   "metadata": {},
   "source": [
    "## Approximation of distributions"
   ]
  },
  {
   "cell_type": "markdown",
   "metadata": {},
   "source": [
    "It is important to note that many distributions can be approximated with different distributions if certain properties hold. \n",
    "\n",
    "We will look at the following three approximations:\n",
    "\n",
    "- binomial distribution approximated by normal distribution\n",
    "- binomial distribution approximated by poisson distribution\n",
    "- poisson distribution approximated by normal distribution"
   ]
  },
  {
   "cell_type": "markdown",
   "metadata": {},
   "source": [
    "### Approximation: binomial distribution through normal distribution"
   ]
  },
  {
   "cell_type": "markdown",
   "metadata": {},
   "source": [
    "If the following condition holds:\n",
    "\n",
    "- $n$ is sufficiently large\n",
    "- $p$ not to close to the edges $0$ or $1$\n",
    "\n",
    "than a binomial distribution can be approximated by a normal distribution, where:\n",
    "\n",
    "- $\\mu = np$\n",
    "- $\\sigma = \\sqrt{np(1-p)}$"
   ]
  },
  {
   "cell_type": "markdown",
   "metadata": {},
   "source": [
    "**Example**"
   ]
  },
  {
   "cell_type": "code",
   "execution_count": null,
   "metadata": {},
   "outputs": [],
   "source": [
    "n = 100\n",
    "p = 0.5\n",
    "x = np.arange(0,n)\n",
    "y_binom = stats.binom(n,p).pmf(x)\n",
    "\n",
    "mu = n*p\n",
    "sig = np.sqrt(n*p*(1-p))\n",
    "y_norm = stats.norm(mu,sig).pdf(x)\n"
   ]
  },
  {
   "cell_type": "code",
   "execution_count": null,
   "metadata": {},
   "outputs": [],
   "source": [
    "plot_bar(x,y_binom, title=\"Bin(n,p)\");\n",
    "plot_bar(x,y_norm, title=r\"N($\\mu, \\sigma$)\");"
   ]
  },
  {
   "cell_type": "markdown",
   "metadata": {},
   "source": [
    "### Approximation: binomial distribution through poisson distribution"
   ]
  },
  {
   "cell_type": "markdown",
   "metadata": {},
   "source": [
    "If the following condition holds:\n",
    "\n",
    "- $n$ is sufficiently large\n",
    "- $p$ is sufficiently small\n",
    "\n",
    "than a binomial distribution can be approximated by a poisson distribution, where:\n",
    "\n",
    "- $\\lambda = np$"
   ]
  },
  {
   "cell_type": "markdown",
   "metadata": {},
   "source": [
    "**Example**"
   ]
  },
  {
   "cell_type": "code",
   "execution_count": null,
   "metadata": {},
   "outputs": [],
   "source": [
    "n = 50\n",
    "p = 0.01\n",
    "x = np.arange(0,10)\n",
    "y_binom = stats.binom(n,p).pmf(x)\n",
    "\n",
    "\n",
    "mu = n*p\n",
    "y_poisson = stats.poisson(mu).pmf(x)\n",
    "\n",
    "plot_bar(x,y_binom, title=\"Bin(n,p)\");\n",
    "plot_bar(x,y_poisson, title=r\"Poi($\\lambda$)\");"
   ]
  },
  {
   "cell_type": "markdown",
   "metadata": {},
   "source": [
    "### Approximation: poisson distribution through normal distribution"
   ]
  },
  {
   "cell_type": "markdown",
   "metadata": {},
   "source": [
    "If the following condition holds:\n",
    "\n",
    "- $\\lambda$ is sufficiently large\n",
    "\n",
    "\n",
    "than a poisson distribution can be approximated by a normal distribution, where:\n",
    "\n",
    "- $\\mu = \\lambda$\n",
    "- $\\sigma = \\sqrt{\\lambda}$"
   ]
  },
  {
   "cell_type": "code",
   "execution_count": null,
   "metadata": {},
   "outputs": [],
   "source": [
    "mu = 20\n",
    "x = np.arange(0,20*2)\n",
    "y_poisson = stats.poisson(mu).pmf(x)\n",
    "plot_bar(x,y_poisson);\n",
    "\n",
    "y_norm = stats.norm(mu, np.sqrt(mu)).pdf(x)\n",
    "plot_bar(x,y_norm);"
   ]
  },
  {
   "cell_type": "markdown",
   "metadata": {},
   "source": [
    "## Probability distributions and simulations"
   ]
  },
  {
   "cell_type": "markdown",
   "metadata": {},
   "source": [
    "We have previously discussed and seen the benefits of simulation. We had stated the following (selected) use cases for simulation:\n",
    "\n",
    "1. solve probability problems\n",
    "\n",
    "2. calculate features of probability densities\n",
    "\n",
    "3. understand the assumed data generation process\n",
    "\n",
    "4. evaluating estimators"
   ]
  },
  {
   "cell_type": "markdown",
   "metadata": {},
   "source": [
    "We can draw random samples from a distribution and then investigate that sample to learn something about the features of a distribution. Also we can use these random samples to simulate real world problems. "
   ]
  },
  {
   "cell_type": "markdown",
   "metadata": {},
   "source": [
    "Using `scipy.stats` we can define distributions and than use `rvs` to draw random samples from this distribution. \n",
    "\n",
    "Example:"
   ]
  },
  {
   "cell_type": "code",
   "execution_count": null,
   "metadata": {},
   "outputs": [],
   "source": [
    "n = 10_000\n",
    "norm = stats.norm(48,3)\n",
    "smpl = norm.rvs(n)\n",
    "len(smpl), smpl # holds n values from N(48,3)"
   ]
  },
  {
   "cell_type": "code",
   "execution_count": null,
   "metadata": {},
   "outputs": [],
   "source": [
    "plot_density(smpl);"
   ]
  },
  {
   "cell_type": "code",
   "execution_count": null,
   "metadata": {},
   "outputs": [],
   "source": [
    "# Calculate features on distribution: e.g. quantiles\n",
    "np.quantile(smpl,[0,0.25,0.5,0.75, 1])"
   ]
  },
  {
   "cell_type": "code",
   "execution_count": null,
   "metadata": {},
   "outputs": [],
   "source": [
    "# Different distribution (uniform continuous between 0 and 1)\n",
    "uni = stats.uniform()\n",
    "smpl = uni.rvs(10000)\n",
    "plot_density(smpl);\n",
    "np.quantile(smpl,[0,0.25,0.5,0.75, 1])"
   ]
  },
  {
   "cell_type": "markdown",
   "metadata": {},
   "source": [
    "### Creating synthetic data\n",
    "\n",
    "We can use this to generate (synthetic) data sets to test our models on. \n",
    "\n",
    "Example: let's create a linear data set.\n",
    "\n",
    "$$y = \\beta_0 + \\beta_1x + \\epsilon$$\n",
    "\n",
    "If we synthetically create this data we can run regression models on this data and know the ground truth. This is very helpful when trying to understand the specifics of a model and to see which modells work well on which kind of data.\n",
    "\n",
    "Let's make the following assumptions:\n",
    "\n",
    "- $x$ is a random poisson variable with $\\lambda = 5$.\n",
    "- $\\beta_0=10$ and $\\beta_1 = 4.5$\n",
    "- $\\epsilon$ is N(0,1) by definition"
   ]
  },
  {
   "cell_type": "code",
   "execution_count": null,
   "metadata": {},
   "outputs": [],
   "source": [
    "n = 1000\n",
    "x = stats.poisson(5).rvs(n)\n",
    "b0, b1 = 10, 4.5\n",
    "eps = stats.norm().rvs(n)\n",
    "y = b0 + b1*x + eps"
   ]
  },
  {
   "cell_type": "code",
   "execution_count": null,
   "metadata": {},
   "outputs": [],
   "source": [
    "lreg = stats.linregress(x,y)\n",
    "lreg.intercept, lreg.slope"
   ]
  },
  {
   "cell_type": "markdown",
   "metadata": {},
   "source": [
    "We can see that if our research data is expected to be distributed as defined a simple linear regression model would work really well. "
   ]
  },
  {
   "cell_type": "markdown",
   "metadata": {},
   "source": [
    "### [ADVANCED] Simulating real world problems"
   ]
  },
  {
   "cell_type": "markdown",
   "metadata": {},
   "source": [
    "See [here](https://nbviewer.jupyter.org/github/norvig/pytudes/blob/master/ipynb/Economics.ipynb) for a great example (which also produces a counterintutive result).\n",
    "\n",
    "A minor extract from that example is reproduced (in a slightly different fashion) below. "
   ]
  },
  {
   "cell_type": "code",
   "execution_count": null,
   "metadata": {},
   "outputs": [],
   "source": [
    "N = 10_000 # size of population\n",
    "MU = 100 # mean wealth of population"
   ]
  },
  {
   "cell_type": "code",
   "execution_count": null,
   "metadata": {},
   "outputs": [],
   "source": [
    "population = stats.norm(MU, MU/5).rvs(N)"
   ]
  },
  {
   "cell_type": "code",
   "execution_count": null,
   "metadata": {},
   "outputs": [],
   "source": [
    "plot_density(population, kde=False, title=\"Startin wealth distribution \\n (of population $N=10.000$)\");"
   ]
  },
  {
   "cell_type": "code",
   "execution_count": null,
   "metadata": {},
   "outputs": [],
   "source": [
    "np.mean(population), np.std(population), np.median(population)"
   ]
  },
  {
   "cell_type": "code",
   "execution_count": null,
   "metadata": {},
   "outputs": [],
   "source": [
    "def transact(A,B):\n",
    "    import random\n",
    "    total = A + B\n",
    "    a = random.uniform(0,total)\n",
    "    return a, total - a"
   ]
  },
  {
   "cell_type": "code",
   "execution_count": null,
   "metadata": {},
   "outputs": [],
   "source": [
    "def meet(N): \n",
    "    return np.random.choice(range(N), size=2)"
   ]
  },
  {
   "cell_type": "code",
   "execution_count": null,
   "metadata": {},
   "outputs": [],
   "source": [
    "def step(population, transact, meet):\n",
    "    i, j = meet(len(population))\n",
    "    population[i], population[j] = transact(population[i], population[j])\n",
    "    return population"
   ]
  },
  {
   "cell_type": "code",
   "execution_count": null,
   "metadata": {},
   "outputs": [],
   "source": [
    "episodes = 10000\n",
    "new_pop = population.copy()\n",
    "for t in range(episodes):\n",
    "    new_pop =  step(new_pop, transact, meet)\n",
    "sum(new_pop), sum(population)"
   ]
  },
  {
   "cell_type": "code",
   "execution_count": null,
   "metadata": {},
   "outputs": [],
   "source": [
    "plot_density([new_pop, population], kde=False, xlabel=\"Wealth\", ylabel=\"Count\");"
   ]
  },
  {
   "cell_type": "code",
   "execution_count": null,
   "metadata": {},
   "outputs": [],
   "source": [
    "np.mean(new_pop), np.std(new_pop), np.median(new_pop)"
   ]
  }
 ],
 "metadata": {
  "kernelspec": {
   "display_name": "Python 3.8.3 ('base')",
   "language": "python",
   "name": "python3"
  },
  "language_info": {
   "codemirror_mode": {
    "name": "ipython",
    "version": 3
   },
   "file_extension": ".py",
   "mimetype": "text/x-python",
   "name": "python",
   "nbconvert_exporter": "python",
   "pygments_lexer": "ipython3",
   "version": "3.8.3"
  },
  "toc-autonumbering": true,
  "vscode": {
   "interpreter": {
    "hash": "ca350b3caf5afa030c2adb4a8988c3a48d039c245b1a5d96d07158c869f842ed"
   }
  }
 },
 "nbformat": 4,
 "nbformat_minor": 4
}