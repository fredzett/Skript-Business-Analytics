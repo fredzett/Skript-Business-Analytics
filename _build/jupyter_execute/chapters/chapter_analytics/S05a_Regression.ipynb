{
 "cells": [
  {
   "cell_type": "markdown",
   "metadata": {},
   "source": [
    "# Lineare Regression"
   ]
  },
  {
   "cell_type": "code",
   "execution_count": 2,
   "metadata": {},
   "outputs": [],
   "source": [
    "import numpy as np\n",
    "import statsmodels.api as sm\n",
    "import pandas as pd\n",
    "import seaborn as sns\n",
    "import matplotlib.pyplot as plt\n",
    "from utils import Datasets, make_y_X\n",
    "from patsy import dmatrices"
   ]
  },
  {
   "cell_type": "markdown",
   "metadata": {},
   "source": [
    "The following chapter is based on [*Backhaus et al (2017)*](https://www.springer.com/de/book/9783662460764)."
   ]
  },
  {
   "cell_type": "markdown",
   "metadata": {},
   "source": [
    "## Introduction"
   ]
  },
  {
   "cell_type": "markdown",
   "metadata": {},
   "source": [
    "Linear regresssion is one of the most flexibel and widely used statistical methods used in research. It is used for analysing the relationship between a **dependent** and one or more **independent** variables. Linear regression is used for \n",
    "\n",
    "1. **inference**, i.e. to test a prior developed hypothesis about the relationship between variables of interest\n",
    "\n",
    "2. **prediction**, i.e. to estimate the value of a dependent variable given values of independent variables\n",
    "\n",
    "Primary use case for linear regression analysis is the analysis of **causal relations**. This relation can be expressed as \n",
    "\n",
    "$$Y = f(X)$$"
   ]
  },
  {
   "cell_type": "markdown",
   "metadata": {},
   "source": [
    "**Simple (linear) regresssion:**  \n",
    "\n",
    "\n",
    "If we want to express that there we believe in a relation between *revenues* and *price* we may state this as\n",
    "\n",
    "$$\\text{revenues} = f(\\text{price})$$\n",
    "\n",
    "Using linear regression this **relation can be quantified**, i.e. we can determine how much *revenue* will change if we change *price*. \n",
    "\n",
    "\n",
    "**Stochastic model:**    \n",
    "It is very unlikely that the the relation between the above variables is entirely deterministic (as assumed in the above formula). We, therefore, need to introduce uncertainty to the model. The resulting **stochastic model** is commonly used in regression analysis and is described as:\n",
    "\n",
    "$$Y = f(X) + \\epsilon$$\n",
    "\n",
    "Here $\\epsilon$ is a **random variable** (called error term / residual) which cannot be observed and is assumed to follow a standard normal distribution (i.e. $\\epsilon \\sim N(0,1)$). The stochastic model will be required to **evaluate the regression models using statistical tests**.\n",
    "\n",
    "\n",
    "**Multiple (linear) regression:**  \n",
    "In many (if not most) research questions we may not assume a monocausal relationship. Instead $Y$, our variable we want to analyse, is influenced by numerous factors. In our above example *revenues* may also depend on advertising spent but also from other factor such as the state of the economy, the price, behaviour of competitors etc. \n",
    "\n",
    "For such a relationship we use a **multiple regression analysis** which may be expressed as:\n",
    "\n",
    "$$Y = f(X_1, X_2, \\ldots, X_J)$$\n",
    "\n",
    "\n",
    "**Causality vs. correlation:**  \n",
    "It is important to state that while we attempt to model a causal relationship between $Y$ and $X$, in practice we cannot determine whether or not the relationship is actually causal. Instead all we do is we approximate causality be assessing correlation. \n",
    "\n",
    "**Typical hypotheses modelled with linear regression**\n",
    "\n",
    " | # | Hypothesis                                                                                                | Dependent variable                    | Independent variable                                    |\n",
    "|---|-----------------------------------------------------------------------------------------------------------|---------------------------------------|---------------------------------------------------------|\n",
    "| 1 | Is revenue by salesperson dependent on number of customer visits?                                         | Revenue per sales person (per period) | Number of customer visits per sales person (per period) |\n",
    "| 2 | Will sales change if advertising spent is doubled                                                         | Sales per period                      | Spent on advertisment per period                        |\n",
    "| 3 | How does a price increase of x% impact sales if advertisment spent is   increased by 10% at the same time | Sales per period                      | Advertisment spent, price, …                            |\n",
    "|4|...|...|...|\n",
    "\n"
   ]
  },
  {
   "cell_type": "markdown",
   "metadata": {},
   "source": [
    "## Model formulation"
   ]
  },
  {
   "cell_type": "markdown",
   "metadata": {},
   "source": [
    "A model is a simplified representation of reality. Models are very useful but it is always a fine line between simplification and complexity. If we want to model reality as close as possible our model may become to complex. If our model is to simple it may not describe reality good enough for our purposes. There is no such thing as a good or a bad model. It is more helpful to think of a model as suitable or not suitable for our problem at hand. It turns out the linear regression models are quite simple yet very suitable for many research and practical problems which is why they are heavily relied on in all social sciences. \n",
    "\n",
    "> **Dataset**: In the following we will be using the advertising dataset from [Introduction to Statistical Learning](http://faculty.marshall.usc.edu/gareth-james/ISL/index.html) for the following examples. The dataset contains   \n",
    "> - sales in thousands units\n",
    "> - advertising budgets in thousand of dollars for TV, radio and newspaper"
   ]
  },
  {
   "cell_type": "code",
   "execution_count": 4,
   "metadata": {},
   "outputs": [
    {
     "data": {
      "text/html": [
       "<div>\n",
       "<style scoped>\n",
       "    .dataframe tbody tr th:only-of-type {\n",
       "        vertical-align: middle;\n",
       "    }\n",
       "\n",
       "    .dataframe tbody tr th {\n",
       "        vertical-align: top;\n",
       "    }\n",
       "\n",
       "    .dataframe thead th {\n",
       "        text-align: right;\n",
       "    }\n",
       "</style>\n",
       "<table border=\"1\" class=\"dataframe\">\n",
       "  <thead>\n",
       "    <tr style=\"text-align: right;\">\n",
       "      <th></th>\n",
       "      <th>TV</th>\n",
       "      <th>radio</th>\n",
       "      <th>newspaper</th>\n",
       "      <th>sales</th>\n",
       "    </tr>\n",
       "  </thead>\n",
       "  <tbody>\n",
       "    <tr>\n",
       "      <th>0</th>\n",
       "      <td>230.1</td>\n",
       "      <td>37.8</td>\n",
       "      <td>69.2</td>\n",
       "      <td>22.1</td>\n",
       "    </tr>\n",
       "    <tr>\n",
       "      <th>1</th>\n",
       "      <td>44.5</td>\n",
       "      <td>39.3</td>\n",
       "      <td>45.1</td>\n",
       "      <td>10.4</td>\n",
       "    </tr>\n",
       "    <tr>\n",
       "      <th>2</th>\n",
       "      <td>17.2</td>\n",
       "      <td>45.9</td>\n",
       "      <td>69.3</td>\n",
       "      <td>9.3</td>\n",
       "    </tr>\n",
       "    <tr>\n",
       "      <th>3</th>\n",
       "      <td>151.5</td>\n",
       "      <td>41.3</td>\n",
       "      <td>58.5</td>\n",
       "      <td>18.5</td>\n",
       "    </tr>\n",
       "    <tr>\n",
       "      <th>4</th>\n",
       "      <td>180.8</td>\n",
       "      <td>10.8</td>\n",
       "      <td>58.4</td>\n",
       "      <td>12.9</td>\n",
       "    </tr>\n",
       "  </tbody>\n",
       "</table>\n",
       "</div>"
      ],
      "text/plain": [
       "      TV  radio  newspaper  sales\n",
       "0  230.1   37.8       69.2   22.1\n",
       "1   44.5   39.3       45.1   10.4\n",
       "2   17.2   45.9       69.3    9.3\n",
       "3  151.5   41.3       58.5   18.5\n",
       "4  180.8   10.8       58.4   12.9"
      ]
     },
     "execution_count": 4,
     "metadata": {},
     "output_type": "execute_result"
    }
   ],
   "source": [
    "df = Datasets.advertising(\"pandas\", col=\"all\") # load advertisment data\n",
    "df.head(5) # show first 5 rows of data"
   ]
  },
  {
   "cell_type": "markdown",
   "metadata": {},
   "source": [
    "**Sales vs. TV advertisment spent:**  \n",
    "Let us assume that we believe in a simple linear relation between **sales** and **TV** advertisment spent. We can describe this as  \n",
    "\n",
    "$$\\text{sales} = f(\\text{TV})$$\n",
    "\n",
    "This implies that we believe in a causal relationship between both variables. Specifically we believe that *TV* advertisment spent drives or influences *sales*. \n",
    "\n",
    "**Regression function:** \n",
    "\n",
    "A simple linear regression model of the above formulations could be:\n",
    "\n",
    "$$\\hat{Y} = \\hat{\\beta}_0 + \\hat{\\beta}_1X $$\n",
    "\n",
    "where $\\hat{Y}$ denotes the prediction of the dependent variable $Y$ given $X$. $\\hat{\\beta}_0$ and $\\hat{\\beta}_1$ are the coefficient estimates. \n",
    "\n",
    "For our example the regression function looks as follows:\n",
    "\n",
    "$$\\text{sales} = \\hat{\\beta}_0 + \\hat{\\beta}_1\\text{TV}$$\n",
    "\n",
    "Given the mathematical formulation implies a line in a 2D field, $\\beta_0$ represents the intercept of the line with the y-axis and $\\beta_1$ represents the slope of the line. \n",
    "\n",
    "\n",
    "\n",
    "\n",
    "<img src=\"https://www.dropbox.com/s/g8smbktpeqgl90u/regressionmodel.png?dl=1\" alt=\"regression_model\" width=\"50%\" align=\"center\"/>"
   ]
  },
  {
   "cell_type": "markdown",
   "metadata": {},
   "source": [
    "Let's assume that $\\beta_0$ is $20$ and $\\beta_1$ is $0.5$. This would mean that our regression model becomes:\n",
    "\n",
    "$$\\text{sales} = 20+ 0.5\\text{TV}$$\n",
    "\n",
    "This would mean we could insert X and calculate $\\hat{Y}$. \n",
    "\n",
    "For example, if we assume we spent 100 in TV advertisment we would expect sales of \n",
    "\n",
    "$$\\text{sales} = 20 + 0.5\\times100 = 70$$\n",
    "\n",
    "Spending 100.000 USD in TV advertisment would yield in 70.000 Units of sales according to our model. \n",
    "\n",
    "(Note: sales and TV spent both in in units of thousands)\n",
    "\n",
    "**How do you determine coefficients?**  \n",
    "In our example we have just assumed values for $\\beta_0$ and $\\beta_1$. In practice we need to determine both coefficients. In order to derive how we do this it is helpful to look at the following interactive example:\n",
    "\n",
    "[Interactive example](https://share.streamlit.io/fredzett/rmqa/regression.py)\n",
    "\n",
    "\n"
   ]
  },
  {
   "cell_type": "markdown",
   "metadata": {},
   "source": [
    "## Estimation of regression function"
   ]
  },
  {
   "cell_type": "markdown",
   "metadata": {},
   "source": [
    "### Simple linear regression"
   ]
  },
  {
   "cell_type": "markdown",
   "metadata": {},
   "source": [
    "We need to find coefficients that specify a line which describes the true relationship as best as possible. \n",
    "\n",
    "This is achieved by minimizing the *least squares* criterion, i.e. we want to minimize the resdiual sum of squares (RSS; sometimes SSR)\n",
    "\n",
    "$$\n",
    "\\text{RSS} = \\sum_{i=1}^n e_i^2\n",
    "$$\n",
    "\n",
    "where $e_i$ is defined as \n",
    "\n",
    "$$\n",
    "e_i = y_i - \\hat{y}_i\n",
    "$$\n",
    "\n",
    "The **least squares criterion** avoids that positive and negative deviations cancel each other out and weighs more heavily on large deviations (which may also be a disadvantage if we find to have outlier in our data). \n",
    "\n",
    "\n",
    "Analytically we can then derive $\\beta_0$ and $\\beta_1$ that minimizes the RSS:\n",
    "\n",
    "\\begin{equation}\n",
    "\\begin{split}\n",
    "\\hat{\\beta}_1 & = \\frac{\\sum_{i=1}^n (x_i - \\bar{x})(y_i - \\bar{y})}{\\sum_{i=1}^n (x_i - \\bar{x})^2} \\\\[10pt]\n",
    "\\hat{\\beta}_0 & = \\bar{y} - \\hat{\\beta}_1\\bar{x}\n",
    "\\end{split}\n",
    "\\end{equation}\n",
    "\n",
    "We write $\\hat{\\beta}_i$ to indicate that it is an estimator. We omit if this is clear from the context. "
   ]
  },
  {
   "cell_type": "markdown",
   "metadata": {},
   "source": [
    "We can easily implement the above formulas in python and calculate the correct values for both coefficients"
   ]
  },
  {
   "cell_type": "code",
   "execution_count": 67,
   "metadata": {},
   "outputs": [],
   "source": [
    "# Write functions for b0, b1\n",
    "def beta1(x,y):\n",
    "    ________ # insert function\n",
    "\n",
    "def beta0(x,y):\n",
    "    ________ # insert function"
   ]
  },
  {
   "cell_type": "code",
   "execution_count": 5,
   "metadata": {},
   "outputs": [],
   "source": [
    "y = df[\"sales\"] # column \"sales\"\n",
    "x = df[\"TV\"] # column \"TV\"\n",
    "\n",
    "#beta0(x,y), beta1(x,y)"
   ]
  },
  {
   "cell_type": "markdown",
   "metadata": {},
   "source": [
    "The optimal regression line can therefore be described as:\n",
    "\n",
    "$$\\text{sales} = 7.03 + 0.048\\times\\text{TV}$$\n",
    "\n",
    "meaning that increasing TV spent by 1.000 USD will increase sales units by 48 (remember that both are in units of thoushands)\n",
    "\n",
    "Looking at our [interactive chart](https://share.streamlit.io/fredzett/rmqa/regression.py) we see that the line does not perfectly describe the relationship given most of the data points are not on the line described by the regression model. This is due to the fact that there are other factors influencing *sales*. We distinguish between two types of factors:\n",
    "\n",
    "1. **systematic factors**, i.e. other explanatory variables (e.g. price, newspaper ad spent, ...) which may drive sales but have not been incorporated into the model\n",
    "\n",
    "2. **unsystematic factors**, i.e. other factors which cannot be included because they are unknown"
   ]
  },
  {
   "cell_type": "markdown",
   "metadata": {},
   "source": [
    "### Multiple regression"
   ]
  },
  {
   "cell_type": "markdown",
   "metadata": {},
   "source": [
    "For most research question it is required that we have more than one indepenent variable. If this is the case the regression model has the following form:\n",
    "\n",
    "$$\\hat{Y} = \\beta_0 + \\beta_1x_1 + \\beta_2x_2 + \\ldots + \\beta_Jx_J$$\n",
    "\n",
    "**Example:**  \n",
    "We could describe the relationship between *sales* and advertising spent using all three media types, *TV*, *Newspaper* and *radio*. This would then be described as:\n",
    "\n",
    "$$\\text{sales} = \\beta_0 + \\beta_1\\text{TV} + \\beta_2\\text{newspaper} + \\beta_3\\text{radio}$$\n",
    "\n",
    "\n",
    "In order to solve for $\\beta_j$ we, in principal, follow the same route than in the simple regression case. However, solving the system of equations is somewhat more complex. It involves solving a system of linear equations of the following form:\n",
    "\n",
    "$$Y = X\\beta + \\epsilon$$\n",
    "\n",
    "where:\n",
    "\n",
    "\\begin{equation}\n",
    "Y = \\begin{pmatrix} y_1 \\\\ y_2 \\\\ \\vdots \\\\ y_n \\end{pmatrix}, \n",
    "X = \\begin{pmatrix} 1 & x_{11} & x_{12} & \\ldots & x_{1p} \\\\ 1 & x_{21} & x_{22} & \\ldots & x_{2p} \\\\ \\vdots & \\vdots &  \\vdots  & \\vdots & \\vdots \\\\ 1 & x_{n1} & x_{n2} & \\ldots & x_{np} \\end{pmatrix},\n",
    "\\beta = \\begin{pmatrix} \\beta_0 \\\\ \\vdots \\\\ \\beta_p  \\end{pmatrix}, \n",
    "\\epsilon = \\begin{pmatrix} \\epsilon_0 \\\\ \\epsilon_1  \\\\ \\vdots \\\\ \\epsilon_n  \\end{pmatrix}, \n",
    "\\end{equation}\n",
    "\n",
    "Without covering the details of the math this equation can be solved as follows:\n",
    "\n",
    "$$\n",
    "\\hat{\\beta} = (X^TX)^{-1}X^Ty\n",
    "$$\n",
    "\n",
    "What is important here is that there exists an analytical solution for the linear regression problem. "
   ]
  },
  {
   "cell_type": "markdown",
   "metadata": {},
   "source": [
    "The implementation in python is easy yet not intuitive. "
   ]
  },
  {
   "cell_type": "code",
   "execution_count": 70,
   "metadata": {},
   "outputs": [],
   "source": [
    "def fit_ols_multiple(X,y):\n",
    "    return np.linalg.inv(X.T@X)@X.T@y"
   ]
  },
  {
   "cell_type": "markdown",
   "metadata": {},
   "source": [
    "Also note that in the multiple regression part is it necessary to assume one factor to be consisting of $1$s in order to calculate $\\beta_0$ (i.e. the intercept)"
   ]
  },
  {
   "cell_type": "code",
   "execution_count": 87,
   "metadata": {},
   "outputs": [
    {
     "data": {
      "text/html": [
       "<div>\n",
       "<style scoped>\n",
       "    .dataframe tbody tr th:only-of-type {\n",
       "        vertical-align: middle;\n",
       "    }\n",
       "\n",
       "    .dataframe tbody tr th {\n",
       "        vertical-align: top;\n",
       "    }\n",
       "\n",
       "    .dataframe thead th {\n",
       "        text-align: right;\n",
       "    }\n",
       "</style>\n",
       "<table border=\"1\" class=\"dataframe\">\n",
       "  <thead>\n",
       "    <tr style=\"text-align: right;\">\n",
       "      <th></th>\n",
       "      <th>sales</th>\n",
       "    </tr>\n",
       "  </thead>\n",
       "  <tbody>\n",
       "    <tr>\n",
       "      <th>0</th>\n",
       "      <td>0.045765</td>\n",
       "    </tr>\n",
       "    <tr>\n",
       "      <th>1</th>\n",
       "      <td>-0.001037</td>\n",
       "    </tr>\n",
       "    <tr>\n",
       "      <th>2</th>\n",
       "      <td>0.188530</td>\n",
       "    </tr>\n",
       "    <tr>\n",
       "      <th>3</th>\n",
       "      <td>2.938889</td>\n",
       "    </tr>\n",
       "  </tbody>\n",
       "</table>\n",
       "</div>"
      ],
      "text/plain": [
       "      sales\n",
       "0  0.045765\n",
       "1 -0.001037\n",
       "2  0.188530\n",
       "3  2.938889"
      ]
     },
     "execution_count": 87,
     "metadata": {},
     "output_type": "execute_result"
    }
   ],
   "source": [
    "X = df[[\"TV\",\"newspaper\",\"radio\"]] # Define X to be all three variables\n",
    "X[\"Intercept\"] = np.ones(len(X)) # add a variable consisting of ones\n",
    "coefs = fit_ols_multiple(X,y) # calculate coefficients\n",
    "coefs"
   ]
  },
  {
   "cell_type": "code",
   "execution_count": 97,
   "metadata": {},
   "outputs": [
    {
     "data": {
      "text/html": [
       "<div>\n",
       "<style scoped>\n",
       "    .dataframe tbody tr th:only-of-type {\n",
       "        vertical-align: middle;\n",
       "    }\n",
       "\n",
       "    .dataframe tbody tr th {\n",
       "        vertical-align: top;\n",
       "    }\n",
       "\n",
       "    .dataframe thead th {\n",
       "        text-align: right;\n",
       "    }\n",
       "</style>\n",
       "<table border=\"1\" class=\"dataframe\">\n",
       "  <thead>\n",
       "    <tr style=\"text-align: right;\">\n",
       "      <th></th>\n",
       "      <th>sales</th>\n",
       "    </tr>\n",
       "  </thead>\n",
       "  <tbody>\n",
       "    <tr>\n",
       "      <th>TV</th>\n",
       "      <td>0.045765</td>\n",
       "    </tr>\n",
       "    <tr>\n",
       "      <th>newspaper</th>\n",
       "      <td>-0.001037</td>\n",
       "    </tr>\n",
       "    <tr>\n",
       "      <th>radio</th>\n",
       "      <td>0.188530</td>\n",
       "    </tr>\n",
       "    <tr>\n",
       "      <th>Intercept</th>\n",
       "      <td>2.938889</td>\n",
       "    </tr>\n",
       "  </tbody>\n",
       "</table>\n",
       "</div>"
      ],
      "text/plain": [
       "              sales\n",
       "TV         0.045765\n",
       "newspaper -0.001037\n",
       "radio      0.188530\n",
       "Intercept  2.938889"
      ]
     },
     "execution_count": 97,
     "metadata": {},
     "output_type": "execute_result"
    }
   ],
   "source": [
    "coefs.index = X.columns # assign names of X\n",
    "coefs"
   ]
  },
  {
   "cell_type": "markdown",
   "metadata": {},
   "source": [
    "**Implementation in python**:  \n",
    "It is tedious and verbose to implement regression from scratch. We will therefore use existing modules to achieve this. In doing so we can also make use of many statistical tests that are calculated on the fly. \n",
    "\n",
    "We will use:\n",
    "\n",
    "- `patsy.dmatrices`: this produces X and y based on a model specification (use model `patsy`)\n",
    "- `statsmodels.OLS`: calculates an ordinary least squares regression (use model `statsmodels`)"
   ]
  },
  {
   "cell_type": "code",
   "execution_count": 6,
   "metadata": {},
   "outputs": [],
   "source": [
    "import statsmodels.api as sm\n",
    "from patsy import dmatrices"
   ]
  },
  {
   "cell_type": "code",
   "execution_count": 7,
   "metadata": {},
   "outputs": [
    {
     "data": {
      "text/plain": [
       "Intercept    2.938889\n",
       "TV           0.045765\n",
       "newspaper   -0.001037\n",
       "radio        0.188530\n",
       "dtype: float64"
      ]
     },
     "execution_count": 7,
     "metadata": {},
     "output_type": "execute_result"
    }
   ],
   "source": [
    "y, X = dmatrices(\"sales ~ TV + newspaper + radio\", df, return_type=\"dataframe\") # y = df[\"sales\"], X = [Intercept, TV, Newspaper, radio]\n",
    "model = sm.OLS(y,X) # define model\n",
    "ols = model.fit() # optimize model, i.e. calculate coefficients\n",
    "ols.params # print regression parameters (i.e. coefficients)"
   ]
  },
  {
   "cell_type": "markdown",
   "metadata": {},
   "source": [
    "This is very helpful as we can also use the optimized model (i.e. variable `ols`) to print summary statistics for the entire  regression model. "
   ]
  },
  {
   "cell_type": "markdown",
   "metadata": {},
   "source": [
    "We will use the combination of both modules / functions to make our lives much easier and be able to explore models."
   ]
  },
  {
   "cell_type": "markdown",
   "metadata": {},
   "source": [
    "**Meaning of regression coefficients:**  \n",
    "We have now seen how to calculate the regression coefficients that minimize the residual sum of squares (RSS). Let's now focus on how to interpret these coefficients:\n",
    "\n",
    "The coeffiecients give the **marginal effect of change** of an independent variable on the dependent variable. For example, a coefficient of `0.18` for `radio` means that increasing radio spent by a $1.000$ USD - and keeping all other variables constant - the sales increase by $180$.\n",
    "\n",
    "It is, however, important to understand that the **size of the coefficient does not indicate importance** and should not be interpreted directly. For example, it cannot be concluded from the above estimation that the effect of *TV* is less than the effect of *radio* if we do not know the scale of the variables. More specifically, the scales of the variables need to be of the same size to make such a statement valid. In the above case it is actually valid to make such a statement because all independent (i.e. explanatory) variables are measures in '000 USD. \n",
    "\n",
    "For most models, the scale between different independent variables differs, however. \n",
    "\n",
    "Let's look at a different dataset containing information about different car models. The dataset has the following variables:\n",
    "\n",
    "- `mpg` = miles per gallon\n",
    "- `cylinders` = number of cylinders \n",
    "- `displacement` = overall volume in the engine as a factor of cylinder circumfrance, depth and total number of cylinders. This metric gives a good proxy for the total amount of power the engine can generate.\n",
    "- `horsepower` = gross horsepower\n",
    "- `weight` = weight of the car in lbs\n",
    "- `acceleration`= time in seconds to 100mph\n",
    "- `year` = year model was produced\n",
    "- `origin` = region (1=US, 2=Europe, 3=Asia)\n",
    "- `name` = name of model\n",
    "\n",
    "Just be looking at the descriptions it becomes apparent that the units of each variable are not comparable. "
   ]
  },
  {
   "cell_type": "code",
   "execution_count": 173,
   "metadata": {},
   "outputs": [
    {
     "data": {
      "text/html": [
       "<div>\n",
       "<style scoped>\n",
       "    .dataframe tbody tr th:only-of-type {\n",
       "        vertical-align: middle;\n",
       "    }\n",
       "\n",
       "    .dataframe tbody tr th {\n",
       "        vertical-align: top;\n",
       "    }\n",
       "\n",
       "    .dataframe thead th {\n",
       "        text-align: right;\n",
       "    }\n",
       "</style>\n",
       "<table border=\"1\" class=\"dataframe\">\n",
       "  <thead>\n",
       "    <tr style=\"text-align: right;\">\n",
       "      <th></th>\n",
       "      <th>mpg</th>\n",
       "      <th>cylinders</th>\n",
       "      <th>displacement</th>\n",
       "      <th>horsepower</th>\n",
       "      <th>weight</th>\n",
       "      <th>acceleration</th>\n",
       "      <th>year</th>\n",
       "      <th>origin</th>\n",
       "      <th>name</th>\n",
       "    </tr>\n",
       "  </thead>\n",
       "  <tbody>\n",
       "    <tr>\n",
       "      <th>0</th>\n",
       "      <td>18.0</td>\n",
       "      <td>8</td>\n",
       "      <td>307.0</td>\n",
       "      <td>130</td>\n",
       "      <td>3504</td>\n",
       "      <td>12.0</td>\n",
       "      <td>70</td>\n",
       "      <td>1</td>\n",
       "      <td>chevrolet chevelle malibu</td>\n",
       "    </tr>\n",
       "    <tr>\n",
       "      <th>1</th>\n",
       "      <td>15.0</td>\n",
       "      <td>8</td>\n",
       "      <td>350.0</td>\n",
       "      <td>165</td>\n",
       "      <td>3693</td>\n",
       "      <td>11.5</td>\n",
       "      <td>70</td>\n",
       "      <td>1</td>\n",
       "      <td>buick skylark 320</td>\n",
       "    </tr>\n",
       "    <tr>\n",
       "      <th>2</th>\n",
       "      <td>18.0</td>\n",
       "      <td>8</td>\n",
       "      <td>318.0</td>\n",
       "      <td>150</td>\n",
       "      <td>3436</td>\n",
       "      <td>11.0</td>\n",
       "      <td>70</td>\n",
       "      <td>1</td>\n",
       "      <td>plymouth satellite</td>\n",
       "    </tr>\n",
       "    <tr>\n",
       "      <th>3</th>\n",
       "      <td>16.0</td>\n",
       "      <td>8</td>\n",
       "      <td>304.0</td>\n",
       "      <td>150</td>\n",
       "      <td>3433</td>\n",
       "      <td>12.0</td>\n",
       "      <td>70</td>\n",
       "      <td>1</td>\n",
       "      <td>amc rebel sst</td>\n",
       "    </tr>\n",
       "    <tr>\n",
       "      <th>4</th>\n",
       "      <td>17.0</td>\n",
       "      <td>8</td>\n",
       "      <td>302.0</td>\n",
       "      <td>140</td>\n",
       "      <td>3449</td>\n",
       "      <td>10.5</td>\n",
       "      <td>70</td>\n",
       "      <td>1</td>\n",
       "      <td>ford torino</td>\n",
       "    </tr>\n",
       "  </tbody>\n",
       "</table>\n",
       "</div>"
      ],
      "text/plain": [
       "    mpg  cylinders  displacement  horsepower  weight  acceleration  year  \\\n",
       "0  18.0          8         307.0         130    3504          12.0    70   \n",
       "1  15.0          8         350.0         165    3693          11.5    70   \n",
       "2  18.0          8         318.0         150    3436          11.0    70   \n",
       "3  16.0          8         304.0         150    3433          12.0    70   \n",
       "4  17.0          8         302.0         140    3449          10.5    70   \n",
       "\n",
       "   origin                       name  \n",
       "0       1  chevrolet chevelle malibu  \n",
       "1       1          buick skylark 320  \n",
       "2       1         plymouth satellite  \n",
       "3       1              amc rebel sst  \n",
       "4       1                ford torino  "
      ]
     },
     "execution_count": 173,
     "metadata": {},
     "output_type": "execute_result"
    }
   ],
   "source": [
    "cars = Datasets.cars(\"pandas\", col=\"all\") # Load cars dataset\n",
    "cars.head()"
   ]
  },
  {
   "cell_type": "markdown",
   "metadata": {},
   "source": [
    "Now let's assume we want to understand the drivers for `mpg`, i.e. what are factors influencing mileage per gallon. We hypothesize about a model that looks as follows:\n",
    "\n",
    "$$\\text{mpg} = \\beta_0 + \\beta_1\\text{horsepower} + \\beta_2\\text{weight} + \\beta_3\\text{year}$$\n",
    "\n",
    "Intuitively we would assume that `mpg`:\n",
    "- decreases with more `horsepower` and `weight` (as big and/or heavy cars usually are less efficient)\n",
    "- increases with `year` (as newer cars are more efficient)"
   ]
  },
  {
   "cell_type": "code",
   "execution_count": 225,
   "metadata": {},
   "outputs": [
    {
     "data": {
      "text/plain": [
       "Intercept    -13.719360\n",
       "horsepower    -0.005000\n",
       "weight        -0.006448\n",
       "year           0.748705\n",
       "dtype: float64"
      ]
     },
     "execution_count": 225,
     "metadata": {},
     "output_type": "execute_result"
    }
   ],
   "source": [
    "y, X = dmatrices(\"mpg ~ horsepower + weight + year\", cars, return_type=\"dataframe\") # define y and X (including intercept)\n",
    "ols = sm.OLS(y,X).fit() # optimize model\n",
    "ols.params # print parameters"
   ]
  },
  {
   "cell_type": "markdown",
   "metadata": {},
   "source": [
    "Our initial intuition was confirmed given the negative signs of coefficients for `horsepower` and `weight` and the positive coefficient for `year`.\n",
    "\n",
    "We can now make a statement that $100$ horsepower extra decreases mileage per gallon by $5$. \n",
    "\n",
    "We may, however, be interested in the **most influential factor**. What is driving `mpg` the most? In this example we cannot state that `year` is driving horsepower the most given the units and scales of all three variables are not comparable.\n",
    "\n",
    "**Standardized coefficients**  \n",
    "In order to answer the question with of the $X$s is most important for determining $Y$ we need to make our $\\beta$s comparable. We can do this following two ways:\n",
    "\n",
    "1. Standardize variables using *z score*\n",
    "\n",
    "2. Standardize coefficients "
   ]
  },
  {
   "cell_type": "markdown",
   "metadata": {},
   "source": [
    "**Z-Score approach**\n",
    "\n",
    "- standardize the variables using a z-score (i.e. mean of 0 and standard deviation of 1 for each variable)\n",
    "- run ols regression and receive standardized coefficients"
   ]
  },
  {
   "cell_type": "code",
   "execution_count": 244,
   "metadata": {},
   "outputs": [],
   "source": [
    "y, X = dmatrices(\"mpg ~ horsepower + weight + year\", cars, return_type=\"dataframe\") # define y and X (including intercept)"
   ]
  },
  {
   "cell_type": "code",
   "execution_count": 245,
   "metadata": {},
   "outputs": [],
   "source": [
    "def zscore(x):\n",
    "    return (x - np.mean(x)) / np.std(x)"
   ]
  },
  {
   "cell_type": "code",
   "execution_count": 246,
   "metadata": {},
   "outputs": [],
   "source": [
    "for col in [\"horsepower\", \"weight\", \"year\"]:\n",
    "    X[col] = zscore(X[col])\n",
    "y = zscore(y)"
   ]
  },
  {
   "cell_type": "code",
   "execution_count": 247,
   "metadata": {},
   "outputs": [
    {
     "data": {
      "text/plain": [
       "Intercept    -3.096481e-16\n",
       "horsepower   -2.465684e-02\n",
       "weight       -7.016947e-01\n",
       "year          3.533670e-01\n",
       "dtype: float64"
      ]
     },
     "execution_count": 247,
     "metadata": {},
     "output_type": "execute_result"
    }
   ],
   "source": [
    "ols = sm.OLS(y,X).fit() # optimize model\n",
    "ols.params # print parameters"
   ]
  },
  {
   "cell_type": "markdown",
   "metadata": {},
   "source": [
    "Notice that the optimal parameters have changed. We can now compare the coefficients and say that \n",
    "\n",
    "- horsepower has the least impact\n",
    "- year has the second least impact\n",
    "- weight has the most impact and it's impact is 2x as high as the impact for year"
   ]
  },
  {
   "cell_type": "markdown",
   "metadata": {},
   "source": [
    "It is recommended to use the below approach as it avoids\n",
    "\n",
    "- rerunning the entire model with new variables\n",
    "- leaves $X$s unchanged"
   ]
  },
  {
   "cell_type": "markdown",
   "metadata": {},
   "source": [
    "**Standardized coefficients approach**\n",
    "\n",
    "- run ols regression using nominal (i.e. original) values for variables\n",
    "- convert nominal coefficients using $$\\beta_{j,std} = \\beta_j \\cdot \\frac{s_{X_j}}{s_Y}$$\n",
    "\n",
    "where\n",
    "\n",
    "$\\beta_{j,std}$ = standardized coefficient for variable $X_j$  \n",
    "$\\beta_j$ = unstandardized / nominal coefficient for variable $X_j$  \n",
    "$s_{X_j}$ = standard deviation of $X_j$  \n",
    "$s_Y$ = standard deviation of $Y$\n",
    "\n",
    "Let's do this in python"
   ]
  },
  {
   "cell_type": "code",
   "execution_count": 259,
   "metadata": {},
   "outputs": [
    {
     "data": {
      "text/plain": [
       "Intercept    -13.719360\n",
       "horsepower    -0.005000\n",
       "weight        -0.006448\n",
       "year           0.748705\n",
       "dtype: float64"
      ]
     },
     "execution_count": 259,
     "metadata": {},
     "output_type": "execute_result"
    }
   ],
   "source": [
    "y, X = dmatrices(\"mpg ~ horsepower + weight + year\", cars, return_type=\"dataframe\") # define y and X (including intercept)\n",
    "ols = sm.OLS(y,X).fit() # optimize model\n",
    "ols.params # print parameters"
   ]
  },
  {
   "cell_type": "code",
   "execution_count": 260,
   "metadata": {},
   "outputs": [
    {
     "name": "stdout",
     "output_type": "stream",
     "text": [
      "[-0.02465684]\n",
      "[-0.70169467]\n",
      "[0.35336703]\n"
     ]
    }
   ],
   "source": [
    "for p, col in zip(ols.params[1:], [\"horsepower\", \"weight\", \"year\"]):\n",
    "    bstd = p * (np.std(X[col])/np.std(y))\n",
    "    print(bstd.values)"
   ]
  },
  {
   "cell_type": "markdown",
   "metadata": {},
   "source": [
    "We can see that the resulting coefficients are different from the z-score approach. However, the interpretation yields exactly the same conclusion:\n",
    "\n",
    "- horsepower has the least impact\n",
    "- year has the second least impact\n",
    "- weight has the most impact and it's impact is 2x as high as the impact for year"
   ]
  },
  {
   "cell_type": "markdown",
   "metadata": {},
   "source": [
    "**Interpretation of standardized coefficients**  \n",
    "We can say that changing $X_j$ bei $1$ standard deviation changes $Y$ bei $\\beta_{j, std}$ standard deviations.\n",
    "\n",
    "Example: changing `year` by $1$ standard deviation changes `mpg` by $0.35\\ldots$ standard deviations. This means "
   ]
  },
  {
   "cell_type": "code",
   "execution_count": 261,
   "metadata": {},
   "outputs": [
    {
     "data": {
      "text/plain": [
       "mpg    2.754512\n",
       "dtype: float64"
      ]
     },
     "execution_count": 261,
     "metadata": {},
     "output_type": "execute_result"
    }
   ],
   "source": [
    "bjstd = 0.35336703\n",
    "std_mpg = np.std(y)\n",
    "std_mpg * bjstd"
   ]
  },
  {
   "cell_type": "markdown",
   "metadata": {},
   "source": [
    "We can confirm this is true by comparing to the original parameter"
   ]
  },
  {
   "cell_type": "code",
   "execution_count": 262,
   "metadata": {},
   "outputs": [
    {
     "data": {
      "text/plain": [
       "2.7545118245163795"
      ]
     },
     "execution_count": 262,
     "metadata": {},
     "output_type": "execute_result"
    }
   ],
   "source": [
    "bj = 0.748705\n",
    "std_year = np.std(X[\"year\"])\n",
    "std_year*bj"
   ]
  },
  {
   "cell_type": "markdown",
   "metadata": {},
   "source": [
    "Summarizing:\n",
    "\n",
    "- nominal coefficients: use to show \"real unit\" effect of $X$ on $y$\n",
    "- standardized coefficients: use to compare effect size of $X$s on $y$"
   ]
  },
  {
   "cell_type": "markdown",
   "metadata": {},
   "source": [
    "## Evaluation of regression function"
   ]
  },
  {
   "cell_type": "markdown",
   "metadata": {},
   "source": [
    "We have esimtated our regression function. However, we don't know how good the model. We have used a model to approximate reality and we need to understand how good our model is in doing so. We therefore need to evaluate our model. This consists of two types of evaluation:\n",
    "\n",
    "1. **Global assessment**, i.e. how good can $Y$ be explained by $X$ \n",
    "\n",
    "2. **Coefficient assemssment**, i.e. if and how individual $X$s contribute to explaining $Y$"
   ]
  },
  {
   "cell_type": "markdown",
   "metadata": {
    "toc-hr-collapsed": true,
    "toc-nb-collapsed": true
   },
   "source": [
    "### Global assessment of regression model"
   ]
  },
  {
   "cell_type": "markdown",
   "metadata": {},
   "source": [
    "The global assessment, i.e. the goodness of fit, can be done using two different metrics:\n",
    "\n",
    "1. $R^2$\n",
    "\n",
    "2. $F$-Statistic"
   ]
  },
  {
   "cell_type": "markdown",
   "metadata": {},
   "source": [
    "We have seen that we optimize our regression model by minimizing\n",
    "\n",
    "$$\n",
    "\\text{RSS} = \\sum_{i=1}^n e_i^2\n",
    "$$\n"
   ]
  },
  {
   "cell_type": "markdown",
   "metadata": {},
   "source": [
    "Unfortunately, we cannot use RSS as an indicator of how good our model is as it is dependents on the size of the dataset. The larger the dataset the higher the RSS. \n",
    "\n",
    "However, we can disassemble the RSS in \n",
    "\n",
    "- explained deviation and\n",
    "- unexplained deviation\n",
    "\n",
    "Let's look at the deviations in the simple linear regression case with one explanatory variable $X$ and the dependent variable $Y$.\n",
    "\n",
    "<img src=\"https://www.dropbox.com/s/rz386z8fvl43o6o/regression_deviation.png?dl=1\" alt=\"regression_model\" width=\"50%\" align=\"center\"/>\n",
    "\n"
   ]
  },
  {
   "cell_type": "markdown",
   "metadata": {},
   "source": [
    "Let's analyse one single observation $x_i$ with its corresponding observation $y_i$. The point $(x_i, y_i)$ is above the mean $\\bar{y}$. We treat $y_i - \\bar{y}$ as the total deviation. This deviation can be separated into:\n",
    "\n",
    "- explained deviation: $\\hat{y}_i - \\bar{y}$; given $x_i$ is higher than $\\bar{x}$ we expect $\\hat{y}_i$ to be higher than $\\bar{y}$\n",
    "\n",
    "- unexplained deviation: $\\epsilon_i$; cannot be exlained by the above argument\n",
    "\n",
    "We can therefore say that: *total deviation = explained deviation + residuum*\n",
    "\n",
    "Which can trivially be written as:\n",
    "\n",
    "$$y_i - \\bar{y} = (\\hat{y}_i - \\bar{y}) + (y_i - \\hat{y}_i)$$\n",
    "\n",
    "This equation also holds for multiple regressions."
   ]
  },
  {
   "cell_type": "markdown",
   "metadata": {},
   "source": [
    "**Definition of $R^2$**  \n",
    "Is derived from this relationship and is defined as \n",
    "\n",
    "$$R^2 = \\frac{\\text{explained deviation}}{\\text{total deviation}} = \\frac{\\sum_{i=1}^I (\\hat{y}_i - \\bar{y})^2}{\\sum_{i=1}^I (y_i - \\bar{y})^2}$$\n",
    "\n",
    "The $R^2$ score can be interpreted as how much % can be explained by the specified model. (Note: altenatively, the $R^2$ can also be calculated as the square of the correlation between $Y$ and $\\hat{Y}$).\n",
    "\n",
    "Let's look at our original advertisment model and see how good the model actually is:"
   ]
  },
  {
   "cell_type": "code",
   "execution_count": 328,
   "metadata": {},
   "outputs": [
    {
     "data": {
      "text/plain": [
       "0.611875050850071"
      ]
     },
     "execution_count": 328,
     "metadata": {},
     "output_type": "execute_result"
    }
   ],
   "source": [
    "y, X = dmatrices(\"sales ~ TV\", df, return_type=\"dataframe\") # y = df[\"sales\"], X = [Intercept, TV]\n",
    "model = sm.OLS(y,X) # define model\n",
    "ols = model.fit() # optimize model, i.e. calculate coefficients\n",
    "ols.rsquared # print regression parameters (i.e. coefficients)"
   ]
  },
  {
   "cell_type": "markdown",
   "metadata": {},
   "source": [
    "Alternatively we can calcualte it as the square of correlation between $Y$ and $\\hat{Y}$,"
   ]
  },
  {
   "cell_type": "code",
   "execution_count": 329,
   "metadata": {},
   "outputs": [
    {
     "data": {
      "text/html": [
       "<div>\n",
       "<style scoped>\n",
       "    .dataframe tbody tr th:only-of-type {\n",
       "        vertical-align: middle;\n",
       "    }\n",
       "\n",
       "    .dataframe tbody tr th {\n",
       "        vertical-align: top;\n",
       "    }\n",
       "\n",
       "    .dataframe thead th {\n",
       "        text-align: right;\n",
       "    }\n",
       "</style>\n",
       "<table border=\"1\" class=\"dataframe\">\n",
       "  <thead>\n",
       "    <tr style=\"text-align: right;\">\n",
       "      <th></th>\n",
       "      <th>sales</th>\n",
       "      <th>0</th>\n",
       "    </tr>\n",
       "  </thead>\n",
       "  <tbody>\n",
       "    <tr>\n",
       "      <th>sales</th>\n",
       "      <td>1.000000</td>\n",
       "      <td>0.611875</td>\n",
       "    </tr>\n",
       "    <tr>\n",
       "      <th>0</th>\n",
       "      <td>0.611875</td>\n",
       "      <td>1.000000</td>\n",
       "    </tr>\n",
       "  </tbody>\n",
       "</table>\n",
       "</div>"
      ],
      "text/plain": [
       "          sales         0\n",
       "sales  1.000000  0.611875\n",
       "0      0.611875  1.000000"
      ]
     },
     "execution_count": 329,
     "metadata": {},
     "output_type": "execute_result"
    }
   ],
   "source": [
    "yhat = ols.predict(X)\n",
    "ys = pd.concat((y,yhat), axis=1)\n",
    "ys.corr()**2"
   ]
  },
  {
   "cell_type": "markdown",
   "metadata": {},
   "source": [
    "Either way, this means that $\\approx 60\\%$ of sales deviation can be explained by spent in TV advertisment."
   ]
  },
  {
   "cell_type": "markdown",
   "metadata": {},
   "source": [
    "While the $R^2$ is a good metric it has some drawbacks, mostly:\n",
    "\n",
    "- does not account for size of dataset: for example the $R^2$ of two data points is always 1 given we can always connect them using a line\n",
    "- does not account for number of $X$s: complex models with many variables always have a higher $R^2$ (all other things being equal)\n",
    "\n",
    "To compensate for these drawbacks we can use \n",
    "\n",
    "- adjusted $R^2$\n",
    "- $F$-statistic"
   ]
  },
  {
   "cell_type": "markdown",
   "metadata": {},
   "source": [
    "**Adjusted $R^2$**  \n",
    "Takes the number of variables into account and adjusts for it by \n",
    "\n",
    "$$R^2_{adj} = R^2 - \\frac{J \\cdot (1 - R^2}{N- J - 1}$$\n",
    "\n",
    "where:\n",
    "\n",
    "$N$ = number of observations (i.e. elements in dataset)  \n",
    "$J$ = number of coefficients (i.e. variables in datatset)  \n",
    "$N - J - 1$ = number of degrees of freedom\n",
    "\n",
    "Comparison of $R^2$ and $R^2_{adj}$ using our advertisment dataset"
   ]
  },
  {
   "cell_type": "markdown",
   "metadata": {},
   "source": [
    "**F-Statistic**\n",
    "\n",
    "The $R^2$ measures how much of $Y$ can be explained by the model. Given in most research (and practical) context our data is based on a sample and not a population we have to understand to what extend the model - based on the sample data - is valid for the population. Therefore, we need to **understand the statistical significance of the model**. This is what the $F$-statistic is used for. \n",
    "\n",
    "The $F$-statistic includes\n",
    "\n",
    "- the deviations explained above\n",
    "- the number of observations\n",
    "- the number of coefficients \n",
    "\n",
    "Given the estimated regression function (of a sample)\n",
    "\n",
    "$$\\hat{Y} = \\beta_0 + \\beta_1x_1 + \\beta_2x_2 + \\ldots + \\beta_Jx_J + \\epsilon$$\n",
    "\n",
    "can be interpreted as \"true\" function with unknown parameters $\\beta_0, \\beta_1, \\beta_2, \\ldots,\\beta_J$ which describes the causal realtionship of the population. This function includes an error term ($\\epsilon$). Therefore, the regression function can be regarded as a **stochastic model**.\n",
    "\n",
    "As discussed $\\epsilon$ includes all random factors which drive the dependent variable $Y$. This variable cannot be observed directly (given we don't know which unsystematic factors influence $Y$ or else we would have included them) but is measured by the **residuals**. \n",
    "\n",
    "It follows from the above statement that $Y$ is also a random variable and the the coefficients (i.e. $\\beta$s) are also realisation of random variables. Therefore with different samples these coefficients will vary around the true value of $\\beta$.\n",
    "\n",
    "If a causal relationship exists betwenn $Y$ and $X$ then the true regression coefficients must be different from zero. \n",
    "\n",
    "To this end, for testing the significance of the regression model the following **null hypotheses must be tested**:\n",
    "\n",
    "$$H_0 : \\beta_0 = \\beta_1 = \\ldots = \\beta_J = 0$$\n",
    "\n",
    "For testing this hypothesis we conduct the $F$-Test using the $F$-distribution doing the following:\n",
    "\n",
    "- calculate the empirical $F$-value from the model \n",
    "- provide significance level\n",
    "- compare to the theoretical $F$-value given the $F$-distribution / calculate p-values\n",
    "\n",
    "**Calculation of empirical $F$-value**:\n",
    "\n",
    "$$F_emp = \\frac{\\sum_{i=1}^I(\\hat{y}_i - \\bar{y})^2/J}{\\sum_{i=1}^I(y_i - \\hat{y}_i)^2/(I - J - 1)} = \\frac{\\text{explained deviation}/J}{\\text{unexplained deviation}/(I - J - 1)} = \\frac{R^2/J}{(1 - R^2)/(I - J - 1)}$$\n",
    "\n",
    "where:\n",
    "\n",
    "$I$ = number of observations  \n",
    "$J$ = number of parameters (coefficients)\n",
    "\n",
    "\n",
    "Example using the `car dataset`"
   ]
  },
  {
   "cell_type": "markdown",
   "metadata": {},
   "source": [
    "**1. calcualte empirical f-value**"
   ]
  },
  {
   "cell_type": "code",
   "execution_count": 473,
   "metadata": {},
   "outputs": [
    {
     "data": {
      "text/plain": [
       "545.3985163061409"
      ]
     },
     "execution_count": 473,
     "metadata": {},
     "output_type": "execute_result"
    }
   ],
   "source": [
    "# Caluclate model\n",
    "y, X = dmatrices(\"mpg ~ horsepower + weight + year\", cars, return_type=\"dataframe\") \n",
    "ols = sm.OLS(y, X).fit()\n",
    "f_emp = ols.fvalue\n",
    "f_emp"
   ]
  },
  {
   "cell_type": "markdown",
   "metadata": {},
   "source": [
    "We can use the function from our model. However, let's check if the value can actually be recalculated using the above formula:"
   ]
  },
  {
   "cell_type": "code",
   "execution_count": 474,
   "metadata": {},
   "outputs": [],
   "source": [
    "def fvalue(y,X):\n",
    "    y = y.iloc[:,0] \n",
    "    yhat = ols.fittedvalues\n",
    "    ybar = np.mean(yhat)\n",
    "    J = X.shape[1]-1 # exclude intercept\n",
    "    I = X.shape[0]\n",
    "    fvalue = (np.sum((yhat - ybar)**2)/J)/(np.sum((y - yhat)**2)/(I-J-1))\n",
    "    return fvalue"
   ]
  },
  {
   "cell_type": "code",
   "execution_count": 475,
   "metadata": {},
   "outputs": [
    {
     "data": {
      "text/plain": [
       "545.3985163061416"
      ]
     },
     "execution_count": 475,
     "metadata": {},
     "output_type": "execute_result"
    }
   ],
   "source": [
    "# Calculate empirical F-value\n",
    "fvalue(y,X)"
   ]
  },
  {
   "cell_type": "markdown",
   "metadata": {},
   "source": [
    "We will use the function from statsmodels from now on."
   ]
  },
  {
   "cell_type": "markdown",
   "metadata": {},
   "source": [
    "**2. determine significance level**"
   ]
  },
  {
   "cell_type": "code",
   "execution_count": 476,
   "metadata": {},
   "outputs": [],
   "source": [
    "alpha = 0.05"
   ]
  },
  {
   "cell_type": "markdown",
   "metadata": {},
   "source": [
    "**3. compare to theoretical f-value**"
   ]
  },
  {
   "cell_type": "code",
   "execution_count": 477,
   "metadata": {},
   "outputs": [],
   "source": [
    "import scipy.stats as stats"
   ]
  },
  {
   "cell_type": "code",
   "execution_count": 478,
   "metadata": {},
   "outputs": [
    {
     "name": "stdout",
     "output_type": "stream",
     "text": [
      "Null hypothesis can be rejected\n"
     ]
    }
   ],
   "source": [
    "dfj = X.shape[1] - 1 # three independent variables\n",
    "dfn = len(X) - dfj - 1 # degrees of freedom\n",
    "f = stats.f(dfj, dfn)\n",
    "pvalue = 1 - f.cdf(f_emp)\n",
    "if pvalue < alpha:\n",
    "    print(\"Null hypothesis can be rejected\")\n",
    "else: \n",
    "    print(\"Null hypothesis cannot be rejected\")"
   ]
  },
  {
   "cell_type": "markdown",
   "metadata": {},
   "source": [
    "Interpretation: our model yields an empirical $F$-value that is very unlikely under the theoretical $F$-distribuation. Therefore, we can conclude that at least one of the parameters ($\\beta$s) is not equal to zero. This means that we actually can be quite certain that we have specified a model that found a (statistical) realtion between $Y$ and $X$."
   ]
  },
  {
   "cell_type": "markdown",
   "metadata": {
    "toc-hr-collapsed": true,
    "toc-nb-collapsed": true
   },
   "source": [
    "### Assessment of regression coefficients"
   ]
  },
  {
   "cell_type": "markdown",
   "metadata": {},
   "source": [
    "We have so far \"only\" tested the significance of the entire model. However, we have not tested the individual coefficients. \n",
    "\n",
    "The common hypothesis we need to evaluate is:\n",
    "\n",
    "$$H_0 : \\beta_j = 0$$\n",
    "\n",
    "(note that we could in principal also conduct other hypotheses)"
   ]
  },
  {
   "cell_type": "markdown",
   "metadata": {},
   "source": [
    "**$t$-statistic**\n",
    "\n",
    "We have seen in previous chapter how to conduct the $t$-test. The steps are the same as with the $F$-test.\n",
    "\n",
    "1. we calculate the emprical $t$-value\n",
    "2. we provide significance level\n",
    "3. we compare to the theoretical $t$-value given the $t$-distribution / calculate p-values\n",
    "\n",
    "If we test the null hypothesis as described above the emprical $t$-value can be determined using:\n",
    "\n",
    "$$t_\\text{emp} = \\frac{\\beta_j}{s_{\\beta_j}}$$\n",
    "\n",
    "where:\n",
    "\n",
    "$s_{\\beta_j}$ = the standard error of $\\beta_j$.\n",
    "\n",
    "The calculation of the standard error in the multiple regression case is somewhat more complex and will not be covered here. This is due to the fact that\n",
    "\n",
    "1. most statistical packages yield the standard errors\n",
    "2. we could calculate it using a bootstrap approach\n",
    "\n",
    "For further information on the calculation of standard errors see, e.g., [*Backhaus et al (2017), p. 122ff*](https://www.springer.com/de/book/9783662460764)."
   ]
  },
  {
   "cell_type": "markdown",
   "metadata": {},
   "source": [
    "Example: using the above model"
   ]
  },
  {
   "cell_type": "code",
   "execution_count": 491,
   "metadata": {},
   "outputs": [
    {
     "data": {
      "text/plain": [
       "Intercept     -3.280764\n",
       "horsepower    -0.529690\n",
       "weight       -15.767548\n",
       "year          14.365022\n",
       "dtype: float64"
      ]
     },
     "execution_count": 491,
     "metadata": {},
     "output_type": "execute_result"
    }
   ],
   "source": [
    "t_emp = ols.tvalues\n",
    "t_emp"
   ]
  },
  {
   "cell_type": "code",
   "execution_count": 492,
   "metadata": {},
   "outputs": [
    {
     "name": "stdout",
     "output_type": "stream",
     "text": [
      "Null hypothesis for Intercept can be rejected\n",
      "Null hypothesis for horsepower cannot be rejected\n",
      "Null hypothesis for weight can be rejected\n",
      "Null hypothesis for year can be rejected\n"
     ]
    }
   ],
   "source": [
    "alpha = 0.05\n",
    "pvalues = 1 - stats.t(dfn).cdf(abs(t_emp))\n",
    "for pvalue, col in zip(pvalues, X.columns):\n",
    "    if pvalue < alpha:\n",
    "        print(f\"Null hypothesis for {col} can be rejected\")\n",
    "    else: \n",
    "        print(f\"Null hypothesis for {col} cannot be rejected\")"
   ]
  },
  {
   "cell_type": "markdown",
   "metadata": {},
   "source": [
    "**Confidence intervals using bootstrap approach**"
   ]
  },
  {
   "cell_type": "code",
   "execution_count": 506,
   "metadata": {},
   "outputs": [],
   "source": [
    "sims = 10_000\n",
    "params = np.empty((sims,X.shape[1]))\n",
    "for i in range(sims):\n",
    "    idx = np.random.choice(range(len(X)),replace=True, size=len(X))\n",
    "    params[i,:] = sm.OLS(y.iloc[idx],X.iloc[idx,:]).fit().params"
   ]
  },
  {
   "cell_type": "code",
   "execution_count": 510,
   "metadata": {},
   "outputs": [
    {
     "name": "stdout",
     "output_type": "stream",
     "text": [
      "Intercept [-21.37340957  -6.05244358]\n",
      "horsepower [-0.02480722  0.01476044]\n",
      "weight [-0.00730325 -0.00564262]\n",
      "year [0.65134201 0.84715418]\n"
     ]
    }
   ],
   "source": [
    "for i, col in zip(range(params.shape[1]), X.columns):\n",
    "    print(col, np.quantile(params[:,i], [0.025,0.975]))"
   ]
  },
  {
   "cell_type": "markdown",
   "metadata": {},
   "source": [
    "Using the `summary` function we can, however, make this analysis less verbose. We also get other statistics such as "
   ]
  },
  {
   "cell_type": "code",
   "execution_count": 493,
   "metadata": {},
   "outputs": [
    {
     "data": {
      "text/html": [
       "<table class=\"simpletable\">\n",
       "<caption>OLS Regression Results</caption>\n",
       "<tr>\n",
       "  <th>Dep. Variable:</th>           <td>mpg</td>       <th>  R-squared:         </th> <td>   0.808</td> \n",
       "</tr>\n",
       "<tr>\n",
       "  <th>Model:</th>                   <td>OLS</td>       <th>  Adj. R-squared:    </th> <td>   0.807</td> \n",
       "</tr>\n",
       "<tr>\n",
       "  <th>Method:</th>             <td>Least Squares</td>  <th>  F-statistic:       </th> <td>   545.4</td> \n",
       "</tr>\n",
       "<tr>\n",
       "  <th>Date:</th>             <td>Thu, 12 Nov 2020</td> <th>  Prob (F-statistic):</th> <td>9.37e-139</td>\n",
       "</tr>\n",
       "<tr>\n",
       "  <th>Time:</th>                 <td>20:58:38</td>     <th>  Log-Likelihood:    </th> <td> -1037.4</td> \n",
       "</tr>\n",
       "<tr>\n",
       "  <th>No. Observations:</th>      <td>   392</td>      <th>  AIC:               </th> <td>   2083.</td> \n",
       "</tr>\n",
       "<tr>\n",
       "  <th>Df Residuals:</th>          <td>   388</td>      <th>  BIC:               </th> <td>   2099.</td> \n",
       "</tr>\n",
       "<tr>\n",
       "  <th>Df Model:</th>              <td>     3</td>      <th>                     </th>     <td> </td>    \n",
       "</tr>\n",
       "<tr>\n",
       "  <th>Covariance Type:</th>      <td>nonrobust</td>    <th>                     </th>     <td> </td>    \n",
       "</tr>\n",
       "</table>\n",
       "<table class=\"simpletable\">\n",
       "<tr>\n",
       "       <td></td>         <th>coef</th>     <th>std err</th>      <th>t</th>      <th>P>|t|</th>  <th>[0.025</th>    <th>0.975]</th>  \n",
       "</tr>\n",
       "<tr>\n",
       "  <th>Intercept</th>  <td>  -13.7194</td> <td>    4.182</td> <td>   -3.281</td> <td> 0.001</td> <td>  -21.941</td> <td>   -5.498</td>\n",
       "</tr>\n",
       "<tr>\n",
       "  <th>horsepower</th> <td>   -0.0050</td> <td>    0.009</td> <td>   -0.530</td> <td> 0.597</td> <td>   -0.024</td> <td>    0.014</td>\n",
       "</tr>\n",
       "<tr>\n",
       "  <th>weight</th>     <td>   -0.0064</td> <td>    0.000</td> <td>  -15.768</td> <td> 0.000</td> <td>   -0.007</td> <td>   -0.006</td>\n",
       "</tr>\n",
       "<tr>\n",
       "  <th>year</th>       <td>    0.7487</td> <td>    0.052</td> <td>   14.365</td> <td> 0.000</td> <td>    0.646</td> <td>    0.851</td>\n",
       "</tr>\n",
       "</table>\n",
       "<table class=\"simpletable\">\n",
       "<tr>\n",
       "  <th>Omnibus:</th>       <td>41.952</td> <th>  Durbin-Watson:     </th> <td>   1.227</td>\n",
       "</tr>\n",
       "<tr>\n",
       "  <th>Prob(Omnibus):</th> <td> 0.000</td> <th>  Jarque-Bera (JB):  </th> <td>  69.490</td>\n",
       "</tr>\n",
       "<tr>\n",
       "  <th>Skew:</th>          <td> 0.671</td> <th>  Prob(JB):          </th> <td>8.14e-16</td>\n",
       "</tr>\n",
       "<tr>\n",
       "  <th>Kurtosis:</th>      <td> 4.566</td> <th>  Cond. No.          </th> <td>7.48e+04</td>\n",
       "</tr>\n",
       "</table><br/><br/>Warnings:<br/>[1] Standard Errors assume that the covariance matrix of the errors is correctly specified.<br/>[2] The condition number is large, 7.48e+04. This might indicate that there are<br/>strong multicollinearity or other numerical problems."
      ],
      "text/plain": [
       "<class 'statsmodels.iolib.summary.Summary'>\n",
       "\"\"\"\n",
       "                            OLS Regression Results                            \n",
       "==============================================================================\n",
       "Dep. Variable:                    mpg   R-squared:                       0.808\n",
       "Model:                            OLS   Adj. R-squared:                  0.807\n",
       "Method:                 Least Squares   F-statistic:                     545.4\n",
       "Date:                Thu, 12 Nov 2020   Prob (F-statistic):          9.37e-139\n",
       "Time:                        20:58:38   Log-Likelihood:                -1037.4\n",
       "No. Observations:                 392   AIC:                             2083.\n",
       "Df Residuals:                     388   BIC:                             2099.\n",
       "Df Model:                           3                                         \n",
       "Covariance Type:            nonrobust                                         \n",
       "==============================================================================\n",
       "                 coef    std err          t      P>|t|      [0.025      0.975]\n",
       "------------------------------------------------------------------------------\n",
       "Intercept    -13.7194      4.182     -3.281      0.001     -21.941      -5.498\n",
       "horsepower    -0.0050      0.009     -0.530      0.597      -0.024       0.014\n",
       "weight        -0.0064      0.000    -15.768      0.000      -0.007      -0.006\n",
       "year           0.7487      0.052     14.365      0.000       0.646       0.851\n",
       "==============================================================================\n",
       "Omnibus:                       41.952   Durbin-Watson:                   1.227\n",
       "Prob(Omnibus):                  0.000   Jarque-Bera (JB):               69.490\n",
       "Skew:                           0.671   Prob(JB):                     8.14e-16\n",
       "Kurtosis:                       4.566   Cond. No.                     7.48e+04\n",
       "==============================================================================\n",
       "\n",
       "Warnings:\n",
       "[1] Standard Errors assume that the covariance matrix of the errors is correctly specified.\n",
       "[2] The condition number is large, 7.48e+04. This might indicate that there are\n",
       "strong multicollinearity or other numerical problems.\n",
       "\"\"\""
      ]
     },
     "execution_count": 493,
     "metadata": {},
     "output_type": "execute_result"
    }
   ],
   "source": [
    "ols.summary()"
   ]
  },
  {
   "cell_type": "markdown",
   "metadata": {
    "toc-hr-collapsed": true,
    "toc-nb-collapsed": true
   },
   "source": [
    "## Validating model assumptions"
   ]
  },
  {
   "cell_type": "markdown",
   "metadata": {},
   "source": [
    "We have so far not discussed the assumptions that we depend on when calculating test statistics etc. For calculating these statistics we mainly rely on the residual which is stochastic. We introduced this term to incorporate uncertainty into our model which must be included given that we are estimating a model (and its parameters) based on a sample (see last chapter). When conducting the regression analysis we make multiple assumptions regarding the stochastic component. \n",
    "\n",
    "**Assumptions**:\n",
    "\n",
    "1. the model is correctly specified\n",
    "    - it is linear for the parameters ($\\beta$s)\n",
    "    - it includes the relevant explanatory variables\n",
    "    - the number of estimated parameters (J + 1) is smaller than the number of observations (I)\n",
    "\n",
    "2. the expected value of $\\epsilon$ is zero\n",
    "3. the correlation between the explanatory variables and $\\epsilon$ is zero\n",
    "4. the variance of $\\epsilon$ is constant (called *homoscedasticity*)\n",
    "5. there is no autocorrelation in $\\epsilon$\n",
    "6. there is no linear dependency between the explanatory variables $X$\n",
    "7. the residuals are normally distributed\n",
    "\n",
    "If assumptions 1 to 6 hold the linear regression model yields unbiased estimates (best linear unbiased estimator, BLUE).\n",
    "\n",
    "For conducting the significance tests ($F$- and $t$-test) assumption 7 needs to hold. "
   ]
  },
  {
   "cell_type": "markdown",
   "metadata": {},
   "source": [
    "Please refer to [*Backhaus et al (2017), p. 89ff*] for furter details on testing model assumptions."
   ]
  },
  {
   "cell_type": "markdown",
   "metadata": {
    "toc-hr-collapsed": true,
    "toc-nb-collapsed": true
   },
   "source": [
    "## Non-linearity"
   ]
  },
  {
   "cell_type": "markdown",
   "metadata": {},
   "source": [
    "A common misconception with linear regression is that the relation between $Y$ and $X$ needs to be linear. This is actually not the case. Assumption A1 only stipulates for linearity in the parameters. It is possible in many cases to transform non-linear relationships into linear relationships. \n",
    "\n",
    "Given the model \n",
    "\n",
    "$$Y = \\beta_0 + \\beta_1X + \\epsilon$$\n",
    "\n",
    "we can replace $X$ with $X' = f(X)$, where $f$ is a nonlinear function. The resulting model:\n",
    "\n",
    "$$Y = \\beta_0 + \\beta_1X' + \\epsilon$$\n",
    "\n",
    "is still linear in its parameters.\n",
    "\n",
    "The most common nonlinear transformations in using linear regression is the log-transformation. \n",
    "\n",
    "Remember that $$log(a) = b \\leftrightarrow a = e^b$$ \n",
    "\n",
    "\n",
    "We can distinguish between four model types:\n",
    "\n",
    "1. level-level model: $Y = \\beta_0 + \\beta_1X + \\epsilon$\n",
    "\n",
    "2. log-level model: $log_e(y) = \\beta_0 + \\beta_1X + \\epsilon$\n",
    "\n",
    "3. level-log model: $Y = \\beta_0 + \\beta_1log_e(X) + \\epsilon$\n",
    "\n",
    "4. log-log model: $log_e(y) = \\beta_0 + \\beta_1log_e(X) + \\epsilon$\n",
    "\n",
    "When using models 2 to 4 it is important that the interpretation of the coefficients differs from the *level-level* model. Interpretations are as follows:\n",
    "\n",
    "- log-level: increasing $X$ by one unit changes $Y$(on average and approximately) by $100 \\cdot \\beta_1\\%$\n",
    "\n",
    "- level-log: increasing $X$ by one percent, changes $Y$ (on average) by $\\beta_1/100$ units\n",
    "\n",
    "- log-log: increasing $X$ by one percent, changes $Y$ (on average) by $\\beta_1\\%$"
   ]
  },
  {
   "cell_type": "markdown",
   "metadata": {},
   "source": [
    "In order to determine if it is helpful to transform data we should **inspect it visually**. "
   ]
  },
  {
   "cell_type": "code",
   "execution_count": 606,
   "metadata": {},
   "outputs": [
    {
     "data": {
      "text/html": [
       "<div>\n",
       "<style scoped>\n",
       "    .dataframe tbody tr th:only-of-type {\n",
       "        vertical-align: middle;\n",
       "    }\n",
       "\n",
       "    .dataframe tbody tr th {\n",
       "        vertical-align: top;\n",
       "    }\n",
       "\n",
       "    .dataframe thead th {\n",
       "        text-align: right;\n",
       "    }\n",
       "</style>\n",
       "<table border=\"1\" class=\"dataframe\">\n",
       "  <thead>\n",
       "    <tr style=\"text-align: right;\">\n",
       "      <th></th>\n",
       "      <th>mpg</th>\n",
       "      <th>cylinders</th>\n",
       "      <th>displacement</th>\n",
       "      <th>horsepower</th>\n",
       "      <th>weight</th>\n",
       "      <th>acceleration</th>\n",
       "      <th>year</th>\n",
       "      <th>origin</th>\n",
       "      <th>name</th>\n",
       "    </tr>\n",
       "  </thead>\n",
       "  <tbody>\n",
       "    <tr>\n",
       "      <th>0</th>\n",
       "      <td>18.0</td>\n",
       "      <td>8</td>\n",
       "      <td>307.0</td>\n",
       "      <td>130</td>\n",
       "      <td>3504</td>\n",
       "      <td>12.0</td>\n",
       "      <td>70</td>\n",
       "      <td>1</td>\n",
       "      <td>chevrolet chevelle malibu</td>\n",
       "    </tr>\n",
       "    <tr>\n",
       "      <th>1</th>\n",
       "      <td>15.0</td>\n",
       "      <td>8</td>\n",
       "      <td>350.0</td>\n",
       "      <td>165</td>\n",
       "      <td>3693</td>\n",
       "      <td>11.5</td>\n",
       "      <td>70</td>\n",
       "      <td>1</td>\n",
       "      <td>buick skylark 320</td>\n",
       "    </tr>\n",
       "    <tr>\n",
       "      <th>2</th>\n",
       "      <td>18.0</td>\n",
       "      <td>8</td>\n",
       "      <td>318.0</td>\n",
       "      <td>150</td>\n",
       "      <td>3436</td>\n",
       "      <td>11.0</td>\n",
       "      <td>70</td>\n",
       "      <td>1</td>\n",
       "      <td>plymouth satellite</td>\n",
       "    </tr>\n",
       "    <tr>\n",
       "      <th>3</th>\n",
       "      <td>16.0</td>\n",
       "      <td>8</td>\n",
       "      <td>304.0</td>\n",
       "      <td>150</td>\n",
       "      <td>3433</td>\n",
       "      <td>12.0</td>\n",
       "      <td>70</td>\n",
       "      <td>1</td>\n",
       "      <td>amc rebel sst</td>\n",
       "    </tr>\n",
       "    <tr>\n",
       "      <th>4</th>\n",
       "      <td>17.0</td>\n",
       "      <td>8</td>\n",
       "      <td>302.0</td>\n",
       "      <td>140</td>\n",
       "      <td>3449</td>\n",
       "      <td>10.5</td>\n",
       "      <td>70</td>\n",
       "      <td>1</td>\n",
       "      <td>ford torino</td>\n",
       "    </tr>\n",
       "  </tbody>\n",
       "</table>\n",
       "</div>"
      ],
      "text/plain": [
       "    mpg  cylinders  displacement  horsepower  weight  acceleration  year  \\\n",
       "0  18.0          8         307.0         130    3504          12.0    70   \n",
       "1  15.0          8         350.0         165    3693          11.5    70   \n",
       "2  18.0          8         318.0         150    3436          11.0    70   \n",
       "3  16.0          8         304.0         150    3433          12.0    70   \n",
       "4  17.0          8         302.0         140    3449          10.5    70   \n",
       "\n",
       "   origin                       name  \n",
       "0       1  chevrolet chevelle malibu  \n",
       "1       1          buick skylark 320  \n",
       "2       1         plymouth satellite  \n",
       "3       1              amc rebel sst  \n",
       "4       1                ford torino  "
      ]
     },
     "execution_count": 606,
     "metadata": {},
     "output_type": "execute_result"
    }
   ],
   "source": [
    "cars.head()"
   ]
  },
  {
   "cell_type": "code",
   "execution_count": 633,
   "metadata": {},
   "outputs": [
    {
     "data": {
      "image/png": "[encoded data removed]",
      "text/plain": [
       "<Figure size 582.375x540 with 12 Axes>"
      ]
     },
     "metadata": {
      "filenames": {
       "image/png": "/Users/felix/Dropbox/02_FH/01 Lehre/BA/Skript-Business-Analytics/_build/jupyter_execute/chapters/chapter_analytics/S05a_Regression_96_0.png"
      },
      "needs_background": "light"
     },
     "output_type": "display_data"
    }
   ],
   "source": [
    "data = cars[[\"mpg\", \"horsepower\",\"acceleration\", \"origin\" ]] # let's take four variables and inspect them\n",
    "sns.pairplot(data,hue=\"origin\"); # show pair by pair plot for all variables, color indicates origin"
   ]
  },
  {
   "cell_type": "markdown",
   "metadata": {},
   "source": [
    "We can see that `mpg` and `horsepower` seems to be non-linear. \n",
    "\n",
    "We could therefore decide (and test) to transform one or both of the variables. \n",
    "\n",
    "Let's see how that works."
   ]
  },
  {
   "cell_type": "code",
   "execution_count": 638,
   "metadata": {},
   "outputs": [
    {
     "data": {
      "image/png": "[encoded data removed]",
      "text/plain": [
       "<Figure size 648x504 with 2 Axes>"
      ]
     },
     "metadata": {
      "filenames": {
       "image/png": "/Users/felix/Dropbox/02_FH/01 Lehre/BA/Skript-Business-Analytics/_build/jupyter_execute/chapters/chapter_analytics/S05a_Regression_98_0.png"
      },
      "needs_background": "light"
     },
     "output_type": "display_data"
    }
   ],
   "source": [
    "x, y = data[\"mpg\"], data[\"horsepower\"]\n",
    "fig, axes = plt.subplots(ncols=2, figsize=(9,7))\n",
    "ax1, ax2 = axes\n",
    "ax1.scatter(x,y), ax1.set_title(\"mpg vs. horsepower\")\n",
    "ax2.scatter(np.log(x), np.log(y)), ax2.set_title(\"log(mpg) vs. log(horsepower)\")\n",
    "sns.despine()"
   ]
  },
  {
   "cell_type": "markdown",
   "metadata": {},
   "source": [
    "Let's run a regression analysis on both models"
   ]
  },
  {
   "cell_type": "code",
   "execution_count": 639,
   "metadata": {},
   "outputs": [
    {
     "data": {
      "text/html": [
       "<table class=\"simpletable\">\n",
       "<caption>OLS Regression Results</caption>\n",
       "<tr>\n",
       "  <th>Dep. Variable:</th>           <td>mpg</td>       <th>  R-squared:         </th> <td>   0.606</td>\n",
       "</tr>\n",
       "<tr>\n",
       "  <th>Model:</th>                   <td>OLS</td>       <th>  Adj. R-squared:    </th> <td>   0.605</td>\n",
       "</tr>\n",
       "<tr>\n",
       "  <th>Method:</th>             <td>Least Squares</td>  <th>  F-statistic:       </th> <td>   599.7</td>\n",
       "</tr>\n",
       "<tr>\n",
       "  <th>Date:</th>             <td>Thu, 12 Nov 2020</td> <th>  Prob (F-statistic):</th> <td>7.03e-81</td>\n",
       "</tr>\n",
       "<tr>\n",
       "  <th>Time:</th>                 <td>22:11:49</td>     <th>  Log-Likelihood:    </th> <td> -1178.7</td>\n",
       "</tr>\n",
       "<tr>\n",
       "  <th>No. Observations:</th>      <td>   392</td>      <th>  AIC:               </th> <td>   2361.</td>\n",
       "</tr>\n",
       "<tr>\n",
       "  <th>Df Residuals:</th>          <td>   390</td>      <th>  BIC:               </th> <td>   2369.</td>\n",
       "</tr>\n",
       "<tr>\n",
       "  <th>Df Model:</th>              <td>     1</td>      <th>                     </th>     <td> </td>   \n",
       "</tr>\n",
       "<tr>\n",
       "  <th>Covariance Type:</th>      <td>nonrobust</td>    <th>                     </th>     <td> </td>   \n",
       "</tr>\n",
       "</table>\n",
       "<table class=\"simpletable\">\n",
       "<tr>\n",
       "       <td></td>         <th>coef</th>     <th>std err</th>      <th>t</th>      <th>P>|t|</th>  <th>[0.025</th>    <th>0.975]</th>  \n",
       "</tr>\n",
       "<tr>\n",
       "  <th>Intercept</th>  <td>   39.9359</td> <td>    0.717</td> <td>   55.660</td> <td> 0.000</td> <td>   38.525</td> <td>   41.347</td>\n",
       "</tr>\n",
       "<tr>\n",
       "  <th>horsepower</th> <td>   -0.1578</td> <td>    0.006</td> <td>  -24.489</td> <td> 0.000</td> <td>   -0.171</td> <td>   -0.145</td>\n",
       "</tr>\n",
       "</table>\n",
       "<table class=\"simpletable\">\n",
       "<tr>\n",
       "  <th>Omnibus:</th>       <td>16.432</td> <th>  Durbin-Watson:     </th> <td>   0.920</td>\n",
       "</tr>\n",
       "<tr>\n",
       "  <th>Prob(Omnibus):</th> <td> 0.000</td> <th>  Jarque-Bera (JB):  </th> <td>  17.305</td>\n",
       "</tr>\n",
       "<tr>\n",
       "  <th>Skew:</th>          <td> 0.492</td> <th>  Prob(JB):          </th> <td>0.000175</td>\n",
       "</tr>\n",
       "<tr>\n",
       "  <th>Kurtosis:</th>      <td> 3.299</td> <th>  Cond. No.          </th> <td>    322.</td>\n",
       "</tr>\n",
       "</table><br/><br/>Warnings:<br/>[1] Standard Errors assume that the covariance matrix of the errors is correctly specified."
      ],
      "text/plain": [
       "<class 'statsmodels.iolib.summary.Summary'>\n",
       "\"\"\"\n",
       "                            OLS Regression Results                            \n",
       "==============================================================================\n",
       "Dep. Variable:                    mpg   R-squared:                       0.606\n",
       "Model:                            OLS   Adj. R-squared:                  0.605\n",
       "Method:                 Least Squares   F-statistic:                     599.7\n",
       "Date:                Thu, 12 Nov 2020   Prob (F-statistic):           7.03e-81\n",
       "Time:                        22:11:49   Log-Likelihood:                -1178.7\n",
       "No. Observations:                 392   AIC:                             2361.\n",
       "Df Residuals:                     390   BIC:                             2369.\n",
       "Df Model:                           1                                         \n",
       "Covariance Type:            nonrobust                                         \n",
       "==============================================================================\n",
       "                 coef    std err          t      P>|t|      [0.025      0.975]\n",
       "------------------------------------------------------------------------------\n",
       "Intercept     39.9359      0.717     55.660      0.000      38.525      41.347\n",
       "horsepower    -0.1578      0.006    -24.489      0.000      -0.171      -0.145\n",
       "==============================================================================\n",
       "Omnibus:                       16.432   Durbin-Watson:                   0.920\n",
       "Prob(Omnibus):                  0.000   Jarque-Bera (JB):               17.305\n",
       "Skew:                           0.492   Prob(JB):                     0.000175\n",
       "Kurtosis:                       3.299   Cond. No.                         322.\n",
       "==============================================================================\n",
       "\n",
       "Warnings:\n",
       "[1] Standard Errors assume that the covariance matrix of the errors is correctly specified.\n",
       "\"\"\""
      ]
     },
     "execution_count": 639,
     "metadata": {},
     "output_type": "execute_result"
    }
   ],
   "source": [
    "y, X = dmatrices(\"mpg ~ horsepower\", cars)\n",
    "ols1 = sm.OLS(y,X).fit()\n",
    "ols1.summary()"
   ]
  },
  {
   "cell_type": "code",
   "execution_count": 640,
   "metadata": {},
   "outputs": [
    {
     "data": {
      "image/png": "[encoded data removed]",
      "text/plain": [
       "<Figure size 432x288 with 1 Axes>"
      ]
     },
     "metadata": {
      "filenames": {
       "image/png": "/Users/felix/Dropbox/02_FH/01 Lehre/BA/Skript-Business-Analytics/_build/jupyter_execute/chapters/chapter_analytics/S05a_Regression_101_0.png"
      },
      "needs_background": "light"
     },
     "output_type": "display_data"
    }
   ],
   "source": [
    "yhat = ols1.fittedvalues\n",
    "plt.scatter(X[:,1],y)\n",
    "plt.plot(X[:,1],yhat, color=\"red\")\n",
    "sns.despine()"
   ]
  },
  {
   "cell_type": "code",
   "execution_count": 663,
   "metadata": {},
   "outputs": [
    {
     "data": {
      "text/html": [
       "<table class=\"simpletable\">\n",
       "<caption>OLS Regression Results</caption>\n",
       "<tr>\n",
       "  <th>Dep. Variable:</th>       <td>np.log(mpg)</td>   <th>  R-squared:         </th> <td>   0.723</td> \n",
       "</tr>\n",
       "<tr>\n",
       "  <th>Model:</th>                   <td>OLS</td>       <th>  Adj. R-squared:    </th> <td>   0.722</td> \n",
       "</tr>\n",
       "<tr>\n",
       "  <th>Method:</th>             <td>Least Squares</td>  <th>  F-statistic:       </th> <td>   1016.</td> \n",
       "</tr>\n",
       "<tr>\n",
       "  <th>Date:</th>             <td>Thu, 12 Nov 2020</td> <th>  Prob (F-statistic):</th> <td>1.13e-110</td>\n",
       "</tr>\n",
       "<tr>\n",
       "  <th>Time:</th>                 <td>22:46:35</td>     <th>  Log-Likelihood:    </th> <td>  118.52</td> \n",
       "</tr>\n",
       "<tr>\n",
       "  <th>No. Observations:</th>      <td>   392</td>      <th>  AIC:               </th> <td>  -233.0</td> \n",
       "</tr>\n",
       "<tr>\n",
       "  <th>Df Residuals:</th>          <td>   390</td>      <th>  BIC:               </th> <td>  -225.1</td> \n",
       "</tr>\n",
       "<tr>\n",
       "  <th>Df Model:</th>              <td>     1</td>      <th>                     </th>     <td> </td>    \n",
       "</tr>\n",
       "<tr>\n",
       "  <th>Covariance Type:</th>      <td>nonrobust</td>    <th>                     </th>     <td> </td>    \n",
       "</tr>\n",
       "</table>\n",
       "<table class=\"simpletable\">\n",
       "<tr>\n",
       "           <td></td>             <th>coef</th>     <th>std err</th>      <th>t</th>      <th>P>|t|</th>  <th>[0.025</th>    <th>0.975]</th>  \n",
       "</tr>\n",
       "<tr>\n",
       "  <th>Intercept</th>          <td>    6.9606</td> <td>    0.121</td> <td>   57.296</td> <td> 0.000</td> <td>    6.722</td> <td>    7.199</td>\n",
       "</tr>\n",
       "<tr>\n",
       "  <th>np.log(horsepower)</th> <td>   -0.8418</td> <td>    0.026</td> <td>  -31.881</td> <td> 0.000</td> <td>   -0.894</td> <td>   -0.790</td>\n",
       "</tr>\n",
       "</table>\n",
       "<table class=\"simpletable\">\n",
       "<tr>\n",
       "  <th>Omnibus:</th>       <td> 6.244</td> <th>  Durbin-Watson:     </th> <td>   1.094</td>\n",
       "</tr>\n",
       "<tr>\n",
       "  <th>Prob(Omnibus):</th> <td> 0.044</td> <th>  Jarque-Bera (JB):  </th> <td>   8.144</td>\n",
       "</tr>\n",
       "<tr>\n",
       "  <th>Skew:</th>          <td>-0.122</td> <th>  Prob(JB):          </th> <td>  0.0170</td>\n",
       "</tr>\n",
       "<tr>\n",
       "  <th>Kurtosis:</th>      <td> 3.663</td> <th>  Cond. No.          </th> <td>    64.6</td>\n",
       "</tr>\n",
       "</table><br/><br/>Warnings:<br/>[1] Standard Errors assume that the covariance matrix of the errors is correctly specified."
      ],
      "text/plain": [
       "<class 'statsmodels.iolib.summary.Summary'>\n",
       "\"\"\"\n",
       "                            OLS Regression Results                            \n",
       "==============================================================================\n",
       "Dep. Variable:            np.log(mpg)   R-squared:                       0.723\n",
       "Model:                            OLS   Adj. R-squared:                  0.722\n",
       "Method:                 Least Squares   F-statistic:                     1016.\n",
       "Date:                Thu, 12 Nov 2020   Prob (F-statistic):          1.13e-110\n",
       "Time:                        22:46:35   Log-Likelihood:                 118.52\n",
       "No. Observations:                 392   AIC:                            -233.0\n",
       "Df Residuals:                     390   BIC:                            -225.1\n",
       "Df Model:                           1                                         \n",
       "Covariance Type:            nonrobust                                         \n",
       "======================================================================================\n",
       "                         coef    std err          t      P>|t|      [0.025      0.975]\n",
       "--------------------------------------------------------------------------------------\n",
       "Intercept              6.9606      0.121     57.296      0.000       6.722       7.199\n",
       "np.log(horsepower)    -0.8418      0.026    -31.881      0.000      -0.894      -0.790\n",
       "==============================================================================\n",
       "Omnibus:                        6.244   Durbin-Watson:                   1.094\n",
       "Prob(Omnibus):                  0.044   Jarque-Bera (JB):                8.144\n",
       "Skew:                          -0.122   Prob(JB):                       0.0170\n",
       "Kurtosis:                       3.663   Cond. No.                         64.6\n",
       "==============================================================================\n",
       "\n",
       "Warnings:\n",
       "[1] Standard Errors assume that the covariance matrix of the errors is correctly specified.\n",
       "\"\"\""
      ]
     },
     "execution_count": 663,
     "metadata": {},
     "output_type": "execute_result"
    }
   ],
   "source": [
    "y, X = dmatrices(\"np.log(mpg) ~ np.log(horsepower)\", cars)\n",
    "ols2 = sm.OLS(y,X).fit()\n",
    "ols2.summary()"
   ]
  },
  {
   "cell_type": "code",
   "execution_count": 632,
   "metadata": {},
   "outputs": [
    {
     "data": {
      "image/png": "[encoded data removed]",
      "text/plain": [
       "<Figure size 432x288 with 1 Axes>"
      ]
     },
     "metadata": {
      "filenames": {
       "image/png": "/Users/felix/Dropbox/02_FH/01 Lehre/BA/Skript-Business-Analytics/_build/jupyter_execute/chapters/chapter_analytics/S05a_Regression_103_0.png"
      },
      "needs_background": "light"
     },
     "output_type": "display_data"
    }
   ],
   "source": [
    "yhat = ols2.fittedvalues\n",
    "plt.scatter(X[:,1],y)\n",
    "plt.plot(X[:,1],yhat, color=\"red\")\n",
    "sns.despine()"
   ]
  },
  {
   "cell_type": "markdown",
   "metadata": {},
   "source": [
    "Just looking at the two graphs we can see that the second model (log-log) seems to be better and capturing / explaining the deviation. We can also confirm this when looking at the $R^2$ value which is $72$% vs. $61$%."
   ]
  },
  {
   "cell_type": "markdown",
   "metadata": {
    "toc-hr-collapsed": true,
    "toc-nb-collapsed": true
   },
   "source": [
    "## Interaction effects"
   ]
  },
  {
   "cell_type": "markdown",
   "metadata": {},
   "source": [
    "A special case of non-linearity occurs when we combine two or more variables multiplicatively. This may be necessary or feasible if one effect depends (or is conditional) on another effect. \n",
    "\n",
    "Let's return to our `advertisment` data set where we analyzed the causal relationship between `sales` and advertisment spent on `TV`,  `newspaper` and `radio`."
   ]
  },
  {
   "cell_type": "code",
   "execution_count": 665,
   "metadata": {},
   "outputs": [
    {
     "data": {
      "text/html": [
       "<table class=\"simpletable\">\n",
       "<caption>OLS Regression Results</caption>\n",
       "<tr>\n",
       "  <th>Dep. Variable:</th>          <td>sales</td>      <th>  R-squared:         </th> <td>   0.897</td>\n",
       "</tr>\n",
       "<tr>\n",
       "  <th>Model:</th>                   <td>OLS</td>       <th>  Adj. R-squared:    </th> <td>   0.896</td>\n",
       "</tr>\n",
       "<tr>\n",
       "  <th>Method:</th>             <td>Least Squares</td>  <th>  F-statistic:       </th> <td>   859.6</td>\n",
       "</tr>\n",
       "<tr>\n",
       "  <th>Date:</th>             <td>Thu, 12 Nov 2020</td> <th>  Prob (F-statistic):</th> <td>4.83e-98</td>\n",
       "</tr>\n",
       "<tr>\n",
       "  <th>Time:</th>                 <td>22:46:42</td>     <th>  Log-Likelihood:    </th> <td> -386.20</td>\n",
       "</tr>\n",
       "<tr>\n",
       "  <th>No. Observations:</th>      <td>   200</td>      <th>  AIC:               </th> <td>   778.4</td>\n",
       "</tr>\n",
       "<tr>\n",
       "  <th>Df Residuals:</th>          <td>   197</td>      <th>  BIC:               </th> <td>   788.3</td>\n",
       "</tr>\n",
       "<tr>\n",
       "  <th>Df Model:</th>              <td>     2</td>      <th>                     </th>     <td> </td>   \n",
       "</tr>\n",
       "<tr>\n",
       "  <th>Covariance Type:</th>      <td>nonrobust</td>    <th>                     </th>     <td> </td>   \n",
       "</tr>\n",
       "</table>\n",
       "<table class=\"simpletable\">\n",
       "<tr>\n",
       "      <td></td>         <th>coef</th>     <th>std err</th>      <th>t</th>      <th>P>|t|</th>  <th>[0.025</th>    <th>0.975]</th>  \n",
       "</tr>\n",
       "<tr>\n",
       "  <th>Intercept</th> <td>    2.9211</td> <td>    0.294</td> <td>    9.919</td> <td> 0.000</td> <td>    2.340</td> <td>    3.502</td>\n",
       "</tr>\n",
       "<tr>\n",
       "  <th>TV</th>        <td>    0.0458</td> <td>    0.001</td> <td>   32.909</td> <td> 0.000</td> <td>    0.043</td> <td>    0.048</td>\n",
       "</tr>\n",
       "<tr>\n",
       "  <th>radio</th>     <td>    0.1880</td> <td>    0.008</td> <td>   23.382</td> <td> 0.000</td> <td>    0.172</td> <td>    0.204</td>\n",
       "</tr>\n",
       "</table>\n",
       "<table class=\"simpletable\">\n",
       "<tr>\n",
       "  <th>Omnibus:</th>       <td>60.022</td> <th>  Durbin-Watson:     </th> <td>   2.081</td>\n",
       "</tr>\n",
       "<tr>\n",
       "  <th>Prob(Omnibus):</th> <td> 0.000</td> <th>  Jarque-Bera (JB):  </th> <td> 148.679</td>\n",
       "</tr>\n",
       "<tr>\n",
       "  <th>Skew:</th>          <td>-1.323</td> <th>  Prob(JB):          </th> <td>5.19e-33</td>\n",
       "</tr>\n",
       "<tr>\n",
       "  <th>Kurtosis:</th>      <td> 6.292</td> <th>  Cond. No.          </th> <td>    425.</td>\n",
       "</tr>\n",
       "</table><br/><br/>Warnings:<br/>[1] Standard Errors assume that the covariance matrix of the errors is correctly specified."
      ],
      "text/plain": [
       "<class 'statsmodels.iolib.summary.Summary'>\n",
       "\"\"\"\n",
       "                            OLS Regression Results                            \n",
       "==============================================================================\n",
       "Dep. Variable:                  sales   R-squared:                       0.897\n",
       "Model:                            OLS   Adj. R-squared:                  0.896\n",
       "Method:                 Least Squares   F-statistic:                     859.6\n",
       "Date:                Thu, 12 Nov 2020   Prob (F-statistic):           4.83e-98\n",
       "Time:                        22:46:42   Log-Likelihood:                -386.20\n",
       "No. Observations:                 200   AIC:                             778.4\n",
       "Df Residuals:                     197   BIC:                             788.3\n",
       "Df Model:                           2                                         \n",
       "Covariance Type:            nonrobust                                         \n",
       "==============================================================================\n",
       "                 coef    std err          t      P>|t|      [0.025      0.975]\n",
       "------------------------------------------------------------------------------\n",
       "Intercept      2.9211      0.294      9.919      0.000       2.340       3.502\n",
       "TV             0.0458      0.001     32.909      0.000       0.043       0.048\n",
       "radio          0.1880      0.008     23.382      0.000       0.172       0.204\n",
       "==============================================================================\n",
       "Omnibus:                       60.022   Durbin-Watson:                   2.081\n",
       "Prob(Omnibus):                  0.000   Jarque-Bera (JB):              148.679\n",
       "Skew:                          -1.323   Prob(JB):                     5.19e-33\n",
       "Kurtosis:                       6.292   Cond. No.                         425.\n",
       "==============================================================================\n",
       "\n",
       "Warnings:\n",
       "[1] Standard Errors assume that the covariance matrix of the errors is correctly specified.\n",
       "\"\"\""
      ]
     },
     "execution_count": 665,
     "metadata": {},
     "output_type": "execute_result"
    }
   ],
   "source": [
    "df = Datasets.advertising(dtype=\"pandas\", col=\"all\")\n",
    "y, X = dmatrices(\"sales ~ TV  + radio\", df)\n",
    "sales_model = sm.OLS(y,X).fit()\n",
    "sales_model.summary()"
   ]
  },
  {
   "cell_type": "markdown",
   "metadata": {},
   "source": [
    "The model assumes that the effect of increasing advertisment spent in one medium (e.g. TV) is independent of the amount spent on the other media. The effect on `sales` of spending one additional unit on `TV` is always $\\beta_{tv}$ irrespective of the amount spent on e.g. `radio`. \n",
    "\n",
    "This assumption may be wrong and therefore the specified model may be incorrect.  For example, the amount spent on `radio` may actually  increase the effectiveness of `TV` advertisment. \n",
    "\n",
    "This synergy (or dysynergy) effect is referred to as **interaction effect** in statistics.  \n",
    "\n",
    "One way of incorporating this interaction effect into a regression model is to combine variables multiplicatively such that \n",
    "\n",
    "$$Y = \\beta_0 + \\beta_1X_1 + \\beta_2X_2 + \\beta_3X_1X_2 + \\epsilon$$\n",
    "\n",
    "This can be rearranged such that:\n",
    "\n",
    "\\begin{equation}\n",
    "\\begin{split}\n",
    "Y &= \\beta_0 + (\\beta_1+\\beta_3X_2)X_1 + \\beta_2X_2 + \\epsilon \\\\ \n",
    "& =  \\beta_0 + \\tilde{\\beta}X_1 + \\beta_2X_2 + \\epsilon\n",
    "\\end{split}\n",
    "\\end{equation}\n",
    "\n",
    "In this case $\\tilde{\\beta}$ changes with $X_2$. Therefore, the effect of $X_1$ on $Y$ is no longer constant given that adjusting $X_2$ changes $X_1$ and $Y$."
   ]
  },
  {
   "cell_type": "markdown",
   "metadata": {},
   "source": [
    "Let's look at our dataset and include the interaction effect of `TV`x`radio`. "
   ]
  },
  {
   "cell_type": "code",
   "execution_count": 656,
   "metadata": {},
   "outputs": [
    {
     "data": {
      "text/html": [
       "<div>\n",
       "<style scoped>\n",
       "    .dataframe tbody tr th:only-of-type {\n",
       "        vertical-align: middle;\n",
       "    }\n",
       "\n",
       "    .dataframe tbody tr th {\n",
       "        vertical-align: top;\n",
       "    }\n",
       "\n",
       "    .dataframe thead th {\n",
       "        text-align: right;\n",
       "    }\n",
       "</style>\n",
       "<table border=\"1\" class=\"dataframe\">\n",
       "  <thead>\n",
       "    <tr style=\"text-align: right;\">\n",
       "      <th></th>\n",
       "      <th>Intercept</th>\n",
       "      <th>TV</th>\n",
       "      <th>radio</th>\n",
       "      <th>TV:radio</th>\n",
       "    </tr>\n",
       "  </thead>\n",
       "  <tbody>\n",
       "    <tr>\n",
       "      <th>0</th>\n",
       "      <td>1.0</td>\n",
       "      <td>230.1</td>\n",
       "      <td>37.8</td>\n",
       "      <td>8697.78</td>\n",
       "    </tr>\n",
       "    <tr>\n",
       "      <th>1</th>\n",
       "      <td>1.0</td>\n",
       "      <td>44.5</td>\n",
       "      <td>39.3</td>\n",
       "      <td>1748.85</td>\n",
       "    </tr>\n",
       "    <tr>\n",
       "      <th>2</th>\n",
       "      <td>1.0</td>\n",
       "      <td>17.2</td>\n",
       "      <td>45.9</td>\n",
       "      <td>789.48</td>\n",
       "    </tr>\n",
       "    <tr>\n",
       "      <th>3</th>\n",
       "      <td>1.0</td>\n",
       "      <td>151.5</td>\n",
       "      <td>41.3</td>\n",
       "      <td>6256.95</td>\n",
       "    </tr>\n",
       "    <tr>\n",
       "      <th>4</th>\n",
       "      <td>1.0</td>\n",
       "      <td>180.8</td>\n",
       "      <td>10.8</td>\n",
       "      <td>1952.64</td>\n",
       "    </tr>\n",
       "  </tbody>\n",
       "</table>\n",
       "</div>"
      ],
      "text/plain": [
       "   Intercept     TV  radio  TV:radio\n",
       "0        1.0  230.1   37.8   8697.78\n",
       "1        1.0   44.5   39.3   1748.85\n",
       "2        1.0   17.2   45.9    789.48\n",
       "3        1.0  151.5   41.3   6256.95\n",
       "4        1.0  180.8   10.8   1952.64"
      ]
     },
     "execution_count": 656,
     "metadata": {},
     "output_type": "execute_result"
    }
   ],
   "source": [
    "y, X = dmatrices(\"sales ~ TV + radio + TV:radio\", df, return_type=\"dataframe\") # Note: TV:radio indicates that we want the interaction term\n",
    "X.head()"
   ]
  },
  {
   "cell_type": "code",
   "execution_count": 666,
   "metadata": {},
   "outputs": [
    {
     "data": {
      "text/html": [
       "<table class=\"simpletable\">\n",
       "<caption>OLS Regression Results</caption>\n",
       "<tr>\n",
       "  <th>Dep. Variable:</th>          <td>sales</td>      <th>  R-squared:         </th> <td>   0.897</td>\n",
       "</tr>\n",
       "<tr>\n",
       "  <th>Model:</th>                   <td>OLS</td>       <th>  Adj. R-squared:    </th> <td>   0.896</td>\n",
       "</tr>\n",
       "<tr>\n",
       "  <th>Method:</th>             <td>Least Squares</td>  <th>  F-statistic:       </th> <td>   859.6</td>\n",
       "</tr>\n",
       "<tr>\n",
       "  <th>Date:</th>             <td>Thu, 12 Nov 2020</td> <th>  Prob (F-statistic):</th> <td>4.83e-98</td>\n",
       "</tr>\n",
       "<tr>\n",
       "  <th>Time:</th>                 <td>22:46:46</td>     <th>  Log-Likelihood:    </th> <td> -386.20</td>\n",
       "</tr>\n",
       "<tr>\n",
       "  <th>No. Observations:</th>      <td>   200</td>      <th>  AIC:               </th> <td>   778.4</td>\n",
       "</tr>\n",
       "<tr>\n",
       "  <th>Df Residuals:</th>          <td>   197</td>      <th>  BIC:               </th> <td>   788.3</td>\n",
       "</tr>\n",
       "<tr>\n",
       "  <th>Df Model:</th>              <td>     2</td>      <th>                     </th>     <td> </td>   \n",
       "</tr>\n",
       "<tr>\n",
       "  <th>Covariance Type:</th>      <td>nonrobust</td>    <th>                     </th>     <td> </td>   \n",
       "</tr>\n",
       "</table>\n",
       "<table class=\"simpletable\">\n",
       "<tr>\n",
       "      <td></td>         <th>coef</th>     <th>std err</th>      <th>t</th>      <th>P>|t|</th>  <th>[0.025</th>    <th>0.975]</th>  \n",
       "</tr>\n",
       "<tr>\n",
       "  <th>Intercept</th> <td>    2.9211</td> <td>    0.294</td> <td>    9.919</td> <td> 0.000</td> <td>    2.340</td> <td>    3.502</td>\n",
       "</tr>\n",
       "<tr>\n",
       "  <th>TV</th>        <td>    0.0458</td> <td>    0.001</td> <td>   32.909</td> <td> 0.000</td> <td>    0.043</td> <td>    0.048</td>\n",
       "</tr>\n",
       "<tr>\n",
       "  <th>radio</th>     <td>    0.1880</td> <td>    0.008</td> <td>   23.382</td> <td> 0.000</td> <td>    0.172</td> <td>    0.204</td>\n",
       "</tr>\n",
       "</table>\n",
       "<table class=\"simpletable\">\n",
       "<tr>\n",
       "  <th>Omnibus:</th>       <td>60.022</td> <th>  Durbin-Watson:     </th> <td>   2.081</td>\n",
       "</tr>\n",
       "<tr>\n",
       "  <th>Prob(Omnibus):</th> <td> 0.000</td> <th>  Jarque-Bera (JB):  </th> <td> 148.679</td>\n",
       "</tr>\n",
       "<tr>\n",
       "  <th>Skew:</th>          <td>-1.323</td> <th>  Prob(JB):          </th> <td>5.19e-33</td>\n",
       "</tr>\n",
       "<tr>\n",
       "  <th>Kurtosis:</th>      <td> 6.292</td> <th>  Cond. No.          </th> <td>    425.</td>\n",
       "</tr>\n",
       "</table><br/><br/>Warnings:<br/>[1] Standard Errors assume that the covariance matrix of the errors is correctly specified."
      ],
      "text/plain": [
       "<class 'statsmodels.iolib.summary.Summary'>\n",
       "\"\"\"\n",
       "                            OLS Regression Results                            \n",
       "==============================================================================\n",
       "Dep. Variable:                  sales   R-squared:                       0.897\n",
       "Model:                            OLS   Adj. R-squared:                  0.896\n",
       "Method:                 Least Squares   F-statistic:                     859.6\n",
       "Date:                Thu, 12 Nov 2020   Prob (F-statistic):           4.83e-98\n",
       "Time:                        22:46:46   Log-Likelihood:                -386.20\n",
       "No. Observations:                 200   AIC:                             778.4\n",
       "Df Residuals:                     197   BIC:                             788.3\n",
       "Df Model:                           2                                         \n",
       "Covariance Type:            nonrobust                                         \n",
       "==============================================================================\n",
       "                 coef    std err          t      P>|t|      [0.025      0.975]\n",
       "------------------------------------------------------------------------------\n",
       "Intercept      2.9211      0.294      9.919      0.000       2.340       3.502\n",
       "TV             0.0458      0.001     32.909      0.000       0.043       0.048\n",
       "radio          0.1880      0.008     23.382      0.000       0.172       0.204\n",
       "==============================================================================\n",
       "Omnibus:                       60.022   Durbin-Watson:                   2.081\n",
       "Prob(Omnibus):                  0.000   Jarque-Bera (JB):              148.679\n",
       "Skew:                          -1.323   Prob(JB):                     5.19e-33\n",
       "Kurtosis:                       6.292   Cond. No.                         425.\n",
       "==============================================================================\n",
       "\n",
       "Warnings:\n",
       "[1] Standard Errors assume that the covariance matrix of the errors is correctly specified.\n",
       "\"\"\""
      ]
     },
     "execution_count": 666,
     "metadata": {},
     "output_type": "execute_result"
    }
   ],
   "source": [
    "sm.OLS(y,X).fit().summary()"
   ]
  },
  {
   "cell_type": "markdown",
   "metadata": {},
   "source": [
    "We can see that the inclusion of the effedt increased $R^2_\\text{adj}$ significantly. Also the coefficient `TV:radio` ($\\beta_3$) is highly significant. \n",
    "\n",
    "Interpretation of $\\beta_3$: increase in effectiveness of TV advertisment on radio advertisment (or the other way around)."
   ]
  },
  {
   "cell_type": "markdown",
   "metadata": {},
   "source": [
    "## Dealing with qualitative data"
   ]
  },
  {
   "cell_type": "markdown",
   "metadata": {},
   "source": [
    "Up until now we have only worked with quantitative data, i.e. all variables in our models where numerical. However, this is not always the case. Explanatory variables can, of course, be qualitative. \n",
    "\n",
    "For example, in our cars dataset we have a variable `origin`. The variable stores the information from which region the car is (US = 1, Europe = 2, Asia = 3)."
   ]
  },
  {
   "cell_type": "code",
   "execution_count": 672,
   "metadata": {},
   "outputs": [
    {
     "data": {
      "text/plain": [
       "array([1, 3, 2])"
      ]
     },
     "execution_count": 672,
     "metadata": {},
     "output_type": "execute_result"
    }
   ],
   "source": [
    "cars[\"origin\"].unique()"
   ]
  },
  {
   "cell_type": "markdown",
   "metadata": {},
   "source": [
    "While the data is already encoded to be numerical the information it stores is still qualitative. For example, we cannot compare the data similar to numerial data. There is no numerical order and the distances between the values do not mean anything, i.e. 3 is not bigger than 1 in this case or a statement such as Asia is two more than US does not make sense. \n",
    "\n",
    "**How do we deal with this kind of data in our regression model?**\n",
    "\n",
    "If we deal with two categories (male/female) we can simply create a *dummy variable* (0/1) of the form:\n",
    "\n",
    "\\begin{equation}\n",
    "  x_i =\\begin{cases}\n",
    "    1, & \\text{if $i$th person is female}\\\\\n",
    "    0, & \\text{if $i$th person is male}\n",
    "  \\end{cases}\n",
    "\\end{equation}\n",
    "\n",
    "This results in the model:\n",
    "\n",
    "\\begin{equation}\n",
    "  y_i = \\beta_0 + \\beta_1x_i + \\epsilon =\\begin{cases}\n",
    "    \\beta_0 + \\beta_1 + \\epsilon, & \\text{if $i$th person is female}\\\\\n",
    "    \\beta_0 + \\epsilon & \\text{if $i$th person is male}\n",
    "  \\end{cases}\n",
    "\\end{equation}\n",
    "\n",
    "\n",
    "If we deal with more than two categories we need to create additional *dummy variables*. For example in our case we need two variables of the form:\n",
    "\n",
    "\\begin{equation}\n",
    "  x_{i1} =\\begin{cases}\n",
    "    1, & \\text{if $i$th car is from US}\\\\\n",
    "    0, & \\text{if $i$th car is not from US}\n",
    "  \\end{cases}\n",
    "\\end{equation}\n",
    "\n",
    "and\\begin{equation}\n",
    "  x_{i2} =\\begin{cases}\n",
    "    1, & \\text{if $i$th car is from Asia}\\\\\n",
    "    0, & \\text{if $i$th car is not from Asia}\n",
    "  \\end{cases}\n",
    "\\end{equation}\n",
    "\n",
    "If we then use both variables in our model we can describe it as:\n",
    "\n",
    "\\begin{equation}\n",
    "  y_i = \\beta_0 + \\beta_1x_{i2} + \\beta_2x_{i2} + \\epsilon =\\begin{cases}\n",
    "    \\beta_0 + \\beta_1 + \\epsilon, & \\text{if $i$th car is from US }\\\\\n",
    "    \\beta_0 + \\beta_2 + \\epsilon & \\text{if $i$th car is from Asia}\\\\\n",
    "        \\beta_0  + \\epsilon & \\text{if $i$th car is from Europe}\n",
    "  \\end{cases}\n",
    "\\end{equation}"
   ]
  },
  {
   "cell_type": "markdown",
   "metadata": {},
   "source": [
    "Let's look at an example using our car dataset. \n",
    "\n",
    "If we treat the variable `origin` just as a regular numerial value, the regression model will not yield sensical results. "
   ]
  },
  {
   "cell_type": "code",
   "execution_count": 677,
   "metadata": {},
   "outputs": [
    {
     "data": {
      "text/html": [
       "<table class=\"simpletable\">\n",
       "<caption>OLS Regression Results</caption>\n",
       "<tr>\n",
       "  <th>Dep. Variable:</th>           <td>mpg</td>       <th>  R-squared:         </th> <td>   0.319</td>\n",
       "</tr>\n",
       "<tr>\n",
       "  <th>Model:</th>                   <td>OLS</td>       <th>  Adj. R-squared:    </th> <td>   0.318</td>\n",
       "</tr>\n",
       "<tr>\n",
       "  <th>Method:</th>             <td>Least Squares</td>  <th>  F-statistic:       </th> <td>   183.1</td>\n",
       "</tr>\n",
       "<tr>\n",
       "  <th>Date:</th>             <td>Thu, 12 Nov 2020</td> <th>  Prob (F-statistic):</th> <td>1.81e-34</td>\n",
       "</tr>\n",
       "<tr>\n",
       "  <th>Time:</th>                 <td>23:10:02</td>     <th>  Log-Likelihood:    </th> <td> -1285.8</td>\n",
       "</tr>\n",
       "<tr>\n",
       "  <th>No. Observations:</th>      <td>   392</td>      <th>  AIC:               </th> <td>   2576.</td>\n",
       "</tr>\n",
       "<tr>\n",
       "  <th>Df Residuals:</th>          <td>   390</td>      <th>  BIC:               </th> <td>   2583.</td>\n",
       "</tr>\n",
       "<tr>\n",
       "  <th>Df Model:</th>              <td>     1</td>      <th>                     </th>     <td> </td>   \n",
       "</tr>\n",
       "<tr>\n",
       "  <th>Covariance Type:</th>      <td>nonrobust</td>    <th>                     </th>     <td> </td>   \n",
       "</tr>\n",
       "</table>\n",
       "<table class=\"simpletable\">\n",
       "<tr>\n",
       "      <td></td>         <th>coef</th>     <th>std err</th>      <th>t</th>      <th>P>|t|</th>  <th>[0.025</th>    <th>0.975]</th>  \n",
       "</tr>\n",
       "<tr>\n",
       "  <th>Intercept</th> <td>   14.8120</td> <td>    0.716</td> <td>   20.676</td> <td> 0.000</td> <td>   13.404</td> <td>   16.220</td>\n",
       "</tr>\n",
       "<tr>\n",
       "  <th>origin</th>    <td>    5.4765</td> <td>    0.405</td> <td>   13.531</td> <td> 0.000</td> <td>    4.681</td> <td>    6.272</td>\n",
       "</tr>\n",
       "</table>\n",
       "<table class=\"simpletable\">\n",
       "<tr>\n",
       "  <th>Omnibus:</th>       <td>26.546</td> <th>  Durbin-Watson:     </th> <td>   0.829</td>\n",
       "</tr>\n",
       "<tr>\n",
       "  <th>Prob(Omnibus):</th> <td> 0.000</td> <th>  Jarque-Bera (JB):  </th> <td>  30.323</td>\n",
       "</tr>\n",
       "<tr>\n",
       "  <th>Skew:</th>          <td> 0.678</td> <th>  Prob(JB):          </th> <td>2.60e-07</td>\n",
       "</tr>\n",
       "<tr>\n",
       "  <th>Kurtosis:</th>      <td> 3.138</td> <th>  Cond. No.          </th> <td>    4.93</td>\n",
       "</tr>\n",
       "</table><br/><br/>Warnings:<br/>[1] Standard Errors assume that the covariance matrix of the errors is correctly specified."
      ],
      "text/plain": [
       "<class 'statsmodels.iolib.summary.Summary'>\n",
       "\"\"\"\n",
       "                            OLS Regression Results                            \n",
       "==============================================================================\n",
       "Dep. Variable:                    mpg   R-squared:                       0.319\n",
       "Model:                            OLS   Adj. R-squared:                  0.318\n",
       "Method:                 Least Squares   F-statistic:                     183.1\n",
       "Date:                Thu, 12 Nov 2020   Prob (F-statistic):           1.81e-34\n",
       "Time:                        23:10:02   Log-Likelihood:                -1285.8\n",
       "No. Observations:                 392   AIC:                             2576.\n",
       "Df Residuals:                     390   BIC:                             2583.\n",
       "Df Model:                           1                                         \n",
       "Covariance Type:            nonrobust                                         \n",
       "==============================================================================\n",
       "                 coef    std err          t      P>|t|      [0.025      0.975]\n",
       "------------------------------------------------------------------------------\n",
       "Intercept     14.8120      0.716     20.676      0.000      13.404      16.220\n",
       "origin         5.4765      0.405     13.531      0.000       4.681       6.272\n",
       "==============================================================================\n",
       "Omnibus:                       26.546   Durbin-Watson:                   0.829\n",
       "Prob(Omnibus):                  0.000   Jarque-Bera (JB):               30.323\n",
       "Skew:                           0.678   Prob(JB):                     2.60e-07\n",
       "Kurtosis:                       3.138   Cond. No.                         4.93\n",
       "==============================================================================\n",
       "\n",
       "Warnings:\n",
       "[1] Standard Errors assume that the covariance matrix of the errors is correctly specified.\n",
       "\"\"\""
      ]
     },
     "execution_count": 677,
     "metadata": {},
     "output_type": "execute_result"
    }
   ],
   "source": [
    "y, X = dmatrices(\"mpg ~ origin\", cars, return_type=\"dataframe\") # origin NOT encoded categorically using dummy variables\n",
    "sm.OLS(y,X).fit().summary()"
   ]
  },
  {
   "cell_type": "markdown",
   "metadata": {},
   "source": []
  },
  {
   "cell_type": "markdown",
   "metadata": {},
   "source": [
    "It does not make sense to say that asian cars (encoded as 3) have an impact of $3\\times5.4765$ on mpg, whereas as US cars only have an impact of $1\\times5.4765$\n",
    "\n",
    "However, when encoding the variable as *dummy variable* the model itself is correctly specified and the interpretation is intuitive. "
   ]
  },
  {
   "cell_type": "code",
   "execution_count": 686,
   "metadata": {},
   "outputs": [
    {
     "data": {
      "text/html": [
       "<div>\n",
       "<style scoped>\n",
       "    .dataframe tbody tr th:only-of-type {\n",
       "        vertical-align: middle;\n",
       "    }\n",
       "\n",
       "    .dataframe tbody tr th {\n",
       "        vertical-align: top;\n",
       "    }\n",
       "\n",
       "    .dataframe thead th {\n",
       "        text-align: right;\n",
       "    }\n",
       "</style>\n",
       "<table border=\"1\" class=\"dataframe\">\n",
       "  <thead>\n",
       "    <tr style=\"text-align: right;\">\n",
       "      <th></th>\n",
       "      <th>Intercept</th>\n",
       "      <th>C(origin)[T.2]</th>\n",
       "      <th>C(origin)[T.3]</th>\n",
       "    </tr>\n",
       "  </thead>\n",
       "  <tbody>\n",
       "    <tr>\n",
       "      <th>0</th>\n",
       "      <td>1.0</td>\n",
       "      <td>0.0</td>\n",
       "      <td>0.0</td>\n",
       "    </tr>\n",
       "    <tr>\n",
       "      <th>1</th>\n",
       "      <td>1.0</td>\n",
       "      <td>0.0</td>\n",
       "      <td>0.0</td>\n",
       "    </tr>\n",
       "    <tr>\n",
       "      <th>2</th>\n",
       "      <td>1.0</td>\n",
       "      <td>0.0</td>\n",
       "      <td>0.0</td>\n",
       "    </tr>\n",
       "    <tr>\n",
       "      <th>3</th>\n",
       "      <td>1.0</td>\n",
       "      <td>0.0</td>\n",
       "      <td>0.0</td>\n",
       "    </tr>\n",
       "    <tr>\n",
       "      <th>4</th>\n",
       "      <td>1.0</td>\n",
       "      <td>0.0</td>\n",
       "      <td>0.0</td>\n",
       "    </tr>\n",
       "  </tbody>\n",
       "</table>\n",
       "</div>"
      ],
      "text/plain": [
       "   Intercept  C(origin)[T.2]  C(origin)[T.3]\n",
       "0        1.0             0.0             0.0\n",
       "1        1.0             0.0             0.0\n",
       "2        1.0             0.0             0.0\n",
       "3        1.0             0.0             0.0\n",
       "4        1.0             0.0             0.0"
      ]
     },
     "execution_count": 686,
     "metadata": {},
     "output_type": "execute_result"
    }
   ],
   "source": [
    "y, X = dmatrices(\"mpg ~ C(origin)\", cars, return_type=\"dataframe\") # origin encoded categorically using C(origin) \n",
    "X.head()"
   ]
  },
  {
   "cell_type": "code",
   "execution_count": 678,
   "metadata": {},
   "outputs": [
    {
     "data": {
      "text/html": [
       "<table class=\"simpletable\">\n",
       "<caption>OLS Regression Results</caption>\n",
       "<tr>\n",
       "  <th>Dep. Variable:</th>           <td>mpg</td>       <th>  R-squared:         </th> <td>   0.332</td>\n",
       "</tr>\n",
       "<tr>\n",
       "  <th>Model:</th>                   <td>OLS</td>       <th>  Adj. R-squared:    </th> <td>   0.328</td>\n",
       "</tr>\n",
       "<tr>\n",
       "  <th>Method:</th>             <td>Least Squares</td>  <th>  F-statistic:       </th> <td>   96.60</td>\n",
       "</tr>\n",
       "<tr>\n",
       "  <th>Date:</th>             <td>Thu, 12 Nov 2020</td> <th>  Prob (F-statistic):</th> <td>8.67e-35</td>\n",
       "</tr>\n",
       "<tr>\n",
       "  <th>Time:</th>                 <td>23:12:38</td>     <th>  Log-Likelihood:    </th> <td> -1282.2</td>\n",
       "</tr>\n",
       "<tr>\n",
       "  <th>No. Observations:</th>      <td>   392</td>      <th>  AIC:               </th> <td>   2570.</td>\n",
       "</tr>\n",
       "<tr>\n",
       "  <th>Df Residuals:</th>          <td>   389</td>      <th>  BIC:               </th> <td>   2582.</td>\n",
       "</tr>\n",
       "<tr>\n",
       "  <th>Df Model:</th>              <td>     2</td>      <th>                     </th>     <td> </td>   \n",
       "</tr>\n",
       "<tr>\n",
       "  <th>Covariance Type:</th>      <td>nonrobust</td>    <th>                     </th>     <td> </td>   \n",
       "</tr>\n",
       "</table>\n",
       "<table class=\"simpletable\">\n",
       "<tr>\n",
       "         <td></td>           <th>coef</th>     <th>std err</th>      <th>t</th>      <th>P>|t|</th>  <th>[0.025</th>    <th>0.975]</th>  \n",
       "</tr>\n",
       "<tr>\n",
       "  <th>Intercept</th>      <td>   20.0335</td> <td>    0.409</td> <td>   49.025</td> <td> 0.000</td> <td>   19.230</td> <td>   20.837</td>\n",
       "</tr>\n",
       "<tr>\n",
       "  <th>C(origin)[T.2]</th> <td>    7.5695</td> <td>    0.877</td> <td>    8.634</td> <td> 0.000</td> <td>    5.846</td> <td>    9.293</td>\n",
       "</tr>\n",
       "<tr>\n",
       "  <th>C(origin)[T.3]</th> <td>   10.4172</td> <td>    0.828</td> <td>   12.588</td> <td> 0.000</td> <td>    8.790</td> <td>   12.044</td>\n",
       "</tr>\n",
       "</table>\n",
       "<table class=\"simpletable\">\n",
       "<tr>\n",
       "  <th>Omnibus:</th>       <td>26.330</td> <th>  Durbin-Watson:     </th> <td>   0.763</td>\n",
       "</tr>\n",
       "<tr>\n",
       "  <th>Prob(Omnibus):</th> <td> 0.000</td> <th>  Jarque-Bera (JB):  </th> <td>  30.217</td>\n",
       "</tr>\n",
       "<tr>\n",
       "  <th>Skew:</th>          <td> 0.679</td> <th>  Prob(JB):          </th> <td>2.74e-07</td>\n",
       "</tr>\n",
       "<tr>\n",
       "  <th>Kurtosis:</th>      <td> 3.066</td> <th>  Cond. No.          </th> <td>    3.16</td>\n",
       "</tr>\n",
       "</table><br/><br/>Warnings:<br/>[1] Standard Errors assume that the covariance matrix of the errors is correctly specified."
      ],
      "text/plain": [
       "<class 'statsmodels.iolib.summary.Summary'>\n",
       "\"\"\"\n",
       "                            OLS Regression Results                            \n",
       "==============================================================================\n",
       "Dep. Variable:                    mpg   R-squared:                       0.332\n",
       "Model:                            OLS   Adj. R-squared:                  0.328\n",
       "Method:                 Least Squares   F-statistic:                     96.60\n",
       "Date:                Thu, 12 Nov 2020   Prob (F-statistic):           8.67e-35\n",
       "Time:                        23:12:38   Log-Likelihood:                -1282.2\n",
       "No. Observations:                 392   AIC:                             2570.\n",
       "Df Residuals:                     389   BIC:                             2582.\n",
       "Df Model:                           2                                         \n",
       "Covariance Type:            nonrobust                                         \n",
       "==================================================================================\n",
       "                     coef    std err          t      P>|t|      [0.025      0.975]\n",
       "----------------------------------------------------------------------------------\n",
       "Intercept         20.0335      0.409     49.025      0.000      19.230      20.837\n",
       "C(origin)[T.2]     7.5695      0.877      8.634      0.000       5.846       9.293\n",
       "C(origin)[T.3]    10.4172      0.828     12.588      0.000       8.790      12.044\n",
       "==============================================================================\n",
       "Omnibus:                       26.330   Durbin-Watson:                   0.763\n",
       "Prob(Omnibus):                  0.000   Jarque-Bera (JB):               30.217\n",
       "Skew:                           0.679   Prob(JB):                     2.74e-07\n",
       "Kurtosis:                       3.066   Cond. No.                         3.16\n",
       "==============================================================================\n",
       "\n",
       "Warnings:\n",
       "[1] Standard Errors assume that the covariance matrix of the errors is correctly specified.\n",
       "\"\"\""
      ]
     },
     "execution_count": 678,
     "metadata": {},
     "output_type": "execute_result"
    }
   ],
   "source": [
    "sm.OLS(y,X).fit().summary()"
   ]
  },
  {
   "cell_type": "code",
   "execution_count": null,
   "metadata": {},
   "outputs": [],
   "source": []
  },
  {
   "cell_type": "markdown",
   "metadata": {},
   "source": [
    "**How do we interpret the model results?** \n",
    "\n",
    "The model yields two coefficients (besides the intercept):\n",
    "\n",
    "- coefficient for `origin=2` is $7.57$\n",
    "- coefficient for `origin=3` is $10.42$\n",
    "\n",
    "They can be interpreted as follows. \n",
    "\n",
    "- the fact that the car is European (ceteris paribus) increases mpg by $7.57$\n",
    "- the fact that the car is Asian (ceteris paribus) increases mpg by $10.42$\n",
    "- the US case is not modelled explicitly but we can deduct that the mpg for US cars is $7.57$ lower compared to European cars and $10.42$ lower compared to Asian cars (on average)\n",
    "\n"
   ]
  },
  {
   "cell_type": "markdown",
   "metadata": {},
   "source": [
    "**Creating dummy variables**\n",
    "\n",
    "We have created dummy variables using `C(origin)` (C stands for categorical data). We can also do this (i) manually or (ii) using pandas."
   ]
  },
  {
   "cell_type": "code",
   "execution_count": 685,
   "metadata": {},
   "outputs": [
    {
     "data": {
      "text/html": [
       "<div>\n",
       "<style scoped>\n",
       "    .dataframe tbody tr th:only-of-type {\n",
       "        vertical-align: middle;\n",
       "    }\n",
       "\n",
       "    .dataframe tbody tr th {\n",
       "        vertical-align: top;\n",
       "    }\n",
       "\n",
       "    .dataframe thead th {\n",
       "        text-align: right;\n",
       "    }\n",
       "</style>\n",
       "<table border=\"1\" class=\"dataframe\">\n",
       "  <thead>\n",
       "    <tr style=\"text-align: right;\">\n",
       "      <th></th>\n",
       "      <th>Intercept</th>\n",
       "      <th>European</th>\n",
       "      <th>Asia</th>\n",
       "    </tr>\n",
       "  </thead>\n",
       "  <tbody>\n",
       "    <tr>\n",
       "      <th>0</th>\n",
       "      <td>1.0</td>\n",
       "      <td>0</td>\n",
       "      <td>0</td>\n",
       "    </tr>\n",
       "    <tr>\n",
       "      <th>1</th>\n",
       "      <td>1.0</td>\n",
       "      <td>0</td>\n",
       "      <td>0</td>\n",
       "    </tr>\n",
       "    <tr>\n",
       "      <th>2</th>\n",
       "      <td>1.0</td>\n",
       "      <td>0</td>\n",
       "      <td>0</td>\n",
       "    </tr>\n",
       "    <tr>\n",
       "      <th>3</th>\n",
       "      <td>1.0</td>\n",
       "      <td>0</td>\n",
       "      <td>0</td>\n",
       "    </tr>\n",
       "    <tr>\n",
       "      <th>4</th>\n",
       "      <td>1.0</td>\n",
       "      <td>0</td>\n",
       "      <td>0</td>\n",
       "    </tr>\n",
       "    <tr>\n",
       "      <th>...</th>\n",
       "      <td>...</td>\n",
       "      <td>...</td>\n",
       "      <td>...</td>\n",
       "    </tr>\n",
       "    <tr>\n",
       "      <th>387</th>\n",
       "      <td>1.0</td>\n",
       "      <td>0</td>\n",
       "      <td>0</td>\n",
       "    </tr>\n",
       "    <tr>\n",
       "      <th>388</th>\n",
       "      <td>1.0</td>\n",
       "      <td>1</td>\n",
       "      <td>0</td>\n",
       "    </tr>\n",
       "    <tr>\n",
       "      <th>389</th>\n",
       "      <td>1.0</td>\n",
       "      <td>0</td>\n",
       "      <td>0</td>\n",
       "    </tr>\n",
       "    <tr>\n",
       "      <th>390</th>\n",
       "      <td>1.0</td>\n",
       "      <td>0</td>\n",
       "      <td>0</td>\n",
       "    </tr>\n",
       "    <tr>\n",
       "      <th>391</th>\n",
       "      <td>1.0</td>\n",
       "      <td>0</td>\n",
       "      <td>0</td>\n",
       "    </tr>\n",
       "  </tbody>\n",
       "</table>\n",
       "<p>392 rows × 3 columns</p>\n",
       "</div>"
      ],
      "text/plain": [
       "     Intercept  European  Asia\n",
       "0          1.0         0     0\n",
       "1          1.0         0     0\n",
       "2          1.0         0     0\n",
       "3          1.0         0     0\n",
       "4          1.0         0     0\n",
       "..         ...       ...   ...\n",
       "387        1.0         0     0\n",
       "388        1.0         1     0\n",
       "389        1.0         0     0\n",
       "390        1.0         0     0\n",
       "391        1.0         0     0\n",
       "\n",
       "[392 rows x 3 columns]"
      ]
     },
     "execution_count": 685,
     "metadata": {},
     "output_type": "execute_result"
    }
   ],
   "source": [
    "# manually:\n",
    "y, X = dmatrices(\"mpg ~ origin\", cars, return_type=\"dataframe\")\n",
    "origin = X[\"origin\"]\n",
    "X[\"European\"] = np.where(origin == 2, 1, 0)\n",
    "X[\"Asia\"] = np.where(origin == 3, 1, 0)\n",
    "X = X.drop(labels=\"origin\", axis=1)\n",
    "X"
   ]
  },
  {
   "cell_type": "code",
   "execution_count": 689,
   "metadata": {},
   "outputs": [
    {
     "data": {
      "text/html": [
       "<div>\n",
       "<style scoped>\n",
       "    .dataframe tbody tr th:only-of-type {\n",
       "        vertical-align: middle;\n",
       "    }\n",
       "\n",
       "    .dataframe tbody tr th {\n",
       "        vertical-align: top;\n",
       "    }\n",
       "\n",
       "    .dataframe thead th {\n",
       "        text-align: right;\n",
       "    }\n",
       "</style>\n",
       "<table border=\"1\" class=\"dataframe\">\n",
       "  <thead>\n",
       "    <tr style=\"text-align: right;\">\n",
       "      <th></th>\n",
       "      <th>2.0</th>\n",
       "      <th>3.0</th>\n",
       "    </tr>\n",
       "  </thead>\n",
       "  <tbody>\n",
       "    <tr>\n",
       "      <th>0</th>\n",
       "      <td>0</td>\n",
       "      <td>0</td>\n",
       "    </tr>\n",
       "    <tr>\n",
       "      <th>1</th>\n",
       "      <td>0</td>\n",
       "      <td>0</td>\n",
       "    </tr>\n",
       "    <tr>\n",
       "      <th>2</th>\n",
       "      <td>0</td>\n",
       "      <td>0</td>\n",
       "    </tr>\n",
       "    <tr>\n",
       "      <th>3</th>\n",
       "      <td>0</td>\n",
       "      <td>0</td>\n",
       "    </tr>\n",
       "    <tr>\n",
       "      <th>4</th>\n",
       "      <td>0</td>\n",
       "      <td>0</td>\n",
       "    </tr>\n",
       "    <tr>\n",
       "      <th>...</th>\n",
       "      <td>...</td>\n",
       "      <td>...</td>\n",
       "    </tr>\n",
       "    <tr>\n",
       "      <th>387</th>\n",
       "      <td>0</td>\n",
       "      <td>0</td>\n",
       "    </tr>\n",
       "    <tr>\n",
       "      <th>388</th>\n",
       "      <td>1</td>\n",
       "      <td>0</td>\n",
       "    </tr>\n",
       "    <tr>\n",
       "      <th>389</th>\n",
       "      <td>0</td>\n",
       "      <td>0</td>\n",
       "    </tr>\n",
       "    <tr>\n",
       "      <th>390</th>\n",
       "      <td>0</td>\n",
       "      <td>0</td>\n",
       "    </tr>\n",
       "    <tr>\n",
       "      <th>391</th>\n",
       "      <td>0</td>\n",
       "      <td>0</td>\n",
       "    </tr>\n",
       "  </tbody>\n",
       "</table>\n",
       "<p>392 rows × 2 columns</p>\n",
       "</div>"
      ],
      "text/plain": [
       "     2.0  3.0\n",
       "0      0    0\n",
       "1      0    0\n",
       "2      0    0\n",
       "3      0    0\n",
       "4      0    0\n",
       "..   ...  ...\n",
       "387    0    0\n",
       "388    1    0\n",
       "389    0    0\n",
       "390    0    0\n",
       "391    0    0\n",
       "\n",
       "[392 rows x 2 columns]"
      ]
     },
     "execution_count": 689,
     "metadata": {},
     "output_type": "execute_result"
    }
   ],
   "source": [
    "# using pandas\n",
    "pd.get_dummies(origin, drop_first=True)"
   ]
  }
 ],
 "metadata": {
  "kernelspec": {
   "display_name": "Python 3.8.3 ('base')",
   "language": "python",
   "name": "python3"
  },
  "language_info": {
   "codemirror_mode": {
    "name": "ipython",
    "version": 3
   },
   "file_extension": ".py",
   "mimetype": "text/x-python",
   "name": "python",
   "nbconvert_exporter": "python",
   "pygments_lexer": "ipython3",
   "version": "3.8.3"
  },
  "toc-autonumbering": true,
  "toc-showmarkdowntxt": false,
  "vscode": {
   "interpreter": {
    "hash": "ca350b3caf5afa030c2adb4a8988c3a48d039c245b1a5d96d07158c869f842ed"
   }
  }
 },
 "nbformat": 4,
 "nbformat_minor": 4
}