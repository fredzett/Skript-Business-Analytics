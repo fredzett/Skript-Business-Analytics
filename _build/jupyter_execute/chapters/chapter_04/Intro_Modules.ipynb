{
 "cells": [
  {
   "cell_type": "markdown",
   "metadata": {},
   "source": [
    "# Einführung: Module"
   ]
  },
  {
   "cell_type": "markdown",
   "metadata": {},
   "source": [
    "## Warum Module?"
   ]
  },
  {
   "cell_type": "markdown",
   "metadata": {},
   "source": [
    "In diesem Kapitel werden wir uns mit einigen externen Modulen beschäftigen. Was sind externe Module? Wir können Python um bestimmte \"__Fähigkeiten__\" erweitern, in dem wir Code intergrieren, der von anderen geschrieben wurde und den wir nutzen können. Für alles was wir bisher im Python umgesetzt haben, wurden nur die Basiskonfiguration von Python (\"pure Python\") genutzt. So haben wir z.B. sog. `build-in`-Funktionen kennengelernt. Diese konnten wir nutzen, in dem wir diese aufgerufen haben. Wir mussten jedoch zuvor nicht dafür sorgen, dass diese auch verfügbar sind. Die \"Fähigkeiten\" waren quasi einfach da. \n",
    "\n",
    "Dieses Vorgehen war wichtig, um die Grundlagen der Programmierung und im Speziellen von Python kennenzulernen. Grundsätzlich könnten wir nun auch mit ernsthafter Datenanalyse anfangen. Jedoch müssten wir jegliche Funktionalität (z.B. Dateien einlesen, Berechnungen durchführen, Graphen plotten etc.) selber von Grund auf programmieren. Dies ist aber natürlich nicht notwendig, da Python sich eine großen Community erfreut und viele der **benötigten Funktionalitäten bereits von anderen programmiert** wurden. Um diese Funktionalitäten nutzen zu können (Hinweis: Python ist Open Source, d.h. der Source Code ist grundsätzlich frei zugänglich) müssen wir spezifische Module importieren. \n",
    "\n",
    "Als Beispiel lassen Sie uns vorstellen, dass wir ein wichtiges Projekt haben und im Rahmen dieses Projekts das arithmetische Mittel von 10 wichtigen Zahlen berechnen müssen. \n",
    "\n",
    "Sie haben mittlerweile die Grundlagen erlernt, um diese wichtige Aufgabe in Python umzusetzen. Zur Erinnnerung, die Berechnung des arithmetischen Mittels lautet:\n",
    "\n",
    "$$\\bar{x} = \\frac{1}{n} \\sum_{i=1}^n x_i = \\frac{x_1 + x_2 + \\ldots + x_n}{n} $$\n",
    "\n",
    "Eine Implementierung in \"pure\" Python könnte z.B. wiefolgt aussehen:"
   ]
  },
  {
   "cell_type": "code",
   "execution_count": 6,
   "metadata": {},
   "outputs": [
    {
     "data": {
      "text/plain": [
       "5.5"
      ]
     },
     "execution_count": 6,
     "metadata": {},
     "output_type": "execute_result"
    }
   ],
   "source": [
    "# Berechnung des arithmethischen Mittels\n",
    "def calc_xbar(xs):\n",
    "    n = len(xs)\n",
    "    xbar = sum(xs)/n\n",
    "    return xbar\n",
    "\n",
    "# Anwendungsbeispiel\n",
    "zahlen = [1,2,3,4,5,6,7,8,9,10]\n",
    "calc_xbar(zahlen)"
   ]
  },
  {
   "cell_type": "markdown",
   "metadata": {},
   "source": [
    "Die Umsetzung in Python war nicht besonders komplex. Dennoch erscheint es mühsam, dass wir für ein solches Problem das Rad quasi neu erfinden müssen. Genau hier kommen externe Module ins Spiel: wir machen uns stattdessen die Implementierung von anderen zunutze. Gründsätzlich können wir davon ausgehen, dass für die meisten Fragestellungen andere bereits Lösungsansätze programmiert haben. Im Falle von Python gilt dies inbesondere auch für das Thema `Datenanalyse`. \n",
    "\n",
    "Für die o.g. Fragestellung würden wir stattdessen z.B. ein Modul namens `statistics` importieren, in welchem die Funktion `mean` (engl. für arithmetisches Mittel) bereits implementiert ist. \n",
    "\n",
    "Wir gehen dann wiefolgt vor:"
   ]
  },
  {
   "cell_type": "code",
   "execution_count": 8,
   "metadata": {},
   "outputs": [
    {
     "data": {
      "text/plain": [
       "5.5"
      ]
     },
     "execution_count": 8,
     "metadata": {},
     "output_type": "execute_result"
    }
   ],
   "source": [
    "from statistics import mean\n",
    "\n",
    "zahlen = [1,2,3,4,5,6,7,8,9,10]\n",
    "mean(zahlen)"
   ]
  },
  {
   "cell_type": "markdown",
   "metadata": {},
   "source": [
    "Der Vorteil ist, dass wir uns keine Gedanken über die Implementierung der Funktion `calc_xbar` machen müssen und stattdessen die bereits existierende Funktion `mean` nutzen können, von der wir - zumindest bei populären Modulen - hinreichend zuversichtlich sein können, dass diese korrekt ist. "
   ]
  },
  {
   "cell_type": "markdown",
   "metadata": {},
   "source": [
    "## Nutzen von externen Modulen[^1]\n",
    "\n",
    "Um zusätzliche \"__Fähigkeiten__\" verfügbar zu machen, müssen wir diese `importieren`. Dies setzt jedoch voraus, dass die Module bzw. Packages[^2] grds. auch verfügbar sind. Viele Module sind standardmäßig nicht verfügbar und müssen zuvor installiert werden. Um externe Module zu nutzen sind also immer zwei Schritte nötig:\n",
    "\n",
    "1. Installieren von Module \n",
    "2. Importieren von Module\n",
    "[^1]: Wir gehen im Rahmen dieses Skripts nicht auf das Thema `virtuelle Umgebungen` ein. Sie finden Informationen dazu z.B. [hier](https://conda.io/projects/conda/en/latest/user-guide/tasks/manage-environments.html).\n",
    "[^2]: Hinweis: ein Package ist eine Ansammlung von mehreren Modulen; wir bezeichnen der Einfachheit halber alles als Module.\n",
    "\n",
    "### Installieren von Modulen\n",
    "\n",
    "Sofern Sie Python via `Anaconda` installiert haben oder `google colab` nutzen, sind die meisten von uns benötigten Module bereits vorinstalliert. Einige Module jedoch nicht.  Z.B. ein Modul, welches speziell für diesen Kurs geschrieben wurde und ihnen einige hilfreiche Funktionen insb. zum Herunterladen und Visualisieren von Daten bietet: `BusinessAnalytics`. \n",
    "\n",
    "Der einfachste Weg ein Modul zu installieren ist, indem Sie folgenden Code in einer Zeile ausführen:\n",
    "\n",
    "```\n",
    "# Installiert ein Modul in ihrer gewählten Python-Umgebung\n",
    "import sys\n",
    "!{sys.executable} -m pip install <modul name>\n",
    "```"
   ]
  },
  {
   "cell_type": "markdown",
   "metadata": {},
   "source": [
    "Sobald Sie den o.g. Code ausführen, wird die Installation beginnen. Dies dauert meist nur wenige Sekunden. Sollte das Modul bereits vorhanden sein, wird ihnen dies mitgeteilt. Das spezielle Modul für diesen Kurs installieren Sie also, in dem Sie folgendes ausführen:\n",
    "\n",
    "```\n",
    "# Installiert das Module \"BusinessAnalytics\" in ihrer gewählten Python-Umgebung\n",
    "import sys\n",
    "!{sys.executable} -m pip install BusinessAnalytics\n",
    "```"
   ]
  },
  {
   "cell_type": "markdown",
   "metadata": {},
   "source": [
    "### Importieren von externen Modulen"
   ]
  },
  {
   "cell_type": "markdown",
   "metadata": {},
   "source": [
    "Sofern ein Modul auf dem Rechner installiert ist, können Sie dieses nutzen, in dem sie es importieren. \n",
    "\n",
    "Sie können ein Modul auf verschiedene Weisen importieren:\n",
    "\n",
    "#### Importieren des Moduls: \n",
    "\n",
    "Wir importieren ein Modul, in dem wir folgenden Code ausführen:\n",
    "\n",
    "```\n",
    "import <modul name>\n",
    "```\n",
    "\n",
    "Schauen wir uns die dies anhand eines konkreten Beispiels - des o.g. Modules `statistics` - genauer an. \n"
   ]
  },
  {
   "cell_type": "code",
   "execution_count": 9,
   "metadata": {},
   "outputs": [],
   "source": [
    "import statistics"
   ]
  },
  {
   "cell_type": "markdown",
   "metadata": {},
   "source": [
    "Wir können jetzt alle \"Fähigkeiten\" des Moduls `statistics` nutzen, in dem wir diese mit der sog. \"Punkt-Notation\" aufrufen. Wir haben diese bereits kennengelernt, als wir uns z.B. alle Methoden des Datentypes `list` haben anzeigen lassen wollen:\n",
    "\n",
    "![dot_notation](../assets/dot_notation.png)"
   ]
  },
  {
   "cell_type": "code",
   "execution_count": 12,
   "metadata": {},
   "outputs": [
    {
     "data": {
      "text/plain": [
       "9.166666666666666"
      ]
     },
     "execution_count": 12,
     "metadata": {},
     "output_type": "execute_result"
    }
   ],
   "source": [
    "statistics.variance(zahlen)"
   ]
  },
  {
   "cell_type": "markdown",
   "metadata": {},
   "source": [
    "Da es oft mühsam ist, das Wort \"_statistics_\" vor jede genutzte Funktion zu schreiben, ist es üblich, dass man einige Module importiert und dem importierten Modul dann eine andere, kürzere Bezeichnung gibt. Dies sähe dann wiefolgt aus:\n",
    "\n",
    "```\n",
    "import <modul name> as <kurzbezeichnung>\n",
    "```\n",
    "\n",
    "In Falle des Moduls `statistics` könnten wir z.B. schreiben"
   ]
  },
  {
   "cell_type": "code",
   "execution_count": 13,
   "metadata": {},
   "outputs": [],
   "source": [
    "import statistics as st "
   ]
  },
  {
   "cell_type": "markdown",
   "metadata": {},
   "source": [
    "Wir müssen dann nur noch `st` schreiben, wenn wir die Funktionen des Moduls `statistics` nutzen wollen. "
   ]
  },
  {
   "cell_type": "code",
   "execution_count": 14,
   "metadata": {},
   "outputs": [
    {
     "data": {
      "text/plain": [
       "9.166666666666666"
      ]
     },
     "execution_count": 14,
     "metadata": {},
     "output_type": "execute_result"
    }
   ],
   "source": [
    "st.variance(zahlen)"
   ]
  },
  {
   "cell_type": "markdown",
   "metadata": {},
   "source": [
    "Prinzipiell können wir die Kurzbezeichnung frei wählen. Jedoch gibt es hierbei zwei Dinge zu beachten:\n",
    "\n",
    "1. Für einige bekannte Module hat sich eine einheitliche Kurzschreibweise etabliert (z.B. für die von uns noch zu importierenden Module `pandas` und `numpy`)\n",
    "2. Die Kurzbezeichnung sollte nicht mit anderen Variablennamen oder `build-in` Keywords oder Funktionen kollidieren, d.h. einzigartig sein"
   ]
  },
  {
   "cell_type": "markdown",
   "metadata": {},
   "source": [
    "#### Selektiver Import"
   ]
  },
  {
   "cell_type": "markdown",
   "metadata": {},
   "source": [
    "Die o.g. Variante hat den Vorteil, dass wir alle Funktionen des Moduls nutzen können. Jedoch benötigen wir oft nur einige selektive Funktionen der importierten Module. Für diesen Zweck hat sich eine andere Art des Imports etabliert:\n",
    "\n",
    "```\n",
    "from <modul name> import <function1>, <function2>\n",
    "```"
   ]
  },
  {
   "cell_type": "markdown",
   "metadata": {},
   "source": [
    "Wenn wir z.B. bereits wissen, dass wir nur zwei Funktionen aus dem Modul `statistics` nutzen werden - die Funktion `mean` und die Funktion `variance`, dann können wir folgenden Code ausführen:"
   ]
  },
  {
   "cell_type": "code",
   "execution_count": 15,
   "metadata": {},
   "outputs": [],
   "source": [
    "from statistics import mean, variance"
   ]
  },
  {
   "cell_type": "markdown",
   "metadata": {},
   "source": [
    "Wir können dann die Funktionen direkt ausführen:"
   ]
  },
  {
   "cell_type": "code",
   "execution_count": 17,
   "metadata": {},
   "outputs": [],
   "source": [
    "m = mean(zahlen)\n",
    "v = variance(zahlen)\n"
   ]
  },
  {
   "cell_type": "markdown",
   "metadata": {},
   "source": [
    "### Konventionen\n",
    "\n",
    "Module werden zu Beginn des Programms importiert. In einem Jupyter Notebook sollten wir uns deshalb angewöhnen, die benötigten Module als erste Code-Zellen zu importieren. Wenn wir im Laufe unseres Problemlösungsprozesses zusätzliche Module importieren wollen, sollten wir diese zu Beginn des Notebooks hinzufügen. \n",
    "\n",
    "Dieses Vorgehen stellt zum einen sicher, dass unser Programm sequenziell, d.h. von oben nach unten, funktioniert und zum anderen können wir auch sehr übersichtlich erkennen, auf welche externen Module und Funktionen unser Programm zugreift. In unserem obigen Beispiel würden wir z.B. direkt erkennen, dass wir nur zwei Funktionen aus dem Modul `statistics` benötigen. "
   ]
  },
  {
   "cell_type": "markdown",
   "metadata": {},
   "source": [
    "In den nächsten beiden Kapiteln werden wir zwei für die Datenanalyse essentielle Module vorstellen:\n",
    "\n",
    "1. NumPy (siehe [hier](https://numpy.org/doc/stable/user/whatisnumpy.html))\n",
    "\n",
    "2. Pandas (siehe [hier](https://pandas.pydata.org/))"
   ]
  },
  {
   "cell_type": "markdown",
   "metadata": {},
   "source": [
    "Dabei handelt es sich um zwei der bekanntesten und weitverbreitetsten Module in Python. Beide Module sind frei verfüg- und einsehbar und von Millionen von Nutzern täglich geprüft. Wir können also mit zwei kurzen Import-Zeilen, den Funktionsumfang von Python signifikant und für die Zwecke der Datenanalyse sehr zielgerichtet erweitern und uns gleichzeitig sicher sein, dass die von uns sodann genutzten Funktionen auch tatsächlich korrekt implementiert sind. "
   ]
  }
 ],
 "metadata": {
  "hide_input": false,
  "interpreter": {
   "hash": "9c8a4babebe8c1d9e0d056b38c59c6c9a5545619301994faaf0a84ae1d73c3ab"
  },
  "kernelspec": {
   "display_name": "Python [conda env:anaconda3]",
   "language": "python",
   "name": "python3"
  },
  "language_info": {
   "codemirror_mode": {
    "name": "ipython",
    "version": 3
   },
   "file_extension": ".py",
   "mimetype": "text/x-python",
   "name": "python",
   "nbconvert_exporter": "python",
   "pygments_lexer": "ipython3",
   "version": "3.9.7"
  },
  "toc": {
   "base_numbering": 1,
   "nav_menu": {},
   "number_sections": true,
   "sideBar": true,
   "skip_h1_title": false,
   "title_cell": "Table of Contents",
   "title_sidebar": "Contents",
   "toc_cell": false,
   "toc_position": {},
   "toc_section_display": true,
   "toc_window_display": false
  }
 },
 "nbformat": 4,
 "nbformat_minor": 2
}