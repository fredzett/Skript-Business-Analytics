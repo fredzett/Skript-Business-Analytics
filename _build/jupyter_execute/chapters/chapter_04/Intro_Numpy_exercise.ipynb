{
 "cells": [
  {
   "cell_type": "markdown",
   "metadata": {},
   "source": [
    "# Übungsblatt: Numpy"
   ]
  },
  {
   "cell_type": "markdown",
   "metadata": {},
   "source": [
    "## Aufgabe 1"
   ]
  },
  {
   "cell_type": "markdown",
   "metadata": {},
   "source": [
    "Erstellen sie einen Array mit 3 Zeilen und 4 Spalten mit den Zahlen 1 bis 12"
   ]
  },
  {
   "cell_type": "markdown",
   "metadata": {},
   "source": [
    "## Aufgabe 2"
   ]
  },
  {
   "cell_type": "markdown",
   "metadata": {},
   "source": [
    "Der folgende Array beinhaltet Zahlen zwischen 1 und 10. Bestimmen Sie die realtive Häufigkeit der jeweiligen Zahlen. Bestimmen Sie z.B. wie häufig der Wert `1` im Array vorkommt relativ zu allen anderen, d.h. z.B. 14% der Werte sind eine 1."
   ]
  },
  {
   "cell_type": "code",
   "execution_count": 10,
   "metadata": {},
   "outputs": [
    {
     "data": {
      "text/plain": [
       "array([[6, 5, 7, ..., 9, 2, 1],\n",
       "       [7, 7, 8, ..., 3, 2, 5],\n",
       "       [1, 5, 7, ..., 9, 3, 7],\n",
       "       ...,\n",
       "       [5, 1, 2, ..., 6, 4, 6],\n",
       "       [4, 8, 6, ..., 1, 3, 8],\n",
       "       [3, 6, 4, ..., 2, 8, 4]])"
      ]
     },
     "execution_count": 10,
     "metadata": {},
     "output_type": "execute_result"
    }
   ],
   "source": [
    "import numpy as np\n",
    "np.random.seed(13455)  \n",
    "\n",
    "\n",
    "data = np.random.randint(1,10, (100,100))\n",
    "data"
   ]
  },
  {
   "cell_type": "markdown",
   "metadata": {},
   "source": [
    "## Aufgabe 3"
   ]
  },
  {
   "cell_type": "markdown",
   "metadata": {},
   "source": [
    "Bestimmen Sie vom obigen Array `data` die Summe der Spalten."
   ]
  },
  {
   "cell_type": "markdown",
   "metadata": {},
   "source": [
    "## Aufgabe 4"
   ]
  },
  {
   "cell_type": "markdown",
   "metadata": {},
   "source": [
    "Schreiben Sie eine Funktion `select`, die einen beliebigen 2D-Array sowie die gewünschte Zeile und Spalte als **Input** bekommt. Als Output gibt diese dann das Angegebene Element zurück. \n",
    "\n",
    "Beispiel: `select(data, row=4, col=2)` gibt das Element aus der 4. Zeile und der 2. Spalte zurück."
   ]
  }
 ],
 "metadata": {
  "hide_input": false,
  "interpreter": {
   "hash": "9c8a4babebe8c1d9e0d056b38c59c6c9a5545619301994faaf0a84ae1d73c3ab"
  },
  "kernelspec": {
   "display_name": "Python [conda env:anaconda3]",
   "language": "python",
   "name": "python3"
  },
  "language_info": {
   "codemirror_mode": {
    "name": "ipython",
    "version": 3
   },
   "file_extension": ".py",
   "mimetype": "text/x-python",
   "name": "python",
   "nbconvert_exporter": "python",
   "pygments_lexer": "ipython3",
   "version": "3.9.7"
  },
  "toc": {
   "base_numbering": 1,
   "nav_menu": {},
   "number_sections": true,
   "sideBar": true,
   "skip_h1_title": false,
   "title_cell": "Table of Contents",
   "title_sidebar": "Contents",
   "toc_cell": false,
   "toc_position": {},
   "toc_section_display": true,
   "toc_window_display": false
  }
 },
 "nbformat": 4,
 "nbformat_minor": 2
}