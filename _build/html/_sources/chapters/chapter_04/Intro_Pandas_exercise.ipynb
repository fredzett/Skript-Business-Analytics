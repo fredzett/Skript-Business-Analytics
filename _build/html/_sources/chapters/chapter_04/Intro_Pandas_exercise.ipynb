{
 "cells": [
  {
   "cell_type": "markdown",
   "metadata": {},
   "source": [
    "# Übungen: Pandas"
   ]
  },
  {
   "cell_type": "markdown",
   "metadata": {},
   "source": [
    "## Aufgabe 1: Einlesen einer Exceldatei\n",
    "\n",
    "Lesen Sie eine beliebige Exceldatei via `pd.read_excel` ein. \n",
    "\n",
    "Wenn Sie Google Colab nutzen, laden Sie dafür zunächst eine Datei in die Umgebung \n",
    "\n",
    "\n",
    "```{admonition} Upload Google Colab\n",
    ":class: tip, dropdown\n",
    "![](../assets/read_xls_colab.gif)\n",
    "\n",
    "```"
   ]
  },
  {
   "cell_type": "markdown",
   "metadata": {},
   "source": [
    "## Aufgabe 2: Einlesen via Clipboard\n",
    "\n",
    "Manchmal haben wir Daten, die wir schnell für eine kurze, einmalige Analyse in Pandas überführen würden. Z.B. eine Exceltabelle, für die wir schnell etwas ausrechnen möchten. Wir können in diesem Fall auch einfach via `pd.read_clipboard` die Daten in Pandas überführen. \n",
    "\n",
    "Recherchieren Sie, was die Funktion macht und erstellen ein Dataframe auf Basis dieser Logik. "
   ]
  },
  {
   "cell_type": "markdown",
   "metadata": {},
   "source": [
    "Lesen Sie die beiden Sales-Datensätze ein (File-Links finden Sie im [vorherigen Notebook](../chapter_04/Intro_Pandas.ipynb)) und beantworten Sie folgende Fragen"
   ]
  },
  {
   "cell_type": "markdown",
   "metadata": {},
   "source": [
    "## Aufgabe 3"
   ]
  },
  {
   "cell_type": "markdown",
   "metadata": {},
   "source": [
    "Nutzen Sie die bestehenden Datensätze:\n",
    "\n",
    "- wie groß ist die maximale Verkaufsmenge je Produkt und je Tag\n",
    "- wieviel Transaktionen gab es je Produkt pro Tag"
   ]
  },
  {
   "cell_type": "markdown",
   "metadata": {},
   "source": [
    "## Aufgabe 4"
   ]
  },
  {
   "cell_type": "markdown",
   "metadata": {},
   "source": [
    "Sie haben folgende ergänzende Information: die variablen Stückkosten je Produkt betragen:\n",
    "\n",
    "- Produkt 1: 6 EUR\n",
    "- Produkt 2: 2 EUR\n",
    "- Produkt 3: 9 EUR\n",
    "- Produkt 4: 4 EUR\n",
    "- Produkt 5: 13 EUR\n",
    "\n",
    "Berechnen Sie die gesamten Deckungsbeiträge je Produkt."
   ]
  },
  {
   "cell_type": "markdown",
   "metadata": {},
   "source": [
    "## Aufgabe 5"
   ]
  },
  {
   "cell_type": "markdown",
   "metadata": {},
   "source": [
    "Laden Sie die folgenden Aktienkursdaten der Firma **Uniper** in ein Dataframe und führen Sie folgende Berechnungen durch:\n",
    "\n",
    "1. Ergänzen Sie den Datensatz um die tägliche Aktienkursrendite (Hinweis: $\\frac{P_t}{P_{t-1}} - 1$)\n",
    "2. Berechnen Sie die kumulierte Rendite seit Beginn des Jahres und fügen diese als zusätzliche Spalte hinzu\n",
    "3. Ergänzen Sie eine Spalte \"Wochentag\" (Tipp: wandeln Sie die Spalte mit dem Datum sinnvoll um; `pd.to_datetime` kann hier ggf. helfen)"
   ]
  },
  {
   "cell_type": "markdown",
   "metadata": {},
   "source": []
  },
  {
   "cell_type": "code",
   "execution_count": 37,
   "metadata": {},
   "outputs": [],
   "source": [
    "link_uniper = \"https://query1.finance.yahoo.com/v7/finance/download/UN01.DE?period1=1640995200&period2=1664236800&interval=1d&events=history&includeAdjustedClose=true\""
   ]
  },
  {
   "cell_type": "code",
   "execution_count": null,
   "metadata": {},
   "outputs": [],
   "source": []
  }
 ],
 "metadata": {
  "hide_input": false,
  "interpreter": {
   "hash": "9c8a4babebe8c1d9e0d056b38c59c6c9a5545619301994faaf0a84ae1d73c3ab"
  },
  "kernelspec": {
   "display_name": "Python [conda env:anaconda3]",
   "language": "python",
   "name": "python3"
  },
  "language_info": {
   "codemirror_mode": {
    "name": "ipython",
    "version": 3
   },
   "file_extension": ".py",
   "mimetype": "text/x-python",
   "name": "python",
   "nbconvert_exporter": "python",
   "pygments_lexer": "ipython3",
   "version": "3.9.7"
  },
  "toc": {
   "base_numbering": 1,
   "nav_menu": {},
   "number_sections": true,
   "sideBar": true,
   "skip_h1_title": false,
   "title_cell": "Table of Contents",
   "title_sidebar": "Contents",
   "toc_cell": false,
   "toc_position": {},
   "toc_section_display": true,
   "toc_window_display": false
  }
 },
 "nbformat": 4,
 "nbformat_minor": 2
}
