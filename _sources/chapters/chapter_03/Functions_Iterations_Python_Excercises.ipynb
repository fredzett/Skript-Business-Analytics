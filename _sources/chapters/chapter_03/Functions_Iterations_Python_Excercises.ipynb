{
 "cells": [
  {
   "cell_type": "markdown",
   "metadata": {},
   "source": [
    "# Übungen 2"
   ]
  },
  {
   "cell_type": "markdown",
   "metadata": {},
   "source": [
    "Hinweis: die (build-in) Funktion `zip` könnte ihnen bei den folgenden Aufgaben helfen. "
   ]
  },
  {
   "cell_type": "markdown",
   "metadata": {},
   "source": [
    "## Aufgabe 1"
   ]
  },
  {
   "cell_type": "markdown",
   "metadata": {},
   "source": [
    "Sie wollen ihren Kunden Rechnungen schicken und dafür die Anrede zu Beginn des Schreibens automatisieren. Schreiben Sie eine Funktion, die die untenstehenden Daten als Input nutzt und für jeden Kunden eine Anrede nach folgendem Prinzip ausgibt:\n",
    "\n",
    "\"Hallo Vorname Zuname\""
   ]
  },
  {
   "cell_type": "code",
   "execution_count": 5,
   "metadata": {},
   "outputs": [],
   "source": [
    "vornamen = [\"Hans\", \"Manuela\", \"Peter\", \"Nathalie\"]\n",
    "nachnamen = [\"Horst\", \"Mühlweber\", \"Packendorf\", \"Nursucher\"]\n"
   ]
  },
  {
   "cell_type": "markdown",
   "metadata": {},
   "source": [
    "## Aufgabe 2"
   ]
  },
  {
   "cell_type": "markdown",
   "metadata": {},
   "source": [
    "Ihr Unternehmen hat in den letzten Wochen außergewöhnlich viele Kunden verloren. Ihr Chef wird nervös und bittet Sie - auf Basis der unten angegebenen Daten - zu berechnen, wieviel % Umsatz ihr Unternehmen dadurch verloren hat. Da die Zahlen evtl. noch einmal aktualisiert werden, sollten Sie idealerweise eine Funktion dafür schreiben. \n",
    "\n",
    "Sie haben zwei Listen mit Daten, die zueinander passen. In der ersten Liste ist mit 1 angegeben, falls ein Kunde gekündigt hat. In der zweiten Liste ist der entsprechende Umsatz der Kunden angegeben. "
   ]
  },
  {
   "cell_type": "code",
   "execution_count": 16,
   "metadata": {},
   "outputs": [],
   "source": [
    "kündigung = [1, 0, 0, 1, 1, 0 , 0, 1, 1, 1, 0, 0, 0, 0] # 1 = hat gekündigt, 0 = nicht gekündigt\n",
    "umsatz = [10, 20, 10, 20, 30, 22, 10, 145, 15, 23, 29, 17, 78, 63]"
   ]
  },
  {
   "cell_type": "markdown",
   "metadata": {},
   "source": [
    "## Aufgabe 3"
   ]
  },
  {
   "cell_type": "markdown",
   "metadata": {},
   "source": [
    "In Aufgabe 1 auf Übungsblatt 1 (siehe [hier](blatt1:aufgabe1)) haben Sie eine Umrechnung vorgenommen. Schreiben Sie eine Funktion, die diese Umrechnung vornimmt und als Input Rohstoff A hat und die Menge von Rohstoff B ausgibt.  "
   ]
  },
  {
   "cell_type": "markdown",
   "metadata": {},
   "source": []
  }
 ],
 "metadata": {
  "hide_input": false,
  "interpreter": {
   "hash": "9c8a4babebe8c1d9e0d056b38c59c6c9a5545619301994faaf0a84ae1d73c3ab"
  },
  "kernelspec": {
   "display_name": "Python [conda env:anaconda3]",
   "language": "python",
   "name": "python3"
  },
  "language_info": {
   "codemirror_mode": {
    "name": "ipython",
    "version": 3
   },
   "file_extension": ".py",
   "mimetype": "text/x-python",
   "name": "python",
   "nbconvert_exporter": "python",
   "pygments_lexer": "ipython3",
   "version": "3.9.7"
  },
  "toc": {
   "base_numbering": 1,
   "nav_menu": {},
   "number_sections": true,
   "sideBar": true,
   "skip_h1_title": false,
   "title_cell": "Table of Contents",
   "title_sidebar": "Contents",
   "toc_cell": false,
   "toc_position": {},
   "toc_section_display": true,
   "toc_window_display": false
  }
 },
 "nbformat": 4,
 "nbformat_minor": 2
}
