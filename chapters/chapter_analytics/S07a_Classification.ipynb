{
 "cells": [
  {
   "cell_type": "markdown",
   "metadata": {},
   "source": [
    "# Klassifikation"
   ]
  },
  {
   "cell_type": "code",
   "execution_count": 882,
   "metadata": {},
   "outputs": [],
   "source": [
    "import numpy as np\n",
    "import pandas as pd\n",
    "from utils import plot_line, plot_scatter\n",
    "import scipy.stats as stats\n",
    "from patsy import dmatrices#\n",
    "import statsmodels.api as sm\n",
    "from sklearn import metrics"
   ]
  },
  {
   "cell_type": "markdown",
   "metadata": {},
   "source": [
    "# Logistic regression"
   ]
  },
  {
   "cell_type": "markdown",
   "metadata": {},
   "source": [
    "## Introduction"
   ]
  },
  {
   "cell_type": "markdown",
   "metadata": {},
   "source": [
    "Many practical and research problems deal with issues where the _dependent variable_ ($Y$) is _categorical_. Consider, for example, the following problems:\n",
    "\n",
    "1. will patient be cured by taking a certain medicine or not\n",
    "\n",
    "2. what are factors driving a customer's decision to cancel his/her contract\n",
    "\n",
    "3. which of the five available parties will people vote for?\n",
    "\n",
    "All of these questions have in common that the dependent variable is categorical. Problems 1 and 2 deal with questions where two alternatives exist, whereas in problem 3 more than two alternatives exist. \n",
    "\n",
    "Note that even if the dependent variable is not binary - e.g. net income - you may be that your research question or decision relevant information is binary (did you make a loss or a profit). \n",
    "\n",
    "__Logistic regression__ is well suited to answer questions such as the above. Here the dependent variable $Y$ is a categorical variable whose values ($g = 1, \\ldots, G)$ represent the alternatives available. For example, in problem 2, $Y$ could take the value $0$ or $1$ representing a customer cancelling a contract or not. In problem 3, $Y$ could take values of $0, \\ldots, 4$ to represent the five available parties. Theoretically, other values are possible but commonly we use $0$ and $1$ for the binary case. \n",
    "\n",
    "We use different terminology to distinguish between the two cases described above:\n",
    "\n",
    "1. Binary logistic regression for $G = 2$\n",
    "\n",
    "2. Multinomial logistic regression for $G \\geq 3$\n",
    "\n"
   ]
  },
  {
   "cell_type": "markdown",
   "metadata": {},
   "source": [
    "The __logistic regression model__ can be generally expressed as follows:\n",
    "\n",
    "$$\\pi(x) = f(x_1, \\ldots, x_J)$$\n",
    "\n",
    "Where $\\pi(x)=P(Y = 1 | x)$ is the conditional probability that for event 1 (e.g. customer cancels contract) occurs given the independent / explanatory variables $x_1, \\ldots, x_J$. Identical to the linear regression model the explanatory variables are expressed using a linear combination \n",
    "\n",
    "$$z(x) = \\beta_0 + \\beta_1x_1 + \\ldots + \\beta_Jx_J$$\n",
    "\n",
    "The logistic regression receives its name from the (standard) __logistic function__ \n",
    "\n",
    "$$p = \\frac{e^z}{1+e^z}= \\frac{1}{1+e^{-z}}$$\n",
    "\n",
    "(Note: simpliefied by multiplying with $1/e^z$)\n",
    "\n",
    "Plotting the function (here: bewteen -5 and 5) reveals its s-shaped distribution. The function can hence be interpreted as a cumulative probabilitby distribution function and it is similar to the cumulative (standard) normal distribution as you can see from the below plot:"
   ]
  },
  {
   "cell_type": "code",
   "execution_count": 820,
   "metadata": {},
   "outputs": [],
   "source": [
    "# logistic function\n",
    "def p(z):\n",
    "    return 1 /(1+np.exp(-z))"
   ]
  },
  {
   "cell_type": "code",
   "execution_count": 821,
   "metadata": {},
   "outputs": [
    {
     "data": {
      "image/png": "[encoded data removed]",
      "text/plain": [
       "<Figure size 648x504 with 1 Axes>"
      ]
     },
     "metadata": {
      "needs_background": "light"
     },
     "output_type": "display_data"
    }
   ],
   "source": [
    "z = np.linspace(-5,5,100)  # 100 x values from -5 to 5\n",
    "norm = stats.norm(0,1)\n",
    "fig, ax = plot_line(z, [p(z),norm.cdf(z)], xlabel=\"z\", ylabel=\"p\",title=\"Standard normal cdf vs. logistic function\", zero_origin=True);\n",
    "ax.legend((\"Logistic function\",\"Normal CDF\"), frameon=False, loc=\"right\");"
   ]
  },
  {
   "cell_type": "markdown",
   "metadata": {},
   "source": [
    "The logistic function is applied in a broad range of applications as it is mathematically less complex than the normal distribution. By using a lostistic function we can **transform** real numbers into probabilities, i.e. transform numbers in the range of $[-\\infty, +\\infty]$ to the range $[0, 1]$. Specifically, transforming the _systematic component_ using the _logistic function_ yields the __logistic regression function__:\n",
    "\n",
    "$$\\pi(x)=\\frac{1}{1+e^{-z(x)}}$$\n",
    "\n",
    "The larger the systematic component $z(x)$, the higher $\\pi(x)$. Therefore: the higher $z(x)$, the higher $P(Y = 1 | x)$."
   ]
  },
  {
   "cell_type": "markdown",
   "metadata": {},
   "source": [
    "In line with our discussion in Chapter 5 (linear regresssion) we will now examine how to use logistic regression by explaining\n",
    "\n",
    "1. model formulation\n",
    "\n",
    "2. estimation of logistic regression function\n",
    "\n",
    "3. interpretation of regression coefficients\n",
    "\n",
    "4. assessment of overall model\n",
    "\n",
    "5. assessment of coefficients"
   ]
  },
  {
   "cell_type": "markdown",
   "metadata": {},
   "source": [
    "We will largely rely on the explanaitons and the dataset used in  [*Backhaus et al (2017)*](https://www.springer.com/de/book/9783662460764)."
   ]
  },
  {
   "cell_type": "markdown",
   "metadata": {},
   "source": [
    "### Dataset\n",
    "**Data set**: the data set contains (toy) data on a product test where people where shown a product (premium butter) and asked if they would buy it. The dataset includes the following variables:\n",
    "\n",
    "- person: id of person\n",
    "\n",
    "- income: income of person buying / not buying the product (here: premium butter)\n",
    "\n",
    "- gender: gender of person buying / not buying the product ($0 =$ female, $1 =$ male)\n",
    "\n",
    "- purchase: indicator for purchasing decision ($0=$ no purchase, $1=$ purchase)\n",
    "\n",
    "The data has 30 observations."
   ]
  },
  {
   "cell_type": "code",
   "execution_count": 822,
   "metadata": {},
   "outputs": [
    {
     "data": {
      "text/html": [
       "<div>\n",
       "<style scoped>\n",
       "    .dataframe tbody tr th:only-of-type {\n",
       "        vertical-align: middle;\n",
       "    }\n",
       "\n",
       "    .dataframe tbody tr th {\n",
       "        vertical-align: top;\n",
       "    }\n",
       "\n",
       "    .dataframe thead th {\n",
       "        text-align: right;\n",
       "    }\n",
       "</style>\n",
       "<table border=\"1\" class=\"dataframe\">\n",
       "  <thead>\n",
       "    <tr style=\"text-align: right;\">\n",
       "      <th></th>\n",
       "      <th>person</th>\n",
       "      <th>income</th>\n",
       "      <th>gender</th>\n",
       "      <th>purchase</th>\n",
       "    </tr>\n",
       "  </thead>\n",
       "  <tbody>\n",
       "    <tr>\n",
       "      <th>0</th>\n",
       "      <td>1</td>\n",
       "      <td>2.53</td>\n",
       "      <td>0</td>\n",
       "      <td>1</td>\n",
       "    </tr>\n",
       "    <tr>\n",
       "      <th>1</th>\n",
       "      <td>2</td>\n",
       "      <td>2.37</td>\n",
       "      <td>1</td>\n",
       "      <td>0</td>\n",
       "    </tr>\n",
       "    <tr>\n",
       "      <th>2</th>\n",
       "      <td>3</td>\n",
       "      <td>2.72</td>\n",
       "      <td>1</td>\n",
       "      <td>1</td>\n",
       "    </tr>\n",
       "    <tr>\n",
       "      <th>3</th>\n",
       "      <td>4</td>\n",
       "      <td>2.54</td>\n",
       "      <td>0</td>\n",
       "      <td>0</td>\n",
       "    </tr>\n",
       "    <tr>\n",
       "      <th>4</th>\n",
       "      <td>5</td>\n",
       "      <td>3.20</td>\n",
       "      <td>1</td>\n",
       "      <td>1</td>\n",
       "    </tr>\n",
       "  </tbody>\n",
       "</table>\n",
       "</div>"
      ],
      "text/plain": [
       "   person  income  gender  purchase\n",
       "0       1    2.53       0         1\n",
       "1       2    2.37       1         0\n",
       "2       3    2.72       1         1\n",
       "3       4    2.54       0         0\n",
       "4       5    3.20       1         1"
      ]
     },
     "execution_count": 822,
     "metadata": {},
     "output_type": "execute_result"
    }
   ],
   "source": [
    "df = pd.read_csv(\"./Data/testpurchase.csv\")\n",
    "df[\"income\"] = df[\"income\"] / 1000 # makes interpretation of coefficients easier\n",
    "df.head(5)"
   ]
  },
  {
   "cell_type": "code",
   "execution_count": 823,
   "metadata": {},
   "outputs": [
    {
     "data": {
      "text/plain": [
       "(30, 4)"
      ]
     },
     "execution_count": 823,
     "metadata": {},
     "output_type": "execute_result"
    }
   ],
   "source": [
    "df.shape"
   ]
  },
  {
   "cell_type": "markdown",
   "metadata": {},
   "source": [
    "## Model formulation"
   ]
  },
  {
   "cell_type": "markdown",
   "metadata": {},
   "source": [
    "Let's consider a simple example where we analyze the purchase decision and treat only _income_ as a explanatory variable. This yields the following model:\n",
    "\n",
    "$$Y = f(\\text{income})$$\n",
    "\n",
    "where $Y=1$ for purchase and $0$ for no purchase. \n",
    "\n",
    "We are interested in how income is driving the purchase decision. Let's look at this relationship graphically first:"
   ]
  },
  {
   "cell_type": "code",
   "execution_count": 824,
   "metadata": {},
   "outputs": [
    {
     "data": {
      "image/png": "[encoded data removed]",
      "text/plain": [
       "<Figure size 648x504 with 1 Axes>"
      ]
     },
     "metadata": {
      "needs_background": "light"
     },
     "output_type": "display_data"
    }
   ],
   "source": [
    "xmin, xmax = min(df[\"income\"]), max(df[\"income\"])\n",
    "\n",
    "fig, ax = plot_scatter(df[\"income\"], df[\"purchase\"], zero_origin=False, xlabel=\"income\", ylabel=\"purchase\", title=\"Scatter plot of income vs. purchase\")\n",
    "ax.set_xlim((xmin-0.1,xmax+0.1));"
   ]
  },
  {
   "cell_type": "markdown",
   "metadata": {},
   "source": [
    "The upper marks represent people who stated that the would purchase the product. The lower marks represents people who indicated that they would not purchase the product. From the plot it becomes obvious that there is no exact relationship between income and purchase. For example, for the income of $\\sim 2.500$ there is a mark for both purchase and no purchase. \n",
    "\n",
    "However, visually it appears that the higher the income the more likely is the purchasing decision. For example, above an income of $\\sim2.600$ there are only purchasing decisions.\n",
    "\n",
    "Let us try to formulate a model that captures this realationship."
   ]
  },
  {
   "cell_type": "markdown",
   "metadata": {},
   "source": [
    "### Linear (probability) model"
   ]
  },
  {
   "cell_type": "markdown",
   "metadata": {},
   "source": [
    "The simplest model is the linear model which is given by:\n",
    "\n",
    "$$\\pi(x_k) = \\beta_0 + \\beta_1x_k$$\n",
    "\n",
    "Here $\\pi(x_k)$ gives the purchase probabilities of test persons. These probabilities are modelled such that they are linear dependent on the income of the test persons. While the probabilities cannot be observed they are derived from the purchasing data. \n",
    "\n",
    "Let's calculate the model using python:"
   ]
  },
  {
   "cell_type": "code",
   "execution_count": 825,
   "metadata": {},
   "outputs": [],
   "source": [
    "y, X = dmatrices(\"purchase ~ income\", df)"
   ]
  },
  {
   "cell_type": "code",
   "execution_count": 826,
   "metadata": {},
   "outputs": [
    {
     "data": {
      "text/plain": [
       "array([-0.28332301,  0.38612593])"
      ]
     },
     "execution_count": 826,
     "metadata": {},
     "output_type": "execute_result"
    }
   ],
   "source": [
    "ols = sm.OLS(y,X).fit()\n",
    "ols.params"
   ]
  },
  {
   "cell_type": "markdown",
   "metadata": {},
   "source": [
    "  "
   ]
  },
  {
   "cell_type": "code",
   "execution_count": 827,
   "metadata": {},
   "outputs": [],
   "source": [
    "xs = np.linspace(xmin,xmax,100)#.reshape(None)\n",
    "xs = sm.add_constant(xs)\n",
    "yhat = ols.predict(xs)"
   ]
  },
  {
   "cell_type": "code",
   "execution_count": 828,
   "metadata": {},
   "outputs": [
    {
     "data": {
      "image/png": "[encoded data removed]",
      "text/plain": [
       "<Figure size 648x504 with 1 Axes>"
      ]
     },
     "execution_count": 828,
     "metadata": {},
     "output_type": "execute_result"
    }
   ],
   "source": [
    "ax.plot(xs[:,1], yhat)\n",
    "fig"
   ]
  },
  {
   "cell_type": "markdown",
   "metadata": {},
   "source": [
    "The model is already known and quite simple. Especially we already know how to interpret the model. For example, given the mean income is $2.000$ we can say that the purchase probability at the this income level is \n",
    "\n",
    "$$p(purchase) = -0.2833 + 0.3861 \\times 2 \\approx 0.5$$\n",
    "\n",
    "Therefore the probability is approx. 50% that a person with an income of $2.000$ would purchase the product. This is easy to interpret and we are alredy familiar with all the model characteristics from chapter 5. However, the model is logically flawed given the probabilities can take values of below 0 and above 1 in theory. For our specific example a person with an income of $5.000$ would have a (calculated) probability of \n",
    "\n",
    "$$p(purchase) = -0.2833 + 0.3861 \\times 5 \\approx 1.65,$$\n",
    "\n",
    "i.e. there would be a probability of 165% calculated by the model. \n"
   ]
  },
  {
   "cell_type": "markdown",
   "metadata": {},
   "source": [
    "### Logistic regression"
   ]
  },
  {
   "cell_type": "markdown",
   "metadata": {},
   "source": [
    "The binary logistic regression model is expressed as follows:\n",
    "\n",
    "$$\\pi(x_k) = \\frac{1}{1+e^{-(\\beta_0 + \\beta_1x_k)}}$$\n",
    "\n",
    "The model assumes that $Y_k$ (i.e. the purchase decisions) is a binary, independent random variable with expected value $E(Y_k | x_k) = \\pi(x_k)$. To this end, the model assumes that $Y_k$ is _bernoulli_ distributed. \n",
    "\n",
    "\n",
    "Let's calculate the logistic regression model using the `statsmodels` package: this can easily be done using a similar syntax as for the linear regression model:\n",
    "\n",
    "`sm.Logit(y,X)` instead of `sm.OLS(y,X)`"
   ]
  },
  {
   "cell_type": "code",
   "execution_count": 829,
   "metadata": {},
   "outputs": [
    {
     "name": "stdout",
     "output_type": "stream",
     "text": [
      "Optimization terminated successfully.\n",
      "         Current function value: 0.600896\n",
      "         Iterations 5\n"
     ]
    },
    {
     "data": {
      "text/plain": [
       "array([-3.67071835,  1.82716993])"
      ]
     },
     "execution_count": 829,
     "metadata": {},
     "output_type": "execute_result"
    }
   ],
   "source": [
    "logit = sm.Logit(y,X).fit()\n",
    "logit.params"
   ]
  },
  {
   "cell_type": "markdown",
   "metadata": {},
   "source": [
    "   \n",
    "The parameter of the model are \n",
    "\n",
    "- $\\beta_0 = -3.6707$\n",
    "- $\\beta_1 = 1.8272$\n",
    "\n",
    "which yields the following logistic function:\n",
    "\n",
    "$$p(x_k) = \\frac{1}{1+e^{-(-3.6707 + 1.8272x_k)}}$$\n",
    "\n",
    "Including the logistic function in our plot we see that the slope of the function is quite similar to the linear model. However, the function is s-shaped and can only take values between $0$ and $1$ by definition which makes it better suited for our analysis. "
   ]
  },
  {
   "cell_type": "code",
   "execution_count": 830,
   "metadata": {},
   "outputs": [
    {
     "data": {
      "image/png": "[encoded data removed]",
      "text/plain": [
       "<Figure size 648x504 with 1 Axes>"
      ]
     },
     "execution_count": 830,
     "metadata": {},
     "output_type": "execute_result"
    }
   ],
   "source": [
    "yhat2 = logit.predict(xs)\n",
    "ax.plot(xs[:,1], yhat2)\n",
    "ax.set_ylim(-0.1,1.1)\n",
    "ax.legend((\"Linear model\",\"Logistic model\"), loc=\"right\")\n",
    "fig"
   ]
  },
  {
   "cell_type": "markdown",
   "metadata": {},
   "source": [
    "#### Classification"
   ]
  },
  {
   "cell_type": "markdown",
   "metadata": {},
   "source": [
    "How can we use the estimated probabilities for prediction of purchase behavior? \n",
    "\n",
    "In order to do so we need to define a __cut off value__ $p*$ such that\n",
    "\n",
    "\\begin{equation}\n",
    "  y_k =\\begin{cases}\n",
    "    1, & \\text{if $p_k > p*$} \\\\\n",
    "    0, & \\text{if $p_k \\leq p*$}\n",
    "  \\end{cases}\n",
    "\\end{equation}\n",
    "\n",
    "Commonly, a cut of value of $0.5$ is used. This means that \n",
    "\n",
    "- all $y_k$ with a value (probability) of above 50% are assigned 1 and\n",
    "- all $y_k$ with a value (probability) of equal or below 50% are assigned a 0\n",
    "\n",
    "Let's analyse how good our logistic regression model is in classifying purchasing decisions using our data. \n",
    "\n",
    "We can use our estimated model and predict _purchase probability_ based on _income_ data. We can then compare with our true values to see how could our model actually is. "
   ]
  },
  {
   "cell_type": "code",
   "execution_count": 831,
   "metadata": {},
   "outputs": [],
   "source": [
    "df_final = df.copy() # copy our dataframe\n",
    "probas = logit.predict(X) # estimate probabilities using predict. \n",
    "df_final[\"probabilities\"] = probas\n",
    "df_final[\"prediction\"] = np.where(probas>0.5,1,0)"
   ]
  },
  {
   "cell_type": "code",
   "execution_count": 833,
   "metadata": {},
   "outputs": [
    {
     "data": {
      "text/html": [
       "<div>\n",
       "<style scoped>\n",
       "    .dataframe tbody tr th:only-of-type {\n",
       "        vertical-align: middle;\n",
       "    }\n",
       "\n",
       "    .dataframe tbody tr th {\n",
       "        vertical-align: top;\n",
       "    }\n",
       "\n",
       "    .dataframe thead th {\n",
       "        text-align: right;\n",
       "    }\n",
       "</style>\n",
       "<table border=\"1\" class=\"dataframe\">\n",
       "  <thead>\n",
       "    <tr style=\"text-align: right;\">\n",
       "      <th></th>\n",
       "      <th>person</th>\n",
       "      <th>income</th>\n",
       "      <th>gender</th>\n",
       "      <th>purchase</th>\n",
       "      <th>probabilities</th>\n",
       "      <th>prediction</th>\n",
       "    </tr>\n",
       "  </thead>\n",
       "  <tbody>\n",
       "    <tr>\n",
       "      <th>0</th>\n",
       "      <td>1</td>\n",
       "      <td>2.53</td>\n",
       "      <td>0</td>\n",
       "      <td>1</td>\n",
       "      <td>0.721522</td>\n",
       "      <td>1</td>\n",
       "    </tr>\n",
       "    <tr>\n",
       "      <th>1</th>\n",
       "      <td>2</td>\n",
       "      <td>2.37</td>\n",
       "      <td>1</td>\n",
       "      <td>0</td>\n",
       "      <td>0.659187</td>\n",
       "      <td>1</td>\n",
       "    </tr>\n",
       "    <tr>\n",
       "      <th>2</th>\n",
       "      <td>3</td>\n",
       "      <td>2.72</td>\n",
       "      <td>1</td>\n",
       "      <td>1</td>\n",
       "      <td>0.785698</td>\n",
       "      <td>1</td>\n",
       "    </tr>\n",
       "    <tr>\n",
       "      <th>3</th>\n",
       "      <td>4</td>\n",
       "      <td>2.54</td>\n",
       "      <td>0</td>\n",
       "      <td>0</td>\n",
       "      <td>0.725178</td>\n",
       "      <td>1</td>\n",
       "    </tr>\n",
       "    <tr>\n",
       "      <th>4</th>\n",
       "      <td>5</td>\n",
       "      <td>3.20</td>\n",
       "      <td>1</td>\n",
       "      <td>1</td>\n",
       "      <td>0.898094</td>\n",
       "      <td>1</td>\n",
       "    </tr>\n",
       "  </tbody>\n",
       "</table>\n",
       "</div>"
      ],
      "text/plain": [
       "   person  income  gender  purchase  probabilities  prediction\n",
       "0       1    2.53       0         1       0.721522           1\n",
       "1       2    2.37       1         0       0.659187           1\n",
       "2       3    2.72       1         1       0.785698           1\n",
       "3       4    2.54       0         0       0.725178           1\n",
       "4       5    3.20       1         1       0.898094           1"
      ]
     },
     "execution_count": 833,
     "metadata": {},
     "output_type": "execute_result"
    }
   ],
   "source": [
    "df_final.head()"
   ]
  },
  {
   "cell_type": "markdown",
   "metadata": {},
   "source": [
    "#### Confusion matrix"
   ]
  },
  {
   "cell_type": "markdown",
   "metadata": {},
   "source": [
    "If we want to understand how good our prediction was we can calculate the __confusion matrix__. It calculates true values vs. predicted values for each category. A summary of this overview is helpful as it gives inside to three different measures:\n",
    "\n",
    "- accuracy: % of correct predictions \n",
    "- specificity: % of correctly classified non purchases in relation to all non-purchases (correct false)\n",
    "- sensitivity: % of correctly classified purchases in relation to all purchases (correct trues)\n",
    "\n",
    "Let's look at the below table summarizing the results:"
   ]
  },
  {
   "cell_type": "markdown",
   "metadata": {},
   "source": [
    "|       \t| Prediction \t|    \t|       \t|           \t|             \t|\n",
    "|-------\t|------------\t|----\t|-------\t|-----------\t|-------------\t|\n",
    "|       \t| 0          \t| 1  \t| Total \t| % correct \t|             \t|\n",
    "| 0     \t| 7          \t| 7  \t| 14    \t| 50,00%    \t| Specificity \t|\n",
    "| 1     \t| 7          \t| 9  \t| 16    \t| 56,25%    \t| Sensitivity \t|\n",
    "| Total \t| 14         \t| 16 \t| 30    \t| 53,33%    \t|   Accuracy  \t|\n",
    "\n",
    "\n",
    "accuracy: \n",
    "- we have classified 7 non-purchases and 9 purchases correcty\n",
    "- in total there were 30 observations\n",
    "- (7+9)/30 = 0.533\n",
    "\n",
    "__sensitivity__, i.e. proportion of correctly predicted purchases in relation to all purchases\n",
    "- we have classified 9 purchases out of 16 purchases correctly\n",
    "- 9 / 16 = 0.563\n",
    "\n",
    "__specificity__, i.e. proportion of correctly predicted non-purchases in relation to all non-purchases\n",
    "- we have classified 7 non-purchases out of 14 non-purchases correctly\n",
    "- 7 / 14 = 0.500\n",
    "\n",
    "\n",
    "In more general form we can say:\n",
    "\n",
    "|   \t| Prediction     \t|                \t|\n",
    "|---\t|----------------\t|----------------\t|\n",
    "|   \t| 0              \t| 1              \t|\n",
    "| 0 \t| True negative  \t| False positive \t|\n",
    "| 1 \t| False negative \t| True positive  \t|\n",
    "\n",
    "\n",
    "$$\\text{accuracy} = \\frac{TN + TP}{\\text{total observations}}$$\n",
    "\n",
    "$$\\text{sensitivity} = \\frac{TP}{\\text{TP + FN}}$$\n",
    "\n",
    "$$\\text{specificity} = \\frac{TN}{\\text{TN + FP}}$$\n",
    "\n",
    "Where:\n",
    "- false positive is also called the Type I error and\n",
    "- false negative is also called the Type II error\n",
    "\n",
    "It is important to look at all three measures for several reasons, e.g. accuracy may be misleading for unbalanced datasets  (e.g. fraudulent credit card transactions).\n",
    "\n",
    "Also, it is important to be aware of the fact that there is a tradeoff between specificity and sensitivity. For example we can easily build a model that has a sensitivity of 100%. We could do so by simply classifying all observations as purchases. This would give a 100% sensitivity. On the other hand the specificity would be at 0% as we have not correctly classified one non-puchase observations. \n",
    "\n",
    "**Example sensitivity and specificity: diagnosis of a disease**\n",
    "\n",
    "- sensitivity: \"patient is sick and test is positive\"\n",
    "\n",
    "- specificity: \"patient is not sick and test is negative\"\n",
    "\n",
    "When is high sensitivity or high specificity good or bad?   \n",
    "- disease can be cured if diagnosed early: than a high sensitivity is good\n",
    "- disease cannot be cured: than a high specificity is good as a high sensitivity increases chance for false positive and a wrongful diagnosis would leave a healthy person with the diagnosis that he/she has a uncurable disease.\n",
    "\n",
    "\n",
    "We can eassily calculate the measures manually."
   ]
  },
  {
   "cell_type": "code",
   "execution_count": 834,
   "metadata": {},
   "outputs": [
    {
     "data": {
      "text/plain": [
       "(0.5333333333333333, 0.5625, 0.5)"
      ]
     },
     "execution_count": 834,
     "metadata": {},
     "output_type": "execute_result"
    }
   ],
   "source": [
    "TN = df_final.query(\"purchase == 0 & prediction == 0\").shape[0]\n",
    "FN = df_final.query(\"purchase == 0 & prediction == 1\").shape[0]\n",
    "TP = df_final.query(\"purchase == 1 & prediction == 1\").shape[0]\n",
    "FP = df_final.query(\"purchase == 1 & prediction == 0\").shape[0]\n",
    "\n",
    "accuracy = (TP + TN) / (TN + FN + TP + FP)\n",
    "sensitivity = TP / (TP + FN)\n",
    "specificity = TN / (FP + TN )\n",
    "accuracy, sensitivity, specificity"
   ]
  },
  {
   "cell_type": "markdown",
   "metadata": {},
   "source": [
    "#### ROC Curve"
   ]
  },
  {
   "cell_type": "markdown",
   "metadata": {},
   "source": [
    "One disadvantage of the confusion matrix is that it is a snapshot for one specific cutoff value $p*$. The __ROC curve__ visualizes correctness of classification over the continuum of possible cutoff points. \n",
    "\n",
    "The ROC curve plots sensitivity vs. 1 - specificity for different cutoff points. The diagonal line represents a model that a random prediction. A line along the top left corner represents a good classifier given it is able to \n",
    "\n",
    "- correctly identify purchases from all purchases while\n",
    "- not wrongly identifying many purchases (e.g. if sensitivity is 1  because we simply always predict 1, then all non-purchases are wrongly predicted)"
   ]
  },
  {
   "cell_type": "code",
   "execution_count": 835,
   "metadata": {},
   "outputs": [
    {
     "data": {
      "image/png": "[encoded data removed]",
      "text/plain": [
       "<Figure size 648x504 with 1 Axes>"
      ]
     },
     "metadata": {
      "needs_background": "light"
     },
     "output_type": "display_data"
    }
   ],
   "source": [
    "fpr, tpr, _ = metrics.roc_curve(purchases, probas, pos_label=1)\n",
    "_, ax = plot_line(fpr, tpr, title=\"ROC Curve\", xlabel = \"Purchase wrongly classified (1 - specificity)\", ylabel=\"Purchase correctly classified (sensitivity)\");\n",
    "thresholds = np.linspace(0, 1, 100)\n",
    "ax.plot(thresholds, thresholds, color=\"black\", linestyle=\"--\");"
   ]
  },
  {
   "cell_type": "markdown",
   "metadata": {},
   "source": [
    "### Multiple logistic regression"
   ]
  },
  {
   "cell_type": "markdown",
   "metadata": {},
   "source": [
    "Up until now and similar to the linear regression model we have build a very simple model explaining the decision to purchase with exactly one (explanatory) variable: income. Intuitively there may be more than one factor / one variable driving the purchasing decision. Similar to the regression example we can extend the (binary) model to the case where multiple variables are included. This is called the __multiple logistic regression__.\n",
    "\n",
    "Let $x_k = (x_{1k}, x_{2k}, \\ldots, x_{Jk})$ be the set of values / observations for $J$ independent variables. Then the multiple logistic regression model is defined as (neglecting index $k$):\n",
    "\n",
    "$$\\pi(x) = \\frac{1}{1+e^{-(\\beta_0 + \\beta_1x_1 + \\ldots + \\beta_Jx_J}}$$\n",
    "\n",
    "This is commonly expressed in matrix form as\n",
    "\n",
    "$$\\pi(\\mathbf{x}) = \\frac{1}{1+e^{-\\mathbf{x}\\mathbf{\\beta'}}}$$. \n",
    "\n",
    "For our example data the model could include _gender_ as a second explanatory variable. This would give us the following model:\n",
    "\n",
    "$$Y = f(\\text{income, gender})$$\n",
    "\n",
    "which would lead to the following logistic model:\n",
    "\n",
    "$$\\pi(x_k) v"
   ]
  },
  {
   "cell_type": "code",
   "execution_count": 837,
   "metadata": {},
   "outputs": [
    {
     "name": "stdout",
     "output_type": "stream",
     "text": [
      "Optimization terminated successfully.\n",
      "         Current function value: 0.535087\n",
      "         Iterations 6\n"
     ]
    },
    {
     "data": {
      "text/plain": [
       "array([-5.63484902,  2.35090459,  1.75135282])"
      ]
     },
     "execution_count": 837,
     "metadata": {},
     "output_type": "execute_result"
    }
   ],
   "source": [
    "y, X = dmatrices(\"purchase ~ income + gender\", df)\n",
    "mlogit = sm.Logit(y,X).fit()\n",
    "mlogit.params"
   ]
  },
  {
   "cell_type": "markdown",
   "metadata": {},
   "source": [
    "The logistic regression function for our model therefore looks as follows:\n",
    "\n",
    "$$p(\\mathbf{X}_k) = \\dfrac{1}{1+e^{-(-5.6348 + 2.3509x_{1k} +  1.7514x_{2k})}}$$\n",
    "\n",
    "for $(k = 1, \\ldots, K)$.\n",
    "\n",
    "__Example:__ for the $4th$ person in our dataset, i.e. a woman with income of 2.54 (thousands) the following can be derived:\n",
    "\n",
    "\\begin{equation}\n",
    "\\begin{split}\n",
    "z &= -5.6348 + 2.3509 \\cdot 2.54 +  1.7514 \\cdot 0 = 0.3365 \\\\\n",
    "\\Rightarrow p &= \\frac{1}{1+e^{-0.3365}} = 0.5833\n",
    "\\end{split}\n",
    "\\end{equation}\n",
    "\n",
    "Also, the positive coefficient for gender indicates that male ($=1$) tend to have a higher probability of buying the product. This can be confirmed using our model and assuming a male person that has equal income than our female example (i.e. $2.54$):\n",
    "\n",
    "\\begin{equation}\n",
    "\\begin{split}\n",
    "z &= -5.6348 + 2.3509 \\cdot 2.54 +  1.7514 \\cdot 1 = 2.0879 \\\\\n",
    "\\Rightarrow p &= \\frac{1}{1+e^{-2.0879}} = 0.8897\n",
    "\\end{split}\n",
    "\\end{equation}"
   ]
  },
  {
   "cell_type": "code",
   "execution_count": 838,
   "metadata": {},
   "outputs": [
    {
     "data": {
      "text/plain": [
       "(0.8333333333333334, 0.8235294117647058, 0.8461538461538461)"
      ]
     },
     "execution_count": 838,
     "metadata": {},
     "output_type": "execute_result"
    }
   ],
   "source": [
    "df_final = df.copy() # copy our dataframe\n",
    "probas = mlogit.predict(X) # estimate probabilities using predict. \n",
    "df_final[\"probabilities\"] = probas\n",
    "df_final[\"prediction\"] = np.where(probas>0.5,1,0)\n",
    "\n",
    "TN = df_final.query(\"purchase == 0 & prediction == 0\").shape[0]\n",
    "FN = df_final.query(\"purchase == 0 & prediction == 1\").shape[0]\n",
    "TP = df_final.query(\"purchase == 1 & prediction == 1\").shape[0]\n",
    "FP = df_final.query(\"purchase == 1 & prediction == 0\").shape[0]\n",
    "\n",
    "accuracy = (TP + TN) / (TN + FN + TP + FP)\n",
    "sensitivity = TP / (TP + FN)\n",
    "specificity = TN / (FP + TN )\n",
    "accuracy, sensitivity, specificity"
   ]
  },
  {
   "cell_type": "markdown",
   "metadata": {},
   "source": [
    "Looking at the ROC curve we can see that the model looks better. "
   ]
  },
  {
   "cell_type": "code",
   "execution_count": 839,
   "metadata": {},
   "outputs": [
    {
     "data": {
      "image/png": "[encoded data removed]",
      "text/plain": [
       "<Figure size 648x504 with 1 Axes>"
      ]
     },
     "metadata": {
      "needs_background": "light"
     },
     "output_type": "display_data"
    }
   ],
   "source": [
    "probas = mlogit.predict(X)\n",
    "fpr, tpr, _ = metrics.roc_curve(purchases, probas, pos_label=1)\n",
    "_, ax = plot_line(fpr, tpr, title=\"ROC Curve\", xlabel = \"Purchase wrongly classified (1 - specificity)\", ylabel=\"Purchase correctly classified (sensitivity)\");\n",
    "ax.plot(thresholds, thresholds, color=\"black\", linestyle=\"--\");"
   ]
  },
  {
   "cell_type": "markdown",
   "metadata": {},
   "source": [
    "## Estimation of logistic regression function"
   ]
  },
  {
   "cell_type": "markdown",
   "metadata": {},
   "source": [
    "Unlike for the linear regression model there is no analytical solution to estimating the correct coefficients. This is due to the non-linearity of the function. When calculating the optimal logistic regression function we apply maximum likelihood method (MLE). When applying maximum likelihood we are estimating the coefficients such as the given data is most likely (i.e. plausible). \n",
    "\n",
    "This means that for a person k in our model the probability $p(x_k)$ should be high if $y_k = 1$ (low for $y_k = 0$). Mathematically this can be expressed as:\n",
    "\n",
    "$$p(x_k)^{y_k}\\cdot (1-p(x_k))^{1-y_k}$$\n",
    "\n",
    "One assumption of the model is that $Y_k$ is independently distributed for all observations. This means that we can express the total probability over all observations as the product of individual probabilities. This yields the following __likelihood function__ that needs to be maximized:\n",
    "\n",
    "$$L(\\beta) = \\prod_{k=1}^K p(x_k)^{y_k}\\cdot (1-p(x_k))^{1-y_k} \\rightarrow Max!$$\n",
    "\n",
    "The $\\beta$ parameter need to be estimated such that the likelihood is maximized. In practice it is more feasible to use the logarithm of the above function given we can replace the product with a sum which is simpler:\n",
    "\n",
    "$$LL(\\beta) = \\sum_{k=1}^K ln[p(x_k)]\\cdot y_k + ln[1-p(x_k)]\\cdot(1-y_k) \\rightarrow Max!$$\n",
    "\n",
    "The solution to this maximization effort is found using _iterative approches_ such as gradient descent. "
   ]
  },
  {
   "cell_type": "markdown",
   "metadata": {},
   "source": [
    "## Interpretation of regression coefficiens"
   ]
  },
  {
   "cell_type": "markdown",
   "metadata": {},
   "source": [
    "### Caution when interpreting coefficients"
   ]
  },
  {
   "cell_type": "markdown",
   "metadata": {},
   "source": [
    "Given the nonlinearity of the logistic regression model it is somewhat more difficult to interpret the individual coefficients from our model optimization. One of the main challenges is that the impact of a coefficient is not constant but varies with the dependent variable. \n",
    "\n",
    "To this end, it is only possible to state: _how much the change of one parameter, changes the dependent variable_. However, it is not possible to state by how much the dependent variable changes as the slope of changes not constant.\n",
    "\n",
    "Change of __intercept__ (i.e. $\\beta_0$):  \n",
    "- changes curve horizontally\n",
    "- increase of $\\beta_0$ increases probability for a given $x$ (and vice versa)\n",
    "\n",
    "Change of __slope__ (i.e. $\\beta_1$):\n",
    "- increase of coefficient yields steeper curve in the mid range\n",
    "- $\\beta_1 = 0 $ yields a flat curve\n",
    "- change in sign changes slope of curve (if negative slope is downward)\n",
    "\n",
    "<br>\n",
    "\n",
    "__Difficulty of interpretation:__ the impact of a coefficient is not constant on $Y$\n",
    "\n",
    "- for linear regression we could say: a change in $x$ changes $y$ by $\\beta$\n",
    "\n",
    "- for logistic regression this change also is dependent on $y$ (i.e. the probability p). The biggest impact is when $p=0.5$\n",
    "\n",
    "\n",
    "(Note: show interactive example; examples can be seen in [*Backhaus et al (2017)*](https://www.springer.com/de/book/9783662460764), p. 291ff"
   ]
  },
  {
   "cell_type": "code",
   "execution_count": 840,
   "metadata": {
    "jupyter": {
     "source_hidden": true
    }
   },
   "outputs": [],
   "source": [
    "def sig(z):\n",
    "    return 1 / (1 + np.exp(-z))\n",
    "\n",
    "def z(a,b, xs):\n",
    "    return a + b*xs"
   ]
  },
  {
   "cell_type": "code",
   "execution_count": 841,
   "metadata": {
    "jupyter": {
     "source_hidden": true
    }
   },
   "outputs": [
    {
     "data": {
      "image/png": "[encoded data removed]",
      "text/plain": [
       "<Figure size 648x504 with 1 Axes>"
      ]
     },
     "metadata": {
      "needs_background": "light"
     },
     "output_type": "display_data"
    }
   ],
   "source": [
    "# Change a and b to see changes\n",
    "a, b = 0, 1 \n",
    "xs = np.linspace(-5,5,100)\n",
    "p = sig(z(a,b,xs))\n",
    "fig = plt.figure(figsize=(9,7))\n",
    "plt.plot(xs, p, linewidth=3)\n",
    "plt.plot(xs, sig(z(0,1,xs)), linestyle=\"--\", color=\"black\", label=r\"$\\beta_0=0, \\beta_1=1$\")\n",
    "plt.legend()\n",
    "sns.despine()"
   ]
  },
  {
   "cell_type": "markdown",
   "metadata": {},
   "source": [
    "We can illustrate the fact that the impact of a coefficient is dependent on p (and is highest for $p=0.5$) by looking at our previous simple logistic regression model:"
   ]
  },
  {
   "cell_type": "markdown",
   "metadata": {},
   "source": [
    "Here we calculated a probability of $\\approx 50$% for an income of $2$ (i.e. 2.000 EUR)."
   ]
  },
  {
   "cell_type": "code",
   "execution_count": 842,
   "metadata": {},
   "outputs": [
    {
     "data": {
      "text/plain": [
       "0.4959250902214988"
      ]
     },
     "execution_count": 842,
     "metadata": {},
     "output_type": "execute_result"
    }
   ],
   "source": [
    "income = 2\n",
    "sig(-3.6707+1.8272*income)"
   ]
  },
  {
   "cell_type": "markdown",
   "metadata": {},
   "source": [
    "We can now calculate the values for different incomes and see that the change in probability will decrease, i.e. the impact of the coefficient becomes less the higher the probality gets."
   ]
  },
  {
   "cell_type": "code",
   "execution_count": 843,
   "metadata": {},
   "outputs": [
    {
     "name": "stdout",
     "output_type": "stream",
     "text": [
      "For income: 2, the probablity is 0.50\n",
      "For income: 3, the probablity is 0.859, change is 0.73\n",
      "For income: 4, the probablity is 0.974, change is 0.13\n",
      "For income: 5, the probablity is 0.996, change is 0.02\n",
      "For income: 6, the probablity is 0.999, change is 0.00\n",
      "For income: 7, the probablity is 1.000, change is 0.00\n"
     ]
    }
   ],
   "source": [
    "incomes = [2, 3, 4, 5, 6, 7]\n",
    "for income in incomes:\n",
    "    p = sig(-3.6707+1.8272*income)\n",
    "    if income == 2:\n",
    "        print(f\"For income: {income}, the probablity is {p:.2f}\")\n",
    "    if income != 2:\n",
    "        print(f\"For income: {income}, the probablity is {p:.3f}, change is {p/p_before - 1:.2f}\")\n",
    "    p_before = p"
   ]
  },
  {
   "cell_type": "markdown",
   "metadata": {},
   "source": [
    "### Odds-Ratio and Logit as help for interpretation"
   ]
  },
  {
   "cell_type": "markdown",
   "metadata": {},
   "source": [
    "The logistic model can alternatively be expressed in _odds_ and _logits_ both of which simplifies interpretation. \n",
    "\n",
    "Odds and logit are defined as follows:\n",
    "\n",
    "\\begin{equation}\n",
    "\\begin{split}\n",
    "\\\\[1.5ex]\n",
    "\\text{Odds} &= \\frac{p}{1-p} = e^{\\beta_0 + \\beta_1x} =  e^{-3.6707 + 1.8272x} \n",
    "\\\\[3ex]\n",
    "\\text{Logit} &= ln\\big(\\frac{p}{1-p}\\big) = \\beta_0 + \\beta_1x =  -3.6707 + 1.8272x\n",
    "\\end{split}\n",
    "\\end{equation}"
   ]
  },
  {
   "cell_type": "markdown",
   "metadata": {},
   "source": [
    "#### Odds"
   ]
  },
  {
   "cell_type": "markdown",
   "metadata": {},
   "source": [
    "__Odds__ can be interpreted as chance of winning and are calculated as a relation of probability $p$ and its counter probability $(1-p)$. Let's say the probability of winning is $75$% the odds are:\n",
    "\n",
    "$$odds = \\frac{p}{1-p}=\\frac{0.75}{1-0.75}=4$$\n",
    "\n",
    "meaning that there is a $4$ in $1$ chance of winning. Odds cannot become negative (afterall the lowest chance of winning is zero) but are not constraint to $1$. We can also derive the probability $p$ from the odds by\n",
    "\n",
    "$$p = \\frac{odds}{odds + 1} = \\frac{4}{4+1} = 0.8$$\n",
    "\n",
    "\n",
    "__Why is odds helpful for interpreting the coefficients?__\n",
    "\n",
    "We want to understand how $y$ changes with a change in $x$. In order to understand why _odds_ may help let's calculate the odds for $x+1$ (i.e. $x$ changes by 1). \n",
    "\n",
    "\\begin{equation}\n",
    "    \\text{odds}(x+1) = e^{\\beta_0 + \\beta_1(x+1)} = e^{\\beta_0 + \\beta_1x + \\beta_1} =  e^{\\beta_0 + \\beta_1x} \\cdot e^{\\beta_1} \n",
    "    = \\text{odds}(x) \\cdot e^{\\beta_1}\n",
    "\\end{equation}\n",
    "\n",
    "We can now caluclate the ratio of odds from odds(x+1) and odds(x) and get:\n",
    "\n",
    "$$OR = \\frac{\\text{odds}(x+1)}{\\text{odds}(x)} = e^{\\beta_1}$$\n",
    "\n",
    "> __Conclusion__  \n",
    "> In other words, __odds increase by factor__  $e^{\\beta_1}$ when increasing $x$ by one. \n",
    "\n",
    "In our example this means that odds increase by $e^{1.8272}=6.216$ when increasing income by $1$ (i.e. 1.000). This means that the odds increase by a constant factor (not a constant value as with linear regressio). In our case the factor is 6.216 which translates into a probability of $\\frac{6.216}{1+6.216} \\approx 86$%. \n",
    "\n",
    "> **Interpretation**  \n",
    "> To this end, when income is increased by $1$ unit the probability of a purchase is increases by $86$%.\n",
    "\n",
    "Numerical example to show that odds stay constant:"
   ]
  },
  {
   "cell_type": "code",
   "execution_count": 844,
   "metadata": {},
   "outputs": [
    {
     "data": {
      "text/plain": [
       "array([6.21645619, 6.21645619, 6.21645619, 6.21645619, 6.21645619,\n",
       "       6.21645619, 6.21645619, 6.21645619, 6.21645619])"
      ]
     },
     "execution_count": 844,
     "metadata": {},
     "output_type": "execute_result"
    }
   ],
   "source": [
    "def find_odds(x, b0=-3.6707,b1=1.8272):\n",
    "    # calculate odds for our logistic regression model\n",
    "    return np.exp(b0+b1*x)\n",
    "\n",
    "income = np.array([0,1,2,3,4,5,6,7,8,9]) # create dummy income data\n",
    "odds = find_odds(income) # calculate odds for all incomes\n",
    "OR = odds[1:] / odds[:-1] # calculate odds ratio for all incomes \n",
    "OR"
   ]
  },
  {
   "cell_type": "markdown",
   "metadata": {},
   "source": [
    "Note that for $\\beta_1 = 0$ the __odds ratio (OR)__ becomes 1."
   ]
  },
  {
   "cell_type": "code",
   "execution_count": 845,
   "metadata": {},
   "outputs": [
    {
     "data": {
      "text/plain": [
       "array([1., 1., 1., 1., 1., 1., 1., 1., 1.])"
      ]
     },
     "execution_count": 845,
     "metadata": {},
     "output_type": "execute_result"
    }
   ],
   "source": [
    "odds = find_odds(income, b1=0) # calculate odds for all incomes\n",
    "OR = odds[1:] / odds[:-1] # calculate odds ratio for all incomes \n",
    "OR"
   ]
  },
  {
   "cell_type": "markdown",
   "metadata": {},
   "source": [
    "#### Logit"
   ]
  },
  {
   "cell_type": "markdown",
   "metadata": {},
   "source": [
    "Logit is short for _logarithm of odds_ (i.e. logarithmic odds or log-odds) given it is true that:\n",
    "\n",
    "$$logit(p) = ln(odds(p)) = ln\\bigg(\\frac{p}{1-p}\\bigg) = ln(e^{z}) = z \\Rightarrow \\beta_0 + \\beta*x$$\n",
    "\n",
    "\n",
    "In doing so we transform the range of possible values from $[0,1]$ to $[-\\infty, \\infty]$. In line with want we have done for _odds_ we will try to understand what happens to $y$ if we increase $x$ by $1$, i.e. increase to $x+1$:\n",
    "\n",
    "\\begin{equation}\n",
    "logit(p(x)) = \\beta_0 + \\beta_1*(x+1) = \\beta_0 + \\beta_1x + \\beta_1\n",
    "\\end{equation}\n",
    "\n",
    "Given $\\beta_1$ is $1.8272$, $logit(p(x))$ increases by $1.8272$. The beta coefficient from a logistic regression model can therefore be interpreted as __the marginal effect on the logit__. Logit increases by $\\beta_1$ if income is increase by $1$ unit. \n",
    "\n",
    "Given we don't think in logits it is somewhat harder to interpret the logits."
   ]
  },
  {
   "cell_type": "markdown",
   "metadata": {},
   "source": [
    "## Assessment of overall model"
   ]
  },
  {
   "cell_type": "markdown",
   "metadata": {},
   "source": [
    "We already know from our linear regression chapter that it is necessary to understand the goodness of fit for the overall model.\n",
    "\n",
    "In Section 3 we have learned that - when estimating the model - we are maximizing the log likelihood (LL). One approach could therefore be to take the value of the LL as a indicator for the goodness of fit. \n",
    "\n",
    "In our multiple logistic model the log-likelihood is:"
   ]
  },
  {
   "cell_type": "code",
   "execution_count": 854,
   "metadata": {},
   "outputs": [
    {
     "data": {
      "text/plain": [
       "-16.052621594440748"
      ]
     },
     "execution_count": 854,
     "metadata": {},
     "output_type": "execute_result"
    }
   ],
   "source": [
    "LLc = mlogit.llf\n",
    "LLc"
   ]
  },
  {
   "cell_type": "markdown",
   "metadata": {},
   "source": [
    "It is common to use not the LL but use $-2\\cdot LL$ instead. The smaller the value the better the model is (note that -2 stems from the fact that we are assuming a chi-squard distributed test statistic).\n",
    "\n",
    "For our model the $-2LL$ is "
   ]
  },
  {
   "cell_type": "code",
   "execution_count": 855,
   "metadata": {},
   "outputs": [
    {
     "data": {
      "text/plain": [
       "32.105243188881495"
      ]
     },
     "execution_count": 855,
     "metadata": {},
     "output_type": "execute_result"
    }
   ],
   "source": [
    "-2*LLc"
   ]
  },
  {
   "cell_type": "markdown",
   "metadata": {},
   "source": [
    "Problematic about this value is that it is dependent on the number of observations (remember a similar issue with RSS in linear regression). This means the higher the number of observations, the higher the $-2LL$ (ceteris paribus). \n",
    "\n",
    "However, the $-2LL$ can be helpful when comparing different models with each other. \n",
    "\n",
    "For example, we can compare the LL between our two models:\n",
    "\n",
    "\\begin{equation}\n",
    "\\begin{split} \n",
    "z_1 &= \\beta_0 + \\beta_1 \\cdot income \\\\\n",
    "z_2 &= \\beta_0 + \\beta_1 \\cdot income + \\beta_2 \\cdot gender\\\\\n",
    "\\end{split} \n",
    "\\end{equation}\n",
    "\n",
    "We see that the second model is better as its $-2LL$ is actually lower. "
   ]
  },
  {
   "cell_type": "code",
   "execution_count": 856,
   "metadata": {},
   "outputs": [
    {
     "data": {
      "text/plain": [
       "(36.05377266030584, 32.105243188881495)"
      ]
     },
     "execution_count": 856,
     "metadata": {},
     "output_type": "execute_result"
    }
   ],
   "source": [
    "-2*logit.llf, -2*LLc"
   ]
  },
  {
   "cell_type": "markdown",
   "metadata": {},
   "source": [
    "As an extreme case we could also create a model where we only include a constant, i.e. \n",
    "\n",
    "\\begin{equation}\n",
    "\\begin{split} \n",
    "z_3 &= \\beta_0 \n",
    "\\end{split} \n",
    "\\end{equation}\n",
    "\n",
    "If we run the model we see that the $-2LL$ is even higher. "
   ]
  },
  {
   "cell_type": "code",
   "execution_count": 853,
   "metadata": {},
   "outputs": [
    {
     "name": "stdout",
     "output_type": "stream",
     "text": [
      "Optimization terminated successfully.\n",
      "         Current function value: 0.690923\n",
      "         Iterations 3\n"
     ]
    },
    {
     "data": {
      "text/plain": [
       "(-20.72769927941453, 41.45539855882906)"
      ]
     },
     "execution_count": 853,
     "metadata": {},
     "output_type": "execute_result"
    }
   ],
   "source": [
    "y, X = dmatrices(\"y~ 1\",df)\n",
    "constant_logit = sm.Logit(y, X).fit();\n",
    "LL0 = constant_logit.llf\n",
    "LL0, -2*LL0"
   ]
  },
  {
   "cell_type": "markdown",
   "metadata": {},
   "source": [
    "The constant or 0-Modell can be used to construct a test statistic called _likelihood-ratio-test_. "
   ]
  },
  {
   "cell_type": "markdown",
   "metadata": {},
   "source": [
    "### Likelihood-Ratio-Test (LR test)"
   ]
  },
  {
   "cell_type": "markdown",
   "metadata": {},
   "source": [
    "The LR test can be calculated as follows:\n",
    "\n",
    "\\begin{equation}\n",
    "\\begin{split}\n",
    "LLR &= -2 \\cdot ln\\bigg(\\frac{LL_0}{LL_{complete}}\\bigg) \\\\[3ex]\n",
    "&= -2 \\cdot (LL_0 - LL_{complete})\n",
    "\\end{split}\n",
    "\\end{equation}\n",
    "where:\n",
    "\n",
    "$LL_0 : $ maximum log likelihood for model only including a constant and  \n",
    "$LL_{complete} : $ maximum log likelihood for model including all required variables (in our case income and gender)\n",
    "\n",
    "For our example the $LLR$ is therefore calculated as:\n",
    "\n",
    "$$LLR = -2*(-20.728 + 16.053) = 9.350$$\n",
    "\n",
    "Under the null hypothesis $H_0 : \\beta_1 = \\beta_2 = \\ldots = \\beta_J = 0$ the LLR is approximately $\\chi^2$ distributed (with $J$ degrees of freedom). \n",
    "\n",
    "We can therefore say that $\\chi_{emp}^2$ = 9.350. In line with previous significance tests we can now calculate the theoretical $\\chi^2$ given (for example) an $\\alpha$ of 0.05 and 2 degrees of freedom (we have 2 explanatory variables). Doing so yields a $\\chi^2$ of $5.99$. \n",
    "\n",
    "Given $9.350 > 5.99$ we can conclude that our model is statistically significant. "
   ]
  },
  {
   "cell_type": "code",
   "execution_count": 850,
   "metadata": {},
   "outputs": [
    {
     "data": {
      "text/plain": [
       "9.350155369947565"
      ]
     },
     "execution_count": 850,
     "metadata": {},
     "output_type": "execute_result"
    }
   ],
   "source": [
    "chi2_emp = -2*(constant_logit.llf - mlogit.llf)\n",
    "chi2_emp"
   ]
  },
  {
   "cell_type": "code",
   "execution_count": 851,
   "metadata": {},
   "outputs": [],
   "source": [
    "import scipy.stats as stats"
   ]
  },
  {
   "cell_type": "code",
   "execution_count": 852,
   "metadata": {},
   "outputs": [
    {
     "data": {
      "text/plain": [
       "5.991464547107979"
      ]
     },
     "execution_count": 852,
     "metadata": {},
     "output_type": "execute_result"
    }
   ],
   "source": [
    "alpha = 0.05\n",
    "chi = stats.chi2(2)\n",
    "chi2 = chi.ppf(1-alpha)\n",
    "chi2"
   ]
  },
  {
   "cell_type": "markdown",
   "metadata": {},
   "source": [
    "Aternatively, we can directly calculate the p-value by calculating:"
   ]
  },
  {
   "cell_type": "code",
   "execution_count": 815,
   "metadata": {},
   "outputs": [
    {
     "data": {
      "text/plain": [
       "0.009324800712691372"
      ]
     },
     "execution_count": 815,
     "metadata": {},
     "output_type": "execute_result"
    }
   ],
   "source": [
    "1- chi.cdf(chi2_emp)"
   ]
  },
  {
   "cell_type": "markdown",
   "metadata": {},
   "source": [
    "The model is statistically highly significant since the p-value is well below $1$%"
   ]
  },
  {
   "cell_type": "markdown",
   "metadata": {},
   "source": [
    "### Pseudo $R^2$"
   ]
  },
  {
   "cell_type": "markdown",
   "metadata": {},
   "source": [
    "We have learned about $R^2$ score for linear regresssion which helps to understand which part of the deviation in $y$ is explained by our model. \n",
    "\n",
    "Unfortunately such a measure does not exist in the case for logistic regression. There is no measure that separates the expected from the unexpected deviation in the case of logistic regression. \n",
    "\n",
    "There are, however, alternative measures which attempt to provide a similar meaning: the pseudo $R^2$ measures. They attempt to create a similar interpretation as the $R^2$ measure, i.e. \n",
    "\n",
    "- can take a range between 0 and 1\n",
    "- the higher the measure the better the model\n",
    "\n",
    "This is achieved by calculating probability ratios instead of deviation ratios (as with $R^2$). \n",
    "\n",
    "__McFadden's $R^2$__: is defined as\n",
    "\n",
    "$$\\text{McF-}R^2 = 1-\\bigg(\\frac{LL_{complete}}{L_0}\\bigg) = 1 - \\frac{-16.053}{-20.728} = 0.226$$\n",
    "\n",
    "We can easly confirm this using our previously calculated log-likelihood values:"
   ]
  },
  {
   "cell_type": "code",
   "execution_count": 859,
   "metadata": {},
   "outputs": [
    {
     "data": {
      "text/plain": [
       "0.22554735197344267"
      ]
     },
     "execution_count": 859,
     "metadata": {},
     "output_type": "execute_result"
    }
   ],
   "source": [
    "1 - (LLc / LL0)"
   ]
  },
  {
   "cell_type": "markdown",
   "metadata": {},
   "source": [
    "Given in practice it is very unlikely that the log-likelihood ratios become 0, as a rule of thumb values between $0.2$ and $0.4$ already indicate a good model fit. "
   ]
  },
  {
   "cell_type": "markdown",
   "metadata": {},
   "source": [
    "## Assessment of coefficients"
   ]
  },
  {
   "cell_type": "markdown",
   "metadata": {},
   "source": [
    "In line with regression analysis we have to test if individual coefficients are statistically significant. We do so by testing the null hypothesis $H_0 : \\beta_j = 0 $.\n",
    "\n",
    "In linear regression we have done so by using a _t-test_.\n",
    "\n",
    "In the case of logistic regression we use \n",
    "\n",
    "- Wald test and/or\n",
    "\n",
    "- likelihood ratio test"
   ]
  },
  {
   "cell_type": "markdown",
   "metadata": {},
   "source": [
    "Given the fact that most statistical packages readily provide calculations of significance levels of individual coefficients, we refrain from looking into both tests in detail. \n",
    "\n",
    "Instead let's look at the summary output for our final model and start to interpret the output."
   ]
  },
  {
   "cell_type": "code",
   "execution_count": 880,
   "metadata": {},
   "outputs": [
    {
     "data": {
      "text/html": [
       "<table class=\"simpletable\">\n",
       "<caption>Logit Regression Results</caption>\n",
       "<tr>\n",
       "  <th>Dep. Variable:</th>       <td>purchase</td>     <th>  No. Observations:  </th>  <td>    30</td> \n",
       "</tr>\n",
       "<tr>\n",
       "  <th>Model:</th>                 <td>Logit</td>      <th>  Df Residuals:      </th>  <td>    27</td> \n",
       "</tr>\n",
       "<tr>\n",
       "  <th>Method:</th>                 <td>MLE</td>       <th>  Df Model:          </th>  <td>     2</td> \n",
       "</tr>\n",
       "<tr>\n",
       "  <th>Date:</th>            <td>Thu, 03 Dec 2020</td> <th>  Pseudo R-squ.:     </th>  <td>0.2255</td> \n",
       "</tr>\n",
       "<tr>\n",
       "  <th>Time:</th>                <td>15:51:05</td>     <th>  Log-Likelihood:    </th> <td> -16.053</td>\n",
       "</tr>\n",
       "<tr>\n",
       "  <th>converged:</th>             <td>True</td>       <th>  LL-Null:           </th> <td> -20.728</td>\n",
       "</tr>\n",
       "<tr>\n",
       "  <th>Covariance Type:</th>     <td>nonrobust</td>    <th>  LLR p-value:       </th> <td>0.009325</td>\n",
       "</tr>\n",
       "</table>\n",
       "<table class=\"simpletable\">\n",
       "<tr>\n",
       "      <td></td>         <th>coef</th>     <th>std err</th>      <th>z</th>      <th>P>|z|</th>  <th>[0.025</th>    <th>0.975]</th>  \n",
       "</tr>\n",
       "<tr>\n",
       "  <th>Intercept</th> <td>   -5.6348</td> <td>    2.417</td> <td>   -2.332</td> <td> 0.020</td> <td>  -10.372</td> <td>   -0.898</td>\n",
       "</tr>\n",
       "<tr>\n",
       "  <th>income</th>    <td>    2.3509</td> <td>    1.040</td> <td>    2.261</td> <td> 0.024</td> <td>    0.313</td> <td>    4.388</td>\n",
       "</tr>\n",
       "<tr>\n",
       "  <th>gender</th>    <td>    1.7514</td> <td>    0.953</td> <td>    1.839</td> <td> 0.066</td> <td>   -0.116</td> <td>    3.618</td>\n",
       "</tr>\n",
       "</table>"
      ],
      "text/plain": [
       "<class 'statsmodels.iolib.summary.Summary'>\n",
       "\"\"\"\n",
       "                           Logit Regression Results                           \n",
       "==============================================================================\n",
       "Dep. Variable:               purchase   No. Observations:                   30\n",
       "Model:                          Logit   Df Residuals:                       27\n",
       "Method:                           MLE   Df Model:                            2\n",
       "Date:                Thu, 03 Dec 2020   Pseudo R-squ.:                  0.2255\n",
       "Time:                        15:51:05   Log-Likelihood:                -16.053\n",
       "converged:                       True   LL-Null:                       -20.728\n",
       "Covariance Type:            nonrobust   LLR p-value:                  0.009325\n",
       "==============================================================================\n",
       "                 coef    std err          z      P>|z|      [0.025      0.975]\n",
       "------------------------------------------------------------------------------\n",
       "Intercept     -5.6348      2.417     -2.332      0.020     -10.372      -0.898\n",
       "income         2.3509      1.040      2.261      0.024       0.313       4.388\n",
       "gender         1.7514      0.953      1.839      0.066      -0.116       3.618\n",
       "==============================================================================\n",
       "\"\"\""
      ]
     },
     "execution_count": 880,
     "metadata": {},
     "output_type": "execute_result"
    }
   ],
   "source": [
    "mlogit.summary()"
   ]
  },
  {
   "cell_type": "markdown",
   "metadata": {},
   "source": [
    "We can see that values for the overall model are confirmed by the summary output. In addition we see that the coefficient _income_ is statistical significant at the 95% conficence interval (p value of 2.4%), whereas the coefficient _gender_ is not statistically significant (p value of 6.6%). "
   ]
  }
 ],
 "metadata": {
  "kernelspec": {
   "display_name": "mlbasic",
   "language": "python",
   "name": "mlbasic"
  },
  "language_info": {
   "codemirror_mode": {
    "name": "ipython",
    "version": 3
   },
   "file_extension": ".py",
   "mimetype": "text/x-python",
   "name": "python",
   "nbconvert_exporter": "python",
   "pygments_lexer": "ipython3",
   "version": "3.8.5"
  }
 },
 "nbformat": 4,
 "nbformat_minor": 4
}
